{
 "cells": [
  {
   "cell_type": "code",
   "execution_count": 1,
   "id": "32fe3a4b-7c79-4504-ba9e-67cfc3ef3b11",
   "metadata": {
    "tags": []
   },
   "outputs": [],
   "source": [
    "import pymongo as mg\n",
    "import pandas as pd"
   ]
  },
  {
   "cell_type": "code",
   "execution_count": 2,
   "id": "234558fa-0557-425e-9dbb-79ed54a0260f",
   "metadata": {
    "tags": []
   },
   "outputs": [
    {
     "data": {
      "text/plain": [
       "MongoClient(host=['localhost:27017'], document_class=dict, tz_aware=False, connect=True)"
      ]
     },
     "execution_count": 2,
     "metadata": {},
     "output_type": "execute_result"
    }
   ],
   "source": [
    "client = mg.MongoClient(host='mongodb://localhost:27017')\n",
    "client"
   ]
  },
  {
   "cell_type": "code",
   "execution_count": null,
   "id": "a5430ffe-8d93-4ff7-a5cc-0382f43de06f",
   "metadata": {},
   "outputs": [],
   "source": [
    "database = client['db_NHIS']\n",
    "database"
   ]
  },
  {
   "cell_type": "code",
   "execution_count": null,
   "id": "c030b0c0-0beb-4625-b034-7268999a74ab",
   "metadata": {},
   "outputs": [],
   "source": [
    "collection = database['NSC2_BND']\n",
    "collection "
   ]
  },
  {
   "cell_type": "code",
   "execution_count": null,
   "id": "9e6f8d75-15f6-4fdb-9cb8-422e133f651c",
   "metadata": {},
   "outputs": [],
   "source": [
    "cursor = collection.find({})\n",
    "list_cursor = list(cursor)"
   ]
  },
  {
   "cell_type": "code",
   "execution_count": null,
   "id": "181bd8e7-79ac-4bf9-b413-6d18e979be8f",
   "metadata": {},
   "outputs": [],
   "source": [
    "df_BND=pd.DataFrame(list_cursor)\n",
    "df_BND"
   ]
  },
  {
   "cell_type": "code",
   "execution_count": null,
   "id": "2f9ad929-6d41-4ae0-92ed-f9bdbbaedcf5",
   "metadata": {},
   "outputs": [],
   "source": []
  }
 ],
 "metadata": {
  "kernelspec": {
   "display_name": "Python 3 (ipykernel)",
   "language": "python",
   "name": "python3"
  },
  "language_info": {
   "codemirror_mode": {
    "name": "ipython",
    "version": 3
   },
   "file_extension": ".py",
   "mimetype": "text/x-python",
   "name": "python",
   "nbconvert_exporter": "python",
   "pygments_lexer": "ipython3",
   "version": "3.11.3"
  }
 },
 "nbformat": 4,
 "nbformat_minor": 5
}
