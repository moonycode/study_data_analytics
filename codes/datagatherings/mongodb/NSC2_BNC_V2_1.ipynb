{
 "cells": [
  {
   "cell_type": "code",
   "execution_count": 1,
   "id": "7a5e8c96-b391-44b8-b56b-3f674d7fd3fa",
   "metadata": {},
   "outputs": [],
   "source": [
    "import pymongo as mg\n",
    "import pandas as pd"
   ]
  },
  {
   "cell_type": "code",
   "execution_count": 2,
   "id": "2dcbc7a3-5c99-4ae9-809c-e6a383daebf2",
   "metadata": {},
   "outputs": [
    {
     "data": {
      "text/plain": [
       "MongoClient(host=['localhost:27017'], document_class=dict, tz_aware=False, connect=True)"
      ]
     },
     "execution_count": 2,
     "metadata": {},
     "output_type": "execute_result"
    }
   ],
   "source": [
    "client = mg.MongoClient(host='mongodb://localhost:27017')\n",
    "client"
   ]
  },
  {
   "cell_type": "code",
   "execution_count": 3,
   "id": "3f376c58-a806-4f04-9b07-5905e4786956",
   "metadata": {},
   "outputs": [
    {
     "data": {
      "text/plain": [
       "Database(MongoClient(host=['localhost:27017'], document_class=dict, tz_aware=False, connect=True), 'db_NHIS')"
      ]
     },
     "execution_count": 3,
     "metadata": {},
     "output_type": "execute_result"
    }
   ],
   "source": [
    "database = client['db_NHIS']\n",
    "database"
   ]
  },
  {
   "cell_type": "code",
   "execution_count": 4,
   "id": "38d9a9e1-12f4-4211-bee2-36fc27bec1d9",
   "metadata": {},
   "outputs": [
    {
     "data": {
      "text/plain": [
       "Collection(Database(MongoClient(host=['localhost:27017'], document_class=dict, tz_aware=False, connect=True), 'db_NHIS'), 'NSC2_BNC_V2_1')"
      ]
     },
     "execution_count": 4,
     "metadata": {},
     "output_type": "execute_result"
    }
   ],
   "source": [
    "collection = database['NSC2_BNC_V2_1']\n",
    "collection"
   ]
  },
  {
   "cell_type": "code",
   "execution_count": 5,
   "id": "213da4f3-68c4-4223-9569-3757663fe726",
   "metadata": {},
   "outputs": [],
   "source": [
    "cursor = collection.find({})\n",
    "list_cursor = list(cursor)"
   ]
  },
  {
   "cell_type": "code",
   "execution_count": 6,
   "id": "03ab9c00-fcf5-49d5-b7f5-8c8629298cd9",
   "metadata": {},
   "outputs": [
    {
     "data": {
      "text/html": [
       "<div>\n",
       "<style scoped>\n",
       "    .dataframe tbody tr th:only-of-type {\n",
       "        vertical-align: middle;\n",
       "    }\n",
       "\n",
       "    .dataframe tbody tr th {\n",
       "        vertical-align: top;\n",
       "    }\n",
       "\n",
       "    .dataframe thead th {\n",
       "        text-align: right;\n",
       "    }\n",
       "</style>\n",
       "<table border=\"1\" class=\"dataframe\">\n",
       "  <thead>\n",
       "    <tr style=\"text-align: right;\">\n",
       "      <th></th>\n",
       "      <th>_id</th>\n",
       "      <th>STD_YYYY</th>\n",
       "      <th>RN_INDI</th>\n",
       "      <th>SEX</th>\n",
       "      <th>SGG</th>\n",
       "      <th>GAIBJA_TYPE</th>\n",
       "      <th>SMPL_TYPE_CD</th>\n",
       "      <th>CTRB_Q10</th>\n",
       "      <th>G1E_OBJ_YN</th>\n",
       "      <th>DSB_TYPE_CD</th>\n",
       "      <th>DSB_SVRT_CD_V2</th>\n",
       "    </tr>\n",
       "  </thead>\n",
       "  <tbody>\n",
       "    <tr>\n",
       "      <th>0</th>\n",
       "      <td>64d31122792a7d12dd64bdd8</td>\n",
       "      <td>2002</td>\n",
       "      <td>1433</td>\n",
       "      <td>1</td>\n",
       "      <td>29140</td>\n",
       "      <td>7</td>\n",
       "      <td>1</td>\n",
       "      <td>NaN</td>\n",
       "      <td>NaN</td>\n",
       "      <td>NaN</td>\n",
       "      <td>NaN</td>\n",
       "    </tr>\n",
       "    <tr>\n",
       "      <th>1</th>\n",
       "      <td>64d31122792a7d12dd64bdd9</td>\n",
       "      <td>2003</td>\n",
       "      <td>1433</td>\n",
       "      <td>1</td>\n",
       "      <td>29140</td>\n",
       "      <td>7</td>\n",
       "      <td>1</td>\n",
       "      <td>NaN</td>\n",
       "      <td>NaN</td>\n",
       "      <td>NaN</td>\n",
       "      <td>NaN</td>\n",
       "    </tr>\n",
       "    <tr>\n",
       "      <th>2</th>\n",
       "      <td>64d31122792a7d12dd64bdda</td>\n",
       "      <td>2004</td>\n",
       "      <td>1433</td>\n",
       "      <td>1</td>\n",
       "      <td>29140</td>\n",
       "      <td>7</td>\n",
       "      <td>1</td>\n",
       "      <td>NaN</td>\n",
       "      <td>NaN</td>\n",
       "      <td>NaN</td>\n",
       "      <td>NaN</td>\n",
       "    </tr>\n",
       "    <tr>\n",
       "      <th>3</th>\n",
       "      <td>64d31122792a7d12dd64bddb</td>\n",
       "      <td>2005</td>\n",
       "      <td>1433</td>\n",
       "      <td>1</td>\n",
       "      <td>29140</td>\n",
       "      <td>7</td>\n",
       "      <td>1</td>\n",
       "      <td>NaN</td>\n",
       "      <td>NaN</td>\n",
       "      <td>NaN</td>\n",
       "      <td>NaN</td>\n",
       "    </tr>\n",
       "    <tr>\n",
       "      <th>4</th>\n",
       "      <td>64d31122792a7d12dd64bddc</td>\n",
       "      <td>2006</td>\n",
       "      <td>1433</td>\n",
       "      <td>1</td>\n",
       "      <td>29140</td>\n",
       "      <td>7</td>\n",
       "      <td>1</td>\n",
       "      <td>NaN</td>\n",
       "      <td>NaN</td>\n",
       "      <td>NaN</td>\n",
       "      <td>NaN</td>\n",
       "    </tr>\n",
       "    <tr>\n",
       "      <th>...</th>\n",
       "      <td>...</td>\n",
       "      <td>...</td>\n",
       "      <td>...</td>\n",
       "      <td>...</td>\n",
       "      <td>...</td>\n",
       "      <td>...</td>\n",
       "      <td>...</td>\n",
       "      <td>...</td>\n",
       "      <td>...</td>\n",
       "      <td>...</td>\n",
       "      <td>...</td>\n",
       "    </tr>\n",
       "    <tr>\n",
       "      <th>13022</th>\n",
       "      <td>64d31123792a7d12dd64f0b6</td>\n",
       "      <td>2012</td>\n",
       "      <td>3000357</td>\n",
       "      <td>2</td>\n",
       "      <td>28237</td>\n",
       "      <td>6</td>\n",
       "      <td>4</td>\n",
       "      <td>NaN</td>\n",
       "      <td>NaN</td>\n",
       "      <td>NaN</td>\n",
       "      <td>NaN</td>\n",
       "    </tr>\n",
       "    <tr>\n",
       "      <th>13023</th>\n",
       "      <td>64d31123792a7d12dd64f0b7</td>\n",
       "      <td>2013</td>\n",
       "      <td>3000357</td>\n",
       "      <td>2</td>\n",
       "      <td>28245</td>\n",
       "      <td>2</td>\n",
       "      <td>4</td>\n",
       "      <td>6.0</td>\n",
       "      <td>NaN</td>\n",
       "      <td>NaN</td>\n",
       "      <td>NaN</td>\n",
       "    </tr>\n",
       "    <tr>\n",
       "      <th>13024</th>\n",
       "      <td>64d31123792a7d12dd64f0b8</td>\n",
       "      <td>2014</td>\n",
       "      <td>3000357</td>\n",
       "      <td>2</td>\n",
       "      <td>28245</td>\n",
       "      <td>2</td>\n",
       "      <td>4</td>\n",
       "      <td>6.0</td>\n",
       "      <td>NaN</td>\n",
       "      <td>NaN</td>\n",
       "      <td>NaN</td>\n",
       "    </tr>\n",
       "    <tr>\n",
       "      <th>13025</th>\n",
       "      <td>64d31123792a7d12dd64f0b9</td>\n",
       "      <td>2015</td>\n",
       "      <td>3000357</td>\n",
       "      <td>2</td>\n",
       "      <td>28245</td>\n",
       "      <td>2</td>\n",
       "      <td>4</td>\n",
       "      <td>7.0</td>\n",
       "      <td>NaN</td>\n",
       "      <td>NaN</td>\n",
       "      <td>NaN</td>\n",
       "    </tr>\n",
       "    <tr>\n",
       "      <th>13026</th>\n",
       "      <td>64d31123792a7d12dd64f0ba</td>\n",
       "      <td>2015</td>\n",
       "      <td>3000758</td>\n",
       "      <td>1</td>\n",
       "      <td>41287</td>\n",
       "      <td>6</td>\n",
       "      <td>4</td>\n",
       "      <td>NaN</td>\n",
       "      <td>NaN</td>\n",
       "      <td>NaN</td>\n",
       "      <td>NaN</td>\n",
       "    </tr>\n",
       "  </tbody>\n",
       "</table>\n",
       "<p>13027 rows × 11 columns</p>\n",
       "</div>"
      ],
      "text/plain": [
       "                            _id  STD_YYYY  RN_INDI  SEX    SGG  GAIBJA_TYPE  \\\n",
       "0      64d31122792a7d12dd64bdd8      2002     1433    1  29140            7   \n",
       "1      64d31122792a7d12dd64bdd9      2003     1433    1  29140            7   \n",
       "2      64d31122792a7d12dd64bdda      2004     1433    1  29140            7   \n",
       "3      64d31122792a7d12dd64bddb      2005     1433    1  29140            7   \n",
       "4      64d31122792a7d12dd64bddc      2006     1433    1  29140            7   \n",
       "...                         ...       ...      ...  ...    ...          ...   \n",
       "13022  64d31123792a7d12dd64f0b6      2012  3000357    2  28237            6   \n",
       "13023  64d31123792a7d12dd64f0b7      2013  3000357    2  28245            2   \n",
       "13024  64d31123792a7d12dd64f0b8      2014  3000357    2  28245            2   \n",
       "13025  64d31123792a7d12dd64f0b9      2015  3000357    2  28245            2   \n",
       "13026  64d31123792a7d12dd64f0ba      2015  3000758    1  41287            6   \n",
       "\n",
       "       SMPL_TYPE_CD  CTRB_Q10 G1E_OBJ_YN  DSB_TYPE_CD  DSB_SVRT_CD_V2  \n",
       "0                 1       NaN        NaN          NaN             NaN  \n",
       "1                 1       NaN        NaN          NaN             NaN  \n",
       "2                 1       NaN        NaN          NaN             NaN  \n",
       "3                 1       NaN        NaN          NaN             NaN  \n",
       "4                 1       NaN        NaN          NaN             NaN  \n",
       "...             ...       ...        ...          ...             ...  \n",
       "13022             4       NaN        NaN          NaN             NaN  \n",
       "13023             4       6.0        NaN          NaN             NaN  \n",
       "13024             4       6.0        NaN          NaN             NaN  \n",
       "13025             4       7.0        NaN          NaN             NaN  \n",
       "13026             4       NaN        NaN          NaN             NaN  \n",
       "\n",
       "[13027 rows x 11 columns]"
      ]
     },
     "execution_count": 6,
     "metadata": {},
     "output_type": "execute_result"
    }
   ],
   "source": [
    "df_BNC=pd.DataFrame(list_cursor)\n",
    "df_BNC"
   ]
  },
  {
   "cell_type": "code",
   "execution_count": 7,
   "id": "32f2fc72-e319-44a8-9aad-07dbeb2586e3",
   "metadata": {},
   "outputs": [],
   "source": [
    "df_BNC.to_csv(\"./NSC2_BNC_V2_1.csv\")"
   ]
  },
  {
   "cell_type": "code",
   "execution_count": null,
   "id": "148e5e8d-6464-4e9c-bf73-057c7d07bf3f",
   "metadata": {},
   "outputs": [],
   "source": []
  }
 ],
 "metadata": {
  "kernelspec": {
   "display_name": "Python 3 (ipykernel)",
   "language": "python",
   "name": "python3"
  },
  "language_info": {
   "codemirror_mode": {
    "name": "ipython",
    "version": 3
   },
   "file_extension": ".py",
   "mimetype": "text/x-python",
   "name": "python",
   "nbconvert_exporter": "python",
   "pygments_lexer": "ipython3",
   "version": "3.11.3"
  }
 },
 "nbformat": 4,
 "nbformat_minor": 5
}
