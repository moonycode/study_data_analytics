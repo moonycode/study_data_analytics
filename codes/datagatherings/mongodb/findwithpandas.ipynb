{
 "cells": [
  {
   "cell_type": "markdown",
   "id": "a74c01ca-d3b8-486d-9601-f84fc619b237",
   "metadata": {
    "tags": []
   },
   "source": [
    "# MongoDB에 연결하기"
   ]
  },
  {
   "cell_type": "markdown",
   "id": "1cbc87e9-7e47-40dc-9157-c9e53d553d3c",
   "metadata": {},
   "source": [
    "### Magic Option\n",
    "jupiter notebook에서 외부 명령어를 사용하는 키<br>\n",
    "mongodb package 설치를 위해 conda를 실행시켜야 한다.<br>\n",
    "console로 가지 않고 바로 실행 시킬 수 있음 <br>\n",
    "일반적인 명령어와 구분하기 위해서 붙이는 기호 __%__<br>\n"
   ]
  },
  {
   "cell_type": "code",
   "execution_count": 8,
   "id": "cc85ed5d-d6eb-406b-a507-86d468a21778",
   "metadata": {
    "tags": []
   },
   "outputs": [],
   "source": [
    "# %conda install pymongo"
   ]
  },
  {
   "cell_type": "markdown",
   "id": "96863239-d4b6-4478-a584-7ff96d0e0a74",
   "metadata": {},
   "source": [
    "Retrieving notices: ...working... done\n",
    "Note: you may need to restart the kernel to use updated packages.\n",
    "\n",
    "Collecting package metadata (current_repodata.json): ...working... done\n",
    "Solving environment: ...working... done\n",
    "\n",
    "## Package Plan ##\n",
    "\n",
    "  environment location: C:\\Users\\01-03\\anaconda3\n",
    "\n",
    "  added / updated specs:\n",
    "    - pymongo\n",
    "\n",
    "\n",
    "The following packages will be downloaded:\n",
    "\n",
    "    package                    |            build\n",
    "    ---------------------------|-----------------\n",
    "    pymongo-3.12.0             |  py311hd77b12b_0         1.5 MB\n",
    "    ------------------------------------------------------------\n",
    "                                           Total:         1.5 MB\n",
    "\n",
    "The following NEW packages will be INSTALLED:\n",
    "\n",
    "  pymongo            pkgs/main/win-64::pymongo-3.12.0-py311hd77b12b_0 \n",
    "\n",
    "\n",
    "\n",
    "Downloading and Extracting Packages\n",
    "\n",
    "pymongo-3.12.0       | 1.5 MB    |            |   0% \n",
    "pymongo-3.12.0       | 1.5 MB    | ##1        |  21% \n",
    "pymongo-3.12.0       | 1.5 MB    | ########## | 100% \n",
    "pymongo-3.12.0       | 1.5 MB    | ########## | 100% \n",
    "                                                     \n",
    "\n",
    "\n",
    "Preparing transaction: ...working... done\n",
    "Verifying transaction: ...working... done\n",
    "Executing transaction: ...working... done"
   ]
  },
  {
   "cell_type": "code",
   "execution_count": 9,
   "id": "5c9da3f9-b7d5-4bc6-9742-ca007f04c98c",
   "metadata": {
    "tags": []
   },
   "outputs": [],
   "source": [
    "import pymongo as mg\n",
    "import pandas as pd"
   ]
  },
  {
   "cell_type": "code",
   "execution_count": 10,
   "id": "7f72917f-b38a-4d16-b360-4a9d14a2222a",
   "metadata": {
    "tags": []
   },
   "outputs": [
    {
     "data": {
      "text/plain": [
       "'3.12.0'"
      ]
     },
     "execution_count": 10,
     "metadata": {},
     "output_type": "execute_result"
    }
   ],
   "source": [
    "mg.__version__"
   ]
  },
  {
   "cell_type": "code",
   "execution_count": 11,
   "id": "f80c8853-8681-47d2-b287-3ab4b6add33c",
   "metadata": {
    "tags": []
   },
   "outputs": [
    {
     "data": {
      "text/plain": [
       "'1.5.3'"
      ]
     },
     "execution_count": 11,
     "metadata": {},
     "output_type": "execute_result"
    }
   ],
   "source": [
    "pd.__version__"
   ]
  },
  {
   "cell_type": "code",
   "execution_count": 12,
   "id": "564a64ab-c375-4ec7-ba35-7aaae0c6794a",
   "metadata": {
    "tags": []
   },
   "outputs": [
    {
     "data": {
      "text/plain": [
       "MongoClient(host=['localhost:27017'], document_class=dict, tz_aware=False, connect=True)"
      ]
     },
     "execution_count": 12,
     "metadata": {},
     "output_type": "execute_result"
    }
   ],
   "source": [
    "client = mg.MongoClient(host='mongodb://localhost:27017')\n",
    "client"
   ]
  },
  {
   "cell_type": "code",
   "execution_count": 13,
   "id": "a4a365c3-dbe0-434a-a5ac-18ce691b16d6",
   "metadata": {
    "tags": []
   },
   "outputs": [
    {
     "data": {
      "text/plain": [
       "Database(MongoClient(host=['localhost:27017'], document_class=dict, tz_aware=False, connect=True), 'db_NHIS')"
      ]
     },
     "execution_count": 13,
     "metadata": {},
     "output_type": "execute_result"
    }
   ],
   "source": [
    "database = client['db_NHIS']\n",
    "database"
   ]
  },
  {
   "cell_type": "code",
   "execution_count": 7,
   "id": "3e58f136-7e72-404d-b55c-ab03fc498bc4",
   "metadata": {
    "tags": []
   },
   "outputs": [
    {
     "data": {
      "text/plain": [
       "Collection(Database(MongoClient(host=['localhost:27017'], document_class=dict, tz_aware=False, connect=True), 'db_NHIS'), 'NSC2_BND')"
      ]
     },
     "execution_count": 7,
     "metadata": {},
     "output_type": "execute_result"
    }
   ],
   "source": [
    "collection = database['NSC2_BND']\n",
    "collection "
   ]
  },
  {
   "cell_type": "code",
   "execution_count": 22,
   "id": "dd45cb6f-b85e-45bf-aed0-59e9feeedb8c",
   "metadata": {
    "tags": []
   },
   "outputs": [],
   "source": [
    "cursor = collection.find({})\n",
    "list_cursor = list(cursor)"
   ]
  },
  {
   "cell_type": "code",
   "execution_count": 23,
   "id": "46fbfecf-51a9-4b5b-be28-a21f55d47fba",
   "metadata": {
    "tags": []
   },
   "outputs": [
    {
     "data": {
      "text/plain": [
       "[]"
      ]
     },
     "execution_count": 23,
     "metadata": {},
     "output_type": "execute_result"
    }
   ],
   "source": [
    "list_cursor2 = list(cursor)\n",
    "list_cursor2"
   ]
  },
  {
   "cell_type": "code",
   "execution_count": 24,
   "id": "92828fc7-f6b5-4f17-a8e8-16ca3ec8cbd6",
   "metadata": {
    "tags": []
   },
   "outputs": [
    {
     "data": {
      "text/html": [
       "<div>\n",
       "<style scoped>\n",
       "    .dataframe tbody tr th:only-of-type {\n",
       "        vertical-align: middle;\n",
       "    }\n",
       "\n",
       "    .dataframe tbody tr th {\n",
       "        vertical-align: top;\n",
       "    }\n",
       "\n",
       "    .dataframe thead th {\n",
       "        text-align: right;\n",
       "    }\n",
       "</style>\n",
       "<table border=\"1\" class=\"dataframe\">\n",
       "  <thead>\n",
       "    <tr style=\"text-align: right;\">\n",
       "      <th></th>\n",
       "      <th>_id</th>\n",
       "      <th>RN_INDI</th>\n",
       "      <th>BTH_YYYY</th>\n",
       "      <th>DTH_YYYYMM</th>\n",
       "      <th>COD1</th>\n",
       "      <th>COD2</th>\n",
       "    </tr>\n",
       "  </thead>\n",
       "  <tbody>\n",
       "    <tr>\n",
       "      <th>0</th>\n",
       "      <td>64d2fd0d9cc2c87df8aa8b4b</td>\n",
       "      <td>294364</td>\n",
       "      <td>1921LE</td>\n",
       "      <td>200707.0</td>\n",
       "      <td>T08-T14</td>\n",
       "      <td>W00-W19</td>\n",
       "    </tr>\n",
       "    <tr>\n",
       "      <th>1</th>\n",
       "      <td>64d2fd0d9cc2c87df8aa8b4c</td>\n",
       "      <td>646257</td>\n",
       "      <td>1921LE</td>\n",
       "      <td>200805.0</td>\n",
       "      <td>A15-A19</td>\n",
       "      <td>NaN</td>\n",
       "    </tr>\n",
       "    <tr>\n",
       "      <th>2</th>\n",
       "      <td>64d2fd0d9cc2c87df8aa8b4d</td>\n",
       "      <td>733575</td>\n",
       "      <td>1921LE</td>\n",
       "      <td>201309.0</td>\n",
       "      <td>G30</td>\n",
       "      <td>NaN</td>\n",
       "    </tr>\n",
       "    <tr>\n",
       "      <th>3</th>\n",
       "      <td>64d2fd0d9cc2c87df8aa8b4e</td>\n",
       "      <td>966199</td>\n",
       "      <td>1921LE</td>\n",
       "      <td>201409.0</td>\n",
       "      <td>J69</td>\n",
       "      <td>NaN</td>\n",
       "    </tr>\n",
       "    <tr>\n",
       "      <th>4</th>\n",
       "      <td>64d2fd0d9cc2c87df8aa8b4f</td>\n",
       "      <td>972598</td>\n",
       "      <td>1921LE</td>\n",
       "      <td>201205.0</td>\n",
       "      <td>C44</td>\n",
       "      <td>NaN</td>\n",
       "    </tr>\n",
       "    <tr>\n",
       "      <th>...</th>\n",
       "      <td>...</td>\n",
       "      <td>...</td>\n",
       "      <td>...</td>\n",
       "      <td>...</td>\n",
       "      <td>...</td>\n",
       "      <td>...</td>\n",
       "    </tr>\n",
       "    <tr>\n",
       "      <th>995</th>\n",
       "      <td>64d2fd0d9cc2c87df8aa8f2e</td>\n",
       "      <td>2057743</td>\n",
       "      <td>2015</td>\n",
       "      <td>NaN</td>\n",
       "      <td>NaN</td>\n",
       "      <td>NaN</td>\n",
       "    </tr>\n",
       "    <tr>\n",
       "      <th>996</th>\n",
       "      <td>64d2fd0d9cc2c87df8aa8f2f</td>\n",
       "      <td>2063541</td>\n",
       "      <td>2015</td>\n",
       "      <td>NaN</td>\n",
       "      <td>NaN</td>\n",
       "      <td>NaN</td>\n",
       "    </tr>\n",
       "    <tr>\n",
       "      <th>997</th>\n",
       "      <td>64d2fd0d9cc2c87df8aa8f30</td>\n",
       "      <td>2070251</td>\n",
       "      <td>2015</td>\n",
       "      <td>NaN</td>\n",
       "      <td>NaN</td>\n",
       "      <td>NaN</td>\n",
       "    </tr>\n",
       "    <tr>\n",
       "      <th>998</th>\n",
       "      <td>64d2fd0d9cc2c87df8aa8f31</td>\n",
       "      <td>2077125</td>\n",
       "      <td>2015</td>\n",
       "      <td>NaN</td>\n",
       "      <td>NaN</td>\n",
       "      <td>NaN</td>\n",
       "    </tr>\n",
       "    <tr>\n",
       "      <th>999</th>\n",
       "      <td>64d2fd0d9cc2c87df8aa8f32</td>\n",
       "      <td>3000758</td>\n",
       "      <td>2015</td>\n",
       "      <td>NaN</td>\n",
       "      <td>NaN</td>\n",
       "      <td>NaN</td>\n",
       "    </tr>\n",
       "  </tbody>\n",
       "</table>\n",
       "<p>1000 rows × 6 columns</p>\n",
       "</div>"
      ],
      "text/plain": [
       "                          _id  RN_INDI BTH_YYYY  DTH_YYYYMM     COD1     COD2\n",
       "0    64d2fd0d9cc2c87df8aa8b4b   294364   1921LE    200707.0  T08-T14  W00-W19\n",
       "1    64d2fd0d9cc2c87df8aa8b4c   646257   1921LE    200805.0  A15-A19      NaN\n",
       "2    64d2fd0d9cc2c87df8aa8b4d   733575   1921LE    201309.0      G30      NaN\n",
       "3    64d2fd0d9cc2c87df8aa8b4e   966199   1921LE    201409.0      J69      NaN\n",
       "4    64d2fd0d9cc2c87df8aa8b4f   972598   1921LE    201205.0      C44      NaN\n",
       "..                        ...      ...      ...         ...      ...      ...\n",
       "995  64d2fd0d9cc2c87df8aa8f2e  2057743     2015         NaN      NaN      NaN\n",
       "996  64d2fd0d9cc2c87df8aa8f2f  2063541     2015         NaN      NaN      NaN\n",
       "997  64d2fd0d9cc2c87df8aa8f30  2070251     2015         NaN      NaN      NaN\n",
       "998  64d2fd0d9cc2c87df8aa8f31  2077125     2015         NaN      NaN      NaN\n",
       "999  64d2fd0d9cc2c87df8aa8f32  3000758     2015         NaN      NaN      NaN\n",
       "\n",
       "[1000 rows x 6 columns]"
      ]
     },
     "execution_count": 24,
     "metadata": {},
     "output_type": "execute_result"
    }
   ],
   "source": [
    "df_BND=pd.DataFrame(list_cursor)\n",
    "df_BND"
   ]
  },
  {
   "cell_type": "code",
   "execution_count": 25,
   "id": "aa784cf1-b349-4105-9ded-0fe54be1d35e",
   "metadata": {
    "tags": []
   },
   "outputs": [],
   "source": [
    "df_BND.to_csv(\"./NSC2_BND.csv\")"
   ]
  },
  {
   "cell_type": "code",
   "execution_count": null,
   "id": "30bdf735-0925-4e6d-8469-363a79aefd4f",
   "metadata": {},
   "outputs": [],
   "source": []
  }
 ],
 "metadata": {
  "kernelspec": {
   "display_name": "Python 3 (ipykernel)",
   "language": "python",
   "name": "python3"
  },
  "language_info": {
   "codemirror_mode": {
    "name": "ipython",
    "version": 3
   },
   "file_extension": ".py",
   "mimetype": "text/x-python",
   "name": "python",
   "nbconvert_exporter": "python",
   "pygments_lexer": "ipython3",
   "version": "3.11.4"
  }
 },
 "nbformat": 4,
 "nbformat_minor": 5
}
