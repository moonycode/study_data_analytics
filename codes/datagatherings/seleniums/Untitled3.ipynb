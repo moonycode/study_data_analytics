{
 "cells": [
  {
   "cell_type": "code",
   "execution_count": 3,
   "id": "67fb1f37-871b-41b2-941c-d281d33a9973",
   "metadata": {
    "tags": []
   },
   "outputs": [
    {
     "name": "stdout",
     "output_type": "stream",
     "text": [
      "[['repellat.gif', 'M_02', 'sunog26', b'$2b$12$vjAXKwX5SKX3AnhhTublvORk2OLsJbM90VAfkMno1I4yga4TOFomC', '박준영', 'G_01', '1948-06-09', '0333683649', '전라남도 남양주시 역삼가 (보람고강동)', 'dgim@example.org', '융합력있는 중립형 함수']]\n",
      "[['repellat.gif', 'M_02', 'sunog26', b'$2b$12$vjAXKwX5SKX3AnhhTublvORk2OLsJbM90VAfkMno1I4yga4TOFomC', '박준영', 'G_01', '1948-06-09', '0333683649', '전라남도 남양주시 역삼가 (보람고강동)', 'dgim@example.org', '융합력있는 중립형 함수'], ['sequi.jpg', 'M_03', 'junyeonggim', b'$2b$12$wUI2pkTHewts9SMR338ADerfliFUKBSHYRGsM9vIkugrFAyKedY/.', '김중수', 'G_01', '1989-04-19', '0438435538', '대전광역시 노원구 석촌호수거리 (지영박면)', 'jeongsugjo@example.org', '강화된 수요 중심 환경']]\n",
      "[['repellat.gif', 'M_02', 'sunog26', b'$2b$12$vjAXKwX5SKX3AnhhTublvORk2OLsJbM90VAfkMno1I4yga4TOFomC', '박준영', 'G_01', '1948-06-09', '0333683649', '전라남도 남양주시 역삼가 (보람고강동)', 'dgim@example.org', '융합력있는 중립형 함수'], ['sequi.jpg', 'M_03', 'junyeonggim', b'$2b$12$wUI2pkTHewts9SMR338ADerfliFUKBSHYRGsM9vIkugrFAyKedY/.', '김중수', 'G_01', '1989-04-19', '0438435538', '대전광역시 노원구 석촌호수거리 (지영박면)', 'jeongsugjo@example.org', '강화된 수요 중심 환경'], ['pariatur.tiff', 'M_01', 'hanhyeonu', b'$2b$12$mVAuQeYuvc.2NFUa3pXsgegJA1Ek6ko8EoOPPoLRZpuH.x49PXNym', '최명자', 'G_01', '2010-09-24', '0196920684', '경기도 원주시 봉은사741로 (진우최동)', 'jeongjagim@example.com', '최적화된 클라이언트 단 제품']]\n",
      "[['repellat.gif', 'M_02', 'sunog26', b'$2b$12$vjAXKwX5SKX3AnhhTublvORk2OLsJbM90VAfkMno1I4yga4TOFomC', '박준영', 'G_01', '1948-06-09', '0333683649', '전라남도 남양주시 역삼가 (보람고강동)', 'dgim@example.org', '융합력있는 중립형 함수'], ['sequi.jpg', 'M_03', 'junyeonggim', b'$2b$12$wUI2pkTHewts9SMR338ADerfliFUKBSHYRGsM9vIkugrFAyKedY/.', '김중수', 'G_01', '1989-04-19', '0438435538', '대전광역시 노원구 석촌호수거리 (지영박면)', 'jeongsugjo@example.org', '강화된 수요 중심 환경'], ['pariatur.tiff', 'M_01', 'hanhyeonu', b'$2b$12$mVAuQeYuvc.2NFUa3pXsgegJA1Ek6ko8EoOPPoLRZpuH.x49PXNym', '최명자', 'G_01', '2010-09-24', '0196920684', '경기도 원주시 봉은사741로 (진우최동)', 'jeongjagim@example.com', '최적화된 클라이언트 단 제품'], ['vitae.gif', 'M_02', 'ijihun', b'$2b$12$FK/jHvgzVIcLd3xbLXtp5e75yL8RiYFD2Sv8DrtAbwSFGhF2j78Hm', '서예은', 'G_01', '1959-06-16', '0647438678', '대전광역시 송파구 양재천로', 'ci@example.com', '1:1 최적화된 보안구역']]\n",
      "[['repellat.gif', 'M_02', 'sunog26', b'$2b$12$vjAXKwX5SKX3AnhhTublvORk2OLsJbM90VAfkMno1I4yga4TOFomC', '박준영', 'G_01', '1948-06-09', '0333683649', '전라남도 남양주시 역삼가 (보람고강동)', 'dgim@example.org', '융합력있는 중립형 함수'], ['sequi.jpg', 'M_03', 'junyeonggim', b'$2b$12$wUI2pkTHewts9SMR338ADerfliFUKBSHYRGsM9vIkugrFAyKedY/.', '김중수', 'G_01', '1989-04-19', '0438435538', '대전광역시 노원구 석촌호수거리 (지영박면)', 'jeongsugjo@example.org', '강화된 수요 중심 환경'], ['pariatur.tiff', 'M_01', 'hanhyeonu', b'$2b$12$mVAuQeYuvc.2NFUa3pXsgegJA1Ek6ko8EoOPPoLRZpuH.x49PXNym', '최명자', 'G_01', '2010-09-24', '0196920684', '경기도 원주시 봉은사741로 (진우최동)', 'jeongjagim@example.com', '최적화된 클라이언트 단 제품'], ['vitae.gif', 'M_02', 'ijihun', b'$2b$12$FK/jHvgzVIcLd3xbLXtp5e75yL8RiYFD2Sv8DrtAbwSFGhF2j78Hm', '서예은', 'G_01', '1959-06-16', '0647438678', '대전광역시 송파구 양재천로', 'ci@example.com', '1:1 최적화된 보안구역'], ['dignissimos.bmp', 'M_03', 'yunseo82', b'$2b$12$9Jor3x0VJrkajUW6TRvuh.LiW3S4SObLK99pl.B0OfKOl/UHbxySy', '신우진', 'G_02', '1979-03-05', '0520208620', '충청북도 홍천군 양재천86로', 'wgim@example.org', '중심이 결합된 공개 시스템']]\n"
     ]
    }
   ],
   "source": [
    "from faker import Faker\n",
    "import re\n",
    "import random\n",
    "import bcrypt\n",
    "\n",
    "f = Faker('ko-KR')\n",
    "\n",
    "def random_membertype_id():\n",
    "    options = [\"M_01\", \"M_02\", \"M_03\", \"M_04\"]\n",
    "    return random.choice(options)\n",
    "\n",
    "def random_gender_id():\n",
    "    options = [\"G_01\", \"G_02\"]\n",
    "    return random.choice(options)\n",
    "\n",
    "fixed_password = \"1234\"\n",
    "data_cnt = 5\n",
    "test_data = []\n",
    "\n",
    "for i in range(data_cnt):\n",
    "    PHOTO=f.file_name(category='image')\n",
    "\n",
    "    MEMBERTYPE_ID = random_membertype_id()\n",
    "    MEMBERTYPE_ID\n",
    "\n",
    "    MEMBERID=f.user_name()\n",
    "\n",
    "    salt = bcrypt.gensalt()\n",
    "    MEMBERPW = bcrypt.hashpw(fixed_password.encode(), salt)\n",
    "\n",
    "    MEMBERNAME=f.name()\n",
    "\n",
    "    GENDER_ID = random_gender_id()\n",
    "\n",
    "    BIRTHDATE=f.date_between(start_date='-100y', end_date='-10y')\n",
    "    BIRTHDATE = BIRTHDATE.strftime('%Y-%m-%d')\n",
    "\n",
    "    PHONENUMBER=f.phone_number()\n",
    "    PHONENUMBER=re.sub(r'\\D', '', PHONENUMBER)\n",
    "\n",
    "    MEMBERADDRESS=f.address()\n",
    "\n",
    "    EMAIL=f.email()\n",
    "\n",
    "    INTRODUCTION=f.catch_phrase()\n",
    "    \n",
    "    random_data = [PHOTO, MEMBERTYPE_ID, MEMBERID, MEMBERPW, MEMBERNAME, \n",
    "                GENDER_ID, BIRTHDATE, PHONENUMBER, MEMBERADDRESS, EMAIL, \n",
    "                INTRODUCTION]\n",
    "    test_data.append(random_data)\n",
    "    print(test_data)"
   ]
  },
  {
   "cell_type": "code",
   "execution_count": null,
   "id": "fcd83c80-c44d-4c41-b3a2-58340b39a606",
   "metadata": {},
   "outputs": [],
   "source": []
  }
 ],
 "metadata": {
  "kernelspec": {
   "display_name": "Python 3 (ipykernel)",
   "language": "python",
   "name": "python3"
  },
  "language_info": {
   "codemirror_mode": {
    "name": "ipython",
    "version": 3
   },
   "file_extension": ".py",
   "mimetype": "text/x-python",
   "name": "python",
   "nbconvert_exporter": "python",
   "pygments_lexer": "ipython3",
   "version": "3.11.3"
  }
 },
 "nbformat": 4,
 "nbformat_minor": 5
}
