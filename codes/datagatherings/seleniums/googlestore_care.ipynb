{
 "cells": [
  {
   "cell_type": "markdown",
   "id": "f35213b7-90d5-449e-84f7-0dfbdb1daa19",
   "metadata": {
    "tags": []
   },
   "source": [
    "### 구글 플레이스토어 리뷰 크롤링\n",
    "#### 간병인 찾기 어플"
   ]
  },
  {
   "cell_type": "code",
   "execution_count": 1,
   "id": "f5c86a6d-f8fe-48b8-8120-3751ac35672c",
   "metadata": {
    "tags": []
   },
   "outputs": [],
   "source": [
    "# ! pip install undetected-chromedriver"
   ]
  },
  {
   "cell_type": "code",
   "execution_count": 1,
   "id": "3e21a8fe-7905-473f-9960-fb9639fd4206",
   "metadata": {
    "tags": []
   },
   "outputs": [],
   "source": [
    "from selenium import webdriver\n",
    "from selenium.webdriver.common.keys import Keys\n",
    "from selenium.webdriver.common.by import By\n",
    "from selenium.webdriver.support.ui import WebDriverWait\n",
    "from selenium.webdriver.support import expected_conditions as EC\n",
    "import undetected_chromedriver as uc\n",
    "import time\n",
    "import pandas as pd\n",
    "import pymongo as mg"
   ]
  },
  {
   "cell_type": "code",
   "execution_count": 2,
   "id": "78da99b5-279f-4c52-b8f9-4ff8f8df0f70",
   "metadata": {
    "tags": []
   },
   "outputs": [
    {
     "data": {
      "text/plain": [
       "14"
      ]
     },
     "execution_count": 2,
     "metadata": {},
     "output_type": "execute_result"
    }
   ],
   "source": [
    "base_url = \"https://play.google.com/store/apps/details?id=\"\n",
    "\n",
    "url_ids = [\n",
    "    'com.caredoc.caredocplus&hl=ko',\n",
    "    'com.caredoc.carecoordi&hl=ko',\n",
    "    'kr.carenation.protector&hl=ko',\n",
    "    'kr.carenation.caregiver&hl=ko',\n",
    "    'com.c_plus.careplus&hl=ko',\n",
    "    'com.unimewo.careclient&hl=ko',\n",
    "    'com.fivegram.gb&hl=ko',\n",
    "    'com.dspirit.helper&hl=ko',\n",
    "    'kr.co.safedak&hl=ko',\n",
    "    'iuthada.mobile&hl=ko',\n",
    "    'com.aimmed.todoccuser&hl=ko',\n",
    "    'com.kconcept.carego&hl=ko',\n",
    "    'com.mydear_v1&hl=ko',\n",
    "    'kr.co.carefor&hl=ko'\n",
    "]\n",
    "\n",
    "full_urls = [base_url + url_id for url_id in url_ids]\n",
    "len(full_urls)"
   ]
  },
  {
   "cell_type": "code",
   "execution_count": 3,
   "id": "ad325aa7-5b8a-4ef8-acf8-88b97510267f",
   "metadata": {
    "tags": []
   },
   "outputs": [],
   "source": [
    "client = mg.MongoClient(host='mongodb://localhost:27017')\n",
    "database = client['care_apps_reviews']\n",
    "collection = database['google_playstore']"
   ]
  },
  {
   "cell_type": "code",
   "execution_count": 6,
   "id": "d989ae2d-a15c-4280-bbeb-90067397a171",
   "metadata": {
    "tags": []
   },
   "outputs": [
    {
     "ename": "TypeError",
     "evalue": "WebDriver.__init__() got an unexpected keyword argument 'executable_path'",
     "output_type": "error",
     "traceback": [
      "\u001b[1;31m---------------------------------------------------------------------------\u001b[0m",
      "\u001b[1;31mTypeError\u001b[0m                                 Traceback (most recent call last)",
      "Cell \u001b[1;32mIn[6], line 2\u001b[0m\n\u001b[0;32m      1\u001b[0m \u001b[38;5;66;03m# open chrome browser\u001b[39;00m\n\u001b[1;32m----> 2\u001b[0m browser \u001b[38;5;241m=\u001b[39m webdriver\u001b[38;5;241m.\u001b[39mChrome(executable_path\u001b[38;5;241m=\u001b[39m\u001b[38;5;124m'\u001b[39m\u001b[38;5;124m../../../../chromedriver.exe\u001b[39m\u001b[38;5;124m'\u001b[39m)\n",
      "\u001b[1;31mTypeError\u001b[0m: WebDriver.__init__() got an unexpected keyword argument 'executable_path'"
     ]
    }
   ],
   "source": [
    "# open chrome browser\n",
    "browser = webdriver.Chrome(executable_path='../../../../chromedriver.exe')"
   ]
  },
  {
   "cell_type": "markdown",
   "id": "a5a69888-7f5d-488d-ae37-13ad649b0b7b",
   "metadata": {},
   "source": [
    "- 제목 : #yDmH0d > c-wiz.SSPGKf.Czez9d > div > div > div.tU8Y5c > div:nth-child(1) > div > div > c-wiz > div.hnnXjf > div.Il7kR > div > h1 > span\n",
    "- 다운로드 : #yDmH0d > c-wiz.SSPGKf.Czez9d > div > div > div.tU8Y5c > div:nth-child(1) > div > div > c-wiz > div.hnnXjf > div.JU1wdd > div > div > div:nth-child(2) > div.ClM7O\n",
    "- 평균별점 : #yDmH0d > c-wiz.SSPGKf.Czez9d > div > div > div.tU8Y5c > div:nth-child(1) > div > div > c-wiz > div.hnnXjf > div.JU1wdd > div > div > div:nth-child(1) > div.ClM7O > div > div\n",
    "- 앱정보 클릭 : #yDmH0d > c-wiz.SSPGKf.Czez9d > div > div > div.tU8Y5c > div.wkMJlb.YWi3ub > div > div.qZmL0 > div:nth-child(1) > c-wiz:nth-child(2) > div > section > header > div > div:nth-child(2) > button\n",
    "- 앱정보 : #yDmH0d > div.VfPpkd-Sx9Kwc.cC1eCc.UDxLd.PzCPDd.HQdjr.VfPpkd-Sx9Kwc-OWXEXe-FNFY6c > div.VfPpkd-wzTsW > div > div > div > div > div.fysCi > div:nth-child(1)\n",
    "- 앱정보 닫기 : #yDmH0d > div.VfPpkd-Sx9Kwc.cC1eCc.UDxLd.PzCPDd.HQdjr.VfPpkd-Sx9Kwc-OWXEXe-FNFY6c > div.VfPpkd-wzTsW > div > div > div > div > div.t8iiQe > button\n",
    "- 출시일 : #yDmH0d > div.VfPpkd-Sx9Kwc.cC1eCc.UDxLd.PzCPDd.HQdjr.VfPpkd-Sx9Kwc-OWXEXe-FNFY6c > div.VfPpkd-wzTsW > div > div > div > div > div.fysCi > div:nth-child(3) > div:nth-child(7) > div.reAt0\n",
    "- 전체 리뷰 버튼 : #ow68 > section > header > div > div:nth-child(2) > button\n",
    "- 리뷰 모두 보기 : #ow68 > section > div > div.Jwxk6d > div:nth-child(5) > div > div > button\n",
    "- 리뷰 번들 : #yDmH0d > div.VfPpkd-Sx9Kwc.cC1eCc.UDxLd.PzCPDd.HQdjr.VfPpkd-Sx9Kwc-OWXEXe-FNFY6c > div.VfPpkd-wzTsW > div > div > div > div > div.fysCi > div > div:nth-child(2) > div:nth-child(25)\n",
    "- 이름 : #yDmH0d > div.VfPpkd-Sx9Kwc.cC1eCc.UDxLd.PzCPDd.HQdjr.VfPpkd-Sx9Kwc-OWXEXe-FNFY6c > div.VfPpkd-wzTsW > div > div > div > div > div.fysCi > div > div:nth-child(2) > div:nth-child(2) > header > div.YNR7H > div.gSGphe > div\n",
    "- 별점 : #yDmH0d > div.VfPpkd-Sx9Kwc.cC1eCc.UDxLd.PzCPDd.HQdjr.VfPpkd-Sx9Kwc-OWXEXe-FNFY6c > div.VfPpkd-wzTsW > div > div > div > div > div.fysCi > div > div:nth-child(2) > div:nth-child(25) > header > div.Jx4nYe > div\n",
    "- 날짜 : #yDmH0d > div.VfPpkd-Sx9Kwc.cC1eCc.UDxLd.PzCPDd.HQdjr.VfPpkd-Sx9Kwc-OWXEXe-FNFY6c > div.VfPpkd-wzTsW > div > div > div > div > div.fysCi > div > div:nth-child(2) > div:nth-child(25) > header > div.Jx4nYe > span\n",
    "- 리뷰내용 : #yDmH0d > div.VfPpkd-Sx9Kwc.cC1eCc.UDxLd.PzCPDd.HQdjr.VfPpkd-Sx9Kwc-OWXEXe-FNFY6c > div.VfPpkd-wzTsW > div > div > div > div > div.fysCi > div > div:nth-child(2) > div:nth-child(25) > div.h3YV2d\n"
   ]
  },
  {
   "cell_type": "code",
   "execution_count": null,
   "id": "79bb4236-65bf-49f6-a1bf-6c11edec842d",
   "metadata": {
    "tags": []
   },
   "outputs": [],
   "source": []
  },
  {
   "cell_type": "code",
   "execution_count": null,
   "id": "41ba713a-895c-4428-ac4a-426cca8bdc74",
   "metadata": {
    "tags": []
   },
   "outputs": [],
   "source": []
  },
  {
   "cell_type": "code",
   "execution_count": 6,
   "id": "08d970ac-1cc9-4dbc-827e-70c3a424c360",
   "metadata": {
    "tags": []
   },
   "outputs": [],
   "source": [
    "# def init_browser():\n",
    "#     browser = uc.Chrome()\n",
    "#     browser.get(\"https://play.google.com/store/apps/details?id=com.caredoc.caredocplus&hl=ko\")\n",
    "#     return browser\n",
    "\n",
    "# # 로그인 버튼을 눌러주고 로그인이 되서 다시 velog로 돌아올때까지 60초를 기다린다.\n",
    "# def do_login(browser):\n",
    "#     browser.find_element(By.XPATH,'//button[text()=\"로그인\"]').click()\n",
    "#     WebDriverWait(browser, 60).until(\n",
    "#         EC.presence_of_element_located(\n",
    "#             (By.XPATH, '//button[text()=\"새 글 작성\"]')\n",
    "#         )\n",
    "#     )\n",
    "\n",
    "# # main에서 실행하지 않으면 오류가 남\n",
    "# if  __name__  ==  \"__main__\" :\n",
    "#     browser = init_browser()\n",
    "#     do_login(browser)\n",
    "\n",
    "    "
   ]
  },
  {
   "cell_type": "code",
   "execution_count": 7,
   "id": "2681a6fb-bd40-4fbc-9812-d26db303688d",
   "metadata": {
    "tags": []
   },
   "outputs": [
    {
     "ename": "NameError",
     "evalue": "name 'browser' is not defined",
     "output_type": "error",
     "traceback": [
      "\u001b[1;31m---------------------------------------------------------------------------\u001b[0m",
      "\u001b[1;31mNameError\u001b[0m                                 Traceback (most recent call last)",
      "Cell \u001b[1;32mIn[7], line 9\u001b[0m\n\u001b[0;32m      6\u001b[0m columns_name \u001b[38;5;241m=\u001b[39m [\u001b[38;5;124m'\u001b[39m\u001b[38;5;124mtitle\u001b[39m\u001b[38;5;124m'\u001b[39m, \u001b[38;5;124m'\u001b[39m\u001b[38;5;124mdownloads\u001b[39m\u001b[38;5;124m'\u001b[39m, \u001b[38;5;124m'\u001b[39m\u001b[38;5;124mrating\u001b[39m\u001b[38;5;124m'\u001b[39m, \u001b[38;5;124m'\u001b[39m\u001b[38;5;124mrelease_date\u001b[39m\u001b[38;5;124m'\u001b[39m, \u001b[38;5;124m'\u001b[39m\u001b[38;5;124minfo\u001b[39m\u001b[38;5;124m'\u001b[39m, \u001b[38;5;124m'\u001b[39m\u001b[38;5;124mreviewer\u001b[39m\u001b[38;5;124m'\u001b[39m, \u001b[38;5;124m'\u001b[39m\u001b[38;5;124mstars\u001b[39m\u001b[38;5;124m'\u001b[39m, \u001b[38;5;124m'\u001b[39m\u001b[38;5;124mreview_date\u001b[39m\u001b[38;5;124m'\u001b[39m, \u001b[38;5;124m'\u001b[39m\u001b[38;5;124mcontent\u001b[39m\u001b[38;5;124m'\u001b[39m]\n\u001b[0;32m      8\u001b[0m \u001b[38;5;66;03m# 어플 페이지 접속\u001b[39;00m\n\u001b[1;32m----> 9\u001b[0m browser\u001b[38;5;241m.\u001b[39mget(\u001b[38;5;124m'\u001b[39m\u001b[38;5;124mhttps://play.google.com/store/apps/details?id=kr.carenation.protector&hl=ko&gl=US\u001b[39m\u001b[38;5;124m'\u001b[39m)\n\u001b[0;32m     10\u001b[0m browser\u001b[38;5;241m.\u001b[39mimplicitly_wait(\u001b[38;5;241m3\u001b[39m)\n\u001b[0;32m     11\u001b[0m title \u001b[38;5;241m=\u001b[39m browser\u001b[38;5;241m.\u001b[39mfind_element_by_css_selector(\u001b[38;5;124m'\u001b[39m\u001b[38;5;124mdiv > h1 > span\u001b[39m\u001b[38;5;124m'\u001b[39m)\u001b[38;5;241m.\u001b[39mtext\n",
      "\u001b[1;31mNameError\u001b[0m: name 'browser' is not defined"
     ]
    }
   ],
   "source": [
    "cnt_total_db = 0\n",
    "\n",
    "for url in full_urls:\n",
    "    # List생성, Column명 지정\n",
    "    reviews_list = []\n",
    "    columns_name = ['title', 'downloads', 'rating', 'release_date', 'info', 'reviewer', 'stars', 'review_date', 'content']\n",
    "     \n",
    "    # 어플 페이지 접속\n",
    "    browser.get('https://play.google.com/store/apps/details?id=kr.carenation.protector&hl=ko&gl=US')\n",
    "    browser.implicitly_wait(3)\n",
    "    title = browser.find_element_by_css_selector('div > h1 > span').text\n",
    "    downloads = browser.find_element_by_css_selector('div > div > div:nth-child(2) > div.ClM7O').text\n",
    "    rating = browser.find_element_by_css_selector('div:nth-child(1) > div.ClM7O > div > div').get_attribute('aria-label')\n",
    "        \n",
    "    browser.find_element_by_css_selector('c-wiz > div > section > header > div > div > button').click()\n",
    "    \n",
    "    info = browser.find_element_by_css_selector('div > div.fysCi > div:nth-child(1)').text\n",
    "    release_date = browser.find_element_by_css_selector(\n",
    "        'div.fysCi > div:nth-child(3) > div:nth-child(7) > div.reAt0').text\n",
    "    print(\"■\", title, downloads, rating)\n",
    "    print(release_date)\n",
    "    print(info)\n",
    "    \n",
    "    browser.find_element_by_css_selector('div > div.t8iiQe > button').click() # 앱정보 닫기\n",
    "    browser.find_element_by_css_selector('div:nth-child(5) > div > div > button').click() # 리뷰 모두 보기\n",
    "    \n",
    "    time.sleep(2)\n",
    "    \n",
    "    total_review_count = 0\n",
    "\n",
    "    while True:\n",
    "        try:   \n",
    "            reviews_bundle = browser.find_elements_by_css_selector('div.fysCi > div > div:nth-child(2) > div')\n",
    "            current_review_count = len(reviews_bundle)\n",
    "            print('current reviews_bundle count: {}'.format(current_review_count))\n",
    "\n",
    "            # 만약 현재 리뷰 개수가 이전과 동일하다면 더 이상 총 리뷰 갯수가 갱신되지 않은 것이므로 종료합니다.\n",
    "            if current_review_count == total_review_count:\n",
    "                print('Total review count is not updating. Exiting the loop.')\n",
    "                break\n",
    "\n",
    "            # 현재 리뷰 개수를 total_review_count에 업데이트합니다.\n",
    "            total_review_count = current_review_count\n",
    "\n",
    "            # 마지막 리뷰를 클릭하고 잠시 기다립니다.\n",
    "            reviews_bundle[current_review_count - 1].click()\n",
    "            time.sleep(3)\n",
    "\n",
    "        except Exception as e:\n",
    "            print('An error occurred:', str(e))\n",
    "            break\n",
    "\n",
    "    print('Total review count: ', total_review_count)\n",
    "    \n",
    "    reviews_bundle = browser.find_elements_by_css_selector('div.fysCi > div > div:nth-child(2) > div')\n",
    "    reviews_bundle_list = []\n",
    "    \n",
    "    for review in reviews_bundle:\n",
    "        reviewer = review.find_element_by_css_selector('div.fysCi > div > div> div> header > div.YNR7H > div.gSGphe > div').text\n",
    "        review_date = review.find_element_by_css_selector('div.fysCi > div > div> div > header > div > span').text\n",
    "        stars = review.find_element_by_css_selector('div.fysCi > div > div > div > header > div.Jx4nYe > div').get_attribute('aria-label')\n",
    "        content = review.find_element_by_css_selector('div.fysCi > div > div:nth-child(2) > div > div.h3YV2d').text\n",
    "        review_list = [reviewer, review_date, stars, content]\n",
    "        reviews_bundle_list.append(review_list)\n",
    "    print(reviews_bundle_list[0:10])"
   ]
  },
  {
   "cell_type": "code",
   "execution_count": null,
   "id": "0ce2a981-8e95-47a8-9da9-df46dbfb88d0",
   "metadata": {},
   "outputs": [],
   "source": []
  },
  {
   "cell_type": "code",
   "execution_count": null,
   "id": "af45e717-3af9-4c6a-bedf-5835ccfb8503",
   "metadata": {},
   "outputs": [],
   "source": []
  },
  {
   "cell_type": "code",
   "execution_count": null,
   "id": "f1d4c941-5d5f-4d71-be6b-17a3f0abc841",
   "metadata": {
    "tags": []
   },
   "outputs": [],
   "source": [
    "import time\n",
    "\n",
    "# 초기 리뷰 개수를 0으로 설정\n",
    "total_review_count = 0\n",
    "\n",
    "while True:\n",
    "    try:\n",
    "        # 현재 리뷰 버들을 찾습니다. \n",
    "        reviews_bundle = browser.find_elements_by_css_selector('div > div.fysCi > div > div:nth-child(2) > div')\n",
    "        current_review_count = len(reviews_bundle)\n",
    "        print('current reviews_bundle count: {}'.format(current_review_count))\n",
    "\n",
    "        # 만약 현재 리뷰 개수가 이전과 동일하다면 더 이상 총 리뷰 갯수가 갱신되지 않은 것이므로 종료합니다.\n",
    "        if current_review_count == total_review_count:\n",
    "            print('Total review count is not updating. Exiting the loop.')\n",
    "            break\n",
    "\n",
    "        # 현재 리뷰 개수를 total_review_count에 업데이트합니다.\n",
    "        total_review_count = current_review_count\n",
    "\n",
    "        # 마지막 리뷰를 클릭하고 잠시 기다립니다.\n",
    "        reviews_bundle[current_review_count - 1].click()\n",
    "        time.sleep(3)\n",
    "\n",
    "    except Exception as e:\n",
    "        print('An error occurred:', str(e))\n",
    "        break\n",
    "\n",
    "print('Total review count: ', total_review_count)"
   ]
  },
  {
   "cell_type": "code",
   "execution_count": null,
   "id": "14f6e7cd-ee91-4c9c-ac27-80d8fddea7bb",
   "metadata": {},
   "outputs": [],
   "source": [
    "reviews_bundle_list = []\n",
    "for review in reviews_bundle:\n",
    "    content = review.find_element_by_css_selector('div.h3YV2d').text\n",
    "    date = review.find_element_by_css_selector('header > div.Jx4nYe > span').text\n",
    "    stars = review.find_element_by_css_selector('div.fysCi > div > div > div > header > div.Jx4nYe > div').get_attribute('aria-label')\n",
    "    review_list = [content, date, stars]\n",
    "    reviews_bundle_list.append(review_list)\n",
    "reviews_bundle_list[0:10]"
   ]
  },
  {
   "cell_type": "code",
   "execution_count": null,
   "id": "f439b9bb-5eb6-4281-9c50-83e34d92b72a",
   "metadata": {},
   "outputs": [],
   "source": []
  },
  {
   "cell_type": "code",
   "execution_count": null,
   "id": "cac877b9-14e5-4842-9ba6-6e81a84d51d1",
   "metadata": {},
   "outputs": [],
   "source": [
    "    # reviews_list를 Mongodb에 추가     \n",
    "    df_reviews = pd.DataFrame(data=reviews_list, columns=columns_name)\n",
    "    data_dict = df_reviews.to_dict(orient='records')\n",
    "    collection.insert_many(data_dict)        \n",
    "    \n",
    "    print(\"전체 댓글  :\", len(reviews_bundle))\n",
    "    print(\"저장된 댓글 :\", cnt)  \n",
    "    cnt_total_db += cnt\n",
    "    print(\"DB 업로드 댓글 :\", cnt_total_db)      \n",
    "\n",
    "browser.quit()\n"
   ]
  },
  {
   "cell_type": "code",
   "execution_count": null,
   "id": "524cfd10-c4db-43bb-911d-016da7521da3",
   "metadata": {},
   "outputs": [],
   "source": [
    "cursor = collection.find({})\n",
    "list_cursors = list(cursor)"
   ]
  },
  {
   "cell_type": "code",
   "execution_count": null,
   "id": "deb416a0-4564-41d8-ae63-65281b1109fc",
   "metadata": {},
   "outputs": [],
   "source": [
    "df_total = pd.DataFrame(list_cursors)"
   ]
  },
  {
   "cell_type": "code",
   "execution_count": null,
   "id": "ff10e8b9-a18e-4616-bd6c-c88d9edb9a51",
   "metadata": {},
   "outputs": [],
   "source": [
    "df_total[:3]"
   ]
  },
  {
   "cell_type": "code",
   "execution_count": null,
   "id": "f8238f6a-e5a0-4504-b8e0-80f3fcc78e4f",
   "metadata": {},
   "outputs": [],
   "source": [
    "df_drop_id = df_total.drop('_id', axis=1)\n",
    "df_drop_id[:3]"
   ]
  },
  {
   "cell_type": "code",
   "execution_count": null,
   "id": "4a1219b0-d7c6-4418-8087-8e34a0271860",
   "metadata": {},
   "outputs": [],
   "source": [
    "df_drop_id.info()"
   ]
  },
  {
   "cell_type": "code",
   "execution_count": null,
   "id": "5f4daed6-76c5-4e91-a255-ee483c0e415c",
   "metadata": {},
   "outputs": [],
   "source": [
    "df_drop_dup = df_drop_id.drop_duplicates()\n",
    "df_drop_dup.info()"
   ]
  },
  {
   "cell_type": "code",
   "execution_count": null,
   "id": "0d5ef187-2c87-41d0-bffc-62497955bd96",
   "metadata": {},
   "outputs": [],
   "source": [
    "df_drop_dup.to_csv('./JungMoonChoi.csv')"
   ]
  },
  {
   "cell_type": "code",
   "execution_count": null,
   "id": "270373c8-59e8-42e3-8042-b2746670357f",
   "metadata": {},
   "outputs": [],
   "source": []
  },
  {
   "cell_type": "code",
   "execution_count": null,
   "id": "d02c0c76-d284-43e2-b10b-658d1718c132",
   "metadata": {},
   "outputs": [],
   "source": []
  }
 ],
 "metadata": {
  "kernelspec": {
   "display_name": "Python 3 (ipykernel)",
   "language": "python",
   "name": "python3"
  },
  "language_info": {
   "codemirror_mode": {
    "name": "ipython",
    "version": 3
   },
   "file_extension": ".py",
   "mimetype": "text/x-python",
   "name": "python",
   "nbconvert_exporter": "python",
   "pygments_lexer": "ipython3",
   "version": "3.11.4"
  }
 },
 "nbformat": 4,
 "nbformat_minor": 5
}
