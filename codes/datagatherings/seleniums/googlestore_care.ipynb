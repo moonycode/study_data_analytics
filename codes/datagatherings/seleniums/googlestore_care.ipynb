{
 "cells": [
  {
   "cell_type": "markdown",
   "id": "f35213b7-90d5-449e-84f7-0dfbdb1daa19",
   "metadata": {
    "tags": []
   },
   "source": [
    "### 구글 플레이스토어 리뷰 크롤링\n",
    "#### 간병인 찾기 어플"
   ]
  },
  {
   "cell_type": "code",
   "execution_count": 27,
   "id": "f5c86a6d-f8fe-48b8-8120-3751ac35672c",
   "metadata": {
    "tags": []
   },
   "outputs": [],
   "source": [
    "# ! pip uninstall undetected-chromedriver"
   ]
  },
  {
   "cell_type": "code",
   "execution_count": 35,
   "id": "43775635-7460-4231-a7d8-c9b5164d750f",
   "metadata": {
    "tags": []
   },
   "outputs": [],
   "source": [
    "# ! pip install webdriver_manager"
   ]
  },
  {
   "cell_type": "code",
   "execution_count": 29,
   "id": "27636b97-361e-4749-a18f-5922f52e166f",
   "metadata": {
    "tags": []
   },
   "outputs": [],
   "source": [
    "# ! pip install -e git+https://github.com/jdholtz/undetected-chromedriver.git@f91b7d86bc257d4cb9bfc848266e82509868e2c6#egg=undetected_chromedriver"
   ]
  },
  {
   "cell_type": "code",
   "execution_count": null,
   "id": "0d6d7b9a-df8f-4c47-a0b9-9bbe758e7e09",
   "metadata": {},
   "outputs": [],
   "source": []
  },
  {
   "cell_type": "code",
   "execution_count": 75,
   "id": "3e21a8fe-7905-473f-9960-fb9639fd4206",
   "metadata": {
    "tags": []
   },
   "outputs": [],
   "source": [
    "from selenium import webdriver\n",
    "\n",
    "from selenium.webdriver.chrome.service import Service\n",
    "from webdriver_manager.chrome import ChromeDriverManager\n",
    "\n",
    "from selenium.webdriver.common.keys import Keys\n",
    "from selenium.webdriver.common.by import By\n",
    "from selenium.webdriver.support.ui import WebDriverWait\n",
    "from selenium.webdriver.support import expected_conditions as EC\n",
    "import undetected_chromedriver as uc\n",
    "import time\n",
    "import pandas as pd\n",
    "import pymongo as mg"
   ]
  },
  {
   "cell_type": "code",
   "execution_count": 76,
   "id": "78da99b5-279f-4c52-b8f9-4ff8f8df0f70",
   "metadata": {
    "tags": []
   },
   "outputs": [
    {
     "data": {
      "text/plain": [
       "1"
      ]
     },
     "execution_count": 76,
     "metadata": {},
     "output_type": "execute_result"
    }
   ],
   "source": [
    "base_url = \"https://play.google.com/store/apps/details?id=\"\n",
    "\n",
    "url_ids = [\n",
    "    'kr.nacommunity.anyman&hl=ko'\n",
    "]\n",
    "\n",
    "full_urls = [base_url + url_id for url_id in url_ids]\n",
    "len(full_urls)"
   ]
  },
  {
   "cell_type": "code",
   "execution_count": 77,
   "id": "ad325aa7-5b8a-4ef8-acf8-88b97510267f",
   "metadata": {
    "tags": []
   },
   "outputs": [],
   "source": [
    "client = mg.MongoClient(host='mongodb://localhost:27017')\n",
    "database = client['care_apps_reviews']\n",
    "collection = database['google_playstore']"
   ]
  },
  {
   "cell_type": "code",
   "execution_count": 78,
   "id": "d989ae2d-a15c-4280-bbeb-90067397a171",
   "metadata": {
    "tags": []
   },
   "outputs": [],
   "source": [
    "# open chrome browser\n",
    "browser = webdriver.Chrome(service=Service(ChromeDriverManager().install()))"
   ]
  },
  {
   "cell_type": "markdown",
   "id": "a5a69888-7f5d-488d-ae37-13ad649b0b7b",
   "metadata": {},
   "source": [
    "- 제목 : #yDmH0d > c-wiz.SSPGKf.Czez9d > div > div > div.tU8Y5c > div:nth-child(1) > div > div > c-wiz > div.hnnXjf > div.Il7kR > div > h1 > span\n",
    "- 다운로드 : #yDmH0d > c-wiz.SSPGKf.Czez9d > div > div > div.tU8Y5c > div:nth-child(1) > div > div > c-wiz > div.hnnXjf > div.JU1wdd > div > div > div:nth-child(2) > div.ClM7O\n",
    "- 평균별점 : #yDmH0d > c-wiz.SSPGKf.Czez9d > div > div > div.tU8Y5c > div:nth-child(1) > div > div > c-wiz > div.hnnXjf > div.JU1wdd > div > div > div:nth-child(1) > div.ClM7O > div > div\n",
    "- 앱정보 클릭 : #yDmH0d > c-wiz.SSPGKf.Czez9d > div > div > div.tU8Y5c > div.wkMJlb.YWi3ub > div > div.qZmL0 > div:nth-child(1) > c-wiz:nth-child(2) > div > section > header > div > div:nth-child(2) > button\n",
    "- 앱정보 : #yDmH0d > div.VfPpkd-Sx9Kwc.cC1eCc.UDxLd.PzCPDd.HQdjr.VfPpkd-Sx9Kwc-OWXEXe-FNFY6c > div.VfPpkd-wzTsW > div > div > div > div > div.fysCi > div:nth-child(1)\n",
    "- 앱정보 닫기 : #yDmH0d > div.VfPpkd-Sx9Kwc.cC1eCc.UDxLd.PzCPDd.HQdjr.VfPpkd-Sx9Kwc-OWXEXe-FNFY6c > div.VfPpkd-wzTsW > div > div > div > div > div.t8iiQe > button\n",
    "- 출시일 : #yDmH0d > div.VfPpkd-Sx9Kwc.cC1eCc.UDxLd.PzCPDd.HQdjr.VfPpkd-Sx9Kwc-OWXEXe-FNFY6c > div.VfPpkd-wzTsW > div > div > div > div > div.fysCi > div:nth-child(3) > div:nth-child(7) > div.reAt0\n",
    "- 전체 리뷰 버튼 : #ow68 > section > header > div > div:nth-child(2) > button\n",
    "- 리뷰 모두 보기 : #ow68 > section > div > div.Jwxk6d > div:nth-child(5) > div > div > button\n",
    "- 리뷰 번들 : #yDmH0d > div.VfPpkd-Sx9Kwc.cC1eCc.UDxLd.PzCPDd.HQdjr.VfPpkd-Sx9Kwc-OWXEXe-FNFY6c > div.VfPpkd-wzTsW > div > div > div > div > div.fysCi > div > div:nth-child(2) > div:nth-child(25)\n",
    "- 이름 : #yDmH0d > div.VfPpkd-Sx9Kwc.cC1eCc.UDxLd.PzCPDd.HQdjr.VfPpkd-Sx9Kwc-OWXEXe-FNFY6c > div.VfPpkd-wzTsW > div > div > div > div > div.fysCi > div > div:nth-child(2) > div:nth-child(2) > header > div.YNR7H > div.gSGphe > div\n",
    "- 별점 : #yDmH0d > div.VfPpkd-Sx9Kwc.cC1eCc.UDxLd.PzCPDd.HQdjr.VfPpkd-Sx9Kwc-OWXEXe-FNFY6c > div.VfPpkd-wzTsW > div > div > div > div > div.fysCi > div > div:nth-child(2) > div:nth-child(25) > header > div.Jx4nYe > div\n",
    "- 날짜 : #yDmH0d > div.VfPpkd-Sx9Kwc.cC1eCc.UDxLd.PzCPDd.HQdjr.VfPpkd-Sx9Kwc-OWXEXe-FNFY6c > div.VfPpkd-wzTsW > div > div > div > div > div.fysCi > div > div:nth-child(2) > div:nth-child(25) > header > div.Jx4nYe > span\n",
    "- 리뷰내용 : #yDmH0d > div.VfPpkd-Sx9Kwc.cC1eCc.UDxLd.PzCPDd.HQdjr.VfPpkd-Sx9Kwc-OWXEXe-FNFY6c > div.VfPpkd-wzTsW > div > div > div > div > div.fysCi > div > div:nth-child(2) > div:nth-child(25) > div.h3YV2d\n"
   ]
  },
  {
   "cell_type": "code",
   "execution_count": null,
   "id": "79bb4236-65bf-49f6-a1bf-6c11edec842d",
   "metadata": {
    "tags": []
   },
   "outputs": [],
   "source": []
  },
  {
   "cell_type": "code",
   "execution_count": null,
   "id": "41ba713a-895c-4428-ac4a-426cca8bdc74",
   "metadata": {
    "tags": []
   },
   "outputs": [],
   "source": []
  },
  {
   "cell_type": "code",
   "execution_count": 6,
   "id": "08d970ac-1cc9-4dbc-827e-70c3a424c360",
   "metadata": {
    "tags": []
   },
   "outputs": [],
   "source": [
    "# def init_browser():\n",
    "#     browser = uc.Chrome()\n",
    "#     browser.get(\"https://play.google.com/store/apps/details?id=com.caredoc.caredocplus&hl=ko\")\n",
    "#     return browser\n",
    "\n",
    "# # 로그인 버튼을 눌러주고 로그인이 되서 다시 velog로 돌아올때까지 60초를 기다린다.\n",
    "# def do_login(browser):\n",
    "#     browser.find_element(By.XPATH,'//button[text()=\"로그인\"]').click()\n",
    "#     WebDriverWait(browser, 60).until(\n",
    "#         EC.presence_of_element_located(\n",
    "#             (By.XPATH, '//button[text()=\"새 글 작성\"]')\n",
    "#         )\n",
    "#     )\n",
    "\n",
    "# # main에서 실행하지 않으면 오류가 남\n",
    "# if  __name__  ==  \"__main__\" :\n",
    "#     browser = init_browser()\n",
    "#     do_login(browser)\n",
    "\n",
    "    "
   ]
  },
  {
   "cell_type": "code",
   "execution_count": 79,
   "id": "2681a6fb-bd40-4fbc-9812-d26db303688d",
   "metadata": {
    "tags": []
   },
   "outputs": [
    {
     "name": "stdout",
     "output_type": "stream",
     "text": [
      "■ 애니맨 - 실시간 도움 요청 앱 50만+ 별표 5개 만점에 4.4개를 받았습니다.\n",
      "2016. 6. 7.\n",
      "다른 사람의 도움이 필요하세요?\n",
      "이제 스트레스 받지 마세요. 애니맨이 해결해드릴게요.\n",
      "\n",
      "\n",
      "[애니맨은 쉽고 간편하죠!]\n",
      "1. 요청하고 싶은 일, 장소, 일시를 선택하고 요청\n",
      "2. 헬퍼들이 입찰하면 마음에 드는 헬퍼를 PICK!\n",
      "3. 선택한 헬퍼와 매칭 성공!\n",
      "\n",
      "\n",
      "[애니맨에서는 어떤 일이든 가능해요!]\n",
      "■ 바빠서 못한 일\n",
      "녹색어머니, 티켓줄서기, 관공서 업무보기 등\n",
      "\n",
      "■ 어려워서 못한 일\n",
      "수전 교체, 벽에 못 박기, 큰 액자 달기 등\n",
      "\n",
      "■ 귀찮아서 못한 일\n",
      "청소, 쓰레기버리기, 빨래하기 등\n",
      "\n",
      "■ 더러워서 못한 일\n",
      "음식물쓰레기 버리기, 냉장고 창고, 화장실 청소 등\n",
      "\n",
      "■ 사람이 필요한 일\n",
      "병원동행, 가구이동, 하객대행 등\n",
      "\n",
      "■ 물건/음식 배달이 필요할 때\n",
      "떡볶이, 죽, 감기약 배달, 케이크, 선물 배달 등\n",
      "\n",
      "■ 급하게 물건이 필요할 때\n",
      "예비군 군화, 전동 드릴 대여, 정장 대여, 구두 대여 등\n",
      "\n",
      "■ 전문가 도움이 필요할 때\n",
      "포맷, 조립PC구매, S/W설치, 사진 촬영/편집 등\n",
      "\n",
      "\n",
      "[애니맨 헬퍼]\n",
      "당신의 시간과 경험 그리고 재능과 기술을 세상과 공유하세요.\n",
      "원하는 시간에 자유롭게 일하고 일한만큼 수익을 받아보세요.\n",
      "애니맨 앱에서 정식헬퍼 인증 후, 이용이 가능합니다.\n",
      "\n",
      "투잡, 알바, 심부름, 헬프서비스\n",
      "지금 바로 애니맨헬퍼가 되어보세요!!\n",
      "\n",
      "\n",
      "애니맨에서는 서비스 제공을 위해 아래의 접근권한을 필요로 합니다.\n",
      "[선택적 접근 권한]\n",
      "- 사진 : 미션수행 관련 사진 첨부, 헬퍼 인증\n",
      "- 전화 : 고객과 헬퍼 간 전화 통화\n",
      "- 카메라 : 미션수행 관련 사진 촬영, 헬퍼 인증\n",
      "* 위 접근권한은 허용하지 않아도 서비스를 이용할 수 있으나, 일부 기능 사용에 제한이 있을 수 있습니다.\n",
      "\n",
      "\n",
      "■ 애니맨 고객센터\n",
      "전화문의 : 1588-5279\n",
      "카카오톡 : @애니맨24\n",
      "이메일 : help@anyman.co.kr\n",
      "\n",
      "----\n",
      "\n",
      "개발자 연락처 :\n",
      "1588-5279\n",
      "current reviews_bundle count: 40\n",
      "current reviews_bundle count: 80\n",
      "current reviews_bundle count: 120\n",
      "current reviews_bundle count: 160\n",
      "current reviews_bundle count: 200\n",
      "current reviews_bundle count: 240\n",
      "current reviews_bundle count: 280\n",
      "current reviews_bundle count: 320\n",
      "current reviews_bundle count: 360\n",
      "current reviews_bundle count: 400\n",
      "current reviews_bundle count: 440\n",
      "current reviews_bundle count: 480\n",
      "current reviews_bundle count: 520\n",
      "current reviews_bundle count: 560\n",
      "current reviews_bundle count: 600\n",
      "current reviews_bundle count: 640\n",
      "current reviews_bundle count: 680\n",
      "current reviews_bundle count: 720\n",
      "current reviews_bundle count: 760\n",
      "current reviews_bundle count: 800\n",
      "current reviews_bundle count: 840\n",
      "current reviews_bundle count: 880\n",
      "current reviews_bundle count: 920\n",
      "current reviews_bundle count: 960\n",
      "current reviews_bundle count: 1000\n",
      "current reviews_bundle count: 1040\n",
      "current reviews_bundle count: 1080\n",
      "current reviews_bundle count: 1120\n",
      "current reviews_bundle count: 1160\n",
      "current reviews_bundle count: 1200\n",
      "current reviews_bundle count: 1240\n",
      "current reviews_bundle count: 1280\n",
      "current reviews_bundle count: 1320\n",
      "current reviews_bundle count: 1360\n",
      "current reviews_bundle count: 1400\n",
      "current reviews_bundle count: 1440\n",
      "current reviews_bundle count: 1480\n",
      "current reviews_bundle count: 1520\n",
      "current reviews_bundle count: 1560\n",
      "current reviews_bundle count: 1600\n",
      "current reviews_bundle count: 1640\n",
      "current reviews_bundle count: 1680\n",
      "current reviews_bundle count: 1720\n",
      "current reviews_bundle count: 1760\n",
      "current reviews_bundle count: 1800\n",
      "current reviews_bundle count: 1840\n",
      "current reviews_bundle count: 1880\n",
      "current reviews_bundle count: 1920\n",
      "current reviews_bundle count: 1960\n",
      "current reviews_bundle count: 2000\n",
      "current reviews_bundle count: 2040\n",
      "current reviews_bundle count: 2080\n",
      "current reviews_bundle count: 2120\n",
      "current reviews_bundle count: 2160\n",
      "current reviews_bundle count: 2200\n",
      "current reviews_bundle count: 2240\n",
      "current reviews_bundle count: 2280\n",
      "current reviews_bundle count: 2320\n",
      "current reviews_bundle count: 2360\n",
      "current reviews_bundle count: 2400\n",
      "current reviews_bundle count: 2440\n",
      "current reviews_bundle count: 2480\n",
      "current reviews_bundle count: 2520\n",
      "current reviews_bundle count: 2558\n",
      "current reviews_bundle count: 2558\n",
      "Total review count is not updating. Exiting the loop.\n",
      "Total review count:  2558\n",
      "[['애니맨 - 실시간 도움 요청 앱', '50만+', '별표 5개 만점에 4.4개를 받았습니다.', '2016. 6. 7.', '다른 사람의 도움이 필요하세요?\\n이제 스트레스 받지 마세요. 애니맨이 해결해드릴게요.\\n\\n\\n[애니맨은 쉽고 간편하죠!]\\n1. 요청하고 싶은 일, 장소, 일시를 선택하고 요청\\n2. 헬퍼들이 입찰하면 마음에 드는 헬퍼를 PICK!\\n3. 선택한 헬퍼와 매칭 성공!\\n\\n\\n[애니맨에서는 어떤 일이든 가능해요!]\\n■ 바빠서 못한 일\\n녹색어머니, 티켓줄서기, 관공서 업무보기 등\\n\\n■ 어려워서 못한 일\\n수전 교체, 벽에 못 박기, 큰 액자 달기 등\\n\\n■ 귀찮아서 못한 일\\n청소, 쓰레기버리기, 빨래하기 등\\n\\n■ 더러워서 못한 일\\n음식물쓰레기 버리기, 냉장고 창고, 화장실 청소 등\\n\\n■ 사람이 필요한 일\\n병원동행, 가구이동, 하객대행 등\\n\\n■ 물건/음식 배달이 필요할 때\\n떡볶이, 죽, 감기약 배달, 케이크, 선물 배달 등\\n\\n■ 급하게 물건이 필요할 때\\n예비군 군화, 전동 드릴 대여, 정장 대여, 구두 대여 등\\n\\n■ 전문가 도움이 필요할 때\\n포맷, 조립PC구매, S/W설치, 사진 촬영/편집 등\\n\\n\\n[애니맨 헬퍼]\\n당신의 시간과 경험 그리고 재능과 기술을 세상과 공유하세요.\\n원하는 시간에 자유롭게 일하고 일한만큼 수익을 받아보세요.\\n애니맨 앱에서 정식헬퍼 인증 후, 이용이 가능합니다.\\n\\n투잡, 알바, 심부름, 헬프서비스\\n지금 바로 애니맨헬퍼가 되어보세요!!\\n\\n\\n애니맨에서는 서비스 제공을 위해 아래의 접근권한을 필요로 합니다.\\n[선택적 접근 권한]\\n- 사진 : 미션수행 관련 사진 첨부, 헬퍼 인증\\n- 전화 : 고객과 헬퍼 간 전화 통화\\n- 카메라 : 미션수행 관련 사진 촬영, 헬퍼 인증\\n* 위 접근권한은 허용하지 않아도 서비스를 이용할 수 있으나, 일부 기능 사용에 제한이 있을 수 있습니다.\\n\\n\\n■ 애니맨 고객센터\\n전화문의 : 1588-5279\\n카카오톡 : @애니맨24\\n이메일 : help@anyman.co.kr\\n\\n----\\n\\n개발자 연락처 :\\n1588-5279', '정다희', '별표 5개 만점에 5개를 받았습니다.', '2023년 8월 7일', '모두에 입장에서 이용해봐도 편리한 어플이라 추천합니다 모든연령대 에서 쉽게 이용할수있게 앱이 편리하게 설정이가능하고 궁금증이나 불편한부분 문의가 가능한 카카오톡고객센터를 운영하고있어 매우 편리합니다 애견을 잠시 맡긴다던지 다양한 도움을 받을수있어 유용하게 잘사용 중이에요~^^'], ['애니맨 - 실시간 도움 요청 앱', '50만+', '별표 5개 만점에 4.4개를 받았습니다.', '2016. 6. 7.', '다른 사람의 도움이 필요하세요?\\n이제 스트레스 받지 마세요. 애니맨이 해결해드릴게요.\\n\\n\\n[애니맨은 쉽고 간편하죠!]\\n1. 요청하고 싶은 일, 장소, 일시를 선택하고 요청\\n2. 헬퍼들이 입찰하면 마음에 드는 헬퍼를 PICK!\\n3. 선택한 헬퍼와 매칭 성공!\\n\\n\\n[애니맨에서는 어떤 일이든 가능해요!]\\n■ 바빠서 못한 일\\n녹색어머니, 티켓줄서기, 관공서 업무보기 등\\n\\n■ 어려워서 못한 일\\n수전 교체, 벽에 못 박기, 큰 액자 달기 등\\n\\n■ 귀찮아서 못한 일\\n청소, 쓰레기버리기, 빨래하기 등\\n\\n■ 더러워서 못한 일\\n음식물쓰레기 버리기, 냉장고 창고, 화장실 청소 등\\n\\n■ 사람이 필요한 일\\n병원동행, 가구이동, 하객대행 등\\n\\n■ 물건/음식 배달이 필요할 때\\n떡볶이, 죽, 감기약 배달, 케이크, 선물 배달 등\\n\\n■ 급하게 물건이 필요할 때\\n예비군 군화, 전동 드릴 대여, 정장 대여, 구두 대여 등\\n\\n■ 전문가 도움이 필요할 때\\n포맷, 조립PC구매, S/W설치, 사진 촬영/편집 등\\n\\n\\n[애니맨 헬퍼]\\n당신의 시간과 경험 그리고 재능과 기술을 세상과 공유하세요.\\n원하는 시간에 자유롭게 일하고 일한만큼 수익을 받아보세요.\\n애니맨 앱에서 정식헬퍼 인증 후, 이용이 가능합니다.\\n\\n투잡, 알바, 심부름, 헬프서비스\\n지금 바로 애니맨헬퍼가 되어보세요!!\\n\\n\\n애니맨에서는 서비스 제공을 위해 아래의 접근권한을 필요로 합니다.\\n[선택적 접근 권한]\\n- 사진 : 미션수행 관련 사진 첨부, 헬퍼 인증\\n- 전화 : 고객과 헬퍼 간 전화 통화\\n- 카메라 : 미션수행 관련 사진 촬영, 헬퍼 인증\\n* 위 접근권한은 허용하지 않아도 서비스를 이용할 수 있으나, 일부 기능 사용에 제한이 있을 수 있습니다.\\n\\n\\n■ 애니맨 고객센터\\n전화문의 : 1588-5279\\n카카오톡 : @애니맨24\\n이메일 : help@anyman.co.kr\\n\\n----\\n\\n개발자 연락처 :\\n1588-5279', '김영임', '별표 5개 만점에 5개를 받았습니다.', '2023년 7월 24일', '사용자 입장에서 굉장히 편리 하고 좋은 어플 입니다 그리고 어플 사용도 연령대나 뭐 다른 요소에 관계 없이 쉽게 사용할 수 있도록 아주 직관적으로 편하게 잘 꾸며져 있는 것 같았어요 다른 심부름 어플도 몇번 이용해 보았는데 어플도 잘 되어있고 미션 수행도 잘 해주시고 따로 헬퍼에게 견적 받는 부분도 있어서 처음 이용해 볼 때 많은 도움이 되었어요! 그리고 다양한 카테고리의 심부름이 있어 좋았고 매칭할 때 많은 분들에게 알림을 주어 선택지가 넓어질 수 있다는 부분도 타 어플에 비해서 굉장히 마음에 드는 부분 이였습니다 카카오톡으로 고객센터를 운영 하고 있어서 피드백도 빠르고 궁금증 해결에도 좋은 것 같아요 앞으로 이 어플 고정으로 쭈욱 이용할 것 같아요 특히나 저 같은 붕붕쓰 없는 뚜벅이들 한테는 아주 아주 단비 같은 개꿀 어플 입니당 주변에 약국이나 병원이 없어서 멀리 까지 가서 사오기가 귀찮거나 비 오고 하면 특히나 힘들 때가 많은데 앞으로도 애용 할게요! 감사합니당 복 받으세요'], ['애니맨 - 실시간 도움 요청 앱', '50만+', '별표 5개 만점에 4.4개를 받았습니다.', '2016. 6. 7.', '다른 사람의 도움이 필요하세요?\\n이제 스트레스 받지 마세요. 애니맨이 해결해드릴게요.\\n\\n\\n[애니맨은 쉽고 간편하죠!]\\n1. 요청하고 싶은 일, 장소, 일시를 선택하고 요청\\n2. 헬퍼들이 입찰하면 마음에 드는 헬퍼를 PICK!\\n3. 선택한 헬퍼와 매칭 성공!\\n\\n\\n[애니맨에서는 어떤 일이든 가능해요!]\\n■ 바빠서 못한 일\\n녹색어머니, 티켓줄서기, 관공서 업무보기 등\\n\\n■ 어려워서 못한 일\\n수전 교체, 벽에 못 박기, 큰 액자 달기 등\\n\\n■ 귀찮아서 못한 일\\n청소, 쓰레기버리기, 빨래하기 등\\n\\n■ 더러워서 못한 일\\n음식물쓰레기 버리기, 냉장고 창고, 화장실 청소 등\\n\\n■ 사람이 필요한 일\\n병원동행, 가구이동, 하객대행 등\\n\\n■ 물건/음식 배달이 필요할 때\\n떡볶이, 죽, 감기약 배달, 케이크, 선물 배달 등\\n\\n■ 급하게 물건이 필요할 때\\n예비군 군화, 전동 드릴 대여, 정장 대여, 구두 대여 등\\n\\n■ 전문가 도움이 필요할 때\\n포맷, 조립PC구매, S/W설치, 사진 촬영/편집 등\\n\\n\\n[애니맨 헬퍼]\\n당신의 시간과 경험 그리고 재능과 기술을 세상과 공유하세요.\\n원하는 시간에 자유롭게 일하고 일한만큼 수익을 받아보세요.\\n애니맨 앱에서 정식헬퍼 인증 후, 이용이 가능합니다.\\n\\n투잡, 알바, 심부름, 헬프서비스\\n지금 바로 애니맨헬퍼가 되어보세요!!\\n\\n\\n애니맨에서는 서비스 제공을 위해 아래의 접근권한을 필요로 합니다.\\n[선택적 접근 권한]\\n- 사진 : 미션수행 관련 사진 첨부, 헬퍼 인증\\n- 전화 : 고객과 헬퍼 간 전화 통화\\n- 카메라 : 미션수행 관련 사진 촬영, 헬퍼 인증\\n* 위 접근권한은 허용하지 않아도 서비스를 이용할 수 있으나, 일부 기능 사용에 제한이 있을 수 있습니다.\\n\\n\\n■ 애니맨 고객센터\\n전화문의 : 1588-5279\\n카카오톡 : @애니맨24\\n이메일 : help@anyman.co.kr\\n\\n----\\n\\n개발자 연락처 :\\n1588-5279', 'sensemint', '별표 5개 만점에 5개를 받았습니다.', '2023년 10월 12일', '수년째 이용하고있는 어플이라서 강추합니다 언제 어디서나 모든 연령 사용자분들께 편리하게 이용 가능한 어플이라 편리하고 좋습니다 급하게 도움받거나 할때도 굿입니다'], ['애니맨 - 실시간 도움 요청 앱', '50만+', '별표 5개 만점에 4.4개를 받았습니다.', '2016. 6. 7.', '다른 사람의 도움이 필요하세요?\\n이제 스트레스 받지 마세요. 애니맨이 해결해드릴게요.\\n\\n\\n[애니맨은 쉽고 간편하죠!]\\n1. 요청하고 싶은 일, 장소, 일시를 선택하고 요청\\n2. 헬퍼들이 입찰하면 마음에 드는 헬퍼를 PICK!\\n3. 선택한 헬퍼와 매칭 성공!\\n\\n\\n[애니맨에서는 어떤 일이든 가능해요!]\\n■ 바빠서 못한 일\\n녹색어머니, 티켓줄서기, 관공서 업무보기 등\\n\\n■ 어려워서 못한 일\\n수전 교체, 벽에 못 박기, 큰 액자 달기 등\\n\\n■ 귀찮아서 못한 일\\n청소, 쓰레기버리기, 빨래하기 등\\n\\n■ 더러워서 못한 일\\n음식물쓰레기 버리기, 냉장고 창고, 화장실 청소 등\\n\\n■ 사람이 필요한 일\\n병원동행, 가구이동, 하객대행 등\\n\\n■ 물건/음식 배달이 필요할 때\\n떡볶이, 죽, 감기약 배달, 케이크, 선물 배달 등\\n\\n■ 급하게 물건이 필요할 때\\n예비군 군화, 전동 드릴 대여, 정장 대여, 구두 대여 등\\n\\n■ 전문가 도움이 필요할 때\\n포맷, 조립PC구매, S/W설치, 사진 촬영/편집 등\\n\\n\\n[애니맨 헬퍼]\\n당신의 시간과 경험 그리고 재능과 기술을 세상과 공유하세요.\\n원하는 시간에 자유롭게 일하고 일한만큼 수익을 받아보세요.\\n애니맨 앱에서 정식헬퍼 인증 후, 이용이 가능합니다.\\n\\n투잡, 알바, 심부름, 헬프서비스\\n지금 바로 애니맨헬퍼가 되어보세요!!\\n\\n\\n애니맨에서는 서비스 제공을 위해 아래의 접근권한을 필요로 합니다.\\n[선택적 접근 권한]\\n- 사진 : 미션수행 관련 사진 첨부, 헬퍼 인증\\n- 전화 : 고객과 헬퍼 간 전화 통화\\n- 카메라 : 미션수행 관련 사진 촬영, 헬퍼 인증\\n* 위 접근권한은 허용하지 않아도 서비스를 이용할 수 있으나, 일부 기능 사용에 제한이 있을 수 있습니다.\\n\\n\\n■ 애니맨 고객센터\\n전화문의 : 1588-5279\\n카카오톡 : @애니맨24\\n이메일 : help@anyman.co.kr\\n\\n----\\n\\n개발자 연락처 :\\n1588-5279', 'Kind Mind', '별표 5개 만점에 5개를 받았습니다.', '2023년 10월 14일', '타 어플 대비 사용도 편리하고 일도 많은 것 같아서 추천합니다!! 남는 시간에 헬퍼로 등록하여 용돈 벌어가시면 좋을 것 같습니다^^'], ['애니맨 - 실시간 도움 요청 앱', '50만+', '별표 5개 만점에 4.4개를 받았습니다.', '2016. 6. 7.', '다른 사람의 도움이 필요하세요?\\n이제 스트레스 받지 마세요. 애니맨이 해결해드릴게요.\\n\\n\\n[애니맨은 쉽고 간편하죠!]\\n1. 요청하고 싶은 일, 장소, 일시를 선택하고 요청\\n2. 헬퍼들이 입찰하면 마음에 드는 헬퍼를 PICK!\\n3. 선택한 헬퍼와 매칭 성공!\\n\\n\\n[애니맨에서는 어떤 일이든 가능해요!]\\n■ 바빠서 못한 일\\n녹색어머니, 티켓줄서기, 관공서 업무보기 등\\n\\n■ 어려워서 못한 일\\n수전 교체, 벽에 못 박기, 큰 액자 달기 등\\n\\n■ 귀찮아서 못한 일\\n청소, 쓰레기버리기, 빨래하기 등\\n\\n■ 더러워서 못한 일\\n음식물쓰레기 버리기, 냉장고 창고, 화장실 청소 등\\n\\n■ 사람이 필요한 일\\n병원동행, 가구이동, 하객대행 등\\n\\n■ 물건/음식 배달이 필요할 때\\n떡볶이, 죽, 감기약 배달, 케이크, 선물 배달 등\\n\\n■ 급하게 물건이 필요할 때\\n예비군 군화, 전동 드릴 대여, 정장 대여, 구두 대여 등\\n\\n■ 전문가 도움이 필요할 때\\n포맷, 조립PC구매, S/W설치, 사진 촬영/편집 등\\n\\n\\n[애니맨 헬퍼]\\n당신의 시간과 경험 그리고 재능과 기술을 세상과 공유하세요.\\n원하는 시간에 자유롭게 일하고 일한만큼 수익을 받아보세요.\\n애니맨 앱에서 정식헬퍼 인증 후, 이용이 가능합니다.\\n\\n투잡, 알바, 심부름, 헬프서비스\\n지금 바로 애니맨헬퍼가 되어보세요!!\\n\\n\\n애니맨에서는 서비스 제공을 위해 아래의 접근권한을 필요로 합니다.\\n[선택적 접근 권한]\\n- 사진 : 미션수행 관련 사진 첨부, 헬퍼 인증\\n- 전화 : 고객과 헬퍼 간 전화 통화\\n- 카메라 : 미션수행 관련 사진 촬영, 헬퍼 인증\\n* 위 접근권한은 허용하지 않아도 서비스를 이용할 수 있으나, 일부 기능 사용에 제한이 있을 수 있습니다.\\n\\n\\n■ 애니맨 고객센터\\n전화문의 : 1588-5279\\n카카오톡 : @애니맨24\\n이메일 : help@anyman.co.kr\\n\\n----\\n\\n개발자 연락처 :\\n1588-5279', '랄랄라아아', '별표 5개 만점에 5개를 받았습니다.', '2023년 9월 16일', '우선 너무 편하고 빠르게 진행되어서 간편합니다 앱으로 하니까 전화하면서 소모되는 것도 없고요 애니맨 분들도 모두 친절하고 신속하게 도움주셔서 거의 150만원 넘게 충전한걸 다써가네요 넘 편해요 강추하는 앱입니다!!!'], ['애니맨 - 실시간 도움 요청 앱', '50만+', '별표 5개 만점에 4.4개를 받았습니다.', '2016. 6. 7.', '다른 사람의 도움이 필요하세요?\\n이제 스트레스 받지 마세요. 애니맨이 해결해드릴게요.\\n\\n\\n[애니맨은 쉽고 간편하죠!]\\n1. 요청하고 싶은 일, 장소, 일시를 선택하고 요청\\n2. 헬퍼들이 입찰하면 마음에 드는 헬퍼를 PICK!\\n3. 선택한 헬퍼와 매칭 성공!\\n\\n\\n[애니맨에서는 어떤 일이든 가능해요!]\\n■ 바빠서 못한 일\\n녹색어머니, 티켓줄서기, 관공서 업무보기 등\\n\\n■ 어려워서 못한 일\\n수전 교체, 벽에 못 박기, 큰 액자 달기 등\\n\\n■ 귀찮아서 못한 일\\n청소, 쓰레기버리기, 빨래하기 등\\n\\n■ 더러워서 못한 일\\n음식물쓰레기 버리기, 냉장고 창고, 화장실 청소 등\\n\\n■ 사람이 필요한 일\\n병원동행, 가구이동, 하객대행 등\\n\\n■ 물건/음식 배달이 필요할 때\\n떡볶이, 죽, 감기약 배달, 케이크, 선물 배달 등\\n\\n■ 급하게 물건이 필요할 때\\n예비군 군화, 전동 드릴 대여, 정장 대여, 구두 대여 등\\n\\n■ 전문가 도움이 필요할 때\\n포맷, 조립PC구매, S/W설치, 사진 촬영/편집 등\\n\\n\\n[애니맨 헬퍼]\\n당신의 시간과 경험 그리고 재능과 기술을 세상과 공유하세요.\\n원하는 시간에 자유롭게 일하고 일한만큼 수익을 받아보세요.\\n애니맨 앱에서 정식헬퍼 인증 후, 이용이 가능합니다.\\n\\n투잡, 알바, 심부름, 헬프서비스\\n지금 바로 애니맨헬퍼가 되어보세요!!\\n\\n\\n애니맨에서는 서비스 제공을 위해 아래의 접근권한을 필요로 합니다.\\n[선택적 접근 권한]\\n- 사진 : 미션수행 관련 사진 첨부, 헬퍼 인증\\n- 전화 : 고객과 헬퍼 간 전화 통화\\n- 카메라 : 미션수행 관련 사진 촬영, 헬퍼 인증\\n* 위 접근권한은 허용하지 않아도 서비스를 이용할 수 있으나, 일부 기능 사용에 제한이 있을 수 있습니다.\\n\\n\\n■ 애니맨 고객센터\\n전화문의 : 1588-5279\\n카카오톡 : @애니맨24\\n이메일 : help@anyman.co.kr\\n\\n----\\n\\n개발자 연락처 :\\n1588-5279', '김형석', '별표 5개 만점에 5개를 받았습니다.', '2023년 9월 4일', '꼭 필요한 일손(도움)을 쉽게 연결할수 있게해주는 앱. 돌봄이나 긴급히 일손이 필요할때 큰 도움이 되요. 도움주시는 분의 리뷰도 참고하여 선택할수 있는 점도 좋아요.'], ['애니맨 - 실시간 도움 요청 앱', '50만+', '별표 5개 만점에 4.4개를 받았습니다.', '2016. 6. 7.', '다른 사람의 도움이 필요하세요?\\n이제 스트레스 받지 마세요. 애니맨이 해결해드릴게요.\\n\\n\\n[애니맨은 쉽고 간편하죠!]\\n1. 요청하고 싶은 일, 장소, 일시를 선택하고 요청\\n2. 헬퍼들이 입찰하면 마음에 드는 헬퍼를 PICK!\\n3. 선택한 헬퍼와 매칭 성공!\\n\\n\\n[애니맨에서는 어떤 일이든 가능해요!]\\n■ 바빠서 못한 일\\n녹색어머니, 티켓줄서기, 관공서 업무보기 등\\n\\n■ 어려워서 못한 일\\n수전 교체, 벽에 못 박기, 큰 액자 달기 등\\n\\n■ 귀찮아서 못한 일\\n청소, 쓰레기버리기, 빨래하기 등\\n\\n■ 더러워서 못한 일\\n음식물쓰레기 버리기, 냉장고 창고, 화장실 청소 등\\n\\n■ 사람이 필요한 일\\n병원동행, 가구이동, 하객대행 등\\n\\n■ 물건/음식 배달이 필요할 때\\n떡볶이, 죽, 감기약 배달, 케이크, 선물 배달 등\\n\\n■ 급하게 물건이 필요할 때\\n예비군 군화, 전동 드릴 대여, 정장 대여, 구두 대여 등\\n\\n■ 전문가 도움이 필요할 때\\n포맷, 조립PC구매, S/W설치, 사진 촬영/편집 등\\n\\n\\n[애니맨 헬퍼]\\n당신의 시간과 경험 그리고 재능과 기술을 세상과 공유하세요.\\n원하는 시간에 자유롭게 일하고 일한만큼 수익을 받아보세요.\\n애니맨 앱에서 정식헬퍼 인증 후, 이용이 가능합니다.\\n\\n투잡, 알바, 심부름, 헬프서비스\\n지금 바로 애니맨헬퍼가 되어보세요!!\\n\\n\\n애니맨에서는 서비스 제공을 위해 아래의 접근권한을 필요로 합니다.\\n[선택적 접근 권한]\\n- 사진 : 미션수행 관련 사진 첨부, 헬퍼 인증\\n- 전화 : 고객과 헬퍼 간 전화 통화\\n- 카메라 : 미션수행 관련 사진 촬영, 헬퍼 인증\\n* 위 접근권한은 허용하지 않아도 서비스를 이용할 수 있으나, 일부 기능 사용에 제한이 있을 수 있습니다.\\n\\n\\n■ 애니맨 고객센터\\n전화문의 : 1588-5279\\n카카오톡 : @애니맨24\\n이메일 : help@anyman.co.kr\\n\\n----\\n\\n개발자 연락처 :\\n1588-5279', '강병연', '별표 5개 만점에 5개를 받았습니다.', '2023년 8월 5일', '어쩌다 무언가 꼭 필요한 작업이 있는데, 간단한거 같으면서도 어떻게 해야할지 모를 때 찾는 애니맨. 종종 잘 쓰고 있습니다. 견적 비교를 쉽게 할수 있어 좋은게 특장점인듯.'], ['애니맨 - 실시간 도움 요청 앱', '50만+', '별표 5개 만점에 4.4개를 받았습니다.', '2016. 6. 7.', '다른 사람의 도움이 필요하세요?\\n이제 스트레스 받지 마세요. 애니맨이 해결해드릴게요.\\n\\n\\n[애니맨은 쉽고 간편하죠!]\\n1. 요청하고 싶은 일, 장소, 일시를 선택하고 요청\\n2. 헬퍼들이 입찰하면 마음에 드는 헬퍼를 PICK!\\n3. 선택한 헬퍼와 매칭 성공!\\n\\n\\n[애니맨에서는 어떤 일이든 가능해요!]\\n■ 바빠서 못한 일\\n녹색어머니, 티켓줄서기, 관공서 업무보기 등\\n\\n■ 어려워서 못한 일\\n수전 교체, 벽에 못 박기, 큰 액자 달기 등\\n\\n■ 귀찮아서 못한 일\\n청소, 쓰레기버리기, 빨래하기 등\\n\\n■ 더러워서 못한 일\\n음식물쓰레기 버리기, 냉장고 창고, 화장실 청소 등\\n\\n■ 사람이 필요한 일\\n병원동행, 가구이동, 하객대행 등\\n\\n■ 물건/음식 배달이 필요할 때\\n떡볶이, 죽, 감기약 배달, 케이크, 선물 배달 등\\n\\n■ 급하게 물건이 필요할 때\\n예비군 군화, 전동 드릴 대여, 정장 대여, 구두 대여 등\\n\\n■ 전문가 도움이 필요할 때\\n포맷, 조립PC구매, S/W설치, 사진 촬영/편집 등\\n\\n\\n[애니맨 헬퍼]\\n당신의 시간과 경험 그리고 재능과 기술을 세상과 공유하세요.\\n원하는 시간에 자유롭게 일하고 일한만큼 수익을 받아보세요.\\n애니맨 앱에서 정식헬퍼 인증 후, 이용이 가능합니다.\\n\\n투잡, 알바, 심부름, 헬프서비스\\n지금 바로 애니맨헬퍼가 되어보세요!!\\n\\n\\n애니맨에서는 서비스 제공을 위해 아래의 접근권한을 필요로 합니다.\\n[선택적 접근 권한]\\n- 사진 : 미션수행 관련 사진 첨부, 헬퍼 인증\\n- 전화 : 고객과 헬퍼 간 전화 통화\\n- 카메라 : 미션수행 관련 사진 촬영, 헬퍼 인증\\n* 위 접근권한은 허용하지 않아도 서비스를 이용할 수 있으나, 일부 기능 사용에 제한이 있을 수 있습니다.\\n\\n\\n■ 애니맨 고객센터\\n전화문의 : 1588-5279\\n카카오톡 : @애니맨24\\n이메일 : help@anyman.co.kr\\n\\n----\\n\\n개발자 연락처 :\\n1588-5279', 'YJ S', '별표 5개 만점에 5개를 받았습니다.', '2023년 7월 18일', '타지역까지 가기 힘들었는데 이 앱 덕분에 해결했어요 ui가 직관적이라 편리해요 지금도 편리하지만 요청사항 적을 때 글자수제한을 좀 늘려주셨으면 좋겠고 적다가 다른 곳 클릭시 초기화 되는 부분만 바꿔주심 더 편리해질 것 같아요~'], ['애니맨 - 실시간 도움 요청 앱', '50만+', '별표 5개 만점에 4.4개를 받았습니다.', '2016. 6. 7.', '다른 사람의 도움이 필요하세요?\\n이제 스트레스 받지 마세요. 애니맨이 해결해드릴게요.\\n\\n\\n[애니맨은 쉽고 간편하죠!]\\n1. 요청하고 싶은 일, 장소, 일시를 선택하고 요청\\n2. 헬퍼들이 입찰하면 마음에 드는 헬퍼를 PICK!\\n3. 선택한 헬퍼와 매칭 성공!\\n\\n\\n[애니맨에서는 어떤 일이든 가능해요!]\\n■ 바빠서 못한 일\\n녹색어머니, 티켓줄서기, 관공서 업무보기 등\\n\\n■ 어려워서 못한 일\\n수전 교체, 벽에 못 박기, 큰 액자 달기 등\\n\\n■ 귀찮아서 못한 일\\n청소, 쓰레기버리기, 빨래하기 등\\n\\n■ 더러워서 못한 일\\n음식물쓰레기 버리기, 냉장고 창고, 화장실 청소 등\\n\\n■ 사람이 필요한 일\\n병원동행, 가구이동, 하객대행 등\\n\\n■ 물건/음식 배달이 필요할 때\\n떡볶이, 죽, 감기약 배달, 케이크, 선물 배달 등\\n\\n■ 급하게 물건이 필요할 때\\n예비군 군화, 전동 드릴 대여, 정장 대여, 구두 대여 등\\n\\n■ 전문가 도움이 필요할 때\\n포맷, 조립PC구매, S/W설치, 사진 촬영/편집 등\\n\\n\\n[애니맨 헬퍼]\\n당신의 시간과 경험 그리고 재능과 기술을 세상과 공유하세요.\\n원하는 시간에 자유롭게 일하고 일한만큼 수익을 받아보세요.\\n애니맨 앱에서 정식헬퍼 인증 후, 이용이 가능합니다.\\n\\n투잡, 알바, 심부름, 헬프서비스\\n지금 바로 애니맨헬퍼가 되어보세요!!\\n\\n\\n애니맨에서는 서비스 제공을 위해 아래의 접근권한을 필요로 합니다.\\n[선택적 접근 권한]\\n- 사진 : 미션수행 관련 사진 첨부, 헬퍼 인증\\n- 전화 : 고객과 헬퍼 간 전화 통화\\n- 카메라 : 미션수행 관련 사진 촬영, 헬퍼 인증\\n* 위 접근권한은 허용하지 않아도 서비스를 이용할 수 있으나, 일부 기능 사용에 제한이 있을 수 있습니다.\\n\\n\\n■ 애니맨 고객센터\\n전화문의 : 1588-5279\\n카카오톡 : @애니맨24\\n이메일 : help@anyman.co.kr\\n\\n----\\n\\n개발자 연락처 :\\n1588-5279', '주리', '별표 5개 만점에 5개를 받았습니다.', '2023년 10월 13일', '진짜 유용한 어플이에요 급할때 어디 부탁하기 곤란할때 진짜 최고입니다 사람들도 대부분 너무 친절하시고 미션도 잘 완수해주시네요 금액대도 자기가 원하는 만큼 선택할 수 있어서 좋습니다'], ['애니맨 - 실시간 도움 요청 앱', '50만+', '별표 5개 만점에 4.4개를 받았습니다.', '2016. 6. 7.', '다른 사람의 도움이 필요하세요?\\n이제 스트레스 받지 마세요. 애니맨이 해결해드릴게요.\\n\\n\\n[애니맨은 쉽고 간편하죠!]\\n1. 요청하고 싶은 일, 장소, 일시를 선택하고 요청\\n2. 헬퍼들이 입찰하면 마음에 드는 헬퍼를 PICK!\\n3. 선택한 헬퍼와 매칭 성공!\\n\\n\\n[애니맨에서는 어떤 일이든 가능해요!]\\n■ 바빠서 못한 일\\n녹색어머니, 티켓줄서기, 관공서 업무보기 등\\n\\n■ 어려워서 못한 일\\n수전 교체, 벽에 못 박기, 큰 액자 달기 등\\n\\n■ 귀찮아서 못한 일\\n청소, 쓰레기버리기, 빨래하기 등\\n\\n■ 더러워서 못한 일\\n음식물쓰레기 버리기, 냉장고 창고, 화장실 청소 등\\n\\n■ 사람이 필요한 일\\n병원동행, 가구이동, 하객대행 등\\n\\n■ 물건/음식 배달이 필요할 때\\n떡볶이, 죽, 감기약 배달, 케이크, 선물 배달 등\\n\\n■ 급하게 물건이 필요할 때\\n예비군 군화, 전동 드릴 대여, 정장 대여, 구두 대여 등\\n\\n■ 전문가 도움이 필요할 때\\n포맷, 조립PC구매, S/W설치, 사진 촬영/편집 등\\n\\n\\n[애니맨 헬퍼]\\n당신의 시간과 경험 그리고 재능과 기술을 세상과 공유하세요.\\n원하는 시간에 자유롭게 일하고 일한만큼 수익을 받아보세요.\\n애니맨 앱에서 정식헬퍼 인증 후, 이용이 가능합니다.\\n\\n투잡, 알바, 심부름, 헬프서비스\\n지금 바로 애니맨헬퍼가 되어보세요!!\\n\\n\\n애니맨에서는 서비스 제공을 위해 아래의 접근권한을 필요로 합니다.\\n[선택적 접근 권한]\\n- 사진 : 미션수행 관련 사진 첨부, 헬퍼 인증\\n- 전화 : 고객과 헬퍼 간 전화 통화\\n- 카메라 : 미션수행 관련 사진 촬영, 헬퍼 인증\\n* 위 접근권한은 허용하지 않아도 서비스를 이용할 수 있으나, 일부 기능 사용에 제한이 있을 수 있습니다.\\n\\n\\n■ 애니맨 고객센터\\n전화문의 : 1588-5279\\n카카오톡 : @애니맨24\\n이메일 : help@anyman.co.kr\\n\\n----\\n\\n개발자 연락처 :\\n1588-5279', '이시', '별표 5개 만점에 5개를 받았습니다.', '2023년 10월 8일', '편리하고 안전한 시스템으로 헬퍼로써도 이용하기 좋고 소비자로써도 이용하기 너무 좋아요!']]\n",
      "전체 댓글  : 2558\n",
      "저장된 댓글 : 2558\n",
      "DB 업로드 댓글 : 2558\n"
     ]
    }
   ],
   "source": [
    "\n",
    "cnt_total_db = 0\n",
    "\n",
    "for url in full_urls:\n",
    "    # List생성, Column명 지정\n",
    "    reviews_list = []\n",
    "    columns_name = ['title', 'downloads', 'rating', 'release_date',\n",
    "                    'info', 'reviewer', 'stars', 'review_date', 'content']\n",
    "\n",
    "    # 어플 페이지 접속\n",
    "    browser.get(url)\n",
    "    browser.implicitly_wait(3)\n",
    "    time.sleep(1)\n",
    "    title = browser.find_element(By.CSS_SELECTOR, value='div > h1 > span').text\n",
    "    downloads = browser.find_element(\n",
    "        By.CSS_SELECTOR, value='div > div > div:nth-child(2) > div.ClM7O').text\n",
    "    try:\n",
    "        rating = browser.find_element(\n",
    "            By.CSS_SELECTOR, value='div:nth-child(1) > div.ClM7O > div > div').get_attribute('aria-label')\n",
    "    except Exception as e:\n",
    "        print('※', title, '은 안돼.')\n",
    "        continue\n",
    "\n",
    "    browser.find_element(\n",
    "        By.CSS_SELECTOR, value='c-wiz > div > section > header > div > div > button').click()\n",
    "    time.sleep(1)\n",
    "\n",
    "    info = browser.find_element(\n",
    "        By.CSS_SELECTOR, value='div > div.fysCi > div:nth-child(1)').text\n",
    "    try: # 출시일 위치 매번 바뀜 ㅠㅠ\n",
    "        release_date = browser.find_element(\n",
    "            By.CSS_SELECTOR, value='div.VfPpkd-wzTsW > div > div > div > div > div.fysCi > div.G1zzid > div:nth-child(8) > div.reAt0').text\n",
    "    except:\n",
    "        release_date = browser.find_element(\n",
    "            By.CSS_SELECTOR, value='div.VfPpkd-wzTsW > div > div > div > div > div.fysCi > div.G1zzid > div:nth-child(8) > div.reAt0').text\n",
    "    print(\"■\", title, downloads, rating)\n",
    "    print(release_date)\n",
    "    print(info)\n",
    "\n",
    "    browser.find_element(\n",
    "        By.CSS_SELECTOR, value='div > div.t8iiQe > button').click()  # 앱정보 닫기\n",
    "    browser.find_element(\n",
    "        By.CSS_SELECTOR, value='div:nth-child(5) > div > div > button').click()  # 리뷰 모두 보기\n",
    "\n",
    "    time.sleep(2)\n",
    "\n",
    "    total_review_count = 0\n",
    "\n",
    "    while True:\n",
    "        try:\n",
    "            reviews_bundle = browser.find_elements(\n",
    "                By.CSS_SELECTOR, value='div.fysCi > div > div:nth-child(2) > div')\n",
    "            current_review_count = len(reviews_bundle)\n",
    "            print('current reviews_bundle count: {}'.format(current_review_count))\n",
    "\n",
    "            # 만약 현재 리뷰 개수가 이전과 동일하다면 더 이상 총 리뷰 갯수가 갱신되지 않은 것이므로 종료합니다.\n",
    "            if current_review_count == total_review_count:\n",
    "                print('Total review count is not updating. Exiting the loop.')\n",
    "                break\n",
    "\n",
    "            # 현재 리뷰 개수를 total_review_count에 업데이트합니다.\n",
    "            total_review_count = current_review_count\n",
    "\n",
    "            # 마지막 리뷰를 클릭하고 잠시 기다립니다.\n",
    "            reviews_bundle[current_review_count - 1].click()\n",
    "            time.sleep(2)\n",
    "\n",
    "        except Exception as e:\n",
    "            print('An error occurred:', str(e))\n",
    "            break\n",
    "\n",
    "    print('Total review count: ', total_review_count)\n",
    "\n",
    "    time.sleep(2)\n",
    "\n",
    "    reviews_bundle = browser.find_elements(\n",
    "        By.CSS_SELECTOR, value='div.fysCi > div > div:nth-child(2) > div')\n",
    "\n",
    "    for review in reviews_bundle:\n",
    "        try:\n",
    "            reviewer = review.find_element(\n",
    "                By.CSS_SELECTOR, value='div.fysCi > div > div> div> header > div.YNR7H > div.gSGphe > div').text\n",
    "            review_date = review.find_element(\n",
    "                By.CSS_SELECTOR, value='div.fysCi > div > div> div > header > div > span').text\n",
    "            stars = review.find_element(\n",
    "                By.CSS_SELECTOR, value='div.fysCi > div > div > div > header > div.Jx4nYe > div').get_attribute('aria-label')\n",
    "            content = review.find_element(\n",
    "                By.CSS_SELECTOR, value='div.fysCi > div > div:nth-child(2) > div > div.h3YV2d').text\n",
    "            review_list = [title, downloads, rating, release_date,\n",
    "                           info, reviewer, stars, review_date, content]\n",
    "            reviews_list.append(review_list)\n",
    "        except Exception as e:\n",
    "            print('An error occurred:', str(e))\n",
    "            break\n",
    "    print(reviews_list[0:10])\n",
    "\n",
    "    # reviews_list를 Mongodb에 추가\n",
    "    df_reviews = pd.DataFrame(data=reviews_list, columns=columns_name)\n",
    "    data_dict = df_reviews.to_dict(orient='records')\n",
    "    collection.insert_many(data_dict)\n",
    "    cnt = len(reviews_list)\n",
    "    print(\"전체 댓글  :\", len(reviews_bundle))\n",
    "    print(\"저장된 댓글 :\", cnt)\n",
    "    cnt_total_db += cnt\n",
    "    print(\"DB 업로드 댓글 :\", cnt_total_db)\n",
    "\n",
    "browser.quit()\n"
   ]
  },
  {
   "cell_type": "code",
   "execution_count": null,
   "id": "0ce2a981-8e95-47a8-9da9-df46dbfb88d0",
   "metadata": {},
   "outputs": [],
   "source": []
  },
  {
   "cell_type": "code",
   "execution_count": null,
   "id": "af45e717-3af9-4c6a-bedf-5835ccfb8503",
   "metadata": {},
   "outputs": [],
   "source": []
  },
  {
   "cell_type": "code",
   "execution_count": 100,
   "id": "deb416a0-4564-41d8-ae63-65281b1109fc",
   "metadata": {},
   "outputs": [],
   "source": [
    "df_total = pd.DataFrame(list_cursors)"
   ]
  },
  {
   "cell_type": "code",
   "execution_count": 101,
   "id": "ff10e8b9-a18e-4616-bd6c-c88d9edb9a51",
   "metadata": {
    "tags": []
   },
   "outputs": [
    {
     "data": {
      "text/html": [
       "<div>\n",
       "<style scoped>\n",
       "    .dataframe tbody tr th:only-of-type {\n",
       "        vertical-align: middle;\n",
       "    }\n",
       "\n",
       "    .dataframe tbody tr th {\n",
       "        vertical-align: top;\n",
       "    }\n",
       "\n",
       "    .dataframe thead th {\n",
       "        text-align: right;\n",
       "    }\n",
       "</style>\n",
       "<table border=\"1\" class=\"dataframe\">\n",
       "  <thead>\n",
       "    <tr style=\"text-align: right;\">\n",
       "      <th></th>\n",
       "      <th>_id</th>\n",
       "      <th>title</th>\n",
       "      <th>downloads</th>\n",
       "      <th>rating</th>\n",
       "      <th>release_date</th>\n",
       "      <th>info</th>\n",
       "      <th>reviewer</th>\n",
       "      <th>stars</th>\n",
       "      <th>review_date</th>\n",
       "      <th>content</th>\n",
       "    </tr>\n",
       "  </thead>\n",
       "  <tbody>\n",
       "  </tbody>\n",
       "</table>\n",
       "</div>"
      ],
      "text/plain": [
       "Empty DataFrame\n",
       "Columns: [_id, title, downloads, rating, release_date, info, reviewer, stars, review_date, content]\n",
       "Index: []"
      ]
     },
     "execution_count": 101,
     "metadata": {},
     "output_type": "execute_result"
    }
   ],
   "source": [
    "result = df_total[df_total['release_date'] == '2016. 6. 7.']\n",
    "result"
   ]
  },
  {
   "cell_type": "code",
   "execution_count": 82,
   "id": "d0ab99cb-3787-4858-a0ae-38d9acd92008",
   "metadata": {
    "tags": []
   },
   "outputs": [],
   "source": [
    "df_total = df_total[df_total['release_date'] != '애니맨']"
   ]
  },
  {
   "cell_type": "code",
   "execution_count": 84,
   "id": "f8238f6a-e5a0-4504-b8e0-80f3fcc78e4f",
   "metadata": {},
   "outputs": [
    {
     "data": {
      "text/html": [
       "<div>\n",
       "<style scoped>\n",
       "    .dataframe tbody tr th:only-of-type {\n",
       "        vertical-align: middle;\n",
       "    }\n",
       "\n",
       "    .dataframe tbody tr th {\n",
       "        vertical-align: top;\n",
       "    }\n",
       "\n",
       "    .dataframe thead th {\n",
       "        text-align: right;\n",
       "    }\n",
       "</style>\n",
       "<table border=\"1\" class=\"dataframe\">\n",
       "  <thead>\n",
       "    <tr style=\"text-align: right;\">\n",
       "      <th></th>\n",
       "      <th>title</th>\n",
       "      <th>downloads</th>\n",
       "      <th>rating</th>\n",
       "      <th>release_date</th>\n",
       "      <th>info</th>\n",
       "      <th>reviewer</th>\n",
       "      <th>stars</th>\n",
       "      <th>review_date</th>\n",
       "      <th>content</th>\n",
       "    </tr>\n",
       "  </thead>\n",
       "  <tbody>\n",
       "    <tr>\n",
       "      <th>0</th>\n",
       "      <td>케어네이션 - 간병인, 병원 동행인, 요양보호사 찾기</td>\n",
       "      <td>50만+</td>\n",
       "      <td>별표 5개 만점에 4.6개를 받았습니다.</td>\n",
       "      <td>2020. 3. 15.</td>\n",
       "      <td>🤎🤎간병 · 요양 · 동행 · 가사돌봄까지 모든 헬스케어를 연결하다🔗🤎🤎\\n\\n👉3...</td>\n",
       "      <td>n Butter Bread</td>\n",
       "      <td>별표 5개 만점에 1개를 받았습니다.</td>\n",
       "      <td>2023년 8월 5일</td>\n",
       "      <td>네트워크오류라고 나와서 와이파이 끄고 하면 로그인 안되고 일시적인 오류라고 계속 뜹...</td>\n",
       "    </tr>\n",
       "    <tr>\n",
       "      <th>1</th>\n",
       "      <td>케어네이션 - 간병인, 병원 동행인, 요양보호사 찾기</td>\n",
       "      <td>50만+</td>\n",
       "      <td>별표 5개 만점에 4.6개를 받았습니다.</td>\n",
       "      <td>2020. 3. 15.</td>\n",
       "      <td>🤎🤎간병 · 요양 · 동행 · 가사돌봄까지 모든 헬스케어를 연결하다🔗🤎🤎\\n\\n👉3...</td>\n",
       "      <td>XXX XXX</td>\n",
       "      <td>별표 5개 만점에 1개를 받았습니다.</td>\n",
       "      <td>2023년 10월 3일</td>\n",
       "      <td>카카오로 시작하기로 가입햇는데 로그인후 카카오로 로그인이 안됩니다 계속 튕기고 삭제...</td>\n",
       "    </tr>\n",
       "    <tr>\n",
       "      <th>2</th>\n",
       "      <td>케어네이션 - 간병인, 병원 동행인, 요양보호사 찾기</td>\n",
       "      <td>50만+</td>\n",
       "      <td>별표 5개 만점에 4.6개를 받았습니다.</td>\n",
       "      <td>2020. 3. 15.</td>\n",
       "      <td>🤎🤎간병 · 요양 · 동행 · 가사돌봄까지 모든 헬스케어를 연결하다🔗🤎🤎\\n\\n👉3...</td>\n",
       "      <td>신미경</td>\n",
       "      <td>별표 5개 만점에 1개를 받았습니다.</td>\n",
       "      <td>2023년 9월 27일</td>\n",
       "      <td>앱열기가 안되네여.. 삭제후 재설치..권한도 설정들어가서 직접했는데도 앱자체가 안열...</td>\n",
       "    </tr>\n",
       "  </tbody>\n",
       "</table>\n",
       "</div>"
      ],
      "text/plain": [
       "                           title downloads                  rating  \\\n",
       "0  케어네이션 - 간병인, 병원 동행인, 요양보호사 찾기      50만+  별표 5개 만점에 4.6개를 받았습니다.   \n",
       "1  케어네이션 - 간병인, 병원 동행인, 요양보호사 찾기      50만+  별표 5개 만점에 4.6개를 받았습니다.   \n",
       "2  케어네이션 - 간병인, 병원 동행인, 요양보호사 찾기      50만+  별표 5개 만점에 4.6개를 받았습니다.   \n",
       "\n",
       "   release_date                                               info  \\\n",
       "0  2020. 3. 15.  🤎🤎간병 · 요양 · 동행 · 가사돌봄까지 모든 헬스케어를 연결하다🔗🤎🤎\\n\\n👉3...   \n",
       "1  2020. 3. 15.  🤎🤎간병 · 요양 · 동행 · 가사돌봄까지 모든 헬스케어를 연결하다🔗🤎🤎\\n\\n👉3...   \n",
       "2  2020. 3. 15.  🤎🤎간병 · 요양 · 동행 · 가사돌봄까지 모든 헬스케어를 연결하다🔗🤎🤎\\n\\n👉3...   \n",
       "\n",
       "         reviewer                 stars   review_date  \\\n",
       "0  n Butter Bread  별표 5개 만점에 1개를 받았습니다.   2023년 8월 5일   \n",
       "1         XXX XXX  별표 5개 만점에 1개를 받았습니다.  2023년 10월 3일   \n",
       "2             신미경  별표 5개 만점에 1개를 받았습니다.  2023년 9월 27일   \n",
       "\n",
       "                                             content  \n",
       "0  네트워크오류라고 나와서 와이파이 끄고 하면 로그인 안되고 일시적인 오류라고 계속 뜹...  \n",
       "1  카카오로 시작하기로 가입햇는데 로그인후 카카오로 로그인이 안됩니다 계속 튕기고 삭제...  \n",
       "2  앱열기가 안되네여.. 삭제후 재설치..권한도 설정들어가서 직접했는데도 앱자체가 안열...  "
      ]
     },
     "execution_count": 84,
     "metadata": {},
     "output_type": "execute_result"
    }
   ],
   "source": [
    "df_drop_id = df_total.drop('_id', axis=1)\n",
    "df_drop_id[:3]"
   ]
  },
  {
   "cell_type": "code",
   "execution_count": 85,
   "id": "4a1219b0-d7c6-4418-8087-8e34a0271860",
   "metadata": {},
   "outputs": [
    {
     "name": "stdout",
     "output_type": "stream",
     "text": [
      "<class 'pandas.core.frame.DataFrame'>\n",
      "Int64Index: 32107 entries, 0 to 32106\n",
      "Data columns (total 9 columns):\n",
      " #   Column        Non-Null Count  Dtype \n",
      "---  ------        --------------  ----- \n",
      " 0   title         32107 non-null  object\n",
      " 1   downloads     32107 non-null  object\n",
      " 2   rating        32107 non-null  object\n",
      " 3   release_date  32107 non-null  object\n",
      " 4   info          32107 non-null  object\n",
      " 5   reviewer      32107 non-null  object\n",
      " 6   stars         32107 non-null  object\n",
      " 7   review_date   32107 non-null  object\n",
      " 8   content       32107 non-null  object\n",
      "dtypes: object(9)\n",
      "memory usage: 2.4+ MB\n"
     ]
    }
   ],
   "source": [
    "df_drop_id.info()"
   ]
  },
  {
   "cell_type": "code",
   "execution_count": 86,
   "id": "5f4daed6-76c5-4e91-a255-ee483c0e415c",
   "metadata": {},
   "outputs": [
    {
     "name": "stdout",
     "output_type": "stream",
     "text": [
      "<class 'pandas.core.frame.DataFrame'>\n",
      "Int64Index: 31863 entries, 0 to 32106\n",
      "Data columns (total 9 columns):\n",
      " #   Column        Non-Null Count  Dtype \n",
      "---  ------        --------------  ----- \n",
      " 0   title         31863 non-null  object\n",
      " 1   downloads     31863 non-null  object\n",
      " 2   rating        31863 non-null  object\n",
      " 3   release_date  31863 non-null  object\n",
      " 4   info          31863 non-null  object\n",
      " 5   reviewer      31863 non-null  object\n",
      " 6   stars         31863 non-null  object\n",
      " 7   review_date   31863 non-null  object\n",
      " 8   content       31863 non-null  object\n",
      "dtypes: object(9)\n",
      "memory usage: 2.4+ MB\n"
     ]
    }
   ],
   "source": [
    "df_drop_dup = df_drop_id.drop_duplicates()\n",
    "df_drop_dup.info()"
   ]
  },
  {
   "cell_type": "code",
   "execution_count": 87,
   "id": "0d5ef187-2c87-41d0-bffc-62497955bd96",
   "metadata": {},
   "outputs": [],
   "source": [
    "df_drop_dup.to_csv('./google_drop_duplicates.csv')"
   ]
  },
  {
   "cell_type": "code",
   "execution_count": null,
   "id": "270373c8-59e8-42e3-8042-b2746670357f",
   "metadata": {},
   "outputs": [],
   "source": []
  },
  {
   "cell_type": "code",
   "execution_count": null,
   "id": "d02c0c76-d284-43e2-b10b-658d1718c132",
   "metadata": {},
   "outputs": [],
   "source": []
  }
 ],
 "metadata": {
  "kernelspec": {
   "display_name": "Python 3 (ipykernel)",
   "language": "python",
   "name": "python3"
  },
  "language_info": {
   "codemirror_mode": {
    "name": "ipython",
    "version": 3
   },
   "file_extension": ".py",
   "mimetype": "text/x-python",
   "name": "python",
   "nbconvert_exporter": "python",
   "pygments_lexer": "ipython3",
   "version": "3.11.3"
  }
 },
 "nbformat": 4,
 "nbformat_minor": 5
}
