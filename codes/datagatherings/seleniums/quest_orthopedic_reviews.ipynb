{
 "cells": [
  {
   "cell_type": "markdown",
   "id": "5837ca9b-766a-4162-b3c2-8ccac266c43b",
   "metadata": {},
   "source": [
    "### 병원 네이버 플레이스 방문자 리뷰 크롤링\n",
    "- https://pcmap.place.naver.com/hospital/1623603444/review/visitor?entry=bmp&from=map&fromPanelNum=2&timestamp=202309081302&x=126.89195542957395&y=37.50627134485392"
   ]
  },
  {
   "cell_type": "code",
   "execution_count": 1,
   "id": "b7f07007-db15-490b-b9bd-44b19d20263a",
   "metadata": {
    "tags": []
   },
   "outputs": [],
   "source": [
    "from selenium import webdriver\n",
    "from selenium.webdriver.common.keys import Keys\n",
    "import time\n",
    "import pandas as pd\n",
    "import pymongo as mg"
   ]
  },
  {
   "cell_type": "code",
   "execution_count": 2,
   "id": "18abe01f-a20d-4f5d-9fb5-967e2ac57381",
   "metadata": {},
   "outputs": [],
   "source": [
    "client = mg.MongoClient(host='mongodb://localhost:27017')\n",
    "database = client['ns_os_reviews']\n",
    "collection = database['naver_place']"
   ]
  },
  {
   "cell_type": "code",
   "execution_count": 3,
   "id": "1df2e3bf-d642-411c-ac8f-f1ab426ebc3b",
   "metadata": {
    "tags": []
   },
   "outputs": [],
   "source": [
    "# open chrome browser\n",
    "browser = webdriver.Chrome(executable_path='../../../../chromedriver.exe')"
   ]
  },
  {
   "cell_type": "code",
   "execution_count": 4,
   "id": "fa4cfa3b-9ad7-4c22-8fd7-e5efac4915a7",
   "metadata": {
    "tags": []
   },
   "outputs": [],
   "source": [
    "# 국내 척추 병원 리스트(검색 통해 선정함. 보건복지부 선정 척추/관절 병원 리스트가 있는데 나중에 그것도 참고할 예정)\n",
    "# hospital_data = [\n",
    "#     [\"서울바른병원\", 'https://pcmap.place.naver.com/hospital/37427012/home?entry=bmp&from=map&fromPanelNum=2&timestamp=202309111054&x=126.92009780794396&y=37.500217907168434'],\n",
    "#     [\"바로척척의원\", 'https://pcmap.place.naver.com/hospital/37902519/home?entry=bmp&from=map&fromPanelNum=2&x=126.8395816&y=37.5588518&timestamp=202309111104'],\n",
    "#     [\"나누리병원 인천\", 'https://pcmap.place.naver.com/hospital/37811460/home?entry=bmp&from=map&fromPanelNum=2&timestamp=202309111105&x=126.7308592&y=37.499572'],\n",
    "#     [\"연세더바로신경외과정형외과의원\", 'https://pcmap.place.naver.com/hospital/1290271026/home?entry=bmp&from=map&fromPanelNum=2&timestamp=202309111106&x=127.02811010000002&y=37.525109099999995'],\n",
    "#     [\"참포도나무병원\", 'https://pcmap.place.naver.com/hospital/30805681/home?entry=bmp&from=map&fromPanelNum=2&timestamp=202309111107&x=127.0386971&y=37.479931300000004'],\n",
    "#     [\"서울병원\", 'https://pcmap.place.naver.com/hospital/21560637/home?entry=bmp&from=map&fromPanelNum=2&x=127.12467150000002&y=37.5039463&timestamp=202309111121'],\n",
    "#     [\"안산21세기병원\", 'https://pcmap.place.naver.com/hospital/21560235/home?entry=bmp&from=map&fromPanelNum=2&timestamp=202309111125&x=126.8317939&y=37.3307826'],\n",
    "#     [\"바로척척의원\", 'https://pcmap.place.naver.com/hospital/37281381/home?entry=bmp&from=map&fromPanelNum=2&x=127.1341414&y=37.5357686&timestamp=202309111127'],\n",
    "#     [\"의료법인본플러스재단분당병원\", 'https://pcmap.place.naver.com/hospital/20742703/home?entry=bmp&from=map&fromPanelNum=2&x=127.1064897&y=37.3636242&timestamp=202309111137'],\n",
    "#     [\"기대플러스병원\", 'https://pcmap.place.naver.com/hospital/86958121/home?entry=bmp&from=map&fromPanelNum=2&x=126.7364401&y=37.7287226&timestamp=202309111138'],\n",
    "#     [\"서울바른세상병원\", 'https://pcmap.place.naver.com/hospital/37445922/home?entry=bmp&from=map&fromPanelNum=2&timestamp=202309111139&x=126.89781340040102&y=37.47119169978151'],\n",
    "#     [\"연세백퍼센트병원\", 'https://pcmap.place.naver.com/hospital/1247579806/home?entry=bmp&from=map&fromPanelNum=2&timestamp=202309111140&x=126.7258778&y=37.4944746'],\n",
    "#     [\"오케이병원\", 'https://pcmap.place.naver.com/hospital/35913572/home?entry=bmp&from=map&fromPanelNum=2&x=126.73374058126338&y=37.52834095985524&timestamp=202309111141'],\n",
    "#     [\"열린연세정형외과의원\", 'https://pcmap.place.naver.com/hospital/1082253030/home?entry=bmp&from=map&fromPanelNum=2&timestamp=202309111141&x=126.93011169050402&y=37.36027717232209'],\n",
    "#     [\"국제바로병원\", 'https://pcmap.place.naver.com/hospital/13205824/home?entry=bmp&from=map&fromPanelNum=2&timestamp=202309111143&x=126.69317347360611&y=37.46551276685047'],\n",
    "#     [\"나사렛국제병원\", 'https://pcmap.place.naver.com/hospital/13349355/home?entry=bmp&from=map&fromPanelNum=2&timestamp=202309111147&x=126.67051078074321&y=37.40808057937737'],\n",
    "#     [\"나누리병원 주안\", 'https://pcmap.place.naver.com/hospital/37350818/home?entry=bmp&from=map&fromPanelNum=2&x=126.69068909963093&y=37.45093300081088&timestamp=202309111150'],\n",
    "#     [\"부산우리들병원\", 'https://pcmap.place.naver.com/hospital/12075325/home?entry=bmp&from=map&fromPanelNum=2&timestamp=202309111154&x=129.0856653&y=35.2216217'],\n",
    "#     [\"강북연세병원\", 'https://pcmap.place.naver.com/hospital/13098049/home?entry=bmp&from=map&fromPanelNum=2&timestamp=202309111155&x=127.07550329951835&y=37.61918910116395']\n",
    "# ]\n",
    "\n",
    "## 테스트용\n",
    "hospital_data = [\n",
    "    [\"안산21세기병원\", 'https://pcmap.place.naver.com/hospital/21560235/home?entry=bmp&from=map&fromPanelNum=2&timestamp=202309111125&x=126.8317939&y=37.3307826'],\n",
    "    [\"나누리병원 주안\", 'https://pcmap.place.naver.com/hospital/37350818/home?entry=bmp&from=map&fromPanelNum=2&x=126.69068909963093&y=37.45093300081088&timestamp=202309111150']\n",
    "]\n",
    "\n",
    "# DataFrame 생성\n",
    "df_hospital = pd.DataFrame(hospital_data, columns=[\"hospital\", \"url\"])\n",
    "\n",
    "# DataFrame 출력\n",
    "# pd.set_option('display.max_colwidth', None)\n",
    "# print(df_hospital)"
   ]
  },
  {
   "cell_type": "markdown",
   "id": "82251f84-c3d7-4a8e-9775-6bd44d1097fd",
   "metadata": {},
   "source": [
    "### Tags\n",
    "- 리뷰탭 클릭 : div.place_fixed_maintab > div > div > div > div > a:nth-child(2) > span\n",
    "\n",
    "- 리뷰 박스 : div:nth-child(7) > div:nth-child(3) > div > div > ul > li\n",
    "\n",
    "- 병원 이름 : #_title > span.Fc1rA\n",
    "\n",
    "- 병원 주소 : li > div > div > div > span:nth-child(1) > span:nth-child(3)\n",
    "\n",
    "- 작성자 : div > ul > li > div > a > div.VYGLG\n",
    "\n",
    "- 리뷰 내용 : div.place_section_content > ul > li:nth-child({}) > div > a > span.zPfVt\n",
    "\n",
    "- 리뷰 더보기 :  div.place_section_content > ul > li:nth-child({}) > div > a > span.rvCSr\n",
    "\n",
    "- 리뷰 날짜 : li > div > div > div > span:nth-child(1) > span:nth-child(3)\n",
    "\n",
    "- 방문 횟수 : li > div > div > div > span:nth-child(2)\n",
    "\n",
    "- 더보기 클릭 : div > div > div > div.lfH3O > a\n"
   ]
  },
  {
   "cell_type": "code",
   "execution_count": 5,
   "id": "e9b0b9e4-b796-4d54-9690-52a0f1ecdaf1",
   "metadata": {
    "tags": []
   },
   "outputs": [
    {
     "name": "stdout",
     "output_type": "stream",
     "text": [
      "■ 안산21세기병원 경기 안산시 단원구 보화로 50\n"
     ]
    },
    {
     "ename": "TypeError",
     "evalue": "documents must be a non-empty list",
     "output_type": "error",
     "traceback": [
      "\u001b[1;31m---------------------------------------------------------------------------\u001b[0m",
      "\u001b[1;31mTypeError\u001b[0m                                 Traceback (most recent call last)",
      "Cell \u001b[1;32mIn[5], line 66\u001b[0m\n\u001b[0;32m     64\u001b[0m df_reviews \u001b[38;5;241m=\u001b[39m pd\u001b[38;5;241m.\u001b[39mDataFrame(data\u001b[38;5;241m=\u001b[39mreviews_list, columns\u001b[38;5;241m=\u001b[39mcolumns_name)\n\u001b[0;32m     65\u001b[0m data_dict \u001b[38;5;241m=\u001b[39m df_reviews\u001b[38;5;241m.\u001b[39mto_dict(orient\u001b[38;5;241m=\u001b[39m\u001b[38;5;124m'\u001b[39m\u001b[38;5;124mrecords\u001b[39m\u001b[38;5;124m'\u001b[39m)\n\u001b[1;32m---> 66\u001b[0m collection\u001b[38;5;241m.\u001b[39minsert_many(data_dict)        \n\u001b[0;32m     68\u001b[0m \u001b[38;5;28mprint\u001b[39m(\u001b[38;5;124m\"\u001b[39m\u001b[38;5;124m전체 댓글  :\u001b[39m\u001b[38;5;124m\"\u001b[39m, \u001b[38;5;28mlen\u001b[39m(reviews_bundle))\n\u001b[0;32m     69\u001b[0m \u001b[38;5;28mprint\u001b[39m(\u001b[38;5;124m\"\u001b[39m\u001b[38;5;124m저장된 댓글 :\u001b[39m\u001b[38;5;124m\"\u001b[39m, cnt)     \n",
      "File \u001b[1;32m~\\anaconda3\\Lib\\site-packages\\pymongo\\collection.py:755\u001b[0m, in \u001b[0;36mCollection.insert_many\u001b[1;34m(self, documents, ordered, bypass_document_validation, session)\u001b[0m\n\u001b[0;32m    713\u001b[0m \u001b[38;5;250m\u001b[39m\u001b[38;5;124;03m\"\"\"Insert an iterable of documents.\u001b[39;00m\n\u001b[0;32m    714\u001b[0m \n\u001b[0;32m    715\u001b[0m \u001b[38;5;124;03m  >>> db.test.count_documents({})\u001b[39;00m\n\u001b[1;32m   (...)\u001b[0m\n\u001b[0;32m    750\u001b[0m \u001b[38;5;124;03m.. versionadded:: 3.0\u001b[39;00m\n\u001b[0;32m    751\u001b[0m \u001b[38;5;124;03m\"\"\"\u001b[39;00m\n\u001b[0;32m    752\u001b[0m \u001b[38;5;28;01mif\u001b[39;00m (\u001b[38;5;129;01mnot\u001b[39;00m \u001b[38;5;28misinstance\u001b[39m(documents, abc\u001b[38;5;241m.\u001b[39mIterable)\n\u001b[0;32m    753\u001b[0m         \u001b[38;5;129;01mor\u001b[39;00m \u001b[38;5;28misinstance\u001b[39m(documents, abc\u001b[38;5;241m.\u001b[39mMapping)\n\u001b[0;32m    754\u001b[0m         \u001b[38;5;129;01mor\u001b[39;00m \u001b[38;5;129;01mnot\u001b[39;00m documents):\n\u001b[1;32m--> 755\u001b[0m     \u001b[38;5;28;01mraise\u001b[39;00m \u001b[38;5;167;01mTypeError\u001b[39;00m(\u001b[38;5;124m\"\u001b[39m\u001b[38;5;124mdocuments must be a non-empty list\u001b[39m\u001b[38;5;124m\"\u001b[39m)\n\u001b[0;32m    756\u001b[0m inserted_ids \u001b[38;5;241m=\u001b[39m []\n\u001b[0;32m    757\u001b[0m \u001b[38;5;28;01mdef\u001b[39;00m \u001b[38;5;21mgen\u001b[39m():\n",
      "\u001b[1;31mTypeError\u001b[0m: documents must be a non-empty list"
     ]
    }
   ],
   "source": [
    "# 한 병원 url이 한 사이클\n",
    "for url in df_hospital['url']:\n",
    "    # List생성, Column명 지정\n",
    "    reviews_list = []\n",
    "    columns_name = ['hospital', 'address', 'name', 'content', 'date', 'visits']\n",
    "    \n",
    "    # 네이버플레이스 사이트 접속\n",
    "    browser.get(url)\n",
    "    browser.implicitly_wait(5)\n",
    "    hospital = browser.find_element_by_css_selector('#_title > span.Fc1rA').text # 병원명\n",
    "    address = browser.find_element_by_css_selector('div > div > a > span.LDgIH').text # 주소\n",
    "    print(\"■\", hospital, address) # 병원명, 주소 출력\n",
    "    \n",
    "    # 리뷰탭 클릭\n",
    "    browser.find_element_by_css_selector('div.place_fixed_maintab > div > div > div > div > a:nth-child(2) > span').click()\n",
    "    time.sleep(2)\n",
    "    # 전체 더보기 버튼 클릭\n",
    "    while True:\n",
    "        try:\n",
    "            browser.find_element_by_css_selector('div > div > div > div.lfH3O > a').click()\n",
    "        except:\n",
    "            break\n",
    "    browser.find_element_by_css_selector('body').send_keys(Keys.HOME) # 화면 상단으로 이동\n",
    "    time.sleep(3)\n",
    "\n",
    "#    # 리뷰 더보기 버튼 개수 찾기 (화면 크기에 따라 달라짐)\n",
    "#    see_more_buttons = browser.find_elements_by_css_selector('div.place_section_content > ul > li > div > a > span.rvCSr')\n",
    "#    print(\"긴 댓글    :\", len(see_more_buttons))\n",
    "#    # 리뷰 더보기 클릭\n",
    "#    for num_see_more in range(len(see_more_buttons)): \n",
    "#        time.sleep(1)\n",
    "#        see_more_path = see_more_buttons[num_see_more]\n",
    "#        see_more_path.click()\n",
    "        \n",
    "    # reviews_bundle : 전체 리뷰 (리뷰박스) 가져오기\n",
    "    reviews_bundle = browser.find_elements_by_css_selector('div:nth-child(7) > div:nth-child(3) > div > div > ul > li')\n",
    "    \n",
    "    for click_review in range(len(reviews_bundle)):\n",
    "        try:\n",
    "            click_review_path = browser.find_element_by_css_selector('div:nth-child(3) > div > div > ul > li:nth-child({}) > div.ZZ4OK > a'.format(click_review))\n",
    "            print(click_review_path)\n",
    "            click_review_path.click()\n",
    "        except:\n",
    "            print(\"실패\")\n",
    "            pass\n",
    "    # 클릭한 리뷰로 다시 저장\n",
    "    reviews_bundle = browser.find_elements_by_css_selector('div:nth-child(7) > div:nth-child(3) > div > div > ul > li')\n",
    "    \n",
    "    # 리뷰박스에서 작성자명, 리뷰내용, 날짜, 방문횟수 수집 # 리스트에 추가\n",
    "    cnt = 0 # 리뷰 저장 개수 카운트\n",
    "    for review in reviews_bundle:\n",
    "        try :\n",
    "            content = review.find_element_by_css_selector('div.place_section_content > ul > li > div.ZZ4OK > a').text\n",
    "            name = review.find_element_by_css_selector('div > ul > li > div > a > div.VYGLG').text \n",
    "            date = review.find_element_by_css_selector('li > div > div > div > span:nth-child(1) > span:nth-child(3)').text\n",
    "            visits = review.find_element_by_css_selector('li > div > div > div > span:nth-child(2)').text\n",
    "            full_review = [hospital, address, name, content, date, visits]\n",
    "            reviews_list.append(full_review)\n",
    "            cnt += 1\n",
    "        except : # 댓글 내용이 없고 사진만 있을 경우 제외 \n",
    "            pass\n",
    "        \n",
    "    # reviews_list를 Mongodb에 추가     \n",
    "    df_reviews = pd.DataFrame(data=reviews_list, columns=columns_name)\n",
    "    data_dict = df_reviews.to_dict(orient='records')\n",
    "    collection.insert_many(data_dict)        \n",
    "    \n",
    "    print(\"전체 댓글  :\", len(reviews_bundle))\n",
    "    print(\"저장된 댓글 :\", cnt)     \n",
    "\n",
    "print(\"DB 업로드 댓글 :\", len(reviews_list))     \n",
    "browser.quit()"
   ]
  },
  {
   "cell_type": "code",
   "execution_count": null,
   "id": "a619cc74-8a46-4bc2-92de-89a2ce998b29",
   "metadata": {
    "tags": []
   },
   "outputs": [],
   "source": [
    "# {\"content\": {\"$regex\": \"수술\"}}\n",
    "# {\"hospital\": {\"$regex\": \"연세백퍼센트병원\"}}\n",
    "# {\"name\": {\"$regex\": \"동동\"}}"
   ]
  }
 ],
 "metadata": {
  "kernelspec": {
   "display_name": "Python 3 (ipykernel)",
   "language": "python",
   "name": "python3"
  },
  "language_info": {
   "codemirror_mode": {
    "name": "ipython",
    "version": 3
   },
   "file_extension": ".py",
   "mimetype": "text/x-python",
   "name": "python",
   "nbconvert_exporter": "python",
   "pygments_lexer": "ipython3",
   "version": "3.11.3"
  }
 },
 "nbformat": 4,
 "nbformat_minor": 5
}
