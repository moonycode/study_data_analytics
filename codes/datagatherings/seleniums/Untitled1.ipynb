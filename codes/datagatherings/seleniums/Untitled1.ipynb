{
 "cells": [
  {
   "cell_type": "code",
   "execution_count": null,
   "id": "ba0f6505-ec4c-4ace-8ed4-55bbf3e7f1bd",
   "metadata": {},
   "outputs": [],
   "source": [
    "reviews_standard_count_per = 40\n",
    "\n",
    "while True :\n",
    "    try :\n",
    "        reviews_bundle = browser.find_elements_by_css_selector('div.fysCi > div > div:nth-child(2) > div')\n",
    "        print('current reviews_bundle count : {}'.format(len(reviews_bundle)))\n",
    "        reviews_bundle[len(reviews_bundle)-1].click()\n",
    "        time.sleep(3)\n",
    "    except :\n",
    "        print('pass')\n",
    "        pass\n",
    "print('Done', len(reviews_bundle))"
   ]
  }
 ],
 "metadata": {
  "kernelspec": {
   "display_name": "Python 3 (ipykernel)",
   "language": "python",
   "name": "python3"
  },
  "language_info": {
   "codemirror_mode": {
    "name": "ipython",
    "version": 3
   },
   "file_extension": ".py",
   "mimetype": "text/x-python",
   "name": "python",
   "nbconvert_exporter": "python",
   "pygments_lexer": "ipython3",
   "version": "3.11.3"
  }
 },
 "nbformat": 4,
 "nbformat_minor": 5
}
