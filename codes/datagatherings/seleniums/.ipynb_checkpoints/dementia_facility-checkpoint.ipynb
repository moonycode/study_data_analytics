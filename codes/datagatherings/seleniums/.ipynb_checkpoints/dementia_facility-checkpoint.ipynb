{
 "cells": [
  {
   "cell_type": "markdown",
   "id": "5837ca9b-766a-4162-b3c2-8ccac266c43b",
   "metadata": {},
   "source": [
    "### 중앙치매센터 치매시설정보 크롤링\n",
    "- https://www.nid.or.kr/info/facility_list.aspx"
   ]
  },
  {
   "cell_type": "code",
   "execution_count": 1,
   "id": "b7f07007-db15-490b-b9bd-44b19d20263a",
   "metadata": {
    "tags": []
   },
   "outputs": [],
   "source": [
    "from selenium import webdriver\n",
    "from selenium.webdriver.common.keys import Keys\n",
    "from selenium.webdriver.common.by import By\n",
    "from selenium.webdriver.support.ui import WebDriverWait\n",
    "from selenium.webdriver.support import expected_conditions as EC\n",
    "import time\n",
    "import pandas as pd\n",
    "import pymongo as mg"
   ]
  },
  {
   "cell_type": "code",
   "execution_count": 2,
   "id": "18abe01f-a20d-4f5d-9fb5-967e2ac57381",
   "metadata": {},
   "outputs": [],
   "source": [
    "client = mg.MongoClient(host='mongodb://localhost:27017')\n",
    "database = client['ns_os_reviews']\n",
    "collection = database['naver_place']"
   ]
  },
  {
   "cell_type": "code",
   "execution_count": 3,
   "id": "1df2e3bf-d642-411c-ac8f-f1ab426ebc3b",
   "metadata": {
    "tags": []
   },
   "outputs": [],
   "source": [
    "# open chrome browser\n",
    "browser = webdriver.Chrome(executable_path='../../../../chromedriver.exe')"
   ]
  },
  {
   "cell_type": "code",
   "execution_count": 4,
   "id": "fa4cfa3b-9ad7-4c22-8fd7-e5efac4915a7",
   "metadata": {
    "tags": []
   },
   "outputs": [],
   "source": [
    "url = 'https://www.nid.or.kr/info/facility_list.aspx'"
   ]
  },
  {
   "cell_type": "markdown",
   "id": "82251f84-c3d7-4a8e-9775-6bd44d1097fd",
   "metadata": {},
   "source": [
    "### Tags\n",
    "- 리뷰탭 클릭 : div.place_fixed_maintab > div > div > div > div > a:nth-child(2) > span\n",
    "\n",
    "- 리뷰 박스 : div:nth-child(7) > div:nth-child(3) > div > div > ul > li\n",
    "\n",
    "- 병원 이름 : #_title > span.Fc1rA\n",
    "\n",
    "- 병원 주소 : li > div > div > div > span:nth-child(1) > span:nth-child(3)\n",
    "\n",
    "- 작성자 : div > ul > li > div > a > div.VYGLG\n",
    "\n",
    "- 리뷰 내용 : div.place_section_content > ul > li:nth-child({}) > div > a > span.zPfVt\n",
    "\n",
    "- 리뷰 더보기 :  div.place_section_content > ul > li:nth-child({}) > div > a > span.rvCSr\n",
    "\n",
    "- 리뷰 날짜 : li > div > div > div > span:nth-child(1) > span:nth-child(3)\n",
    "\n",
    "- 방문 횟수 : li > div > div > div > span:nth-child(2)\n",
    "\n",
    "- 더보기 클릭 : div > div > div > div.lfH3O > a\n"
   ]
  },
  {
   "cell_type": "code",
   "execution_count": 5,
   "id": "e9b0b9e4-b796-4d54-9690-52a0f1ecdaf1",
   "metadata": {
    "tags": []
   },
   "outputs": [
    {
     "name": "stdout",
     "output_type": "stream",
     "text": [
      "■ 우리들병원 대구 대구 중구 국채보상로 648 SHL동성빌딩\n",
      "전체 댓글  : 120\n",
      "저장된 댓글 : 118\n",
      "DB 업로드 댓글 : 118\n",
      "■ 강북연세병원 서울 노원구 동일로 996\n",
      "전체 댓글  : 116\n",
      "저장된 댓글 : 116\n",
      "DB 업로드 댓글 : 234\n",
      "■ 뿌리병원 충북 청주시 청원구 내덕로 56\n",
      "전체 댓글  : 1201\n",
      "저장된 댓글 : 1189\n",
      "DB 업로드 댓글 : 1423\n",
      "■ 제일정형외과병원 서울 강남구 영동대로 726 경일빌딩\n",
      "전체 댓글  : 105\n",
      "저장된 댓글 : 105\n",
      "DB 업로드 댓글 : 1528\n",
      "■ 서울척병원 경기 의정부시 태평로 6 (경기도 의정부시 의정부동 99-2)\n",
      "전체 댓글  : 95\n",
      "저장된 댓글 : 93\n",
      "DB 업로드 댓글 : 1621\n",
      "■ 센트럴병원 부산 북구 만덕대로 37 센트럴병원\n",
      "전체 댓글  : 193\n",
      "저장된 댓글 : 193\n",
      "DB 업로드 댓글 : 1814\n",
      "■ 동아병원 광주 남구 대남대로 238\n",
      "실패\n",
      "전체 댓글  : 136\n",
      "저장된 댓글 : 135\n",
      "DB 업로드 댓글 : 1949\n",
      "■ 대구시티병원 대구 북구 동북로 270\n",
      "전체 댓글  : 119\n",
      "저장된 댓글 : 118\n",
      "DB 업로드 댓글 : 2067\n"
     ]
    }
   ],
   "source": [
    "# 한 병원 url이 한 사이클\n",
    "cnt_total_db = 0\n",
    "\n",
    "for url in df_hospital['url']:\n",
    "    # List생성, Column명 지정\n",
    "    reviews_list = []\n",
    "    columns_name = ['hospital', 'address', 'name', 'content', 'date', 'visits']\n",
    "    \n",
    "    # 네이버플레이스 사이트 접속\n",
    "    browser.get(url)\n",
    "    browser.implicitly_wait(3)\n",
    "    hospital = browser.find_element_by_css_selector('#_title > span.Fc1rA').text # 병원명\n",
    "    address = browser.find_element_by_css_selector('div > div > a > span.LDgIH').text # 주소\n",
    "    print(\"■\", hospital, address) # 병원명, 주소 출력\n",
    "    \n",
    "    # 리뷰탭 클릭\n",
    "    browser.find_element_by_css_selector('div.place_fixed_maintab > div > div > div > div > a:nth-child(2) > span').click()\n",
    "    time.sleep(2)\n",
    "    # 전체 더보기 버튼 클릭\n",
    "    while True:\n",
    "        try:\n",
    "            element = WebDriverWait(browser, 10).until(\n",
    "                EC.presence_of_element_located((By.CSS_SELECTOR, 'div > div > div > div.lfH3O > a'))\n",
    "            )\n",
    "            element.click()\n",
    "            time.sleep(1)\n",
    "        except:\n",
    "            try:\n",
    "                element = WebDriverWait(browser, 10).until(\n",
    "                    EC.presence_of_element_located((By.CSS_SELECTOR, 'div > div > div > div.lfH3O > a'))\n",
    "                )\n",
    "                element.click()\n",
    "                time.sleep(1)\n",
    "            except:\n",
    "                break\n",
    "\n",
    "                \n",
    "\n",
    "#    # 리뷰 더보기 버튼 개수 찾기 (화면 크기에 따라 달라짐)\n",
    "#    see_more_buttons = browser.find_elements_by_css_selector('div.place_section_content > ul > li > div > a > span.rvCSr')\n",
    "#    print(\"긴 댓글    :\", len(see_more_buttons))\n",
    "#    # 리뷰 더보기 클릭\n",
    "#    for num_see_more in range(len(see_more_buttons)): \n",
    "#        time.sleep(1)\n",
    "#        see_more_path = see_more_buttons[num_see_more]\n",
    "#        see_more_path.click()\n",
    "        \n",
    "    # reviews_bundle : 전체 리뷰 (리뷰박스) 가져오기\n",
    "    reviews_bundle = browser.find_elements_by_css_selector('div:nth-child(7) > div:nth-child(3) > div > div > ul > li')\n",
    "\n",
    "    browser.find_element_by_css_selector('body').send_keys(Keys.HOME)\n",
    "    time.sleep(1)\n",
    "\n",
    "    for click_review, review in enumerate(reviews_bundle):\n",
    "        try:\n",
    "            click_review_path = browser.find_element_by_css_selector('div > ul > li:nth-child({}) > div.ZZ4OK > a > span'.format(click_review+1))\n",
    "            click_review_path.click()\n",
    "        except:\n",
    "            try:\n",
    "                time.sleep(1)\n",
    "                click_review_path.click()\n",
    "            except:\n",
    "                print(\"실패\")\n",
    "                pass\n",
    "    # 클릭한 리뷰로 다시 저장\n",
    "    reviews_bundle = browser.find_elements_by_css_selector('div:nth-child(7) > div > div > div > ul > li')\n",
    "    \n",
    "    # 리뷰박스에서 작성자명, 리뷰내용, 날짜, 방문횟수 수집 # 리스트에 추가\n",
    "    cnt = 0 # 리뷰 저장 개수 카운트\n",
    "    for review in reviews_bundle:\n",
    "        try :\n",
    "            content = review.find_element_by_css_selector('div.place_section_content > ul > li > div.ZZ4OK > a').text\n",
    "            name = review.find_element_by_css_selector('div > ul > li > div > a > div.VYGLG').text \n",
    "            date = review.find_element_by_css_selector('li > div > div > div > span:nth-child(1) > span:nth-child(3)').text\n",
    "            visits = review.find_element_by_css_selector('li > div > div > div > span:nth-child(2)').text\n",
    "            full_review = [hospital, address, name, content, date, visits]\n",
    "            reviews_list.append(full_review)\n",
    "            cnt += 1\n",
    "        except : # 댓글 내용이 없고 사진만 있을 경우 제외 \n",
    "            pass\n",
    "        \n",
    "    # reviews_list를 Mongodb에 추가     \n",
    "    df_reviews = pd.DataFrame(data=reviews_list, columns=columns_name)\n",
    "    data_dict = df_reviews.to_dict(orient='records')\n",
    "    collection.insert_many(data_dict)        \n",
    "    \n",
    "    print(\"전체 댓글  :\", len(reviews_bundle))\n",
    "    print(\"저장된 댓글 :\", cnt)  \n",
    "    cnt_total_db += cnt\n",
    "    print(\"DB 업로드 댓글 :\", cnt_total_db)      \n",
    "\n",
    "browser.quit()\n"
   ]
  },
  {
   "cell_type": "code",
   "execution_count": 7,
   "id": "22e56e96-faa9-4548-a337-ecde20d66abb",
   "metadata": {
    "tags": []
   },
   "outputs": [],
   "source": [
    "cursor = collection.find({})\n",
    "list_cursors = list(cursor)"
   ]
  },
  {
   "cell_type": "code",
   "execution_count": 8,
   "id": "62f5a9a5-70bf-40d1-9a34-76aaf71e14c7",
   "metadata": {
    "tags": []
   },
   "outputs": [],
   "source": [
    "df_total = pd.DataFrame(list_cursors)"
   ]
  },
  {
   "cell_type": "code",
   "execution_count": 9,
   "id": "b905e2be-f419-4295-98cf-4d344ff6bfa1",
   "metadata": {
    "tags": []
   },
   "outputs": [
    {
     "data": {
      "text/html": [
       "<div>\n",
       "<style scoped>\n",
       "    .dataframe tbody tr th:only-of-type {\n",
       "        vertical-align: middle;\n",
       "    }\n",
       "\n",
       "    .dataframe tbody tr th {\n",
       "        vertical-align: top;\n",
       "    }\n",
       "\n",
       "    .dataframe thead th {\n",
       "        text-align: right;\n",
       "    }\n",
       "</style>\n",
       "<table border=\"1\" class=\"dataframe\">\n",
       "  <thead>\n",
       "    <tr style=\"text-align: right;\">\n",
       "      <th></th>\n",
       "      <th>_id</th>\n",
       "      <th>hospital</th>\n",
       "      <th>address</th>\n",
       "      <th>name</th>\n",
       "      <th>content</th>\n",
       "      <th>date</th>\n",
       "      <th>visits</th>\n",
       "    </tr>\n",
       "  </thead>\n",
       "  <tbody>\n",
       "    <tr>\n",
       "      <th>0</th>\n",
       "      <td>6503f9cf15803af914b2b3f2</td>\n",
       "      <td>서울바른병원</td>\n",
       "      <td>서울 영등포구 여의대방로 145</td>\n",
       "      <td>oyu****</td>\n",
       "      <td>입구부터 느껴지는 청결함과, 친절한 분위기! 웃으며 인사해주신 직원분께 감사</td>\n",
       "      <td>2023년 9월 14일 목요일</td>\n",
       "      <td>1번째 방문</td>\n",
       "    </tr>\n",
       "    <tr>\n",
       "      <th>1</th>\n",
       "      <td>6503f9cf15803af914b2b3f3</td>\n",
       "      <td>서울바른병원</td>\n",
       "      <td>서울 영등포구 여의대방로 145</td>\n",
       "      <td>o0p****</td>\n",
       "      <td>설명 쉽게 쉽게 잘해주시고 꼼꼼함 면에서도 상당히 만족스러워요</td>\n",
       "      <td>2023년 9월 13일 수요일</td>\n",
       "      <td>1번째 방문</td>\n",
       "    </tr>\n",
       "    <tr>\n",
       "      <th>2</th>\n",
       "      <td>6503f9cf15803af914b2b3f4</td>\n",
       "      <td>서울바른병원</td>\n",
       "      <td>서울 영등포구 여의대방로 145</td>\n",
       "      <td>asy****</td>\n",
       "      <td>다른데 안가고 여기서 치료 받길 잘했어요, 상담부터 편하게해주셔서 감사해요</td>\n",
       "      <td>2023년 9월 12일 화요일</td>\n",
       "      <td>1번째 방문</td>\n",
       "    </tr>\n",
       "  </tbody>\n",
       "</table>\n",
       "</div>"
      ],
      "text/plain": [
       "                        _id hospital            address     name  \\\n",
       "0  6503f9cf15803af914b2b3f2   서울바른병원  서울 영등포구 여의대방로 145  oyu****   \n",
       "1  6503f9cf15803af914b2b3f3   서울바른병원  서울 영등포구 여의대방로 145  o0p****   \n",
       "2  6503f9cf15803af914b2b3f4   서울바른병원  서울 영등포구 여의대방로 145  asy****   \n",
       "\n",
       "                                      content              date  visits  \n",
       "0  입구부터 느껴지는 청결함과, 친절한 분위기! 웃으며 인사해주신 직원분께 감사  2023년 9월 14일 목요일  1번째 방문  \n",
       "1          설명 쉽게 쉽게 잘해주시고 꼼꼼함 면에서도 상당히 만족스러워요  2023년 9월 13일 수요일  1번째 방문  \n",
       "2   다른데 안가고 여기서 치료 받길 잘했어요, 상담부터 편하게해주셔서 감사해요  2023년 9월 12일 화요일  1번째 방문  "
      ]
     },
     "execution_count": 9,
     "metadata": {},
     "output_type": "execute_result"
    }
   ],
   "source": [
    "df_total[:3]"
   ]
  },
  {
   "cell_type": "code",
   "execution_count": 10,
   "id": "8649813c-d4e3-4154-a13f-0624b70c8aec",
   "metadata": {
    "tags": []
   },
   "outputs": [
    {
     "data": {
      "text/html": [
       "<div>\n",
       "<style scoped>\n",
       "    .dataframe tbody tr th:only-of-type {\n",
       "        vertical-align: middle;\n",
       "    }\n",
       "\n",
       "    .dataframe tbody tr th {\n",
       "        vertical-align: top;\n",
       "    }\n",
       "\n",
       "    .dataframe thead th {\n",
       "        text-align: right;\n",
       "    }\n",
       "</style>\n",
       "<table border=\"1\" class=\"dataframe\">\n",
       "  <thead>\n",
       "    <tr style=\"text-align: right;\">\n",
       "      <th></th>\n",
       "      <th>hospital</th>\n",
       "      <th>address</th>\n",
       "      <th>name</th>\n",
       "      <th>content</th>\n",
       "      <th>date</th>\n",
       "      <th>visits</th>\n",
       "    </tr>\n",
       "  </thead>\n",
       "  <tbody>\n",
       "    <tr>\n",
       "      <th>0</th>\n",
       "      <td>서울바른병원</td>\n",
       "      <td>서울 영등포구 여의대방로 145</td>\n",
       "      <td>oyu****</td>\n",
       "      <td>입구부터 느껴지는 청결함과, 친절한 분위기! 웃으며 인사해주신 직원분께 감사</td>\n",
       "      <td>2023년 9월 14일 목요일</td>\n",
       "      <td>1번째 방문</td>\n",
       "    </tr>\n",
       "    <tr>\n",
       "      <th>1</th>\n",
       "      <td>서울바른병원</td>\n",
       "      <td>서울 영등포구 여의대방로 145</td>\n",
       "      <td>o0p****</td>\n",
       "      <td>설명 쉽게 쉽게 잘해주시고 꼼꼼함 면에서도 상당히 만족스러워요</td>\n",
       "      <td>2023년 9월 13일 수요일</td>\n",
       "      <td>1번째 방문</td>\n",
       "    </tr>\n",
       "    <tr>\n",
       "      <th>2</th>\n",
       "      <td>서울바른병원</td>\n",
       "      <td>서울 영등포구 여의대방로 145</td>\n",
       "      <td>asy****</td>\n",
       "      <td>다른데 안가고 여기서 치료 받길 잘했어요, 상담부터 편하게해주셔서 감사해요</td>\n",
       "      <td>2023년 9월 12일 화요일</td>\n",
       "      <td>1번째 방문</td>\n",
       "    </tr>\n",
       "  </tbody>\n",
       "</table>\n",
       "</div>"
      ],
      "text/plain": [
       "  hospital            address     name  \\\n",
       "0   서울바른병원  서울 영등포구 여의대방로 145  oyu****   \n",
       "1   서울바른병원  서울 영등포구 여의대방로 145  o0p****   \n",
       "2   서울바른병원  서울 영등포구 여의대방로 145  asy****   \n",
       "\n",
       "                                      content              date  visits  \n",
       "0  입구부터 느껴지는 청결함과, 친절한 분위기! 웃으며 인사해주신 직원분께 감사  2023년 9월 14일 목요일  1번째 방문  \n",
       "1          설명 쉽게 쉽게 잘해주시고 꼼꼼함 면에서도 상당히 만족스러워요  2023년 9월 13일 수요일  1번째 방문  \n",
       "2   다른데 안가고 여기서 치료 받길 잘했어요, 상담부터 편하게해주셔서 감사해요  2023년 9월 12일 화요일  1번째 방문  "
      ]
     },
     "execution_count": 10,
     "metadata": {},
     "output_type": "execute_result"
    }
   ],
   "source": [
    "df_drop_id = df_total.drop('_id', axis=1)\n",
    "df_drop_id[:3]"
   ]
  },
  {
   "cell_type": "code",
   "execution_count": 12,
   "id": "6d1f9b63-ea40-4a9e-8a6e-380c9c534f2a",
   "metadata": {
    "tags": []
   },
   "outputs": [
    {
     "name": "stdout",
     "output_type": "stream",
     "text": [
      "<class 'pandas.core.frame.DataFrame'>\n",
      "RangeIndex: 15672 entries, 0 to 15671\n",
      "Data columns (total 6 columns):\n",
      " #   Column    Non-Null Count  Dtype \n",
      "---  ------    --------------  ----- \n",
      " 0   hospital  15672 non-null  object\n",
      " 1   address   15672 non-null  object\n",
      " 2   name      15672 non-null  object\n",
      " 3   content   15672 non-null  object\n",
      " 4   date      15672 non-null  object\n",
      " 5   visits    15672 non-null  object\n",
      "dtypes: object(6)\n",
      "memory usage: 734.8+ KB\n"
     ]
    }
   ],
   "source": [
    "df_drop_id.info()"
   ]
  },
  {
   "cell_type": "code",
   "execution_count": 11,
   "id": "40e6790f-0d66-49c5-afbc-f9b918f3738d",
   "metadata": {
    "tags": []
   },
   "outputs": [
    {
     "name": "stdout",
     "output_type": "stream",
     "text": [
      "<class 'pandas.core.frame.DataFrame'>\n",
      "Int64Index: 14102 entries, 0 to 15671\n",
      "Data columns (total 6 columns):\n",
      " #   Column    Non-Null Count  Dtype \n",
      "---  ------    --------------  ----- \n",
      " 0   hospital  14102 non-null  object\n",
      " 1   address   14102 non-null  object\n",
      " 2   name      14102 non-null  object\n",
      " 3   content   14102 non-null  object\n",
      " 4   date      14102 non-null  object\n",
      " 5   visits    14102 non-null  object\n",
      "dtypes: object(6)\n",
      "memory usage: 771.2+ KB\n"
     ]
    }
   ],
   "source": [
    "df_drop_dup = df_drop_id.drop_duplicates()\n",
    "df_drop_dup.info()"
   ]
  },
  {
   "cell_type": "code",
   "execution_count": 13,
   "id": "9d3c66af-9a05-48a2-bf79-644ae04a5996",
   "metadata": {
    "tags": []
   },
   "outputs": [],
   "source": [
    "df_drop_dup.to_csv('./JungMoonChoi.csv')"
   ]
  },
  {
   "cell_type": "code",
   "execution_count": 6,
   "id": "a619cc74-8a46-4bc2-92de-89a2ce998b29",
   "metadata": {
    "tags": []
   },
   "outputs": [],
   "source": [
    "# {\"content\": {\"$regex\": \"수술\"}}\n",
    "# {\"hospital\": {\"$regex\": \"연세백퍼센트병원\"}}\n",
    "# {\"name\": {\"$regex\": \"동동\"}}"
   ]
  }
 ],
 "metadata": {
  "kernelspec": {
   "display_name": "Python 3 (ipykernel)",
   "language": "python",
   "name": "python3"
  },
  "language_info": {
   "codemirror_mode": {
    "name": "ipython",
    "version": 3
   },
   "file_extension": ".py",
   "mimetype": "text/x-python",
   "name": "python",
   "nbconvert_exporter": "python",
   "pygments_lexer": "ipython3",
   "version": "3.11.3"
  }
 },
 "nbformat": 4,
 "nbformat_minor": 5
}
