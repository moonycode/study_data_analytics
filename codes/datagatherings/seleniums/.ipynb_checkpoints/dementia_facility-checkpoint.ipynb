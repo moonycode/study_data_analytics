{
 "cells": [
  {
   "cell_type": "markdown",
   "id": "5837ca9b-766a-4162-b3c2-8ccac266c43b",
   "metadata": {},
   "source": [
    "### 중앙치매센터 치매시설정보 크롤링\n",
    "- https://www.nid.or.kr/info/facility_list.aspx"
   ]
  },
  {
   "cell_type": "code",
   "execution_count": 1,
   "id": "b7f07007-db15-490b-b9bd-44b19d20263a",
   "metadata": {
    "tags": []
   },
   "outputs": [],
   "source": [
    "from selenium import webdriver\n",
    "from selenium.webdriver.common.keys import Keys\n",
    "from selenium.webdriver.common.by import By\n",
    "from selenium.webdriver.support.ui import WebDriverWait\n",
    "from selenium.webdriver.support import expected_conditions as EC\n",
    "import time\n",
    "import pandas as pd\n",
    "import pymongo as mg\n",
    "import traceback"
   ]
  },
  {
   "cell_type": "code",
   "execution_count": 2,
   "id": "18abe01f-a20d-4f5d-9fb5-967e2ac57381",
   "metadata": {},
   "outputs": [],
   "source": [
    "client = mg.MongoClient(host='mongodb://localhost:27017')\n",
    "database = client['facility_infos']\n",
    "collection = database['dementia']"
   ]
  },
  {
   "cell_type": "code",
   "execution_count": 16,
   "id": "1df2e3bf-d642-411c-ac8f-f1ab426ebc3b",
   "metadata": {
    "tags": []
   },
   "outputs": [],
   "source": [
    "# open chrome browser\n",
    "browser = webdriver.Chrome(executable_path='../../../../chromedriver.exe')"
   ]
  },
  {
   "cell_type": "code",
   "execution_count": 17,
   "id": "fa4cfa3b-9ad7-4c22-8fd7-e5efac4915a7",
   "metadata": {
    "tags": []
   },
   "outputs": [],
   "source": [
    "url = 'https://www.nid.or.kr/info/facility_list.aspx'\n",
    "browser.get(url)\n",
    "browser.implicitly_wait(3)"
   ]
  },
  {
   "cell_type": "markdown",
   "id": "82251f84-c3d7-4a8e-9775-6bd44d1097fd",
   "metadata": {},
   "source": [
    "### Tags\n",
    "['시설명', '주소', '시설분류정보', '전화번호', '홈페이지']<br>\n",
    "['name', 'address', 'category', 'number', 'website']<br>\n",
    "['시설명', '주소', '위도', '경도', '대분류', '중분류', '소분류', '전화번호', '홈페이지']<br>\n",
    "['name', 'address', 'latitude', 'longitude', 'main_category', 'sub_category', 'sub_category_2', 'number', 'website']\n",
    "- 상세 버튼 : #dev_tbody > tr:nth-child({1~10, 마지막페이지 8}) > td:nth-child(4) > a\n",
    "- 상세 버튼 목록 : #dev_tbody > tr > td:nth-child(4) > a\n",
    "- 닫기 버튼 : div > div.popTitle > a\n",
    "\n",
    "- 페이지 버튼 목록 : #div_paging > div > ol > li > a\n",
    "- 페이지 버튼 : #div_paging > div > ol > li:nth-child({1~10}, 마지막 1) > a\n",
    "- 다음 페이지 목록 : xpath : //*[@id=\"div_paging\"]/div/a/img[@alt=\"다음\"]\n",
    "- 시설명 : div.list_tbl_01.fix > table > tbody > tr:nth-child(1) > td:nth-child(2)\n",
    "- 주소 : div.list_tbl_01.fix > table > tbody > tr:nth-child(2) > td\n",
    "- 시설분류정보 : div.list_info > div.dx_fa_div > ul > li\n",
    "- 전화번호 : div.list_tbl_01.fix > table > tbody > tr:nth-child(1) > td:nth-child(4)\n",
    "- 홈페이지 : div.list_tbl_01.fix > table > tbody > tr:nth-child(3) > td\n"
   ]
  },
  {
   "cell_type": "code",
   "execution_count": 18,
   "id": "e9b0b9e4-b796-4d54-9690-52a0f1ecdaf1",
   "metadata": {
    "tags": []
   },
   "outputs": [],
   "source": [
    "facility_list = []\n",
    "columns_name = ['name', 'address', 'category', 'number', 'website']\n",
    "\n",
    "# 페이지 버튼 목록 가져오기\n",
    "while True : \n",
    "    page_list = browser.find_elements_by_css_selector('#div_paging > div > ol > li > a')\n",
    "\n",
    "    for index, page in enumerate(page_list) :\n",
    "        detail_btns = browser.find_elements_by_css_selector('#dev_tbody > tr > td:nth-child(4) > a')\n",
    "        for idx, btn in enumerate(detail_btns) :\n",
    "\n",
    "            # 상세보기 클릭\n",
    "            element = WebDriverWait(browser, 10).until(EC.presence_of_element_located((By.CSS_SELECTOR, '#dev_tbody > tr:nth-child({}) > td:nth-child(4) > a'.format(idx+1))))\n",
    "            element.click()\n",
    "\n",
    "            browser.switch_to.frame('frameLayer_frame') # 상세페이지로 browser 전환\n",
    "            name = WebDriverWait(browser, 10).until(EC.presence_of_element_located((By.XPATH, '/html/body/div/div[2]/div/div[2]/div[2]/table/tbody/tr[1]/td[1]')))\n",
    "            name = name.text\n",
    "            address = browser.find_element_by_xpath('/html/body/div/div[2]/div/div[2]/div[2]/table/tbody/tr[2]/td').text\n",
    "            category = browser.find_element_by_xpath('/html/body/div/div[2]/div/div[2]/div[1]/ul/li').text\n",
    "            number = browser.find_element_by_xpath('/html/body/div/div[2]/div/div[2]/div[2]/table/tbody/tr[1]/td[2]').text\n",
    "            website = browser.find_element_by_xpath('/html/body/div/div[2]/div/div[2]/div[2]/table/tbody/tr[3]/td').text\n",
    "            facility_info = [name, address, category, number, website]\n",
    "            facility_list.append(facility_info)\n",
    "\n",
    "            # 상세페이지 닫기\n",
    "            close_btn = browser.find_element_by_xpath('/html/body/div/div[1]/a/img[@alt=\"닫기\"]')\n",
    "            browser.execute_script(\"arguments[0].click();\", close_btn)\n",
    "            browser.switch_to.parent_frame()\n",
    "        try: \n",
    "            next_page = browser.find_element_by_css_selector('div > ol > li:nth-child({})'.format(index+2))\n",
    "            next_page.click()\n",
    "        except:\n",
    "            try:\n",
    "                next_btn = browser.find_element_by_xpath('//*[@id=\"div_paging\"]/div/a/img[@alt=\"다음\"]')\n",
    "                next_btn.click()\n",
    "                pass\n",
    "            except Exception as e:\n",
    "                print(f\"에러 발생: {str(e)}\")                                                                                                                                                                                                                                                                                                                                                                                                                                                                                                                                                                                                           \n",
    "                traceback.print_exc() \n",
    "                break\n",
    "    break"
   ]
  },
  {
   "cell_type": "code",
   "execution_count": 6,
   "id": "bd533b00-8d01-4033-8b70-3d0853d22504",
   "metadata": {},
   "outputs": [
    {
     "data": {
      "text/plain": [
       "<pymongo.results.InsertManyResult at 0x1e47fa11200>"
      ]
     },
     "execution_count": 6,
     "metadata": {},
     "output_type": "execute_result"
    }
   ],
   "source": [
    "# DB에 추가\n",
    "df_dementia_facility = pd.DataFrame(data=facility_list, columns=columns_name)\n",
    "data_dict = df_dementia_facility.to_dict(orient='records')\n",
    "collection.insert_many(data_dict)  "
   ]
  },
  {
   "cell_type": "code",
   "execution_count": 7,
   "id": "592e85d2-1012-4599-9d52-761950e7b744",
   "metadata": {},
   "outputs": [],
   "source": [
    "browser.quit()"
   ]
  },
  {
   "cell_type": "code",
   "execution_count": 8,
   "id": "22e56e96-faa9-4548-a337-ecde20d66abb",
   "metadata": {
    "tags": []
   },
   "outputs": [],
   "source": [
    "cursor = collection.find({})\n",
    "list_cursors = list(cursor)"
   ]
  },
  {
   "cell_type": "code",
   "execution_count": 9,
   "id": "62f5a9a5-70bf-40d1-9a34-76aaf71e14c7",
   "metadata": {
    "tags": []
   },
   "outputs": [],
   "source": [
    "df_total = pd.DataFrame(list_cursors)"
   ]
  },
  {
   "cell_type": "code",
   "execution_count": 10,
   "id": "b905e2be-f419-4295-98cf-4d344ff6bfa1",
   "metadata": {
    "tags": []
   },
   "outputs": [
    {
     "data": {
      "text/html": [
       "<div>\n",
       "<style scoped>\n",
       "    .dataframe tbody tr th:only-of-type {\n",
       "        vertical-align: middle;\n",
       "    }\n",
       "\n",
       "    .dataframe tbody tr th {\n",
       "        vertical-align: top;\n",
       "    }\n",
       "\n",
       "    .dataframe thead th {\n",
       "        text-align: right;\n",
       "    }\n",
       "</style>\n",
       "<table border=\"1\" class=\"dataframe\">\n",
       "  <thead>\n",
       "    <tr style=\"text-align: right;\">\n",
       "      <th></th>\n",
       "      <th>_id</th>\n",
       "      <th>name</th>\n",
       "      <th>address</th>\n",
       "      <th>category</th>\n",
       "      <th>number</th>\n",
       "      <th>website</th>\n",
       "    </tr>\n",
       "  </thead>\n",
       "  <tbody>\n",
       "    <tr>\n",
       "      <th>0</th>\n",
       "      <td>650bc4b59b2859d51a979128</td>\n",
       "      <td>포항시 남구 정신건강복지센터</td>\n",
       "      <td>37878 포항시 남구 동해안로 6119</td>\n",
       "      <td>유관기관 &gt; 정신건강복지센터</td>\n",
       "      <td>054-270-4091</td>\n",
       "      <td></td>\n",
       "    </tr>\n",
       "    <tr>\n",
       "      <th>1</th>\n",
       "      <td>650bc4b59b2859d51a979129</td>\n",
       "      <td>포항시 북구 정신건강복지센터</td>\n",
       "      <td>37607 포항시 북구 삼흥로 98 포항시 북구보건소 내</td>\n",
       "      <td>유관기관 &gt; 정신건강복지센터</td>\n",
       "      <td>054-270-4194</td>\n",
       "      <td></td>\n",
       "    </tr>\n",
       "    <tr>\n",
       "      <th>2</th>\n",
       "      <td>650bc4b59b2859d51a97912a</td>\n",
       "      <td>하동군정신건강복지센터</td>\n",
       "      <td>하동군 하동읍 군청로 31 하동군보건소</td>\n",
       "      <td>유관기관 &gt; 정신건강복지센터</td>\n",
       "      <td>880-6647</td>\n",
       "      <td></td>\n",
       "    </tr>\n",
       "  </tbody>\n",
       "</table>\n",
       "</div>"
      ],
      "text/plain": [
       "                        _id             name                          address  \\\n",
       "0  650bc4b59b2859d51a979128  포항시 남구 정신건강복지센터           37878 포항시 남구 동해안로 6119   \n",
       "1  650bc4b59b2859d51a979129  포항시 북구 정신건강복지센터  37607 포항시 북구 삼흥로 98 포항시 북구보건소 내   \n",
       "2  650bc4b59b2859d51a97912a      하동군정신건강복지센터            하동군 하동읍 군청로 31 하동군보건소   \n",
       "\n",
       "          category        number website  \n",
       "0  유관기관 > 정신건강복지센터  054-270-4091          \n",
       "1  유관기관 > 정신건강복지센터  054-270-4194          \n",
       "2  유관기관 > 정신건강복지센터      880-6647          "
      ]
     },
     "execution_count": 10,
     "metadata": {},
     "output_type": "execute_result"
    }
   ],
   "source": [
    "df_total[:3]"
   ]
  },
  {
   "cell_type": "code",
   "execution_count": 11,
   "id": "8649813c-d4e3-4154-a13f-0624b70c8aec",
   "metadata": {
    "tags": []
   },
   "outputs": [
    {
     "data": {
      "text/html": [
       "<div>\n",
       "<style scoped>\n",
       "    .dataframe tbody tr th:only-of-type {\n",
       "        vertical-align: middle;\n",
       "    }\n",
       "\n",
       "    .dataframe tbody tr th {\n",
       "        vertical-align: top;\n",
       "    }\n",
       "\n",
       "    .dataframe thead th {\n",
       "        text-align: right;\n",
       "    }\n",
       "</style>\n",
       "<table border=\"1\" class=\"dataframe\">\n",
       "  <thead>\n",
       "    <tr style=\"text-align: right;\">\n",
       "      <th></th>\n",
       "      <th>name</th>\n",
       "      <th>address</th>\n",
       "      <th>category</th>\n",
       "      <th>number</th>\n",
       "      <th>website</th>\n",
       "    </tr>\n",
       "  </thead>\n",
       "  <tbody>\n",
       "    <tr>\n",
       "      <th>0</th>\n",
       "      <td>포항시 남구 정신건강복지센터</td>\n",
       "      <td>37878 포항시 남구 동해안로 6119</td>\n",
       "      <td>유관기관 &gt; 정신건강복지센터</td>\n",
       "      <td>054-270-4091</td>\n",
       "      <td></td>\n",
       "    </tr>\n",
       "    <tr>\n",
       "      <th>1</th>\n",
       "      <td>포항시 북구 정신건강복지센터</td>\n",
       "      <td>37607 포항시 북구 삼흥로 98 포항시 북구보건소 내</td>\n",
       "      <td>유관기관 &gt; 정신건강복지센터</td>\n",
       "      <td>054-270-4194</td>\n",
       "      <td></td>\n",
       "    </tr>\n",
       "    <tr>\n",
       "      <th>2</th>\n",
       "      <td>하동군정신건강복지센터</td>\n",
       "      <td>하동군 하동읍 군청로 31 하동군보건소</td>\n",
       "      <td>유관기관 &gt; 정신건강복지센터</td>\n",
       "      <td>880-6647</td>\n",
       "      <td></td>\n",
       "    </tr>\n",
       "  </tbody>\n",
       "</table>\n",
       "</div>"
      ],
      "text/plain": [
       "              name                          address         category  \\\n",
       "0  포항시 남구 정신건강복지센터           37878 포항시 남구 동해안로 6119  유관기관 > 정신건강복지센터   \n",
       "1  포항시 북구 정신건강복지센터  37607 포항시 북구 삼흥로 98 포항시 북구보건소 내  유관기관 > 정신건강복지센터   \n",
       "2      하동군정신건강복지센터            하동군 하동읍 군청로 31 하동군보건소  유관기관 > 정신건강복지센터   \n",
       "\n",
       "         number website  \n",
       "0  054-270-4091          \n",
       "1  054-270-4194          \n",
       "2      880-6647          "
      ]
     },
     "execution_count": 11,
     "metadata": {},
     "output_type": "execute_result"
    }
   ],
   "source": [
    "df_drop_id = df_total.drop('_id', axis=1)\n",
    "df_drop_id[:3]"
   ]
  },
  {
   "cell_type": "code",
   "execution_count": 12,
   "id": "6d1f9b63-ea40-4a9e-8a6e-380c9c534f2a",
   "metadata": {
    "tags": []
   },
   "outputs": [
    {
     "name": "stdout",
     "output_type": "stream",
     "text": [
      "<class 'pandas.core.frame.DataFrame'>\n",
      "RangeIndex: 108 entries, 0 to 107\n",
      "Data columns (total 5 columns):\n",
      " #   Column    Non-Null Count  Dtype \n",
      "---  ------    --------------  ----- \n",
      " 0   name      108 non-null    object\n",
      " 1   address   108 non-null    object\n",
      " 2   category  108 non-null    object\n",
      " 3   number    108 non-null    object\n",
      " 4   website   108 non-null    object\n",
      "dtypes: object(5)\n",
      "memory usage: 4.3+ KB\n"
     ]
    }
   ],
   "source": [
    "df_drop_id.info()"
   ]
  },
  {
   "cell_type": "code",
   "execution_count": 13,
   "id": "40e6790f-0d66-49c5-afbc-f9b918f3738d",
   "metadata": {
    "tags": []
   },
   "outputs": [
    {
     "name": "stdout",
     "output_type": "stream",
     "text": [
      "<class 'pandas.core.frame.DataFrame'>\n",
      "Int64Index: 107 entries, 0 to 107\n",
      "Data columns (total 5 columns):\n",
      " #   Column    Non-Null Count  Dtype \n",
      "---  ------    --------------  ----- \n",
      " 0   name      107 non-null    object\n",
      " 1   address   107 non-null    object\n",
      " 2   category  107 non-null    object\n",
      " 3   number    107 non-null    object\n",
      " 4   website   107 non-null    object\n",
      "dtypes: object(5)\n",
      "memory usage: 5.0+ KB\n"
     ]
    }
   ],
   "source": [
    "df_drop_dup = df_drop_id.drop_duplicates()\n",
    "df_drop_dup.info()"
   ]
  },
  {
   "cell_type": "code",
   "execution_count": 14,
   "id": "9d3c66af-9a05-48a2-bf79-644ae04a5996",
   "metadata": {
    "tags": []
   },
   "outputs": [],
   "source": [
    "df_drop_dup.to_csv('./dementia_facility.csv')"
   ]
  },
  {
   "cell_type": "code",
   "execution_count": 15,
   "id": "a619cc74-8a46-4bc2-92de-89a2ce998b29",
   "metadata": {
    "tags": []
   },
   "outputs": [],
   "source": [
    "# {\"content\": {\"$regex\": \"수술\"}}\n",
    "# {\"hospital\": {\"$regex\": \"연세백퍼센트병원\"}}\n",
    "# {\"name\": {\"$regex\": \"동동\"}}"
   ]
  }
 ],
 "metadata": {
  "kernelspec": {
   "display_name": "Python 3 (ipykernel)",
   "language": "python",
   "name": "python3"
  },
  "language_info": {
   "codemirror_mode": {
    "name": "ipython",
    "version": 3
   },
   "file_extension": ".py",
   "mimetype": "text/x-python",
   "name": "python",
   "nbconvert_exporter": "python",
   "pygments_lexer": "ipython3",
   "version": "3.11.3"
  }
 },
 "nbformat": 4,
 "nbformat_minor": 5
}
