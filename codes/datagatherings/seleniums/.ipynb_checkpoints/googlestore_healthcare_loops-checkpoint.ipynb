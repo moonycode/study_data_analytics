{
 "cells": [
  {
   "cell_type": "markdown",
   "id": "ede6679a-b0c3-4725-aca6-53e052601979",
   "metadata": {},
   "source": [
    "# googlestore_healthcare_loops\n",
    "- https://play.google.com/store/search?q=%ED%97%AC%EC%8A%A4%EC%BC%80%EC%96%B4%EC%95%B1&c=apps&hl=ko-KR"
   ]
  },
  {
   "cell_type": "code",
   "execution_count": 1,
   "id": "d23ce813-34fb-4662-8030-4799faa082db",
   "metadata": {
    "tags": []
   },
   "outputs": [],
   "source": [
    "from selenium import webdriver"
   ]
  },
  {
   "cell_type": "code",
   "execution_count": 2,
   "id": "1df2e3bf-d642-411c-ac8f-f1ab426ebc3b",
   "metadata": {
    "tags": []
   },
   "outputs": [],
   "source": [
    "# open chrome browser\n",
    "browser = webdriver.Chrome(executable_path='../../../../chromedriver.exe')"
   ]
  },
  {
   "cell_type": "code",
   "execution_count": 3,
   "id": "e9b0b9e4-b796-4d54-9690-52a0f1ecdaf1",
   "metadata": {
    "tags": []
   },
   "outputs": [],
   "source": [
    "# url 입력\n",
    "browser.get('https://play.google.com/store/search?q=%ED%97%AC%EC%8A%A4%EC%BC%80%EC%96%B4%EC%95%B1&c=apps&hl=ko-KR')"
   ]
  },
  {
   "cell_type": "code",
   "execution_count": 4,
   "id": "90d1da3d-fe8f-4d0b-9441-79faaafd481b",
   "metadata": {
    "tags": []
   },
   "outputs": [],
   "source": [
    "browser.implicitly_wait(10)"
   ]
  },
  {
   "cell_type": "markdown",
   "id": "fed15147-9711-458c-9f68-0e18cbacb4a5",
   "metadata": {},
   "source": [
    "### 제품 클릭\n",
    "- section > div > div > div > div:nth-child(2) > div > div > div\n",
    "### 제품 정보\n",
    "- 서비스명 tag : div > h1> span\n",
    "- 회사명 tag : div.Il7kR > div > div > div > a > span\n",
    "- 앱정보 tag : div.qZmL0 > div:nth-child(1) > c-wiz:nth-child(2) > div > section > div > div.bARER"
   ]
  },
  {
   "cell_type": "code",
   "execution_count": 7,
   "id": "55dd21eb-c42a-45f5-8328-6815a260ba80",
   "metadata": {
    "tags": []
   },
   "outputs": [
    {
     "data": {
      "text/plain": [
       "30"
      ]
     },
     "execution_count": 7,
     "metadata": {},
     "output_type": "execute_result"
    }
   ],
   "source": [
    "click_path = 'section > div > div > div > div'\n",
    "app_list = browser.find_elements_by_css_selector(click_path)\n",
    "len(app_list)"
   ]
  },
  {
   "cell_type": "code",
   "execution_count": 6,
   "id": "3197f662-9b90-44da-b98c-695ddb4136e4",
   "metadata": {
    "tags": []
   },
   "outputs": [
    {
     "ename": "NoSuchElementException",
     "evalue": "Message: no such element: Unable to locate element: {\"method\":\"css selector\",\"selector\":\"div > h1> span\"}\n  (Session info: chrome=116.0.5845.141)\n",
     "output_type": "error",
     "traceback": [
      "\u001b[1;31m---------------------------------------------------------------------------\u001b[0m",
      "\u001b[1;31mNoSuchElementException\u001b[0m                    Traceback (most recent call last)",
      "Cell \u001b[1;32mIn[6], line 1\u001b[0m\n\u001b[1;32m----> 1\u001b[0m service_name \u001b[38;5;241m=\u001b[39m browser\u001b[38;5;241m.\u001b[39mfind_element_by_css_selector(\u001b[38;5;124m'\u001b[39m\u001b[38;5;124mdiv > h1> span\u001b[39m\u001b[38;5;124m'\u001b[39m)\u001b[38;5;241m.\u001b[39mtext\n\u001b[0;32m      2\u001b[0m company_name \u001b[38;5;241m=\u001b[39m browser\u001b[38;5;241m.\u001b[39mfind_element_by_css_selector(\u001b[38;5;124m'\u001b[39m\u001b[38;5;124mdiv.Il7kR > div > div > div > a > span\u001b[39m\u001b[38;5;124m'\u001b[39m)\u001b[38;5;241m.\u001b[39mtext\n\u001b[0;32m      3\u001b[0m app_info \u001b[38;5;241m=\u001b[39m browser\u001b[38;5;241m.\u001b[39mfind_element_by_css_selector(\u001b[38;5;124m'\u001b[39m\u001b[38;5;124mdiv.qZmL0 > div:nth-child(1) > c-wiz:nth-child(2) > div > section > div > div.bARER\u001b[39m\u001b[38;5;124m'\u001b[39m)\u001b[38;5;241m.\u001b[39mtext\n",
      "File \u001b[1;32m~\\anaconda3\\Lib\\site-packages\\selenium\\webdriver\\remote\\webdriver.py:598\u001b[0m, in \u001b[0;36mWebDriver.find_element_by_css_selector\u001b[1;34m(self, css_selector)\u001b[0m\n\u001b[0;32m    582\u001b[0m \u001b[38;5;28;01mdef\u001b[39;00m \u001b[38;5;21mfind_element_by_css_selector\u001b[39m(\u001b[38;5;28mself\u001b[39m, css_selector):\n\u001b[0;32m    583\u001b[0m \u001b[38;5;250m    \u001b[39m\u001b[38;5;124;03m\"\"\"\u001b[39;00m\n\u001b[0;32m    584\u001b[0m \u001b[38;5;124;03m    Finds an element by css selector.\u001b[39;00m\n\u001b[0;32m    585\u001b[0m \n\u001b[1;32m   (...)\u001b[0m\n\u001b[0;32m    596\u001b[0m \u001b[38;5;124;03m        element = driver.find_element_by_css_selector('#foo')\u001b[39;00m\n\u001b[0;32m    597\u001b[0m \u001b[38;5;124;03m    \"\"\"\u001b[39;00m\n\u001b[1;32m--> 598\u001b[0m     \u001b[38;5;28;01mreturn\u001b[39;00m \u001b[38;5;28mself\u001b[39m\u001b[38;5;241m.\u001b[39mfind_element(by\u001b[38;5;241m=\u001b[39mBy\u001b[38;5;241m.\u001b[39mCSS_SELECTOR, value\u001b[38;5;241m=\u001b[39mcss_selector)\n",
      "File \u001b[1;32m~\\anaconda3\\Lib\\site-packages\\selenium\\webdriver\\remote\\webdriver.py:976\u001b[0m, in \u001b[0;36mWebDriver.find_element\u001b[1;34m(self, by, value)\u001b[0m\n\u001b[0;32m    974\u001b[0m         by \u001b[38;5;241m=\u001b[39m By\u001b[38;5;241m.\u001b[39mCSS_SELECTOR\n\u001b[0;32m    975\u001b[0m         value \u001b[38;5;241m=\u001b[39m \u001b[38;5;124m'\u001b[39m\u001b[38;5;124m[name=\u001b[39m\u001b[38;5;124m\"\u001b[39m\u001b[38;5;132;01m%s\u001b[39;00m\u001b[38;5;124m\"\u001b[39m\u001b[38;5;124m]\u001b[39m\u001b[38;5;124m'\u001b[39m \u001b[38;5;241m%\u001b[39m value\n\u001b[1;32m--> 976\u001b[0m \u001b[38;5;28;01mreturn\u001b[39;00m \u001b[38;5;28mself\u001b[39m\u001b[38;5;241m.\u001b[39mexecute(Command\u001b[38;5;241m.\u001b[39mFIND_ELEMENT, {\n\u001b[0;32m    977\u001b[0m     \u001b[38;5;124m'\u001b[39m\u001b[38;5;124musing\u001b[39m\u001b[38;5;124m'\u001b[39m: by,\n\u001b[0;32m    978\u001b[0m     \u001b[38;5;124m'\u001b[39m\u001b[38;5;124mvalue\u001b[39m\u001b[38;5;124m'\u001b[39m: value})[\u001b[38;5;124m'\u001b[39m\u001b[38;5;124mvalue\u001b[39m\u001b[38;5;124m'\u001b[39m]\n",
      "File \u001b[1;32m~\\anaconda3\\Lib\\site-packages\\selenium\\webdriver\\remote\\webdriver.py:321\u001b[0m, in \u001b[0;36mWebDriver.execute\u001b[1;34m(self, driver_command, params)\u001b[0m\n\u001b[0;32m    319\u001b[0m response \u001b[38;5;241m=\u001b[39m \u001b[38;5;28mself\u001b[39m\u001b[38;5;241m.\u001b[39mcommand_executor\u001b[38;5;241m.\u001b[39mexecute(driver_command, params)\n\u001b[0;32m    320\u001b[0m \u001b[38;5;28;01mif\u001b[39;00m response:\n\u001b[1;32m--> 321\u001b[0m     \u001b[38;5;28mself\u001b[39m\u001b[38;5;241m.\u001b[39merror_handler\u001b[38;5;241m.\u001b[39mcheck_response(response)\n\u001b[0;32m    322\u001b[0m     response[\u001b[38;5;124m'\u001b[39m\u001b[38;5;124mvalue\u001b[39m\u001b[38;5;124m'\u001b[39m] \u001b[38;5;241m=\u001b[39m \u001b[38;5;28mself\u001b[39m\u001b[38;5;241m.\u001b[39m_unwrap_value(\n\u001b[0;32m    323\u001b[0m         response\u001b[38;5;241m.\u001b[39mget(\u001b[38;5;124m'\u001b[39m\u001b[38;5;124mvalue\u001b[39m\u001b[38;5;124m'\u001b[39m, \u001b[38;5;28;01mNone\u001b[39;00m))\n\u001b[0;32m    324\u001b[0m     \u001b[38;5;28;01mreturn\u001b[39;00m response\n",
      "File \u001b[1;32m~\\anaconda3\\Lib\\site-packages\\selenium\\webdriver\\remote\\errorhandler.py:242\u001b[0m, in \u001b[0;36mErrorHandler.check_response\u001b[1;34m(self, response)\u001b[0m\n\u001b[0;32m    240\u001b[0m         alert_text \u001b[38;5;241m=\u001b[39m value[\u001b[38;5;124m'\u001b[39m\u001b[38;5;124malert\u001b[39m\u001b[38;5;124m'\u001b[39m]\u001b[38;5;241m.\u001b[39mget(\u001b[38;5;124m'\u001b[39m\u001b[38;5;124mtext\u001b[39m\u001b[38;5;124m'\u001b[39m)\n\u001b[0;32m    241\u001b[0m     \u001b[38;5;28;01mraise\u001b[39;00m exception_class(message, screen, stacktrace, alert_text)\n\u001b[1;32m--> 242\u001b[0m \u001b[38;5;28;01mraise\u001b[39;00m exception_class(message, screen, stacktrace)\n",
      "\u001b[1;31mNoSuchElementException\u001b[0m: Message: no such element: Unable to locate element: {\"method\":\"css selector\",\"selector\":\"div > h1> span\"}\n  (Session info: chrome=116.0.5845.141)\n"
     ]
    }
   ],
   "source": [
    "service_name = browser.find_element_by_css_selector('div > h1> span').text\n",
    "company_name = browser.find_element_by_css_selector('div.Il7kR > div > div > div > a > span').text\n",
    "app_info = browser.find_element_by_css_selector('div.qZmL0 > div:nth-child(1) > c-wiz:nth-child(2) > div > section > div > div.bARER').text\n",
    "\n",
    "[service_name,company_name,app_info]"
   ]
  },
  {
   "cell_type": "markdown",
   "id": "83665b9b-fd69-45ab-8838-715c8eb1c818",
   "metadata": {},
   "source": [
    "### 리뷰 모두 보기 클릭\n",
    "- div.Jwxk6d > div:nth-child(5) > div > div > button > span\n",
    "\n",
    "### 리뷰 내용 가져오기\n",
    "- 리뷰 전체 범위 : div.fysCi > div > div:nth-child(2) > div\n",
    "- 리뷰 내용 : div.h3YV2d\n",
    "- 리뷰 날짜 : header > div.Jx4nYe > span\n",
    "- 별점 이미지 : header > div.Jx4nYe > div"
   ]
  },
  {
   "cell_type": "code",
   "execution_count": null,
   "id": "ece92bec-e6f0-4bab-8c4e-25162b342dd0",
   "metadata": {
    "tags": []
   },
   "outputs": [],
   "source": [
    "import time\n",
    "time.sleep(2)"
   ]
  },
  {
   "cell_type": "code",
   "execution_count": null,
   "id": "8ae46739-1b41-4443-92e1-d861668e7d8b",
   "metadata": {
    "tags": []
   },
   "outputs": [],
   "source": [
    "browser.find_element_by_xpath('//*/div/div/button/*[contains(text(), \"리뷰 모두 보기\")]').click()"
   ]
  },
  {
   "cell_type": "code",
   "execution_count": null,
   "id": "b39b4e1a-0de9-4337-9e6c-e4b125c9aaad",
   "metadata": {
    "tags": []
   },
   "outputs": [],
   "source": [
    "# click_path = 'div:nth-child(5) > div > div > button > span'\n",
    "# browser.find_element_by_css_selector(click_path).click()"
   ]
  },
  {
   "cell_type": "code",
   "execution_count": null,
   "id": "02d48917-e3fe-4705-8814-8bebd8f0430c",
   "metadata": {
    "tags": []
   },
   "outputs": [],
   "source": [
    "reviews_bundle = browser.find_elements_by_css_selector('div.fysCi > div > div:nth-child(2) > div')\n",
    "len(reviews_bundle)"
   ]
  },
  {
   "cell_type": "markdown",
   "id": "1056ae35-1765-4e20-b743-cdca23e3e38c",
   "metadata": {},
   "source": [
    "### 한 서비스에 대한 전체 리뷰 가져오기 "
   ]
  },
  {
   "cell_type": "code",
   "execution_count": null,
   "id": "ca75d991-8282-4cf3-a28a-14155ff46aea",
   "metadata": {
    "tags": []
   },
   "outputs": [],
   "source": [
    "reviews_bundle_list = []\n",
    "for review in reviews_bundle:\n",
    "    content = review.find_element_by_css_selector('div.h3YV2d').text\n",
    "    date = review.find_element_by_css_selector('header > div.Jx4nYe > span').text\n",
    "    stars = review.find_element_by_css_selector('header > div.Jx4nYe > div').get_attribute('aria-label')\n",
    "    review_list = [content, date, stars]\n",
    "    reviews_bundle_list.append(review_list)\n",
    "reviews_bundle_list[0:10]"
   ]
  },
  {
   "cell_type": "code",
   "execution_count": null,
   "id": "4038047d-9c05-4869-9003-280a44ec087c",
   "metadata": {},
   "outputs": [],
   "source": [
    "browser.back() # 팝업닫기\n",
    "browser.back() # 앱목록으로 돌아가기"
   ]
  },
  {
   "cell_type": "code",
   "execution_count": null,
   "id": "9cada7e0-27ed-486b-9a57-5128fb1455d8",
   "metadata": {
    "tags": []
   },
   "outputs": [],
   "source": [
    "# browser.quit()    \n"
   ]
  },
  {
   "cell_type": "code",
   "execution_count": null,
   "id": "66e7a47b-b37d-4dc3-82e5-ec440e557a7d",
   "metadata": {
    "tags": []
   },
   "outputs": [],
   "source": []
  },
  {
   "cell_type": "code",
   "execution_count": null,
   "id": "9ee65d00-2be1-44e1-9081-68d5fda47ed6",
   "metadata": {},
   "outputs": [],
   "source": []
  }
 ],
 "metadata": {
  "kernelspec": {
   "display_name": "Python 3 (ipykernel)",
   "language": "python",
   "name": "python3"
  },
  "language_info": {
   "codemirror_mode": {
    "name": "ipython",
    "version": 3
   },
   "file_extension": ".py",
   "mimetype": "text/x-python",
   "name": "python",
   "nbconvert_exporter": "python",
   "pygments_lexer": "ipython3",
   "version": "3.11.3"
  }
 },
 "nbformat": 4,
 "nbformat_minor": 5
}
