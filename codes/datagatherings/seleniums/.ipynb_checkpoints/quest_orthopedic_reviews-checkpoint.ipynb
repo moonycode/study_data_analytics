{
 "cells": [
  {
   "cell_type": "markdown",
   "id": "5837ca9b-766a-4162-b3c2-8ccac266c43b",
   "metadata": {},
   "source": [
    "### 병원 네이버 플레이스 방문자 리뷰 크롤링\n",
    "- https://pcmap.place.naver.com/hospital/1623603444/review/visitor?entry=bmp&from=map&fromPanelNum=2&timestamp=202309081302&x=126.89195542957395&y=37.50627134485392"
   ]
  },
  {
   "cell_type": "code",
   "execution_count": 15,
   "id": "b7f07007-db15-490b-b9bd-44b19d20263a",
   "metadata": {
    "tags": []
   },
   "outputs": [],
   "source": [
    "from selenium import webdriver\n",
    "from selenium.webdriver.common.keys import Keys\n",
    "import time"
   ]
  },
  {
   "cell_type": "code",
   "execution_count": 16,
   "id": "1df2e3bf-d642-411c-ac8f-f1ab426ebc3b",
   "metadata": {
    "tags": []
   },
   "outputs": [],
   "source": [
    "# open chrome browser\n",
    "browser = webdriver.Chrome(executable_path='../../../../chromedriver.exe')"
   ]
  },
  {
   "cell_type": "code",
   "execution_count": 17,
   "id": "c4cd62e7-887d-4f55-8431-b36d08e03952",
   "metadata": {},
   "outputs": [],
   "source": [
    "browser.implicitly_wait(10)"
   ]
  },
  {
   "cell_type": "code",
   "execution_count": 18,
   "id": "e9b0b9e4-b796-4d54-9690-52a0f1ecdaf1",
   "metadata": {
    "tags": []
   },
   "outputs": [],
   "source": [
    "# 아름제일 병원 척추관절센터\n",
    "url ='https://pcmap.place.naver.com/hospital/1623603444/review/visitor?entry=bmp&from=map&fromPanelNum=2&timestamp=202309081302&x=126.89195542957395&y=37.50627134485392'\n",
    "# 참튼튼병원 구로\n",
    "# url = 'https://pcmap.place.naver.com/hospital/32372130/review/visitor?entry=bmp&from=map&fromPanelNum=2&timestamp=202309081426&x=126.90043590005001&y=37.48216469965708'\n",
    "browser.get(url)"
   ]
  },
  {
   "cell_type": "markdown",
   "id": "82251f84-c3d7-4a8e-9775-6bd44d1097fd",
   "metadata": {},
   "source": [
    "### Tags\n",
    "- 리뷰 박스 : div > div > div > ul > li\n",
    "\n",
    "- 병원 이름 : #_title > span.Fc1rA\n",
    "\n",
    "- 작성자 : div > ul > li > div > a > div.VYGLG\n",
    "\n",
    "- 리뷰 내용 : div.place_section_content > ul > li:nth-child({}) > div > a > span.zPfVt\n",
    "\n",
    "- 리뷰 더보기 :  div.place_section_content > ul > li:nth-child({}) > div > a > span.rvCSr\n",
    "\n",
    "- 리뷰 날짜 : li > div > div > div > span:nth-child(1) > span:nth-child(3)\n",
    "\n",
    "- 방문 횟수 : li > div > div > div > span:nth-child(2)\n",
    "\n",
    "- 더보기 클릭 : div > div > div > div.lfH3O > a\n"
   ]
  },
  {
   "cell_type": "code",
   "execution_count": 19,
   "id": "d87c3918-e1d1-407f-89ea-0638d2b589ee",
   "metadata": {
    "tags": []
   },
   "outputs": [
    {
     "data": {
      "text/plain": [
       "10"
      ]
     },
     "execution_count": 19,
     "metadata": {},
     "output_type": "execute_result"
    }
   ],
   "source": [
    "while True:\n",
    "    try:\n",
    "        browser.find_element_by_css_selector('div > div > div > div.lfH3O > a').click()\n",
    "    except:\n",
    "        break\n",
    "hospital = browser.find_element_by_css_selector('#_title > span.Fc1rA').text\n",
    "browser.find_element_by_css_selector('body').send_keys(Keys.END)\n",
    "see_more_buttons = browser.find_elements_by_css_selector('div.place_section_content > ul > li > div > a > span.rvCSr')\n",
    "time.sleep(5)\n",
    "columns_name = ['hospital', 'name', 'content', 'date', 'visits']\n",
    "reviews_list = []\n",
    "len(see_more_buttons)"
   ]
  },
  {
   "cell_type": "code",
   "execution_count": 6,
   "id": "968e2a4d-6a1e-4603-9ec3-280496823232",
   "metadata": {
    "tags": []
   },
   "outputs": [
    {
     "name": "stdout",
     "output_type": "stream",
     "text": [
      "성공 : <selenium.webdriver.remote.webelement.WebElement (session=\"0467a8d90b7e66b2680d8fbb28dee1e9\", element=\"76492B11B7A64726293B4D9243AE8781_element_141\")>\n",
      "성공 : <selenium.webdriver.remote.webelement.WebElement (session=\"0467a8d90b7e66b2680d8fbb28dee1e9\", element=\"76492B11B7A64726293B4D9243AE8781_element_142\")>\n",
      "성공 : <selenium.webdriver.remote.webelement.WebElement (session=\"0467a8d90b7e66b2680d8fbb28dee1e9\", element=\"76492B11B7A64726293B4D9243AE8781_element_143\")>\n",
      "성공 : <selenium.webdriver.remote.webelement.WebElement (session=\"0467a8d90b7e66b2680d8fbb28dee1e9\", element=\"76492B11B7A64726293B4D9243AE8781_element_144\")>\n",
      "성공 : <selenium.webdriver.remote.webelement.WebElement (session=\"0467a8d90b7e66b2680d8fbb28dee1e9\", element=\"76492B11B7A64726293B4D9243AE8781_element_145\")>\n",
      "성공 : <selenium.webdriver.remote.webelement.WebElement (session=\"0467a8d90b7e66b2680d8fbb28dee1e9\", element=\"76492B11B7A64726293B4D9243AE8781_element_146\")>\n",
      "성공 : <selenium.webdriver.remote.webelement.WebElement (session=\"0467a8d90b7e66b2680d8fbb28dee1e9\", element=\"76492B11B7A64726293B4D9243AE8781_element_147\")>\n",
      "성공 : <selenium.webdriver.remote.webelement.WebElement (session=\"0467a8d90b7e66b2680d8fbb28dee1e9\", element=\"76492B11B7A64726293B4D9243AE8781_element_148\")>\n",
      "성공 : <selenium.webdriver.remote.webelement.WebElement (session=\"0467a8d90b7e66b2680d8fbb28dee1e9\", element=\"76492B11B7A64726293B4D9243AE8781_element_149\")>\n",
      "성공 : <selenium.webdriver.remote.webelement.WebElement (session=\"0467a8d90b7e66b2680d8fbb28dee1e9\", element=\"76492B11B7A64726293B4D9243AE8781_element_150\")>\n"
     ]
    }
   ],
   "source": [
    "browser.find_element_by_css_selector('body').send_keys(Keys.HOME)\n",
    "time.sleep(10)\n",
    "for num_see_more in range(len(see_more_buttons)): \n",
    "    time.sleep(1)\n",
    "    see_more_path = see_more_buttons[num_see_more]\n",
    "    try :\n",
    "        see_more_path.click()\n",
    "        print('성공 : {}'.format(see_more_path))\n",
    "\n",
    "    except :\n",
    "        print('실패 : {}'.format(see_more_path))\n",
    "        pass"
   ]
  },
  {
   "cell_type": "code",
   "execution_count": 7,
   "id": "e3a88688-8607-4e33-a789-f72462f1a5d4",
   "metadata": {
    "tags": []
   },
   "outputs": [
    {
     "ename": "NoSuchElementException",
     "evalue": "Message: no such element: Unable to locate element: {\"method\":\"css selector\",\"selector\":\".VYGLG\"}\n  (Session info: chrome=116.0.5845.141)\n",
     "output_type": "error",
     "traceback": [
      "\u001b[1;31m---------------------------------------------------------------------------\u001b[0m",
      "\u001b[1;31mNoSuchElementException\u001b[0m                    Traceback (most recent call last)",
      "Cell \u001b[1;32mIn[7], line 4\u001b[0m\n\u001b[0;32m      2\u001b[0m \u001b[38;5;28;01mfor\u001b[39;00m review \u001b[38;5;129;01min\u001b[39;00m reviews_bundle:\n\u001b[0;32m      3\u001b[0m     time\u001b[38;5;241m.\u001b[39msleep(\u001b[38;5;241m1\u001b[39m)\n\u001b[1;32m----> 4\u001b[0m     name \u001b[38;5;241m=\u001b[39m review\u001b[38;5;241m.\u001b[39mfind_element_by_css_selector(\u001b[38;5;124m'\u001b[39m\u001b[38;5;124m.VYGLG\u001b[39m\u001b[38;5;124m'\u001b[39m)\u001b[38;5;241m.\u001b[39mtext \n\u001b[0;32m      5\u001b[0m     content \u001b[38;5;241m=\u001b[39m review\u001b[38;5;241m.\u001b[39mfind_element_by_css_selector(\u001b[38;5;124m'\u001b[39m\u001b[38;5;124mdiv.place_section_content > ul > li > div.ZZ4OK > a\u001b[39m\u001b[38;5;124m'\u001b[39m)\u001b[38;5;241m.\u001b[39mtext\n\u001b[0;32m      6\u001b[0m     date \u001b[38;5;241m=\u001b[39m review\u001b[38;5;241m.\u001b[39mfind_element_by_css_selector(\u001b[38;5;124m'\u001b[39m\u001b[38;5;124mli > div > div > div > span:nth-child(1) > span:nth-child(3)\u001b[39m\u001b[38;5;124m'\u001b[39m)\u001b[38;5;241m.\u001b[39mtext\n",
      "File \u001b[1;32m~\\anaconda3\\Lib\\site-packages\\selenium\\webdriver\\remote\\webelement.py:430\u001b[0m, in \u001b[0;36mWebElement.find_element_by_css_selector\u001b[1;34m(self, css_selector)\u001b[0m\n\u001b[0;32m    415\u001b[0m \u001b[38;5;28;01mdef\u001b[39;00m \u001b[38;5;21mfind_element_by_css_selector\u001b[39m(\u001b[38;5;28mself\u001b[39m, css_selector):\n\u001b[0;32m    416\u001b[0m \u001b[38;5;250m    \u001b[39m\u001b[38;5;124;03m\"\"\"Finds element within this element's children by CSS selector.\u001b[39;00m\n\u001b[0;32m    417\u001b[0m \n\u001b[0;32m    418\u001b[0m \u001b[38;5;124;03m    :Args:\u001b[39;00m\n\u001b[1;32m   (...)\u001b[0m\n\u001b[0;32m    428\u001b[0m \u001b[38;5;124;03m        element = element.find_element_by_css_selector('#foo')\u001b[39;00m\n\u001b[0;32m    429\u001b[0m \u001b[38;5;124;03m    \"\"\"\u001b[39;00m\n\u001b[1;32m--> 430\u001b[0m     \u001b[38;5;28;01mreturn\u001b[39;00m \u001b[38;5;28mself\u001b[39m\u001b[38;5;241m.\u001b[39mfind_element(by\u001b[38;5;241m=\u001b[39mBy\u001b[38;5;241m.\u001b[39mCSS_SELECTOR, value\u001b[38;5;241m=\u001b[39mcss_selector)\n",
      "File \u001b[1;32m~\\anaconda3\\Lib\\site-packages\\selenium\\webdriver\\remote\\webelement.py:658\u001b[0m, in \u001b[0;36mWebElement.find_element\u001b[1;34m(self, by, value)\u001b[0m\n\u001b[0;32m    655\u001b[0m         by \u001b[38;5;241m=\u001b[39m By\u001b[38;5;241m.\u001b[39mCSS_SELECTOR\n\u001b[0;32m    656\u001b[0m         value \u001b[38;5;241m=\u001b[39m \u001b[38;5;124m'\u001b[39m\u001b[38;5;124m[name=\u001b[39m\u001b[38;5;124m\"\u001b[39m\u001b[38;5;132;01m%s\u001b[39;00m\u001b[38;5;124m\"\u001b[39m\u001b[38;5;124m]\u001b[39m\u001b[38;5;124m'\u001b[39m \u001b[38;5;241m%\u001b[39m value\n\u001b[1;32m--> 658\u001b[0m \u001b[38;5;28;01mreturn\u001b[39;00m \u001b[38;5;28mself\u001b[39m\u001b[38;5;241m.\u001b[39m_execute(Command\u001b[38;5;241m.\u001b[39mFIND_CHILD_ELEMENT,\n\u001b[0;32m    659\u001b[0m                      {\u001b[38;5;124m\"\u001b[39m\u001b[38;5;124musing\u001b[39m\u001b[38;5;124m\"\u001b[39m: by, \u001b[38;5;124m\"\u001b[39m\u001b[38;5;124mvalue\u001b[39m\u001b[38;5;124m\"\u001b[39m: value})[\u001b[38;5;124m'\u001b[39m\u001b[38;5;124mvalue\u001b[39m\u001b[38;5;124m'\u001b[39m]\n",
      "File \u001b[1;32m~\\anaconda3\\Lib\\site-packages\\selenium\\webdriver\\remote\\webelement.py:633\u001b[0m, in \u001b[0;36mWebElement._execute\u001b[1;34m(self, command, params)\u001b[0m\n\u001b[0;32m    631\u001b[0m     params \u001b[38;5;241m=\u001b[39m {}\n\u001b[0;32m    632\u001b[0m params[\u001b[38;5;124m'\u001b[39m\u001b[38;5;124mid\u001b[39m\u001b[38;5;124m'\u001b[39m] \u001b[38;5;241m=\u001b[39m \u001b[38;5;28mself\u001b[39m\u001b[38;5;241m.\u001b[39m_id\n\u001b[1;32m--> 633\u001b[0m \u001b[38;5;28;01mreturn\u001b[39;00m \u001b[38;5;28mself\u001b[39m\u001b[38;5;241m.\u001b[39m_parent\u001b[38;5;241m.\u001b[39mexecute(command, params)\n",
      "File \u001b[1;32m~\\anaconda3\\Lib\\site-packages\\selenium\\webdriver\\remote\\webdriver.py:321\u001b[0m, in \u001b[0;36mWebDriver.execute\u001b[1;34m(self, driver_command, params)\u001b[0m\n\u001b[0;32m    319\u001b[0m response \u001b[38;5;241m=\u001b[39m \u001b[38;5;28mself\u001b[39m\u001b[38;5;241m.\u001b[39mcommand_executor\u001b[38;5;241m.\u001b[39mexecute(driver_command, params)\n\u001b[0;32m    320\u001b[0m \u001b[38;5;28;01mif\u001b[39;00m response:\n\u001b[1;32m--> 321\u001b[0m     \u001b[38;5;28mself\u001b[39m\u001b[38;5;241m.\u001b[39merror_handler\u001b[38;5;241m.\u001b[39mcheck_response(response)\n\u001b[0;32m    322\u001b[0m     response[\u001b[38;5;124m'\u001b[39m\u001b[38;5;124mvalue\u001b[39m\u001b[38;5;124m'\u001b[39m] \u001b[38;5;241m=\u001b[39m \u001b[38;5;28mself\u001b[39m\u001b[38;5;241m.\u001b[39m_unwrap_value(\n\u001b[0;32m    323\u001b[0m         response\u001b[38;5;241m.\u001b[39mget(\u001b[38;5;124m'\u001b[39m\u001b[38;5;124mvalue\u001b[39m\u001b[38;5;124m'\u001b[39m, \u001b[38;5;28;01mNone\u001b[39;00m))\n\u001b[0;32m    324\u001b[0m     \u001b[38;5;28;01mreturn\u001b[39;00m response\n",
      "File \u001b[1;32m~\\anaconda3\\Lib\\site-packages\\selenium\\webdriver\\remote\\errorhandler.py:242\u001b[0m, in \u001b[0;36mErrorHandler.check_response\u001b[1;34m(self, response)\u001b[0m\n\u001b[0;32m    240\u001b[0m         alert_text \u001b[38;5;241m=\u001b[39m value[\u001b[38;5;124m'\u001b[39m\u001b[38;5;124malert\u001b[39m\u001b[38;5;124m'\u001b[39m]\u001b[38;5;241m.\u001b[39mget(\u001b[38;5;124m'\u001b[39m\u001b[38;5;124mtext\u001b[39m\u001b[38;5;124m'\u001b[39m)\n\u001b[0;32m    241\u001b[0m     \u001b[38;5;28;01mraise\u001b[39;00m exception_class(message, screen, stacktrace, alert_text)\n\u001b[1;32m--> 242\u001b[0m \u001b[38;5;28;01mraise\u001b[39;00m exception_class(message, screen, stacktrace)\n",
      "\u001b[1;31mNoSuchElementException\u001b[0m: Message: no such element: Unable to locate element: {\"method\":\"css selector\",\"selector\":\".VYGLG\"}\n  (Session info: chrome=116.0.5845.141)\n"
     ]
    }
   ],
   "source": [
    "reviews_bundle = browser.find_elements_by_css_selector('div > div > div > ul > li')\n",
    "for review in reviews_bundle:\n",
    "    time.sleep(5)\n",
    "    name = review.find_element_by_css_selector('div > ul > li > div > a > div.VYGLG').text \n",
    "    content = review.find_element_by_css_selector('div.place_section_content > ul > li > div.ZZ4OK > a').text\n",
    "    date = review.find_element_by_css_selector('li > div > div > div > span:nth-child(1) > span:nth-child(3)').text\n",
    "    visits = review.find_element_by_css_selector('li > div > div > div > span:nth-child(2)').text\n",
    "    full_review = [hospital, name, content, date, visits]\n",
    "    reviews_list.append(full_review)\n",
    "    \n",
    "\n",
    "len(reviews_bundle), reviews_list[:2], len(reviews_list)"
   ]
  },
  {
   "cell_type": "markdown",
   "id": "63f9f56a-e243-4b37-a041-bc259127cae5",
   "metadata": {},
   "source": [
    "### Mongodb에 추가"
   ]
  },
  {
   "cell_type": "code",
   "execution_count": null,
   "id": "2ed9af3e-25c5-4b40-8ba0-b5caf34659a6",
   "metadata": {},
   "outputs": [],
   "source": [
    "import pandas as pd\n",
    "import pymongo as mg"
   ]
  },
  {
   "cell_type": "code",
   "execution_count": null,
   "id": "578e53cc-64f6-45ad-afaa-85be2159abb0",
   "metadata": {},
   "outputs": [],
   "source": [
    "client = mg.MongoClient(host='mongodb://localhost:27017')\n",
    "database = client['study_data_analytics']\n",
    "collection = database['googlestore_heathcare']"
   ]
  },
  {
   "cell_type": "code",
   "execution_count": null,
   "id": "92859ca6-7676-4b88-9016-6932beeaca24",
   "metadata": {},
   "outputs": [],
   "source": [
    "df_reviews = pd.DataFrame(data=reviews_list, columns=columns_name)\n",
    "data_dict = df_reviews.to_dict(orient='records')\n",
    "collection.insert_many(data_dict)    "
   ]
  },
  {
   "cell_type": "code",
   "execution_count": null,
   "id": "ca99737d-2c78-474e-b514-2f4f7fcbc6eb",
   "metadata": {},
   "outputs": [],
   "source": []
  },
  {
   "cell_type": "code",
   "execution_count": null,
   "id": "c72c1581-c1d0-4654-9b66-c2d62df1b3d8",
   "metadata": {},
   "outputs": [],
   "source": []
  },
  {
   "cell_type": "code",
   "execution_count": null,
   "id": "5dfe1f9b-eb69-4c71-841f-b0eb42bee1c2",
   "metadata": {},
   "outputs": [],
   "source": []
  }
 ],
 "metadata": {
  "kernelspec": {
   "display_name": "Python 3 (ipykernel)",
   "language": "python",
   "name": "python3"
  },
  "language_info": {
   "codemirror_mode": {
    "name": "ipython",
    "version": 3
   },
   "file_extension": ".py",
   "mimetype": "text/x-python",
   "name": "python",
   "nbconvert_exporter": "python",
   "pygments_lexer": "ipython3",
   "version": "3.11.3"
  }
 },
 "nbformat": 4,
 "nbformat_minor": 5
}
