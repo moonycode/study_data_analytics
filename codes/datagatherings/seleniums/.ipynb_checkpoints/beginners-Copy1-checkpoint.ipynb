{
 "cells": [
  {
   "cell_type": "markdown",
   "id": "dfcb9a5d-c7bb-49a2-8880-2b3a3edf8bf2",
   "metadata": {},
   "source": [
    "### 교보문고 온라인 일간 베스트 셀러 목록 가져오기"
   ]
  },
  {
   "cell_type": "code",
   "execution_count": 8,
   "id": "e1ad86b2-25d8-448a-a900-05011501f257",
   "metadata": {
    "tags": []
   },
   "outputs": [],
   "source": [
    "from selenium import webdriver"
   ]
  },
  {
   "cell_type": "code",
   "execution_count": 13,
   "id": "1df2e3bf-d642-411c-ac8f-f1ab426ebc3b",
   "metadata": {
    "tags": []
   },
   "outputs": [],
   "source": [
    "# open chrome browser\n",
    "browser = webdriver.Chrome(executable_path='../../../../chromedriver.exe')"
   ]
  },
  {
   "cell_type": "code",
   "execution_count": 14,
   "id": "e9b0b9e4-b796-4d54-9690-52a0f1ecdaf1",
   "metadata": {
    "tags": []
   },
   "outputs": [],
   "source": [
    "# url 입력\n",
    "browser.get('https://brunch.co.kr/keyword/%EC%B1%85%EB%A6%AC%EB%B7%B0')"
   ]
  },
  {
   "cell_type": "code",
   "execution_count": 9,
   "id": "0b642f79-7446-41b3-b0a1-5f6f892556c6",
   "metadata": {
    "tags": []
   },
   "outputs": [
    {
     "data": {
      "text/plain": [
       "'몰리스 쉬야응가 1회용 패드 L 50매'"
      ]
     },
     "execution_count": 9,
     "metadata": {},
     "output_type": "execute_result"
    }
   ],
   "source": [
    "element.text"
   ]
  },
  {
   "cell_type": "code",
   "execution_count": 10,
   "id": "6efef000-26ba-47f6-859f-7d19f276d11e",
   "metadata": {
    "tags": []
   },
   "outputs": [
    {
     "data": {
      "text/plain": [
       "'mnemitem_goods_tit'"
      ]
     },
     "execution_count": 10,
     "metadata": {},
     "output_type": "execute_result"
    }
   ],
   "source": [
    "element.get_attribute('class')"
   ]
  },
  {
   "cell_type": "code",
   "execution_count": 15,
   "id": "4d24ec58-7347-449e-b006-42a265576690",
   "metadata": {
    "tags": []
   },
   "outputs": [
    {
     "data": {
      "text/plain": [
       "(list, selenium.webdriver.remote.webelement.WebElement)"
      ]
     },
     "execution_count": 15,
     "metadata": {},
     "output_type": "execute_result"
    }
   ],
   "source": [
    "elements_path = '.tit_subject'\n",
    "elements = browser.find_elements_by_css_selector(elements_path)\n",
    "type(elements), type(elements[0])"
   ]
  },
  {
   "cell_type": "code",
   "execution_count": 16,
   "id": "51d9e3a2-1256-4ba0-9b59-561bfdba18fb",
   "metadata": {
    "tags": []
   },
   "outputs": [
    {
     "name": "stdout",
     "output_type": "stream",
     "text": [
      "'국사'만으로는 부족하다. '동북아사'여야 한다\n",
      "젊어서 위태로운 예술가를 향한 등대\n",
      "그래서 내가 불안했던 거야\n",
      "완벽한 아이 팔아요\n",
      "일상의 모험 - 서동욱\n",
      "Egon Schiele : the complete wo\n",
      "노동자의 시간은 저절로 흐르지 않는다\n",
      "방랑기 / 하야시 후미코 / 1930\n",
      "나카오카 겐메이에게 배우는 일\n",
      "퇴사하고 잘 놀고 잘 살고 싶다\n",
      "쾌락 과잉 시대에서 균형 찾기\n",
      "평온할 줄만 알았던 그녀의 모험\n",
      "그래도 사랑했고 그래서 버텼던 시절\n",
      "물건을 버리며 얻은 변화와 행복\n",
      "당신을 위해서라면 죽어도 좋아요\n",
      "선량하지 않은 '선량한 사람'\n",
      "포장도 변명도 과장도 없는 일상의 장면들\n",
      "<사라진 개발자들>을 읽고\n",
      "당장 오늘 하루를 잘 보내는 방법\n",
      "가시가 허용되지 않는 고슴도치 이야기\n"
     ]
    }
   ],
   "source": [
    "for webelement in elements:\n",
    "    print(webelement.text)"
   ]
  },
  {
   "cell_type": "code",
   "execution_count": 17,
   "id": "b3e6d396-45b2-4580-9190-6ac2e6ed4a7b",
   "metadata": {},
   "outputs": [],
   "source": [
    "import pandas as pd"
   ]
  },
  {
   "cell_type": "code",
   "execution_count": 19,
   "id": "8fe17cf3-fd77-4ff9-9a43-34902823a255",
   "metadata": {},
   "outputs": [],
   "source": [
    "df = pd.DataFrame({\"책리뷰 제목\":elements})\n",
    "df.to_csv(\"BookReview.csv\", index=False, encoding=\"utf-8\")"
   ]
  },
  {
   "cell_type": "code",
   "execution_count": null,
   "id": "9cada7e0-27ed-486b-9a57-5128fb1455d8",
   "metadata": {
    "tags": []
   },
   "outputs": [],
   "source": [
    "browser.quit()"
   ]
  },
  {
   "cell_type": "code",
   "execution_count": null,
   "id": "66e7a47b-b37d-4dc3-82e5-ec440e557a7d",
   "metadata": {
    "tags": []
   },
   "outputs": [],
   "source": []
  },
  {
   "cell_type": "code",
   "execution_count": null,
   "id": "9ee65d00-2be1-44e1-9081-68d5fda47ed6",
   "metadata": {},
   "outputs": [],
   "source": []
  }
 ],
 "metadata": {
  "kernelspec": {
   "display_name": "Python 3 (ipykernel)",
   "language": "python",
   "name": "python3"
  },
  "language_info": {
   "codemirror_mode": {
    "name": "ipython",
    "version": 3
   },
   "file_extension": ".py",
   "mimetype": "text/x-python",
   "name": "python",
   "nbconvert_exporter": "python",
   "pygments_lexer": "ipython3",
   "version": "3.11.3"
  }
 },
 "nbformat": 4,
 "nbformat_minor": 5
}
