{
 "cells": [
  {
   "cell_type": "code",
   "execution_count": 2,
   "id": "b7f07007-db15-490b-b9bd-44b19d20263a",
   "metadata": {
    "tags": []
   },
   "outputs": [],
   "source": [
    "from selenium import webdriver"
   ]
  },
  {
   "cell_type": "code",
   "execution_count": 3,
   "id": "1df2e3bf-d642-411c-ac8f-f1ab426ebc3b",
   "metadata": {
    "tags": []
   },
   "outputs": [],
   "source": [
    "# open chrome browser\n",
    "browser = webdriver.Chrome(executable_path='../../../../chromedriver.exe')"
   ]
  },
  {
   "cell_type": "code",
   "execution_count": 4,
   "id": "e9b0b9e4-b796-4d54-9690-52a0f1ecdaf1",
   "metadata": {
    "tags": []
   },
   "outputs": [],
   "source": [
    "# url 입력\n",
    "browser.get('https://www.w3schools.com/')"
   ]
  },
  {
   "cell_type": "code",
   "execution_count": 5,
   "id": "fdd93ca0-afb2-4a3d-a28c-e018c708cc90",
   "metadata": {
    "tags": []
   },
   "outputs": [
    {
     "data": {
      "text/plain": [
       "True"
      ]
     },
     "execution_count": 5,
     "metadata": {},
     "output_type": "execute_result"
    }
   ],
   "source": [
    "browser.save_screenshot('./beginners-Copy1.png')"
   ]
  },
  {
   "cell_type": "code",
   "execution_count": 7,
   "id": "9cada7e0-27ed-486b-9a57-5128fb1455d8",
   "metadata": {
    "tags": []
   },
   "outputs": [],
   "source": [
    "    # browser.quit()\n",
    "    browser.quit()"
   ]
  },
  {
   "cell_type": "code",
   "execution_count": null,
   "id": "66e7a47b-b37d-4dc3-82e5-ec440e557a7d",
   "metadata": {
    "tags": []
   },
   "outputs": [],
   "source": []
  },
  {
   "cell_type": "code",
   "execution_count": null,
   "id": "9ee65d00-2be1-44e1-9081-68d5fda47ed6",
   "metadata": {},
   "outputs": [],
   "source": []
  }
 ],
 "metadata": {
  "kernelspec": {
   "display_name": "Python 3 (ipykernel)",
   "language": "python",
   "name": "python3"
  },
  "language_info": {
   "codemirror_mode": {
    "name": "ipython",
    "version": 3
   },
   "file_extension": ".py",
   "mimetype": "text/x-python",
   "name": "python",
   "nbconvert_exporter": "python",
   "pygments_lexer": "ipython3",
   "version": "3.11.3"
  }
 },
 "nbformat": 4,
 "nbformat_minor": 5
}
