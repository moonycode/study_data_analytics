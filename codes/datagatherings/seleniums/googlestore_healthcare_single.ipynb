{
 "cells": [
  {
   "cell_type": "markdown",
   "id": "ede6679a-b0c3-4725-aca6-53e052601979",
   "metadata": {},
   "source": [
    "# googlestore_healthcare_single\n",
    "- https://play.google.com/store/search?q=%ED%97%AC%EC%8A%A4%EC%BC%80%EC%96%B4%EC%95%B1&c=apps&hl=ko-KR"
   ]
  },
  {
   "cell_type": "code",
   "execution_count": 1,
   "id": "d23ce813-34fb-4662-8030-4799faa082db",
   "metadata": {
    "tags": []
   },
   "outputs": [],
   "source": [
    "from selenium import webdriver"
   ]
  },
  {
   "cell_type": "code",
   "execution_count": 2,
   "id": "1df2e3bf-d642-411c-ac8f-f1ab426ebc3b",
   "metadata": {
    "tags": []
   },
   "outputs": [],
   "source": [
    "# open chrome browser\n",
    "browser = webdriver.Chrome(executable_path='../../../../chromedriver.exe')"
   ]
  },
  {
   "cell_type": "code",
   "execution_count": 3,
   "id": "e9b0b9e4-b796-4d54-9690-52a0f1ecdaf1",
   "metadata": {
    "tags": []
   },
   "outputs": [],
   "source": [
    "# url 입력\n",
    "browser.get('https://play.google.com/store/search?q=%ED%97%AC%EC%8A%A4%EC%BC%80%EC%96%B4%EC%95%B1&c=apps&hl=ko-KR')"
   ]
  },
  {
   "cell_type": "code",
   "execution_count": 4,
   "id": "90d1da3d-fe8f-4d0b-9441-79faaafd481b",
   "metadata": {
    "tags": []
   },
   "outputs": [],
   "source": [
    "browser.implicitly_wait(10)"
   ]
  },
  {
   "cell_type": "markdown",
   "id": "fed15147-9711-458c-9f68-0e18cbacb4a5",
   "metadata": {},
   "source": [
    "### 제품 클릭\n",
    "- section > div > div > div > div:nth-child(2) > div > div > div\n",
    "### 제품 정보\n",
    "- 서비스명 tag : div > h1> span\n",
    "- 회사명 tag : div.Il7kR > div > div > div > a > span\n",
    "- 앱정보 tag : div.qZmL0 > div:nth-child(1) > c-wiz:nth-child(2) > div > section > div > div.bARER"
   ]
  },
  {
   "cell_type": "code",
   "execution_count": 5,
   "id": "55dd21eb-c42a-45f5-8328-6815a260ba80",
   "metadata": {
    "tags": []
   },
   "outputs": [],
   "source": [
    "click_path = 'section > div > div > div > div:nth-child(2) > div > div > div'\n",
    "browser.find_element_by_css_selector(click_path).click()"
   ]
  },
  {
   "cell_type": "code",
   "execution_count": 6,
   "id": "3197f662-9b90-44da-b98c-695ddb4136e4",
   "metadata": {
    "tags": []
   },
   "outputs": [
    {
     "data": {
      "text/plain": [
       "['NH헬스케어',\n",
       " 'NH농협생명',\n",
       " '한국인의 건강관리 NH 헬스케어!\\n\\n지인들과 재밌고 건강하게 즐기는 NH헬스케어만의 새로운 걷기 방법 – 걷기 배틀\\n걷기 목표 달성시 지급되는 포인트로 완성하는 온라인 텃밭 – 랜선 텃밭 가꾸기\\n\\n즐겁고 과학적인 당신만을 위한 건강 솔루션 NH 헬스케어!']"
      ]
     },
     "execution_count": 6,
     "metadata": {},
     "output_type": "execute_result"
    }
   ],
   "source": [
    "service_name = browser.find_element_by_css_selector('div > h1> span').text\n",
    "company_name = browser.find_element_by_css_selector('div.Il7kR > div > div > div > a > span').text\n",
    "app_info = browser.find_element_by_css_selector('div.qZmL0 > div:nth-child(1) > c-wiz:nth-child(2) > div > section > div > div.bARER').text\n",
    "\n",
    "[service_name,company_name,app_info]"
   ]
  },
  {
   "cell_type": "markdown",
   "id": "83665b9b-fd69-45ab-8838-715c8eb1c818",
   "metadata": {},
   "source": [
    "### 리뷰 모두 보기 클릭\n",
    "- div.Jwxk6d > div:nth-child(5) > div > div > button > span\n",
    "\n",
    "### 리뷰 내용 가져오기\n",
    "- 리뷰 전체 범위 : div.fysCi > div > div:nth-child(2) > div\n",
    "- 리뷰 내용 : div.h3YV2d\n",
    "- 리뷰 날짜 : header > div.Jx4nYe > span\n",
    "- 별점 이미지 : header > div.Jx4nYe > div"
   ]
  },
  {
   "cell_type": "code",
   "execution_count": 7,
   "id": "ece92bec-e6f0-4bab-8c4e-25162b342dd0",
   "metadata": {
    "tags": []
   },
   "outputs": [],
   "source": [
    "import time\n",
    "time.sleep(2)"
   ]
  },
  {
   "cell_type": "code",
   "execution_count": 8,
   "id": "8ae46739-1b41-4443-92e1-d861668e7d8b",
   "metadata": {
    "tags": []
   },
   "outputs": [],
   "source": [
    "browser.find_element_by_xpath('//*/div/div/button/*[contains(text(), \"리뷰 모두 보기\")]').click()"
   ]
  },
  {
   "cell_type": "code",
   "execution_count": 9,
   "id": "b39b4e1a-0de9-4337-9e6c-e4b125c9aaad",
   "metadata": {
    "tags": []
   },
   "outputs": [],
   "source": [
    "# click_path = 'div:nth-child(5) > div > div > button > span'\n",
    "# browser.find_element_by_css_selector(click_path).click()"
   ]
  },
  {
   "cell_type": "code",
   "execution_count": 10,
   "id": "02d48917-e3fe-4705-8814-8bebd8f0430c",
   "metadata": {
    "tags": []
   },
   "outputs": [
    {
     "data": {
      "text/plain": [
       "40"
      ]
     },
     "execution_count": 10,
     "metadata": {},
     "output_type": "execute_result"
    }
   ],
   "source": [
    "reviews_bundle = browser.find_elements_by_css_selector('div.fysCi > div > div:nth-child(2) > div')\n",
    "len(reviews_bundle)"
   ]
  },
  {
   "cell_type": "code",
   "execution_count": 11,
   "id": "ca75d991-8282-4cf3-a28a-14155ff46aea",
   "metadata": {
    "tags": []
   },
   "outputs": [
    {
     "data": {
      "text/plain": [
       "['안녕하세요. 그동안 헬스케어 앱을 잘 사용중에 있었는데요, 그전에는 앱을 클릭하면 자동 로그인이되어 걸음수도 확인하고 포인트도 받고 그랬는데요. 오늘 갑자기 회원가입 및 로그인 화면이 뜨더니 로그인이 아예 안되면서 자꾸 에러가 나네요. 기존 회원인데, 새로 회원가입할수도 없구요ㅜㅜ 어떻게 해야하는지 알려주시면 감사하겠습니다.',\n",
       " '2023년 7월 21일',\n",
       " '별표 5개 만점에 4개를 받았습니다.']"
      ]
     },
     "execution_count": 11,
     "metadata": {},
     "output_type": "execute_result"
    }
   ],
   "source": [
    "contents = reviews_bundle[0].find_element_by_css_selector('div.h3YV2d').text\n",
    "dates = reviews_bundle[0].find_element_by_css_selector('header > div.Jx4nYe > span').text\n",
    "stars = reviews_bundle[0].find_element_by_css_selector('header > div.Jx4nYe > div').get_attribute('aria-label')\n",
    "\n",
    "[contents, dates, stars]"
   ]
  },
  {
   "cell_type": "code",
   "execution_count": 12,
   "id": "9cada7e0-27ed-486b-9a57-5128fb1455d8",
   "metadata": {
    "tags": []
   },
   "outputs": [],
   "source": [
    "# browser.quit()    \n"
   ]
  },
  {
   "cell_type": "code",
   "execution_count": null,
   "id": "66e7a47b-b37d-4dc3-82e5-ec440e557a7d",
   "metadata": {
    "tags": []
   },
   "outputs": [],
   "source": []
  },
  {
   "cell_type": "code",
   "execution_count": null,
   "id": "9ee65d00-2be1-44e1-9081-68d5fda47ed6",
   "metadata": {},
   "outputs": [],
   "source": []
  }
 ],
 "metadata": {
  "kernelspec": {
   "display_name": "Python 3 (ipykernel)",
   "language": "python",
   "name": "python3"
  },
  "language_info": {
   "codemirror_mode": {
    "name": "ipython",
    "version": 3
   },
   "file_extension": ".py",
   "mimetype": "text/x-python",
   "name": "python",
   "nbconvert_exporter": "python",
   "pygments_lexer": "ipython3",
   "version": "3.11.3"
  }
 },
 "nbformat": 4,
 "nbformat_minor": 5
}
