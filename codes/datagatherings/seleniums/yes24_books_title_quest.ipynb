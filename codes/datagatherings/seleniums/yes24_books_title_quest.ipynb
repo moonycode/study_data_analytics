{
 "cells": [
  {
   "cell_type": "markdown",
   "id": "dfcb9a5d-c7bb-49a2-8880-2b3a3edf8bf2",
   "metadata": {},
   "source": [
    "### 책리뷰 제목 가져오기"
   ]
  },
  {
   "cell_type": "code",
   "execution_count": 34,
   "id": "e1ad86b2-25d8-448a-a900-05011501f257",
   "metadata": {
    "tags": []
   },
   "outputs": [],
   "source": [
    "from selenium import webdriver"
   ]
  },
  {
   "cell_type": "code",
   "execution_count": 35,
   "id": "1df2e3bf-d642-411c-ac8f-f1ab426ebc3b",
   "metadata": {
    "tags": []
   },
   "outputs": [],
   "source": [
    "# open chrome browser\n",
    "browser = webdriver.Chrome(executable_path='../../../../chromedriver.exe')"
   ]
  },
  {
   "cell_type": "code",
   "execution_count": 36,
   "id": "e9b0b9e4-b796-4d54-9690-52a0f1ecdaf1",
   "metadata": {
    "tags": []
   },
   "outputs": [],
   "source": [
    "# url 입력\n",
    "browser.get('https://brunch.co.kr/keyword/%EC%B1%85%EB%A6%AC%EB%B7%B0')"
   ]
  },
  {
   "cell_type": "code",
   "execution_count": 37,
   "id": "4d24ec58-7347-449e-b006-42a265576690",
   "metadata": {
    "tags": []
   },
   "outputs": [
    {
     "data": {
      "text/plain": [
       "(list, selenium.webdriver.remote.webelement.WebElement)"
      ]
     },
     "execution_count": 37,
     "metadata": {},
     "output_type": "execute_result"
    }
   ],
   "source": [
    "elements_path = '.tit_subject'\n",
    "elements = browser.find_elements_by_css_selector(elements_path)\n",
    "type(elements), type(elements[0])"
   ]
  },
  {
   "cell_type": "code",
   "execution_count": 38,
   "id": "51d9e3a2-1256-4ba0-9b59-561bfdba18fb",
   "metadata": {
    "tags": []
   },
   "outputs": [
    {
     "name": "stdout",
     "output_type": "stream",
     "text": [
      "[\"'국사'만으로는 부족하다. '동북아사'여야 한다\", '젊어서 위태로운 예술가를 향한 등대', '그래서 내가 불안했던 거야', '완벽한 아이 팔아요', '일상의 모험 - 서동욱', 'Egon Schiele : the complete wo', '노동자의 시간은 저절로 흐르지 않는다', '방랑기 / 하야시 후미코 / 1930', '나카오카 겐메이에게 배우는 일', '퇴사하고 잘 놀고 잘 살고 싶다', '쾌락 과잉 시대에서 균형 찾기', '평온할 줄만 알았던 그녀의 모험', '그래도 사랑했고 그래서 버텼던 시절', '물건을 버리며 얻은 변화와 행복', '당신을 위해서라면 죽어도 좋아요', \"선량하지 않은 '선량한 사람'\", '포장도 변명도 과장도 없는 일상의 장면들', '<사라진 개발자들>을 읽고', '당장 오늘 하루를 잘 보내는 방법', '가시가 허용되지 않는 고슴도치 이야기', '그러거나 말거나 너였으니까', '인생이란, 가이드북이 없는 여행', '모멸의 순간을 우아하게 방어하는 법', '엄마는 왜 종일 일하고 논다는 소리를 들을까', '새해에는 이 책을 읽어보세요', '나만의 능동적인 휴식의 힘', '세상의 모든 엄마에게 추천하고 싶은 책', '디베이터 (서보현)', '1. 코스모스의 바닷가에서', '주간 이요마 인풋노트_9월 1주차', '마음이 따뜻해지는 SF를 읽고 싶다면 ', '해운대 한가운데에서 일을 생각하다.', '소설과 회화의 행복한 만남', '나의 미카엘', '반짝이는 바다 너머, 라울 뒤피의 진짜 얼굴', '일상의 빈칸', '시대와 개인, 고발과 희망 무엇 하나 놓치지 않은 걸작', '보르헤스, 문학을 말하다', '별 하나에 추억과 즐거움을 간직할 수 있다면', '[도서 리뷰] 죄와 벌(상)', '격(格)과 치(治) / 민경조 / 2014', '한 걸음 한 걸음, 무겁고 느릿하게, 그러나 한결같이', '네가 먼저 죽는다면 나는 너를 먹을 거야', '시련은 어떻게 살아남는가', '가면의 생', '어린이의 시선에 맞춘 여행이란', '남아 있는 나날 by 가즈오 이시구로', '[이수서사] 초연해지는 그늘•유겸', '<<그럼에도 작가로 살겠다면>> 글쓰기법 총망라 ', '‘누칼협?’, ‘알빠노!’- 덫에 갇힌 한국 사회', '디케의 눈물 / 조국', '머나먼 옆집의 이웃을 생각하며', '예쁘면 안 되나요? 윤리를 테크놀로지에 맡겨봤다 ', '실비아 플라스 드로잉집', '인간의 야만성, 폭력은 어떻게 만들어질까?', '[못 가본 길이 더 아름답다] 박완서와박수근, 그리고나', '멋지다, 베티야!', '<<평온한 삶>> 초록과 제주 - 김보희', '화학의 연금술사', '친구 일기장 훔쳐보기', '앵무새 죽이기', '처절한 과학교양서', '이것은 물이다', '마음에 가뭄이 들 때_ 물싸움', '불안(책 리뷰)', '울타리 안팎, 존재 유무의 경계선', '‘할 수 있지만 정말 하기 싫은 일’을 해내는 것.', '도둑맞은 집중력', '그렇게 인생은 이야기가 된다', '마음을 치유하는 절대적인 사랑', '【책 리뷰】<Mr. Noisy> 속에 숨어 있는 나!', '도망치고 찾고', \"'로마 제국'도, '로마인 이야기'도 궤도에 안착하다\", '안과 겉', '버스 타고 24시간 걸려 귀향하는 프랑스 친구 이야기', '나답게, 나답게, 나답게', '저 아래 / 카를 위스망스 / 1891', '너와 나의 융화 그리고 충돌', '은퇴', '\"나도, 더 가보고 싶\"은 것뿐.']\n"
     ]
    }
   ],
   "source": [
    "titles = []\n",
    "for webelement in elements:\n",
    "    x=webelement.text\n",
    "    titles.append(x)\n",
    "print(titles)"
   ]
  },
  {
   "cell_type": "code",
   "execution_count": 39,
   "id": "b3e6d396-45b2-4580-9190-6ac2e6ed4a7b",
   "metadata": {},
   "outputs": [],
   "source": [
    "import pandas as pd"
   ]
  },
  {
   "cell_type": "code",
   "execution_count": 42,
   "id": "8fe17cf3-fd77-4ff9-9a43-34902823a255",
   "metadata": {},
   "outputs": [],
   "source": [
    "df = pd.DataFrame({\"책리뷰 제목\":titles})\n",
    "df.to_csv(\"BookReview.csv\", index=False, encoding=\"utf-8\")"
   ]
  },
  {
   "cell_type": "code",
   "execution_count": null,
   "id": "9cada7e0-27ed-486b-9a57-5128fb1455d8",
   "metadata": {
    "tags": []
   },
   "outputs": [],
   "source": [
    "browser.quit()"
   ]
  },
  {
   "cell_type": "code",
   "execution_count": null,
   "id": "66e7a47b-b37d-4dc3-82e5-ec440e557a7d",
   "metadata": {
    "tags": []
   },
   "outputs": [],
   "source": []
  },
  {
   "cell_type": "code",
   "execution_count": null,
   "id": "9ee65d00-2be1-44e1-9081-68d5fda47ed6",
   "metadata": {},
   "outputs": [],
   "source": []
  }
 ],
 "metadata": {
  "kernelspec": {
   "display_name": "Python 3 (ipykernel)",
   "language": "python",
   "name": "python3"
  },
  "language_info": {
   "codemirror_mode": {
    "name": "ipython",
    "version": 3
   },
   "file_extension": ".py",
   "mimetype": "text/x-python",
   "name": "python",
   "nbconvert_exporter": "python",
   "pygments_lexer": "ipython3",
   "version": "3.11.3"
  }
 },
 "nbformat": 4,
 "nbformat_minor": 5
}
