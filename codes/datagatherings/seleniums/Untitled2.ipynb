{
 "cells": [
  {
   "cell_type": "code",
   "execution_count": null,
   "id": "2478e6bc-64da-4129-8823-5dae0642360e",
   "metadata": {},
   "outputs": [],
   "source": [
    "\n",
    "\n",
    "\n",
    "# Python3 샘플 코드 #\n",
    "\n",
    "CXIkUl%2BDwPFfdvxcvLwCwDLnDj3UYyTDviNRIT3xeLfIq1yIpKXylNRQh3ZkjanAL7j6yJzGFfGyrJi2n8Y20w%3D%3D\n",
    "\n",
    "import requests\n",
    "\n",
    "url = 'http://apis.data.go.kr/1352000/ODMS_STAT_25/callStat25Api'\n",
    "params ={'serviceKey' : '서비스키', 'pageNo' : '1', 'numOfRows' : '10', 'apiType' : 'XML', 'year' : '2019', 'dvsd' : '서울' }\n",
    "\n",
    "response = requests.get(url, params=params)\n",
    "print(response.content)"
   ]
  }
 ],
 "metadata": {
  "kernelspec": {
   "display_name": "Python 3 (ipykernel)",
   "language": "python",
   "name": "python3"
  },
  "language_info": {
   "codemirror_mode": {
    "name": "ipython",
    "version": 3
   },
   "file_extension": ".py",
   "mimetype": "text/x-python",
   "name": "python",
   "nbconvert_exporter": "python",
   "pygments_lexer": "ipython3",
   "version": "3.11.3"
  }
 },
 "nbformat": 4,
 "nbformat_minor": 5
}
