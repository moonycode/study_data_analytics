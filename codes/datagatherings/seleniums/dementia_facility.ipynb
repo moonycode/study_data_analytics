{
 "cells": [
  {
   "cell_type": "markdown",
   "id": "5837ca9b-766a-4162-b3c2-8ccac266c43b",
   "metadata": {},
   "source": [
    "### 중앙치매센터 치매시설정보 크롤링\n",
    "- https://www.nid.or.kr/info/facility_list.aspx"
   ]
  },
  {
   "cell_type": "code",
   "execution_count": 1,
   "id": "b7f07007-db15-490b-b9bd-44b19d20263a",
   "metadata": {
    "tags": []
   },
   "outputs": [],
   "source": [
    "from selenium import webdriver\n",
    "from selenium.webdriver.common.keys import Keys\n",
    "from selenium.webdriver.common.by import By\n",
    "from selenium.webdriver.support.ui import WebDriverWait\n",
    "from selenium.webdriver.support import expected_conditions as EC\n",
    "import time\n",
    "import pandas as pd\n",
    "import pymongo as mg"
   ]
  },
  {
   "cell_type": "code",
   "execution_count": 2,
   "id": "18abe01f-a20d-4f5d-9fb5-967e2ac57381",
   "metadata": {},
   "outputs": [],
   "source": [
    "client = mg.MongoClient(host='mongodb://localhost:27017')\n",
    "database = client['ns_os_reviews']\n",
    "collection = database['naver_place']"
   ]
  },
  {
   "cell_type": "code",
   "execution_count": 3,
   "id": "1df2e3bf-d642-411c-ac8f-f1ab426ebc3b",
   "metadata": {
    "tags": []
   },
   "outputs": [],
   "source": [
    "# open chrome browser\n",
    "browser = webdriver.Chrome(executable_path='../../../../chromedriver.exe')"
   ]
  },
  {
   "cell_type": "code",
   "execution_count": 4,
   "id": "fa4cfa3b-9ad7-4c22-8fd7-e5efac4915a7",
   "metadata": {
    "tags": []
   },
   "outputs": [],
   "source": [
    "url = 'https://www.nid.or.kr/info/facility_list.aspx'\n",
    "browser.get(url)\n",
    "browser.implicitly_wait(3)"
   ]
  },
  {
   "cell_type": "markdown",
   "id": "82251f84-c3d7-4a8e-9775-6bd44d1097fd",
   "metadata": {},
   "source": [
    "### Tags\n",
    "['시설명', '주소', '시설분류정보', '전화번호', '홈페이지']<br>\n",
    "['name', 'address', 'category', 'number', 'website']<br>\n",
    "['시설명', '주소', '위도', '경도', '대분류', '중분류', '소분류', '전화번호', '홈페이지']<br>\n",
    "['name', 'address', 'latitude', 'longitude', 'main_category', 'sub_category', 'sub_category_2', 'number', 'website']\n",
    "- 상세 버튼 : #dev_tbody > tr:nth-child({1~10, 마지막페이지 8}) > td:nth-child(4) > a\n",
    "- 상세 버튼 목록 : #dev_tbody > tr > td:nth-child(4) > a\n",
    "- 닫기 버튼 : div > div.popTitle > a\n",
    "\n",
    "- 페이지 버튼 목록 : #div_paging > div > ol > li > a\n",
    "- 페이지 버튼 : #div_paging > div > ol > li:nth-child({1~10}, 마지막 1) > a\n",
    "- 다음 페이지 목록 : xpath : //*[@id=\"div_paging\"]/div/a/img[@alt=\"다음\"]\n",
    "- 시설명 : div.list_tbl_01.fix > table > tbody > tr:nth-child(1) > td:nth-child(2)\n",
    "- 주소 : div.list_tbl_01.fix > table > tbody > tr:nth-child(2) > td\n",
    "- 시설분류정보 : div.list_info > div.dx_fa_div > ul > li\n",
    "- 전화번호 : div.list_tbl_01.fix > table > tbody > tr:nth-child(1) > td:nth-child(4)\n",
    "- 홈페이지 : div.list_tbl_01.fix > table > tbody > tr:nth-child(3) > td\n"
   ]
  },
  {
   "cell_type": "code",
   "execution_count": 13,
   "id": "e9b0b9e4-b796-4d54-9690-52a0f1ecdaf1",
   "metadata": {
    "tags": []
   },
   "outputs": [
    {
     "ename": "NoSuchElementException",
     "evalue": "Message: no such element: Unable to locate element: {\"method\":\"css selector\",\"selector\":\".btnClose\"}\n  (Session info: chrome=116.0.5845.188)\n",
     "output_type": "error",
     "traceback": [
      "\u001b[1;31m---------------------------------------------------------------------------\u001b[0m",
      "\u001b[1;31mNoSuchElementException\u001b[0m                    Traceback (most recent call last)",
      "Cell \u001b[1;32mIn[13], line 10\u001b[0m\n\u001b[0;32m      8\u001b[0m \u001b[38;5;28;01mfor\u001b[39;00m btn \u001b[38;5;129;01min\u001b[39;00m detail_btns :\n\u001b[0;32m      9\u001b[0m     btn\u001b[38;5;241m.\u001b[39mclick()\n\u001b[1;32m---> 10\u001b[0m     close_btn \u001b[38;5;241m=\u001b[39m browser\u001b[38;5;241m.\u001b[39mfind_element_by_css_selector(\u001b[38;5;124m'\u001b[39m\u001b[38;5;124m.btnClose\u001b[39m\u001b[38;5;124m'\u001b[39m)\n\u001b[0;32m     11\u001b[0m     close_btn\u001b[38;5;241m.\u001b[39mclick()\n",
      "File \u001b[1;32m~\\anaconda3\\Lib\\site-packages\\selenium\\webdriver\\remote\\webdriver.py:598\u001b[0m, in \u001b[0;36mWebDriver.find_element_by_css_selector\u001b[1;34m(self, css_selector)\u001b[0m\n\u001b[0;32m    582\u001b[0m \u001b[38;5;28;01mdef\u001b[39;00m \u001b[38;5;21mfind_element_by_css_selector\u001b[39m(\u001b[38;5;28mself\u001b[39m, css_selector):\n\u001b[0;32m    583\u001b[0m \u001b[38;5;250m    \u001b[39m\u001b[38;5;124;03m\"\"\"\u001b[39;00m\n\u001b[0;32m    584\u001b[0m \u001b[38;5;124;03m    Finds an element by css selector.\u001b[39;00m\n\u001b[0;32m    585\u001b[0m \n\u001b[1;32m   (...)\u001b[0m\n\u001b[0;32m    596\u001b[0m \u001b[38;5;124;03m        element = driver.find_element_by_css_selector('#foo')\u001b[39;00m\n\u001b[0;32m    597\u001b[0m \u001b[38;5;124;03m    \"\"\"\u001b[39;00m\n\u001b[1;32m--> 598\u001b[0m     \u001b[38;5;28;01mreturn\u001b[39;00m \u001b[38;5;28mself\u001b[39m\u001b[38;5;241m.\u001b[39mfind_element(by\u001b[38;5;241m=\u001b[39mBy\u001b[38;5;241m.\u001b[39mCSS_SELECTOR, value\u001b[38;5;241m=\u001b[39mcss_selector)\n",
      "File \u001b[1;32m~\\anaconda3\\Lib\\site-packages\\selenium\\webdriver\\remote\\webdriver.py:976\u001b[0m, in \u001b[0;36mWebDriver.find_element\u001b[1;34m(self, by, value)\u001b[0m\n\u001b[0;32m    974\u001b[0m         by \u001b[38;5;241m=\u001b[39m By\u001b[38;5;241m.\u001b[39mCSS_SELECTOR\n\u001b[0;32m    975\u001b[0m         value \u001b[38;5;241m=\u001b[39m \u001b[38;5;124m'\u001b[39m\u001b[38;5;124m[name=\u001b[39m\u001b[38;5;124m\"\u001b[39m\u001b[38;5;132;01m%s\u001b[39;00m\u001b[38;5;124m\"\u001b[39m\u001b[38;5;124m]\u001b[39m\u001b[38;5;124m'\u001b[39m \u001b[38;5;241m%\u001b[39m value\n\u001b[1;32m--> 976\u001b[0m \u001b[38;5;28;01mreturn\u001b[39;00m \u001b[38;5;28mself\u001b[39m\u001b[38;5;241m.\u001b[39mexecute(Command\u001b[38;5;241m.\u001b[39mFIND_ELEMENT, {\n\u001b[0;32m    977\u001b[0m     \u001b[38;5;124m'\u001b[39m\u001b[38;5;124musing\u001b[39m\u001b[38;5;124m'\u001b[39m: by,\n\u001b[0;32m    978\u001b[0m     \u001b[38;5;124m'\u001b[39m\u001b[38;5;124mvalue\u001b[39m\u001b[38;5;124m'\u001b[39m: value})[\u001b[38;5;124m'\u001b[39m\u001b[38;5;124mvalue\u001b[39m\u001b[38;5;124m'\u001b[39m]\n",
      "File \u001b[1;32m~\\anaconda3\\Lib\\site-packages\\selenium\\webdriver\\remote\\webdriver.py:321\u001b[0m, in \u001b[0;36mWebDriver.execute\u001b[1;34m(self, driver_command, params)\u001b[0m\n\u001b[0;32m    319\u001b[0m response \u001b[38;5;241m=\u001b[39m \u001b[38;5;28mself\u001b[39m\u001b[38;5;241m.\u001b[39mcommand_executor\u001b[38;5;241m.\u001b[39mexecute(driver_command, params)\n\u001b[0;32m    320\u001b[0m \u001b[38;5;28;01mif\u001b[39;00m response:\n\u001b[1;32m--> 321\u001b[0m     \u001b[38;5;28mself\u001b[39m\u001b[38;5;241m.\u001b[39merror_handler\u001b[38;5;241m.\u001b[39mcheck_response(response)\n\u001b[0;32m    322\u001b[0m     response[\u001b[38;5;124m'\u001b[39m\u001b[38;5;124mvalue\u001b[39m\u001b[38;5;124m'\u001b[39m] \u001b[38;5;241m=\u001b[39m \u001b[38;5;28mself\u001b[39m\u001b[38;5;241m.\u001b[39m_unwrap_value(\n\u001b[0;32m    323\u001b[0m         response\u001b[38;5;241m.\u001b[39mget(\u001b[38;5;124m'\u001b[39m\u001b[38;5;124mvalue\u001b[39m\u001b[38;5;124m'\u001b[39m, \u001b[38;5;28;01mNone\u001b[39;00m))\n\u001b[0;32m    324\u001b[0m     \u001b[38;5;28;01mreturn\u001b[39;00m response\n",
      "File \u001b[1;32m~\\anaconda3\\Lib\\site-packages\\selenium\\webdriver\\remote\\errorhandler.py:242\u001b[0m, in \u001b[0;36mErrorHandler.check_response\u001b[1;34m(self, response)\u001b[0m\n\u001b[0;32m    240\u001b[0m         alert_text \u001b[38;5;241m=\u001b[39m value[\u001b[38;5;124m'\u001b[39m\u001b[38;5;124malert\u001b[39m\u001b[38;5;124m'\u001b[39m]\u001b[38;5;241m.\u001b[39mget(\u001b[38;5;124m'\u001b[39m\u001b[38;5;124mtext\u001b[39m\u001b[38;5;124m'\u001b[39m)\n\u001b[0;32m    241\u001b[0m     \u001b[38;5;28;01mraise\u001b[39;00m exception_class(message, screen, stacktrace, alert_text)\n\u001b[1;32m--> 242\u001b[0m \u001b[38;5;28;01mraise\u001b[39;00m exception_class(message, screen, stacktrace)\n",
      "\u001b[1;31mNoSuchElementException\u001b[0m: Message: no such element: Unable to locate element: {\"method\":\"css selector\",\"selector\":\".btnClose\"}\n  (Session info: chrome=116.0.5845.188)\n"
     ]
    }
   ],
   "source": [
    "# 페이지 버튼 목록 가져오기\n",
    "while True : \n",
    "    page_list = browser.find_elements_by_css_selector('#div_paging > div > ol > li > a')\n",
    "    detail_btns = browser.find_elements_by_css_selector('#dev_tbody > tr > td:nth-child(4) > a')\n",
    "    \n",
    "    for index, page in enumerate(page_list) :\n",
    "        if index == 0 :\n",
    "            for btn in detail_btns :\n",
    "                btn.click()\n",
    "                close_btn = browser.find_element_by_css_selector('.btnClose')\n",
    "                close_btn.click()\n",
    "                \n",
    "           "
   ]
  },
  {
   "cell_type": "code",
   "execution_count": 7,
   "id": "22e56e96-faa9-4548-a337-ecde20d66abb",
   "metadata": {
    "tags": []
   },
   "outputs": [],
   "source": [
    "cursor = collection.find({})\n",
    "list_cursors = list(cursor)"
   ]
  },
  {
   "cell_type": "code",
   "execution_count": 8,
   "id": "62f5a9a5-70bf-40d1-9a34-76aaf71e14c7",
   "metadata": {
    "tags": []
   },
   "outputs": [],
   "source": [
    "df_total = pd.DataFrame(list_cursors)"
   ]
  },
  {
   "cell_type": "code",
   "execution_count": 9,
   "id": "b905e2be-f419-4295-98cf-4d344ff6bfa1",
   "metadata": {
    "tags": []
   },
   "outputs": [
    {
     "data": {
      "text/html": [
       "<div>\n",
       "<style scoped>\n",
       "    .dataframe tbody tr th:only-of-type {\n",
       "        vertical-align: middle;\n",
       "    }\n",
       "\n",
       "    .dataframe tbody tr th {\n",
       "        vertical-align: top;\n",
       "    }\n",
       "\n",
       "    .dataframe thead th {\n",
       "        text-align: right;\n",
       "    }\n",
       "</style>\n",
       "<table border=\"1\" class=\"dataframe\">\n",
       "  <thead>\n",
       "    <tr style=\"text-align: right;\">\n",
       "      <th></th>\n",
       "      <th>_id</th>\n",
       "      <th>hospital</th>\n",
       "      <th>address</th>\n",
       "      <th>name</th>\n",
       "      <th>content</th>\n",
       "      <th>date</th>\n",
       "      <th>visits</th>\n",
       "    </tr>\n",
       "  </thead>\n",
       "  <tbody>\n",
       "    <tr>\n",
       "      <th>0</th>\n",
       "      <td>6503f9cf15803af914b2b3f2</td>\n",
       "      <td>서울바른병원</td>\n",
       "      <td>서울 영등포구 여의대방로 145</td>\n",
       "      <td>oyu****</td>\n",
       "      <td>입구부터 느껴지는 청결함과, 친절한 분위기! 웃으며 인사해주신 직원분께 감사</td>\n",
       "      <td>2023년 9월 14일 목요일</td>\n",
       "      <td>1번째 방문</td>\n",
       "    </tr>\n",
       "    <tr>\n",
       "      <th>1</th>\n",
       "      <td>6503f9cf15803af914b2b3f3</td>\n",
       "      <td>서울바른병원</td>\n",
       "      <td>서울 영등포구 여의대방로 145</td>\n",
       "      <td>o0p****</td>\n",
       "      <td>설명 쉽게 쉽게 잘해주시고 꼼꼼함 면에서도 상당히 만족스러워요</td>\n",
       "      <td>2023년 9월 13일 수요일</td>\n",
       "      <td>1번째 방문</td>\n",
       "    </tr>\n",
       "    <tr>\n",
       "      <th>2</th>\n",
       "      <td>6503f9cf15803af914b2b3f4</td>\n",
       "      <td>서울바른병원</td>\n",
       "      <td>서울 영등포구 여의대방로 145</td>\n",
       "      <td>asy****</td>\n",
       "      <td>다른데 안가고 여기서 치료 받길 잘했어요, 상담부터 편하게해주셔서 감사해요</td>\n",
       "      <td>2023년 9월 12일 화요일</td>\n",
       "      <td>1번째 방문</td>\n",
       "    </tr>\n",
       "  </tbody>\n",
       "</table>\n",
       "</div>"
      ],
      "text/plain": [
       "                        _id hospital            address     name  \\\n",
       "0  6503f9cf15803af914b2b3f2   서울바른병원  서울 영등포구 여의대방로 145  oyu****   \n",
       "1  6503f9cf15803af914b2b3f3   서울바른병원  서울 영등포구 여의대방로 145  o0p****   \n",
       "2  6503f9cf15803af914b2b3f4   서울바른병원  서울 영등포구 여의대방로 145  asy****   \n",
       "\n",
       "                                      content              date  visits  \n",
       "0  입구부터 느껴지는 청결함과, 친절한 분위기! 웃으며 인사해주신 직원분께 감사  2023년 9월 14일 목요일  1번째 방문  \n",
       "1          설명 쉽게 쉽게 잘해주시고 꼼꼼함 면에서도 상당히 만족스러워요  2023년 9월 13일 수요일  1번째 방문  \n",
       "2   다른데 안가고 여기서 치료 받길 잘했어요, 상담부터 편하게해주셔서 감사해요  2023년 9월 12일 화요일  1번째 방문  "
      ]
     },
     "execution_count": 9,
     "metadata": {},
     "output_type": "execute_result"
    }
   ],
   "source": [
    "df_total[:3]"
   ]
  },
  {
   "cell_type": "code",
   "execution_count": 10,
   "id": "8649813c-d4e3-4154-a13f-0624b70c8aec",
   "metadata": {
    "tags": []
   },
   "outputs": [
    {
     "data": {
      "text/html": [
       "<div>\n",
       "<style scoped>\n",
       "    .dataframe tbody tr th:only-of-type {\n",
       "        vertical-align: middle;\n",
       "    }\n",
       "\n",
       "    .dataframe tbody tr th {\n",
       "        vertical-align: top;\n",
       "    }\n",
       "\n",
       "    .dataframe thead th {\n",
       "        text-align: right;\n",
       "    }\n",
       "</style>\n",
       "<table border=\"1\" class=\"dataframe\">\n",
       "  <thead>\n",
       "    <tr style=\"text-align: right;\">\n",
       "      <th></th>\n",
       "      <th>hospital</th>\n",
       "      <th>address</th>\n",
       "      <th>name</th>\n",
       "      <th>content</th>\n",
       "      <th>date</th>\n",
       "      <th>visits</th>\n",
       "    </tr>\n",
       "  </thead>\n",
       "  <tbody>\n",
       "    <tr>\n",
       "      <th>0</th>\n",
       "      <td>서울바른병원</td>\n",
       "      <td>서울 영등포구 여의대방로 145</td>\n",
       "      <td>oyu****</td>\n",
       "      <td>입구부터 느껴지는 청결함과, 친절한 분위기! 웃으며 인사해주신 직원분께 감사</td>\n",
       "      <td>2023년 9월 14일 목요일</td>\n",
       "      <td>1번째 방문</td>\n",
       "    </tr>\n",
       "    <tr>\n",
       "      <th>1</th>\n",
       "      <td>서울바른병원</td>\n",
       "      <td>서울 영등포구 여의대방로 145</td>\n",
       "      <td>o0p****</td>\n",
       "      <td>설명 쉽게 쉽게 잘해주시고 꼼꼼함 면에서도 상당히 만족스러워요</td>\n",
       "      <td>2023년 9월 13일 수요일</td>\n",
       "      <td>1번째 방문</td>\n",
       "    </tr>\n",
       "    <tr>\n",
       "      <th>2</th>\n",
       "      <td>서울바른병원</td>\n",
       "      <td>서울 영등포구 여의대방로 145</td>\n",
       "      <td>asy****</td>\n",
       "      <td>다른데 안가고 여기서 치료 받길 잘했어요, 상담부터 편하게해주셔서 감사해요</td>\n",
       "      <td>2023년 9월 12일 화요일</td>\n",
       "      <td>1번째 방문</td>\n",
       "    </tr>\n",
       "  </tbody>\n",
       "</table>\n",
       "</div>"
      ],
      "text/plain": [
       "  hospital            address     name  \\\n",
       "0   서울바른병원  서울 영등포구 여의대방로 145  oyu****   \n",
       "1   서울바른병원  서울 영등포구 여의대방로 145  o0p****   \n",
       "2   서울바른병원  서울 영등포구 여의대방로 145  asy****   \n",
       "\n",
       "                                      content              date  visits  \n",
       "0  입구부터 느껴지는 청결함과, 친절한 분위기! 웃으며 인사해주신 직원분께 감사  2023년 9월 14일 목요일  1번째 방문  \n",
       "1          설명 쉽게 쉽게 잘해주시고 꼼꼼함 면에서도 상당히 만족스러워요  2023년 9월 13일 수요일  1번째 방문  \n",
       "2   다른데 안가고 여기서 치료 받길 잘했어요, 상담부터 편하게해주셔서 감사해요  2023년 9월 12일 화요일  1번째 방문  "
      ]
     },
     "execution_count": 10,
     "metadata": {},
     "output_type": "execute_result"
    }
   ],
   "source": [
    "df_drop_id = df_total.drop('_id', axis=1)\n",
    "df_drop_id[:3]"
   ]
  },
  {
   "cell_type": "code",
   "execution_count": 12,
   "id": "6d1f9b63-ea40-4a9e-8a6e-380c9c534f2a",
   "metadata": {
    "tags": []
   },
   "outputs": [
    {
     "name": "stdout",
     "output_type": "stream",
     "text": [
      "<class 'pandas.core.frame.DataFrame'>\n",
      "RangeIndex: 15672 entries, 0 to 15671\n",
      "Data columns (total 6 columns):\n",
      " #   Column    Non-Null Count  Dtype \n",
      "---  ------    --------------  ----- \n",
      " 0   hospital  15672 non-null  object\n",
      " 1   address   15672 non-null  object\n",
      " 2   name      15672 non-null  object\n",
      " 3   content   15672 non-null  object\n",
      " 4   date      15672 non-null  object\n",
      " 5   visits    15672 non-null  object\n",
      "dtypes: object(6)\n",
      "memory usage: 734.8+ KB\n"
     ]
    }
   ],
   "source": [
    "df_drop_id.info()"
   ]
  },
  {
   "cell_type": "code",
   "execution_count": 11,
   "id": "40e6790f-0d66-49c5-afbc-f9b918f3738d",
   "metadata": {
    "tags": []
   },
   "outputs": [
    {
     "name": "stdout",
     "output_type": "stream",
     "text": [
      "<class 'pandas.core.frame.DataFrame'>\n",
      "Int64Index: 14102 entries, 0 to 15671\n",
      "Data columns (total 6 columns):\n",
      " #   Column    Non-Null Count  Dtype \n",
      "---  ------    --------------  ----- \n",
      " 0   hospital  14102 non-null  object\n",
      " 1   address   14102 non-null  object\n",
      " 2   name      14102 non-null  object\n",
      " 3   content   14102 non-null  object\n",
      " 4   date      14102 non-null  object\n",
      " 5   visits    14102 non-null  object\n",
      "dtypes: object(6)\n",
      "memory usage: 771.2+ KB\n"
     ]
    }
   ],
   "source": [
    "df_drop_dup = df_drop_id.drop_duplicates()\n",
    "df_drop_dup.info()"
   ]
  },
  {
   "cell_type": "code",
   "execution_count": 13,
   "id": "9d3c66af-9a05-48a2-bf79-644ae04a5996",
   "metadata": {
    "tags": []
   },
   "outputs": [],
   "source": [
    "df_drop_dup.to_csv('./JungMoonChoi.csv')"
   ]
  },
  {
   "cell_type": "code",
   "execution_count": 6,
   "id": "a619cc74-8a46-4bc2-92de-89a2ce998b29",
   "metadata": {
    "tags": []
   },
   "outputs": [],
   "source": [
    "# {\"content\": {\"$regex\": \"수술\"}}\n",
    "# {\"hospital\": {\"$regex\": \"연세백퍼센트병원\"}}\n",
    "# {\"name\": {\"$regex\": \"동동\"}}"
   ]
  }
 ],
 "metadata": {
  "kernelspec": {
   "display_name": "Python 3 (ipykernel)",
   "language": "python",
   "name": "python3"
  },
  "language_info": {
   "codemirror_mode": {
    "name": "ipython",
    "version": 3
   },
   "file_extension": ".py",
   "mimetype": "text/x-python",
   "name": "python",
   "nbconvert_exporter": "python",
   "pygments_lexer": "ipython3",
   "version": "3.11.3"
  }
 },
 "nbformat": 4,
 "nbformat_minor": 5
}
