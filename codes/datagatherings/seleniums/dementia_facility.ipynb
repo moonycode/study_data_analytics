{
 "cells": [
  {
   "cell_type": "markdown",
   "id": "5837ca9b-766a-4162-b3c2-8ccac266c43b",
   "metadata": {},
   "source": [
    "### 중앙치매센터 치매시설정보 크롤링\n",
    "- https://www.nid.or.kr/info/facility_list.aspx"
   ]
  },
  {
   "cell_type": "code",
   "execution_count": 2,
   "id": "1de83b2f-c957-4f53-b4ae-295ad7461bd3",
   "metadata": {
    "tags": []
   },
   "outputs": [
    {
     "name": "stdout",
     "output_type": "stream",
     "text": [
      "Name: selenium\n",
      "Version: 4.12.0\n",
      "Summary: \n",
      "Home-page: https://www.selenium.dev\n",
      "Author: \n",
      "Author-email: \n",
      "License: Apache 2.0\n",
      "Location: C:\\Users\\moony\\anaconda3\\Lib\\site-packages\n",
      "Requires: certifi, trio, trio-websocket, urllib3\n",
      "Required-by: \n"
     ]
    }
   ],
   "source": [
    "!pip show selenium"
   ]
  },
  {
   "cell_type": "code",
   "execution_count": null,
   "id": "ebf11e62-ae26-4d37-850b-cf30a343ca31",
   "metadata": {
    "tags": []
   },
   "outputs": [],
   "source": [
    "! pip uninstall selenium"
   ]
  },
  {
   "cell_type": "code",
   "execution_count": null,
   "id": "83393306-8e39-4958-9374-9b44ac646c5f",
   "metadata": {
    "tags": []
   },
   "outputs": [],
   "source": [
    "! pip install selenium==3.14.1"
   ]
  },
  {
   "cell_type": "code",
   "execution_count": null,
   "id": "b7f07007-db15-490b-b9bd-44b19d20263a",
   "metadata": {
    "tags": []
   },
   "outputs": [],
   "source": [
    "from selenium import webdriver\n",
    "from selenium.webdriver.common.keys import Keys\n",
    "from selenium.webdriver.common.by import By\n",
    "from selenium.webdriver.support.ui import WebDriverWait\n",
    "from selenium.webdriver.support import expected_conditions as EC\n",
    "import time\n",
    "import pandas as pd\n",
    "import pymongo as mg\n",
    "import traceback"
   ]
  },
  {
   "cell_type": "code",
   "execution_count": null,
   "id": "18abe01f-a20d-4f5d-9fb5-967e2ac57381",
   "metadata": {
    "tags": []
   },
   "outputs": [],
   "source": [
    "client = mg.MongoClient(host='mongodb://localhost:27017')\n",
    "database = client['facility_infos']\n",
    "collection = database['dementia']"
   ]
  },
  {
   "cell_type": "code",
   "execution_count": null,
   "id": "1df2e3bf-d642-411c-ac8f-f1ab426ebc3b",
   "metadata": {
    "tags": []
   },
   "outputs": [],
   "source": [
    "# open chrome browser\n",
    "browser = webdriver.Chrome(executable_path='../../../../chromedriver.exe')"
   ]
  },
  {
   "cell_type": "code",
   "execution_count": null,
   "id": "fa4cfa3b-9ad7-4c22-8fd7-e5efac4915a7",
   "metadata": {
    "tags": []
   },
   "outputs": [],
   "source": [
    "url = 'https://www.nid.or.kr/info/facility_list.aspx'\n",
    "browser.get(url)\n",
    "browser.implicitly_wait(3)"
   ]
  },
  {
   "cell_type": "markdown",
   "id": "82251f84-c3d7-4a8e-9775-6bd44d1097fd",
   "metadata": {},
   "source": [
    "### Tags\n",
    "['시설명', '주소', '시설분류정보', '전화번호', '홈페이지']<br>\n",
    "['name', 'address', 'category', 'number', 'website']<br>\n",
    "['시설명', '주소', '위도', '경도', '대분류', '중분류', '소분류', '전화번호', '홈페이지']<br>\n",
    "['name', 'address', 'latitude', 'longitude', 'main_category', 'sub_category', 'sub_category_2', 'number', 'website']\n",
    "- 상세 버튼 : #dev_tbody > tr:nth-child({1~10, 마지막페이지 8}) > td:nth-child(4) > a\n",
    "- 상세 버튼 목록 : #dev_tbody > tr > td:nth-child(4) > a\n",
    "- 닫기 버튼 : div > div.popTitle > a\n",
    "\n",
    "- 페이지 버튼 목록 : #div_paging > div > ol > li > a\n",
    "- 페이지 버튼 : #div_paging > div > ol > li:nth-child({1~10}, 마지막 1) > a\n",
    "- 다음 페이지 목록 : xpath : //*[@id=\"div_paging\"]/div/a/img[@alt=\"다음\"]\n",
    "- 시설명 : div.list_tbl_01.fix > table > tbody > tr:nth-child(1) > td:nth-child(2)\n",
    "- 주소 : div.list_tbl_01.fix > table > tbody > tr:nth-child(2) > td\n",
    "- 시설분류정보 : div.list_info > div.dx_fa_div > ul > li\n",
    "- 전화번호 : div.list_tbl_01.fix > table > tbody > tr:nth-child(1) > td:nth-child(4)\n",
    "- 홈페이지 : div.list_tbl_01.fix > table > tbody > tr:nth-child(3) > td\n"
   ]
  },
  {
   "cell_type": "code",
   "execution_count": null,
   "id": "e9b0b9e4-b796-4d54-9690-52a0f1ecdaf1",
   "metadata": {
    "tags": []
   },
   "outputs": [],
   "source": [
    "facility_list = []\n",
    "columns_name = ['name', 'address', 'category', 'number', 'website']\n",
    "\n",
    "# 페이지 버튼 목록 가져오기\n",
    "while True : \n",
    "    page_list = browser.find_elements_by_css_selector('#div_paging > div > ol > li > a')\n",
    "\n",
    "    for index, page in enumerate(page_list) :\n",
    "        detail_btns = browser.find_elements_by_css_selector('#dev_tbody > tr > td:nth-child(4) > a')\n",
    "        for idx, btn in enumerate(detail_btns) :\n",
    "\n",
    "            # 상세보기 클릭\n",
    "            element = WebDriverWait(browser, 10).until(EC.presence_of_element_located((By.CSS_SELECTOR, '#dev_tbody > tr:nth-child({}) > td:nth-child(4) > a'.format(idx+1))))\n",
    "            element.click()\n",
    "\n",
    "            browser.switch_to.frame('frameLayer_frame') # 상세페이지로 browser 전환\n",
    "            name = WebDriverWait(browser, 10).until(EC.presence_of_element_located((By.XPATH, '/html/body/div/div[2]/div/div[2]/div[2]/table/tbody/tr[1]/td[1]')))\n",
    "            name = name.text\n",
    "            address = browser.find_element_by_xpath('/html/body/div/div[2]/div/div[2]/div[2]/table/tbody/tr[2]/td').text\n",
    "            category = browser.find_element_by_xpath('/html/body/div/div[2]/div/div[2]/div[1]/ul/li').text\n",
    "            number = browser.find_element_by_xpath('/html/body/div/div[2]/div/div[2]/div[2]/table/tbody/tr[1]/td[2]').text\n",
    "            website = browser.find_element_by_xpath('/html/body/div/div[2]/div/div[2]/div[2]/table/tbody/tr[3]/td').text\n",
    "            facility_info = [name, address, category, number, website]\n",
    "            facility_list.append(facility_info)\n",
    "\n",
    "            # 상세페이지 닫기\n",
    "            close_btn = browser.find_element_by_xpath('/html/body/div/div[1]/a/img[@alt=\"닫기\"]')\n",
    "            browser.execute_script(\"arguments[0].click();\", close_btn)\n",
    "            browser.switch_to.parent_frame()\n",
    "        try: \n",
    "            next_page = browser.find_element_by_css_selector('div > ol > li:nth-child({})'.format(index+2))\n",
    "            next_page.click()\n",
    "        except:\n",
    "            try:\n",
    "                next_btn = browser.find_element_by_xpath('//*[@id=\"div_paging\"]/div/a/img[@alt=\"다음\"]')\n",
    "                next_btn.click()\n",
    "                pass\n",
    "            except Exception as e:\n",
    "                print(f\"에러 발생: {str(e)}\")                                                                                                                                                                                                                                                                                                                                                                                                                                                                                                                                                                                                           \n",
    "                traceback.print_exc() \n",
    "                break\n",
    "    break"
   ]
  },
  {
   "cell_type": "code",
   "execution_count": null,
   "id": "bd533b00-8d01-4033-8b70-3d0853d22504",
   "metadata": {},
   "outputs": [],
   "source": [
    "# DB에 추가\n",
    "df_dementia_facility = pd.DataFrame(data=facility_list, columns=columns_name)\n",
    "data_dict = df_dementia_facility.to_dict(orient='records')\n",
    "collection.insert_many(data_dict)  "
   ]
  },
  {
   "cell_type": "code",
   "execution_count": null,
   "id": "592e85d2-1012-4599-9d52-761950e7b744",
   "metadata": {},
   "outputs": [],
   "source": [
    "browser.quit()"
   ]
  },
  {
   "cell_type": "code",
   "execution_count": null,
   "id": "22e56e96-faa9-4548-a337-ecde20d66abb",
   "metadata": {
    "tags": []
   },
   "outputs": [],
   "source": [
    "cursor = collection.find({})\n",
    "list_cursors = list(cursor)"
   ]
  },
  {
   "cell_type": "code",
   "execution_count": null,
   "id": "62f5a9a5-70bf-40d1-9a34-76aaf71e14c7",
   "metadata": {
    "tags": []
   },
   "outputs": [],
   "source": [
    "df_total = pd.DataFrame(list_cursors)"
   ]
  },
  {
   "cell_type": "code",
   "execution_count": null,
   "id": "b905e2be-f419-4295-98cf-4d344ff6bfa1",
   "metadata": {
    "tags": []
   },
   "outputs": [],
   "source": [
    "df_total[:3]"
   ]
  },
  {
   "cell_type": "code",
   "execution_count": null,
   "id": "8649813c-d4e3-4154-a13f-0624b70c8aec",
   "metadata": {
    "tags": []
   },
   "outputs": [],
   "source": [
    "df_drop_id = df_total.drop('_id', axis=1)\n",
    "df_drop_id[:3]"
   ]
  },
  {
   "cell_type": "code",
   "execution_count": null,
   "id": "6d1f9b63-ea40-4a9e-8a6e-380c9c534f2a",
   "metadata": {
    "tags": []
   },
   "outputs": [],
   "source": [
    "df_drop_id.info()"
   ]
  },
  {
   "cell_type": "code",
   "execution_count": null,
   "id": "40e6790f-0d66-49c5-afbc-f9b918f3738d",
   "metadata": {
    "tags": []
   },
   "outputs": [],
   "source": [
    "df_drop_dup = df_drop_id.drop_duplicates()\n",
    "df_drop_dup.info()"
   ]
  },
  {
   "cell_type": "code",
   "execution_count": null,
   "id": "9d3c66af-9a05-48a2-bf79-644ae04a5996",
   "metadata": {
    "tags": []
   },
   "outputs": [],
   "source": [
    "df_drop_dup.to_csv('./dementia_facility.csv')"
   ]
  },
  {
   "cell_type": "code",
   "execution_count": null,
   "id": "a619cc74-8a46-4bc2-92de-89a2ce998b29",
   "metadata": {
    "tags": []
   },
   "outputs": [],
   "source": [
    "# {\"content\": {\"$regex\": \"수술\"}}\n",
    "# {\"hospital\": {\"$regex\": \"연세백퍼센트병원\"}}\n",
    "# {\"name\": {\"$regex\": \"동동\"}}ㅠ"
   ]
  },
  {
   "cell_type": "code",
   "execution_count": null,
   "id": "62666be2-8092-4fb8-8eee-8f3982405558",
   "metadata": {
    "tags": []
   },
   "outputs": [],
   "source": [
    "# MongoDB에 연결\n",
    "client = mg.MongoClient(\"mongodb://localhost:27017\")\n",
    "\n",
    "# 데이터베이스와 컬렉션 선택\n",
    "database = client['facility_infos']\n",
    "collection = database['dementia_drop_duplicates']\n",
    "\n",
    "# 자동 생성된 컬럼의 이름 확인\n",
    "# 이 부분에서 자동 생성된 컬럼의 이름을 확인합니다.\n",
    "\n",
    "# 컬럼 삭제 (예를 들어, \"column_name\"을 삭제하려면)\n",
    "result = collection.update_many({}, {\"$unset\": {\"_id\": \"\"}})\n",
    "result = collection.update_many({}, {\"$unset\": {\"\": \"\"}})\n",
    "\n",
    "# 결과 확인\n",
    "print(f\"삭제된 문서 수: {result.modified_count}\")"
   ]
  },
  {
   "cell_type": "code",
   "execution_count": null,
   "id": "3387eb76-6e06-4ece-b4e5-304ab9fe397b",
   "metadata": {},
   "outputs": [],
   "source": []
  }
 ],
 "metadata": {
  "kernelspec": {
   "display_name": "Python 3 (ipykernel)",
   "language": "python",
   "name": "python3"
  },
  "language_info": {
   "codemirror_mode": {
    "name": "ipython",
    "version": 3
   },
   "file_extension": ".py",
   "mimetype": "text/x-python",
   "name": "python",
   "nbconvert_exporter": "python",
   "pygments_lexer": "ipython3",
   "version": "3.11.4"
  }
 },
 "nbformat": 4,
 "nbformat_minor": 5
}
