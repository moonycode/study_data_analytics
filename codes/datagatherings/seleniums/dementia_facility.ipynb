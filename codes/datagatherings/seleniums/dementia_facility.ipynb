{
 "cells": [
  {
   "cell_type": "markdown",
   "id": "5837ca9b-766a-4162-b3c2-8ccac266c43b",
   "metadata": {},
   "source": [
    "### 중앙치매센터 치매시설정보 크롤링\n",
    "- https://www.nid.or.kr/info/facility_list.aspx"
   ]
  },
  {
   "cell_type": "code",
   "execution_count": 1,
   "id": "b7f07007-db15-490b-b9bd-44b19d20263a",
   "metadata": {
    "tags": []
   },
   "outputs": [],
   "source": [
    "from selenium import webdriver\n",
    "from selenium.webdriver.common.keys import Keys\n",
    "from selenium.webdriver.common.by import By\n",
    "from selenium.webdriver.support.ui import WebDriverWait\n",
    "from selenium.webdriver.support import expected_conditions as EC\n",
    "import time\n",
    "import pandas as pd\n",
    "import pymongo as mg\n",
    "import traceback"
   ]
  },
  {
   "cell_type": "code",
   "execution_count": 2,
   "id": "18abe01f-a20d-4f5d-9fb5-967e2ac57381",
   "metadata": {},
   "outputs": [],
   "source": [
    "client = mg.MongoClient(host='mongodb://localhost:27017')\n",
    "database = client['facility_infos']\n",
    "collection = database['dementia']"
   ]
  },
  {
   "cell_type": "code",
   "execution_count": 3,
   "id": "1df2e3bf-d642-411c-ac8f-f1ab426ebc3b",
   "metadata": {
    "tags": []
   },
   "outputs": [
    {
     "ename": "TypeError",
     "evalue": "WebDriver.__init__() got an unexpected keyword argument 'executable_path'",
     "output_type": "error",
     "traceback": [
      "\u001b[1;31m---------------------------------------------------------------------------\u001b[0m",
      "\u001b[1;31mTypeError\u001b[0m                                 Traceback (most recent call last)",
      "Cell \u001b[1;32mIn[3], line 2\u001b[0m\n\u001b[0;32m      1\u001b[0m \u001b[38;5;66;03m# open chrome browser\u001b[39;00m\n\u001b[1;32m----> 2\u001b[0m browser \u001b[38;5;241m=\u001b[39m webdriver\u001b[38;5;241m.\u001b[39mChrome(executable_path\u001b[38;5;241m=\u001b[39m\u001b[38;5;124m'\u001b[39m\u001b[38;5;124m../../../../chromedriver.exe\u001b[39m\u001b[38;5;124m'\u001b[39m)\n",
      "\u001b[1;31mTypeError\u001b[0m: WebDriver.__init__() got an unexpected keyword argument 'executable_path'"
     ]
    }
   ],
   "source": [
    "# open chrome browser\n",
    "browser = webdriver.Chrome(executable_path='../../../../chromedriver.exe')"
   ]
  },
  {
   "cell_type": "code",
   "execution_count": 17,
   "id": "fa4cfa3b-9ad7-4c22-8fd7-e5efac4915a7",
   "metadata": {
    "tags": []
   },
   "outputs": [],
   "source": [
    "url = 'https://www.nid.or.kr/info/facility_list.aspx'\n",
    "browser.get(url)\n",
    "browser.implicitly_wait(3)"
   ]
  },
  {
   "cell_type": "markdown",
   "id": "82251f84-c3d7-4a8e-9775-6bd44d1097fd",
   "metadata": {},
   "source": [
    "### Tags\n",
    "['시설명', '주소', '시설분류정보', '전화번호', '홈페이지']<br>\n",
    "['name', 'address', 'category', 'number', 'website']<br>\n",
    "['시설명', '주소', '위도', '경도', '대분류', '중분류', '소분류', '전화번호', '홈페이지']<br>\n",
    "['name', 'address', 'latitude', 'longitude', 'main_category', 'sub_category', 'sub_category_2', 'number', 'website']\n",
    "- 상세 버튼 : #dev_tbody > tr:nth-child({1~10, 마지막페이지 8}) > td:nth-child(4) > a\n",
    "- 상세 버튼 목록 : #dev_tbody > tr > td:nth-child(4) > a\n",
    "- 닫기 버튼 : div > div.popTitle > a\n",
    "\n",
    "- 페이지 버튼 목록 : #div_paging > div > ol > li > a\n",
    "- 페이지 버튼 : #div_paging > div > ol > li:nth-child({1~10}, 마지막 1) > a\n",
    "- 다음 페이지 목록 : xpath : //*[@id=\"div_paging\"]/div/a/img[@alt=\"다음\"]\n",
    "- 시설명 : div.list_tbl_01.fix > table > tbody > tr:nth-child(1) > td:nth-child(2)\n",
    "- 주소 : div.list_tbl_01.fix > table > tbody > tr:nth-child(2) > td\n",
    "- 시설분류정보 : div.list_info > div.dx_fa_div > ul > li\n",
    "- 전화번호 : div.list_tbl_01.fix > table > tbody > tr:nth-child(1) > td:nth-child(4)\n",
    "- 홈페이지 : div.list_tbl_01.fix > table > tbody > tr:nth-child(3) > td\n"
   ]
  },
  {
   "cell_type": "code",
   "execution_count": 18,
   "id": "e9b0b9e4-b796-4d54-9690-52a0f1ecdaf1",
   "metadata": {
    "tags": []
   },
   "outputs": [],
   "source": [
    "facility_list = []\n",
    "columns_name = ['name', 'address', 'category', 'number', 'website']\n",
    "\n",
    "# 페이지 버튼 목록 가져오기\n",
    "while True : \n",
    "    page_list = browser.find_elements_by_css_selector('#div_paging > div > ol > li > a')\n",
    "\n",
    "    for index, page in enumerate(page_list) :\n",
    "        detail_btns = browser.find_elements_by_css_selector('#dev_tbody > tr > td:nth-child(4) > a')\n",
    "        for idx, btn in enumerate(detail_btns) :\n",
    "\n",
    "            # 상세보기 클릭\n",
    "            element = WebDriverWait(browser, 10).until(EC.presence_of_element_located((By.CSS_SELECTOR, '#dev_tbody > tr:nth-child({}) > td:nth-child(4) > a'.format(idx+1))))\n",
    "            element.click()\n",
    "\n",
    "            browser.switch_to.frame('frameLayer_frame') # 상세페이지로 browser 전환\n",
    "            name = WebDriverWait(browser, 10).until(EC.presence_of_element_located((By.XPATH, '/html/body/div/div[2]/div/div[2]/div[2]/table/tbody/tr[1]/td[1]')))\n",
    "            name = name.text\n",
    "            address = browser.find_element_by_xpath('/html/body/div/div[2]/div/div[2]/div[2]/table/tbody/tr[2]/td').text\n",
    "            category = browser.find_element_by_xpath('/html/body/div/div[2]/div/div[2]/div[1]/ul/li').text\n",
    "            number = browser.find_element_by_xpath('/html/body/div/div[2]/div/div[2]/div[2]/table/tbody/tr[1]/td[2]').text\n",
    "            website = browser.find_element_by_xpath('/html/body/div/div[2]/div/div[2]/div[2]/table/tbody/tr[3]/td').text\n",
    "            facility_info = [name, address, category, number, website]\n",
    "            facility_list.append(facility_info)\n",
    "\n",
    "            # 상세페이지 닫기\n",
    "            close_btn = browser.find_element_by_xpath('/html/body/div/div[1]/a/img[@alt=\"닫기\"]')\n",
    "            browser.execute_script(\"arguments[0].click();\", close_btn)\n",
    "            browser.switch_to.parent_frame()\n",
    "        try: \n",
    "            next_page = browser.find_element_by_css_selector('div > ol > li:nth-child({})'.format(index+2))\n",
    "            next_page.click()\n",
    "        except:\n",
    "            try:\n",
    "                next_btn = browser.find_element_by_xpath('//*[@id=\"div_paging\"]/div/a/img[@alt=\"다음\"]')\n",
    "                next_btn.click()\n",
    "                pass\n",
    "            except Exception as e:\n",
    "                print(f\"에러 발생: {str(e)}\")                                                                                                                                                                                                                                                                                                                                                                                                                                                                                                                                                                                                           \n",
    "                traceback.print_exc() \n",
    "                break\n",
    "    break"
   ]
  },
  {
   "cell_type": "code",
   "execution_count": 6,
   "id": "bd533b00-8d01-4033-8b70-3d0853d22504",
   "metadata": {},
   "outputs": [
    {
     "data": {
      "text/plain": [
       "<pymongo.results.InsertManyResult at 0x1e47fa11200>"
      ]
     },
     "execution_count": 6,
     "metadata": {},
     "output_type": "execute_result"
    }
   ],
   "source": [
    "# DB에 추가\n",
    "df_dementia_facility = pd.DataFrame(data=facility_list, columns=columns_name)\n",
    "data_dict = df_dementia_facility.to_dict(orient='records')\n",
    "collection.insert_many(data_dict)  "
   ]
  },
  {
   "cell_type": "code",
   "execution_count": 7,
   "id": "592e85d2-1012-4599-9d52-761950e7b744",
   "metadata": {},
   "outputs": [],
   "source": [
    "browser.quit()"
   ]
  },
  {
   "cell_type": "code",
   "execution_count": 3,
   "id": "22e56e96-faa9-4548-a337-ecde20d66abb",
   "metadata": {
    "tags": []
   },
   "outputs": [],
   "source": [
    "cursor = collection.find({})\n",
    "list_cursors = list(cursor)"
   ]
  },
  {
   "cell_type": "code",
   "execution_count": 4,
   "id": "62f5a9a5-70bf-40d1-9a34-76aaf71e14c7",
   "metadata": {
    "tags": []
   },
   "outputs": [],
   "source": [
    "df_total = pd.DataFrame(list_cursors)"
   ]
  },
  {
   "cell_type": "code",
   "execution_count": 5,
   "id": "b905e2be-f419-4295-98cf-4d344ff6bfa1",
   "metadata": {
    "tags": []
   },
   "outputs": [
    {
     "data": {
      "text/html": [
       "<div>\n",
       "<style scoped>\n",
       "    .dataframe tbody tr th:only-of-type {\n",
       "        vertical-align: middle;\n",
       "    }\n",
       "\n",
       "    .dataframe tbody tr th {\n",
       "        vertical-align: top;\n",
       "    }\n",
       "\n",
       "    .dataframe thead th {\n",
       "        text-align: right;\n",
       "    }\n",
       "</style>\n",
       "<table border=\"1\" class=\"dataframe\">\n",
       "  <thead>\n",
       "    <tr style=\"text-align: right;\">\n",
       "      <th></th>\n",
       "      <th>_id</th>\n",
       "      <th>name</th>\n",
       "      <th>address</th>\n",
       "      <th>category</th>\n",
       "      <th>number</th>\n",
       "      <th>website</th>\n",
       "    </tr>\n",
       "  </thead>\n",
       "  <tbody>\n",
       "    <tr>\n",
       "      <th>0</th>\n",
       "      <td>650d01c697b55f0614b10b9c</td>\n",
       "      <td>중앙치매센터</td>\n",
       "      <td>서울특별시 중구 을지로 245 (을지로 6가 18-79) 국립중앙의료원 중앙치매센터</td>\n",
       "      <td>치매센터 &gt; 중앙치매센터</td>\n",
       "      <td>1666-0921</td>\n",
       "      <td>www.nid.or.kr</td>\n",
       "    </tr>\n",
       "    <tr>\n",
       "      <th>1</th>\n",
       "      <td>650d01c697b55f0614b10b9d</td>\n",
       "      <td>서울특별시 광역치매센터</td>\n",
       "      <td>서울시 종로구 대학로 47 이화에수풀 2층</td>\n",
       "      <td>치매센터 &gt; 광역치매센터</td>\n",
       "      <td>02-3431-7200</td>\n",
       "      <td>seoul.nid.or.kr/home/main/main.aspx</td>\n",
       "    </tr>\n",
       "    <tr>\n",
       "      <th>2</th>\n",
       "      <td>650d01c697b55f0614b10b9e</td>\n",
       "      <td>부산광역시 광역치매센터</td>\n",
       "      <td>부산광역시 서구 대신공원로 26, 동아대학교병원 센터동 10층</td>\n",
       "      <td>치매센터 &gt; 광역치매센터</td>\n",
       "      <td>051-240-2560</td>\n",
       "      <td>https://busan.nid.or.kr</td>\n",
       "    </tr>\n",
       "  </tbody>\n",
       "</table>\n",
       "</div>"
      ],
      "text/plain": [
       "                        _id          name  \\\n",
       "0  650d01c697b55f0614b10b9c        중앙치매센터   \n",
       "1  650d01c697b55f0614b10b9d  서울특별시 광역치매센터   \n",
       "2  650d01c697b55f0614b10b9e  부산광역시 광역치매센터   \n",
       "\n",
       "                                          address       category  \\\n",
       "0  서울특별시 중구 을지로 245 (을지로 6가 18-79) 국립중앙의료원 중앙치매센터  치매센터 > 중앙치매센터   \n",
       "1                         서울시 종로구 대학로 47 이화에수풀 2층  치매센터 > 광역치매센터   \n",
       "2              부산광역시 서구 대신공원로 26, 동아대학교병원 센터동 10층  치매센터 > 광역치매센터   \n",
       "\n",
       "         number                              website  \n",
       "0     1666-0921                        www.nid.or.kr  \n",
       "1  02-3431-7200  seoul.nid.or.kr/home/main/main.aspx  \n",
       "2  051-240-2560              https://busan.nid.or.kr  "
      ]
     },
     "execution_count": 5,
     "metadata": {},
     "output_type": "execute_result"
    }
   ],
   "source": [
    "df_total[:3]"
   ]
  },
  {
   "cell_type": "code",
   "execution_count": 6,
   "id": "8649813c-d4e3-4154-a13f-0624b70c8aec",
   "metadata": {
    "tags": []
   },
   "outputs": [
    {
     "data": {
      "text/html": [
       "<div>\n",
       "<style scoped>\n",
       "    .dataframe tbody tr th:only-of-type {\n",
       "        vertical-align: middle;\n",
       "    }\n",
       "\n",
       "    .dataframe tbody tr th {\n",
       "        vertical-align: top;\n",
       "    }\n",
       "\n",
       "    .dataframe thead th {\n",
       "        text-align: right;\n",
       "    }\n",
       "</style>\n",
       "<table border=\"1\" class=\"dataframe\">\n",
       "  <thead>\n",
       "    <tr style=\"text-align: right;\">\n",
       "      <th></th>\n",
       "      <th>name</th>\n",
       "      <th>address</th>\n",
       "      <th>category</th>\n",
       "      <th>number</th>\n",
       "      <th>website</th>\n",
       "    </tr>\n",
       "  </thead>\n",
       "  <tbody>\n",
       "    <tr>\n",
       "      <th>0</th>\n",
       "      <td>중앙치매센터</td>\n",
       "      <td>서울특별시 중구 을지로 245 (을지로 6가 18-79) 국립중앙의료원 중앙치매센터</td>\n",
       "      <td>치매센터 &gt; 중앙치매센터</td>\n",
       "      <td>1666-0921</td>\n",
       "      <td>www.nid.or.kr</td>\n",
       "    </tr>\n",
       "    <tr>\n",
       "      <th>1</th>\n",
       "      <td>서울특별시 광역치매센터</td>\n",
       "      <td>서울시 종로구 대학로 47 이화에수풀 2층</td>\n",
       "      <td>치매센터 &gt; 광역치매센터</td>\n",
       "      <td>02-3431-7200</td>\n",
       "      <td>seoul.nid.or.kr/home/main/main.aspx</td>\n",
       "    </tr>\n",
       "    <tr>\n",
       "      <th>2</th>\n",
       "      <td>부산광역시 광역치매센터</td>\n",
       "      <td>부산광역시 서구 대신공원로 26, 동아대학교병원 센터동 10층</td>\n",
       "      <td>치매센터 &gt; 광역치매센터</td>\n",
       "      <td>051-240-2560</td>\n",
       "      <td>https://busan.nid.or.kr</td>\n",
       "    </tr>\n",
       "  </tbody>\n",
       "</table>\n",
       "</div>"
      ],
      "text/plain": [
       "           name                                         address  \\\n",
       "0        중앙치매센터  서울특별시 중구 을지로 245 (을지로 6가 18-79) 국립중앙의료원 중앙치매센터   \n",
       "1  서울특별시 광역치매센터                         서울시 종로구 대학로 47 이화에수풀 2층   \n",
       "2  부산광역시 광역치매센터              부산광역시 서구 대신공원로 26, 동아대학교병원 센터동 10층   \n",
       "\n",
       "        category        number                              website  \n",
       "0  치매센터 > 중앙치매센터     1666-0921                        www.nid.or.kr  \n",
       "1  치매센터 > 광역치매센터  02-3431-7200  seoul.nid.or.kr/home/main/main.aspx  \n",
       "2  치매센터 > 광역치매센터  051-240-2560              https://busan.nid.or.kr  "
      ]
     },
     "execution_count": 6,
     "metadata": {},
     "output_type": "execute_result"
    }
   ],
   "source": [
    "df_drop_id = df_total.drop('_id', axis=1)\n",
    "df_drop_id[:3]"
   ]
  },
  {
   "cell_type": "code",
   "execution_count": 7,
   "id": "6d1f9b63-ea40-4a9e-8a6e-380c9c534f2a",
   "metadata": {
    "tags": []
   },
   "outputs": [
    {
     "name": "stdout",
     "output_type": "stream",
     "text": [
      "<class 'pandas.core.frame.DataFrame'>\n",
      "RangeIndex: 60866 entries, 0 to 60865\n",
      "Data columns (total 5 columns):\n",
      " #   Column    Non-Null Count  Dtype \n",
      "---  ------    --------------  ----- \n",
      " 0   name      60866 non-null  object\n",
      " 1   address   60866 non-null  object\n",
      " 2   category  60866 non-null  object\n",
      " 3   number    60866 non-null  object\n",
      " 4   website   60866 non-null  object\n",
      "dtypes: object(5)\n",
      "memory usage: 2.3+ MB\n"
     ]
    }
   ],
   "source": [
    "df_drop_id.info()"
   ]
  },
  {
   "cell_type": "code",
   "execution_count": 8,
   "id": "40e6790f-0d66-49c5-afbc-f9b918f3738d",
   "metadata": {
    "tags": []
   },
   "outputs": [
    {
     "name": "stdout",
     "output_type": "stream",
     "text": [
      "<class 'pandas.core.frame.DataFrame'>\n",
      "Int64Index: 39076 entries, 0 to 60766\n",
      "Data columns (total 5 columns):\n",
      " #   Column    Non-Null Count  Dtype \n",
      "---  ------    --------------  ----- \n",
      " 0   name      39076 non-null  object\n",
      " 1   address   39076 non-null  object\n",
      " 2   category  39076 non-null  object\n",
      " 3   number    39076 non-null  object\n",
      " 4   website   39076 non-null  object\n",
      "dtypes: object(5)\n",
      "memory usage: 1.8+ MB\n"
     ]
    }
   ],
   "source": [
    "df_drop_dup = df_drop_id.drop_duplicates()\n",
    "df_drop_dup.info()"
   ]
  },
  {
   "cell_type": "code",
   "execution_count": 9,
   "id": "9d3c66af-9a05-48a2-bf79-644ae04a5996",
   "metadata": {
    "tags": []
   },
   "outputs": [],
   "source": [
    "df_drop_dup.to_csv('./dementia_facility.csv')"
   ]
  },
  {
   "cell_type": "code",
   "execution_count": 15,
   "id": "a619cc74-8a46-4bc2-92de-89a2ce998b29",
   "metadata": {
    "tags": []
   },
   "outputs": [],
   "source": [
    "# {\"content\": {\"$regex\": \"수술\"}}\n",
    "# {\"hospital\": {\"$regex\": \"연세백퍼센트병원\"}}\n",
    "# {\"name\": {\"$regex\": \"동동\"}}ㅠ"
   ]
  },
  {
   "cell_type": "code",
   "execution_count": 10,
   "id": "62666be2-8092-4fb8-8eee-8f3982405558",
   "metadata": {
    "tags": []
   },
   "outputs": [
    {
     "ename": "WriteError",
     "evalue": "Performing an update on the path '_id' would modify the immutable field '_id', full error: {'index': 0, 'code': 66, 'errmsg': \"Performing an update on the path '_id' would modify the immutable field '_id'\"}",
     "output_type": "error",
     "traceback": [
      "\u001b[1;31m---------------------------------------------------------------------------\u001b[0m",
      "\u001b[1;31mWriteError\u001b[0m                                Traceback (most recent call last)",
      "Cell \u001b[1;32mIn[10], line 12\u001b[0m\n\u001b[0;32m      6\u001b[0m collection \u001b[38;5;241m=\u001b[39m database[\u001b[38;5;124m'\u001b[39m\u001b[38;5;124mdementia_drop_duplicates\u001b[39m\u001b[38;5;124m'\u001b[39m]\n\u001b[0;32m      8\u001b[0m \u001b[38;5;66;03m# 자동 생성된 컬럼의 이름 확인\u001b[39;00m\n\u001b[0;32m      9\u001b[0m \u001b[38;5;66;03m# 이 부분에서 자동 생성된 컬럼의 이름을 확인합니다.\u001b[39;00m\n\u001b[0;32m     10\u001b[0m \n\u001b[0;32m     11\u001b[0m \u001b[38;5;66;03m# 컬럼 삭제 (예를 들어, \"column_name\"을 삭제하려면)\u001b[39;00m\n\u001b[1;32m---> 12\u001b[0m result \u001b[38;5;241m=\u001b[39m collection\u001b[38;5;241m.\u001b[39mupdate_many({}, {\u001b[38;5;124m\"\u001b[39m\u001b[38;5;124m$unset\u001b[39m\u001b[38;5;124m\"\u001b[39m: {\u001b[38;5;124m\"\u001b[39m\u001b[38;5;124m_id\u001b[39m\u001b[38;5;124m\"\u001b[39m: \u001b[38;5;124m\"\u001b[39m\u001b[38;5;124m\"\u001b[39m}})\n\u001b[0;32m     13\u001b[0m result \u001b[38;5;241m=\u001b[39m collection\u001b[38;5;241m.\u001b[39mupdate_many({}, {\u001b[38;5;124m\"\u001b[39m\u001b[38;5;124m$unset\u001b[39m\u001b[38;5;124m\"\u001b[39m: {\u001b[38;5;124m\"\u001b[39m\u001b[38;5;124m\"\u001b[39m: \u001b[38;5;124m\"\u001b[39m\u001b[38;5;124m\"\u001b[39m}})\n\u001b[0;32m     15\u001b[0m \u001b[38;5;66;03m# 결과 확인\u001b[39;00m\n",
      "File \u001b[1;32m~\\anaconda3\\Lib\\site-packages\\pymongo\\collection.py:1104\u001b[0m, in \u001b[0;36mCollection.update_many\u001b[1;34m(self, filter, update, upsert, array_filters, bypass_document_validation, collation, hint, session)\u001b[0m\n\u001b[0;32m   1100\u001b[0m common\u001b[38;5;241m.\u001b[39mvalidate_list_or_none(\u001b[38;5;124m'\u001b[39m\u001b[38;5;124marray_filters\u001b[39m\u001b[38;5;124m'\u001b[39m, array_filters)\n\u001b[0;32m   1102\u001b[0m write_concern \u001b[38;5;241m=\u001b[39m \u001b[38;5;28mself\u001b[39m\u001b[38;5;241m.\u001b[39m_write_concern_for(session)\n\u001b[0;32m   1103\u001b[0m \u001b[38;5;28;01mreturn\u001b[39;00m UpdateResult(\n\u001b[1;32m-> 1104\u001b[0m     \u001b[38;5;28mself\u001b[39m\u001b[38;5;241m.\u001b[39m_update_retryable(\n\u001b[0;32m   1105\u001b[0m         \u001b[38;5;28mfilter\u001b[39m, update, upsert, check_keys\u001b[38;5;241m=\u001b[39m\u001b[38;5;28;01mFalse\u001b[39;00m, multi\u001b[38;5;241m=\u001b[39m\u001b[38;5;28;01mTrue\u001b[39;00m,\n\u001b[0;32m   1106\u001b[0m         write_concern\u001b[38;5;241m=\u001b[39mwrite_concern,\n\u001b[0;32m   1107\u001b[0m         bypass_doc_val\u001b[38;5;241m=\u001b[39mbypass_document_validation,\n\u001b[0;32m   1108\u001b[0m         collation\u001b[38;5;241m=\u001b[39mcollation, array_filters\u001b[38;5;241m=\u001b[39marray_filters,\n\u001b[0;32m   1109\u001b[0m         hint\u001b[38;5;241m=\u001b[39mhint, session\u001b[38;5;241m=\u001b[39msession),\n\u001b[0;32m   1110\u001b[0m     write_concern\u001b[38;5;241m.\u001b[39macknowledged)\n",
      "File \u001b[1;32m~\\anaconda3\\Lib\\site-packages\\pymongo\\collection.py:877\u001b[0m, in \u001b[0;36mCollection._update_retryable\u001b[1;34m(self, criteria, document, upsert, check_keys, multi, manipulate, write_concern, op_id, ordered, bypass_doc_val, collation, array_filters, hint, session)\u001b[0m\n\u001b[0;32m    868\u001b[0m \u001b[38;5;28;01mdef\u001b[39;00m \u001b[38;5;21m_update\u001b[39m(session, sock_info, retryable_write):\n\u001b[0;32m    869\u001b[0m     \u001b[38;5;28;01mreturn\u001b[39;00m \u001b[38;5;28mself\u001b[39m\u001b[38;5;241m.\u001b[39m_update(\n\u001b[0;32m    870\u001b[0m         sock_info, criteria, document, upsert\u001b[38;5;241m=\u001b[39mupsert,\n\u001b[0;32m    871\u001b[0m         check_keys\u001b[38;5;241m=\u001b[39mcheck_keys, multi\u001b[38;5;241m=\u001b[39mmulti, manipulate\u001b[38;5;241m=\u001b[39mmanipulate,\n\u001b[1;32m   (...)\u001b[0m\n\u001b[0;32m    874\u001b[0m         array_filters\u001b[38;5;241m=\u001b[39marray_filters, hint\u001b[38;5;241m=\u001b[39mhint, session\u001b[38;5;241m=\u001b[39msession,\n\u001b[0;32m    875\u001b[0m         retryable_write\u001b[38;5;241m=\u001b[39mretryable_write)\n\u001b[1;32m--> 877\u001b[0m \u001b[38;5;28;01mreturn\u001b[39;00m \u001b[38;5;28mself\u001b[39m\u001b[38;5;241m.\u001b[39m__database\u001b[38;5;241m.\u001b[39mclient\u001b[38;5;241m.\u001b[39m_retryable_write(\n\u001b[0;32m    878\u001b[0m     (write_concern \u001b[38;5;129;01mor\u001b[39;00m \u001b[38;5;28mself\u001b[39m\u001b[38;5;241m.\u001b[39mwrite_concern)\u001b[38;5;241m.\u001b[39macknowledged \u001b[38;5;129;01mand\u001b[39;00m \u001b[38;5;129;01mnot\u001b[39;00m multi,\n\u001b[0;32m    879\u001b[0m     _update, session)\n",
      "File \u001b[1;32m~\\anaconda3\\Lib\\site-packages\\pymongo\\mongo_client.py:1552\u001b[0m, in \u001b[0;36mMongoClient._retryable_write\u001b[1;34m(self, retryable, func, session)\u001b[0m\n\u001b[0;32m   1550\u001b[0m \u001b[38;5;250m\u001b[39m\u001b[38;5;124;03m\"\"\"Internal retryable write helper.\"\"\"\u001b[39;00m\n\u001b[0;32m   1551\u001b[0m \u001b[38;5;28;01mwith\u001b[39;00m \u001b[38;5;28mself\u001b[39m\u001b[38;5;241m.\u001b[39m_tmp_session(session) \u001b[38;5;28;01mas\u001b[39;00m s:\n\u001b[1;32m-> 1552\u001b[0m     \u001b[38;5;28;01mreturn\u001b[39;00m \u001b[38;5;28mself\u001b[39m\u001b[38;5;241m.\u001b[39m_retry_with_session(retryable, func, s, \u001b[38;5;28;01mNone\u001b[39;00m)\n",
      "File \u001b[1;32m~\\anaconda3\\Lib\\site-packages\\pymongo\\mongo_client.py:1438\u001b[0m, in \u001b[0;36mMongoClient._retry_with_session\u001b[1;34m(self, retryable, func, session, bulk)\u001b[0m\n\u001b[0;32m   1429\u001b[0m \u001b[38;5;250m\u001b[39m\u001b[38;5;124;03m\"\"\"Execute an operation with at most one consecutive retries\u001b[39;00m\n\u001b[0;32m   1430\u001b[0m \n\u001b[0;32m   1431\u001b[0m \u001b[38;5;124;03mReturns func()'s return value on success. On error retries the same\u001b[39;00m\n\u001b[1;32m   (...)\u001b[0m\n\u001b[0;32m   1434\u001b[0m \u001b[38;5;124;03mRe-raises any exception thrown by func().\u001b[39;00m\n\u001b[0;32m   1435\u001b[0m \u001b[38;5;124;03m\"\"\"\u001b[39;00m\n\u001b[0;32m   1436\u001b[0m retryable \u001b[38;5;241m=\u001b[39m (retryable \u001b[38;5;129;01mand\u001b[39;00m \u001b[38;5;28mself\u001b[39m\u001b[38;5;241m.\u001b[39mretry_writes\n\u001b[0;32m   1437\u001b[0m              \u001b[38;5;129;01mand\u001b[39;00m session \u001b[38;5;129;01mand\u001b[39;00m \u001b[38;5;129;01mnot\u001b[39;00m session\u001b[38;5;241m.\u001b[39min_transaction)\n\u001b[1;32m-> 1438\u001b[0m \u001b[38;5;28;01mreturn\u001b[39;00m \u001b[38;5;28mself\u001b[39m\u001b[38;5;241m.\u001b[39m_retry_internal(retryable, func, session, bulk)\n",
      "File \u001b[1;32m~\\anaconda3\\Lib\\site-packages\\pymongo\\mongo_client.py:1470\u001b[0m, in \u001b[0;36mMongoClient._retry_internal\u001b[1;34m(self, retryable, func, session, bulk)\u001b[0m\n\u001b[0;32m   1468\u001b[0m                 \u001b[38;5;28;01mraise\u001b[39;00m last_error\n\u001b[0;32m   1469\u001b[0m             retryable \u001b[38;5;241m=\u001b[39m \u001b[38;5;28;01mFalse\u001b[39;00m\n\u001b[1;32m-> 1470\u001b[0m         \u001b[38;5;28;01mreturn\u001b[39;00m func(session, sock_info, retryable)\n\u001b[0;32m   1471\u001b[0m \u001b[38;5;28;01mexcept\u001b[39;00m ServerSelectionTimeoutError:\n\u001b[0;32m   1472\u001b[0m     \u001b[38;5;28;01mif\u001b[39;00m is_retrying():\n\u001b[0;32m   1473\u001b[0m         \u001b[38;5;66;03m# The application may think the write was never attempted\u001b[39;00m\n\u001b[0;32m   1474\u001b[0m         \u001b[38;5;66;03m# if we raise ServerSelectionTimeoutError on the retry\u001b[39;00m\n\u001b[0;32m   1475\u001b[0m         \u001b[38;5;66;03m# attempt. Raise the original exception instead.\u001b[39;00m\n",
      "File \u001b[1;32m~\\anaconda3\\Lib\\site-packages\\pymongo\\collection.py:869\u001b[0m, in \u001b[0;36mCollection._update_retryable.<locals>._update\u001b[1;34m(session, sock_info, retryable_write)\u001b[0m\n\u001b[0;32m    868\u001b[0m \u001b[38;5;28;01mdef\u001b[39;00m \u001b[38;5;21m_update\u001b[39m(session, sock_info, retryable_write):\n\u001b[1;32m--> 869\u001b[0m     \u001b[38;5;28;01mreturn\u001b[39;00m \u001b[38;5;28mself\u001b[39m\u001b[38;5;241m.\u001b[39m_update(\n\u001b[0;32m    870\u001b[0m         sock_info, criteria, document, upsert\u001b[38;5;241m=\u001b[39mupsert,\n\u001b[0;32m    871\u001b[0m         check_keys\u001b[38;5;241m=\u001b[39mcheck_keys, multi\u001b[38;5;241m=\u001b[39mmulti, manipulate\u001b[38;5;241m=\u001b[39mmanipulate,\n\u001b[0;32m    872\u001b[0m         write_concern\u001b[38;5;241m=\u001b[39mwrite_concern, op_id\u001b[38;5;241m=\u001b[39mop_id, ordered\u001b[38;5;241m=\u001b[39mordered,\n\u001b[0;32m    873\u001b[0m         bypass_doc_val\u001b[38;5;241m=\u001b[39mbypass_doc_val, collation\u001b[38;5;241m=\u001b[39mcollation,\n\u001b[0;32m    874\u001b[0m         array_filters\u001b[38;5;241m=\u001b[39marray_filters, hint\u001b[38;5;241m=\u001b[39mhint, session\u001b[38;5;241m=\u001b[39msession,\n\u001b[0;32m    875\u001b[0m         retryable_write\u001b[38;5;241m=\u001b[39mretryable_write)\n",
      "File \u001b[1;32m~\\anaconda3\\Lib\\site-packages\\pymongo\\collection.py:846\u001b[0m, in \u001b[0;36mCollection._update\u001b[1;34m(self, sock_info, criteria, document, upsert, check_keys, multi, manipulate, write_concern, op_id, ordered, bypass_doc_val, collation, array_filters, hint, session, retryable_write)\u001b[0m\n\u001b[0;32m    836\u001b[0m \u001b[38;5;66;03m# The command result has to be published for APM unmodified\u001b[39;00m\n\u001b[0;32m    837\u001b[0m \u001b[38;5;66;03m# so we make a shallow copy here before adding updatedExisting.\u001b[39;00m\n\u001b[0;32m    838\u001b[0m result \u001b[38;5;241m=\u001b[39m sock_info\u001b[38;5;241m.\u001b[39mcommand(\n\u001b[0;32m    839\u001b[0m     \u001b[38;5;28mself\u001b[39m\u001b[38;5;241m.\u001b[39m__database\u001b[38;5;241m.\u001b[39mname,\n\u001b[0;32m    840\u001b[0m     command,\n\u001b[1;32m   (...)\u001b[0m\n\u001b[0;32m    844\u001b[0m     client\u001b[38;5;241m=\u001b[39m\u001b[38;5;28mself\u001b[39m\u001b[38;5;241m.\u001b[39m__database\u001b[38;5;241m.\u001b[39mclient,\n\u001b[0;32m    845\u001b[0m     retryable_write\u001b[38;5;241m=\u001b[39mretryable_write)\u001b[38;5;241m.\u001b[39mcopy()\n\u001b[1;32m--> 846\u001b[0m _check_write_command_response(result)\n\u001b[0;32m    847\u001b[0m \u001b[38;5;66;03m# Add the updatedExisting field for compatibility.\u001b[39;00m\n\u001b[0;32m    848\u001b[0m \u001b[38;5;28;01mif\u001b[39;00m result\u001b[38;5;241m.\u001b[39mget(\u001b[38;5;124m'\u001b[39m\u001b[38;5;124mn\u001b[39m\u001b[38;5;124m'\u001b[39m) \u001b[38;5;129;01mand\u001b[39;00m \u001b[38;5;124m'\u001b[39m\u001b[38;5;124mupserted\u001b[39m\u001b[38;5;124m'\u001b[39m \u001b[38;5;129;01mnot\u001b[39;00m \u001b[38;5;129;01min\u001b[39;00m result:\n",
      "File \u001b[1;32m~\\anaconda3\\Lib\\site-packages\\pymongo\\helpers.py:229\u001b[0m, in \u001b[0;36m_check_write_command_response\u001b[1;34m(result)\u001b[0m\n\u001b[0;32m    227\u001b[0m write_errors \u001b[38;5;241m=\u001b[39m result\u001b[38;5;241m.\u001b[39mget(\u001b[38;5;124m\"\u001b[39m\u001b[38;5;124mwriteErrors\u001b[39m\u001b[38;5;124m\"\u001b[39m)\n\u001b[0;32m    228\u001b[0m \u001b[38;5;28;01mif\u001b[39;00m write_errors:\n\u001b[1;32m--> 229\u001b[0m     _raise_last_write_error(write_errors)\n\u001b[0;32m    231\u001b[0m error \u001b[38;5;241m=\u001b[39m result\u001b[38;5;241m.\u001b[39mget(\u001b[38;5;124m\"\u001b[39m\u001b[38;5;124mwriteConcernError\u001b[39m\u001b[38;5;124m\"\u001b[39m)\n\u001b[0;32m    232\u001b[0m \u001b[38;5;28;01mif\u001b[39;00m error:\n",
      "File \u001b[1;32m~\\anaconda3\\Lib\\site-packages\\pymongo\\helpers.py:211\u001b[0m, in \u001b[0;36m_raise_last_write_error\u001b[1;34m(write_errors)\u001b[0m\n\u001b[0;32m    209\u001b[0m \u001b[38;5;28;01mif\u001b[39;00m error\u001b[38;5;241m.\u001b[39mget(\u001b[38;5;124m\"\u001b[39m\u001b[38;5;124mcode\u001b[39m\u001b[38;5;124m\"\u001b[39m) \u001b[38;5;241m==\u001b[39m \u001b[38;5;241m11000\u001b[39m:\n\u001b[0;32m    210\u001b[0m     \u001b[38;5;28;01mraise\u001b[39;00m DuplicateKeyError(error\u001b[38;5;241m.\u001b[39mget(\u001b[38;5;124m\"\u001b[39m\u001b[38;5;124merrmsg\u001b[39m\u001b[38;5;124m\"\u001b[39m), \u001b[38;5;241m11000\u001b[39m, error)\n\u001b[1;32m--> 211\u001b[0m \u001b[38;5;28;01mraise\u001b[39;00m WriteError(error\u001b[38;5;241m.\u001b[39mget(\u001b[38;5;124m\"\u001b[39m\u001b[38;5;124merrmsg\u001b[39m\u001b[38;5;124m\"\u001b[39m), error\u001b[38;5;241m.\u001b[39mget(\u001b[38;5;124m\"\u001b[39m\u001b[38;5;124mcode\u001b[39m\u001b[38;5;124m\"\u001b[39m), error)\n",
      "\u001b[1;31mWriteError\u001b[0m: Performing an update on the path '_id' would modify the immutable field '_id', full error: {'index': 0, 'code': 66, 'errmsg': \"Performing an update on the path '_id' would modify the immutable field '_id'\"}"
     ]
    }
   ],
   "source": [
    "# MongoDB에 연결\n",
    "client = mg.MongoClient(\"mongodb://localhost:27017\")\n",
    "\n",
    "# 데이터베이스와 컬렉션 선택\n",
    "database = client['facility_infos']\n",
    "collection = database['dementia_drop_duplicates']\n",
    "\n",
    "# 자동 생성된 컬럼의 이름 확인\n",
    "# 이 부분에서 자동 생성된 컬럼의 이름을 확인합니다.\n",
    "\n",
    "# 컬럼 삭제 (예를 들어, \"column_name\"을 삭제하려면)\n",
    "result = collection.update_many({}, {\"$unset\": {\"_id\": \"\"}})\n",
    "result = collection.update_many({}, {\"$unset\": {\"\": \"\"}})\n",
    "\n",
    "# 결과 확인\n",
    "print(f\"삭제된 문서 수: {result.modified_count}\")"
   ]
  },
  {
   "cell_type": "code",
   "execution_count": null,
   "id": "3387eb76-6e06-4ece-b4e5-304ab9fe397b",
   "metadata": {},
   "outputs": [],
   "source": []
  }
 ],
 "metadata": {
  "kernelspec": {
   "display_name": "Python 3 (ipykernel)",
   "language": "python",
   "name": "python3"
  },
  "language_info": {
   "codemirror_mode": {
    "name": "ipython",
    "version": 3
   },
   "file_extension": ".py",
   "mimetype": "text/x-python",
   "name": "python",
   "nbconvert_exporter": "python",
   "pygments_lexer": "ipython3",
   "version": "3.11.3"
  }
 },
 "nbformat": 4,
 "nbformat_minor": 5
}
