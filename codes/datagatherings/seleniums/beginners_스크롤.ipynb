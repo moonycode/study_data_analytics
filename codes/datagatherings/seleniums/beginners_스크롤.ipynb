{
 "cells": [
  {
   "cell_type": "markdown",
   "id": "5837ca9b-766a-4162-b3c2-8ccac266c43b",
   "metadata": {},
   "source": [
    "### 마우스 스크롤 기능 구현"
   ]
  },
  {
   "cell_type": "code",
   "execution_count": 22,
   "id": "b7f07007-db15-490b-b9bd-44b19d20263a",
   "metadata": {
    "tags": []
   },
   "outputs": [],
   "source": [
    "from selenium import webdriver"
   ]
  },
  {
   "cell_type": "code",
   "execution_count": 23,
   "id": "1df2e3bf-d642-411c-ac8f-f1ab426ebc3b",
   "metadata": {
    "tags": []
   },
   "outputs": [],
   "source": [
    "# open chrome browser\n",
    "browser = webdriver.Chrome(executable_path='../../../../chromedriver.exe')"
   ]
  },
  {
   "cell_type": "code",
   "execution_count": 24,
   "id": "e9b0b9e4-b796-4d54-9690-52a0f1ecdaf1",
   "metadata": {
    "tags": []
   },
   "outputs": [],
   "source": [
    "# url 입력\n",
    "browser.get('https://www.w3schools.com/')"
   ]
  },
  {
   "cell_type": "markdown",
   "id": "415fd380-4fea-49ce-a738-f8d6d5a20771",
   "metadata": {},
   "source": [
    "### selenium.webdriver.common.keys\n",
    "https://www.selenium.dev/selenium/docs/api/py/webdriver/selenium.webdriver.common.keys.html\n",
    "\n",
    "- send_key에 명령 전송 \n",
    "<br>\n",
    "- 전체 화면의 경우 body를 중심으로 스크롤한다.\n",
    "<br>\n",
    "- selenium의 Keys는 키보드가 바뀌어도 키를 일괄적으로 사용할 수 있도록 컴퓨터어로 정해놓은 집합.\n",
    "<br>\n",
    "- 키 끼리의 합성도 가능."
   ]
  },
  {
   "cell_type": "code",
   "execution_count": 25,
   "id": "d87c3918-e1d1-407f-89ea-0638d2b589ee",
   "metadata": {
    "tags": []
   },
   "outputs": [],
   "source": [
    "from selenium.webdriver.common.keys import Keys\n",
    "browser.find_element_by_css_selector('body').send_keys(Keys.PAGE_DOWN)"
   ]
  },
  {
   "cell_type": "code",
   "execution_count": 26,
   "id": "92318611-3a2f-445a-a8f3-2f39df3e07d9",
   "metadata": {
    "tags": []
   },
   "outputs": [],
   "source": [
    "browser.find_element_by_css_selector('body').send_keys(Keys.PAGE_UP)"
   ]
  },
  {
   "cell_type": "markdown",
   "id": "2e79f03b-4057-48cb-b132-f51065267a72",
   "metadata": {},
   "source": [
    "- 페이지의 사이즈와 현재 페이지를 알아야 몇 번의 스크롤을 할 지 알 수 있다.\n",
    "- 검사 -> Console -> window.innerHeight, document.body.scrollHeight"
   ]
  },
  {
   "cell_type": "code",
   "execution_count": 57,
   "id": "7b9d9794-c1d4-4287-8de5-5f3e6726c113",
   "metadata": {
    "tags": []
   },
   "outputs": [
    {
     "data": {
      "text/plain": [
       "(1151, 14207)"
      ]
     },
     "execution_count": 57,
     "metadata": {},
     "output_type": "execute_result"
    }
   ],
   "source": [
    "## 머가 같아지면 멈춰? 몰라...\n",
    "screen_height = browser.execute_script('return window.innerHeight')\n",
    "document_height = browser.execute_script('return document.body.scrollHeight')\n",
    "screen_height, document_height"
   ]
  },
  {
   "cell_type": "code",
   "execution_count": 65,
   "id": "3692cf82-89c9-4c38-a588-212a48c9adef",
   "metadata": {
    "tags": []
   },
   "outputs": [
    {
     "name": "stdout",
     "output_type": "stream",
     "text": [
      "1006.25\n"
     ]
    }
   ],
   "source": [
    "# 스크롤 높이 측정\n",
    "browser.find_element_by_css_selector('body').send_keys(Keys.PAGE_DOWN)\n",
    "time.sleep(2)\n",
    "scroll_height = browser.execute_script('return window.pageYOffset')\n",
    "print(scroll_height)\n",
    "browser.find_element_by_css_selector('body').send_keys(Keys.PAGE_UP)"
   ]
  },
  {
   "cell_type": "code",
   "execution_count": 66,
   "id": "87fd652f-f3e7-41ce-bf85-1db0da030051",
   "metadata": {
    "tags": []
   },
   "outputs": [
    {
     "name": "stdout",
     "output_type": "stream",
     "text": [
      "0 14207\n",
      "1006.25 14207\n",
      "2012.5 14207\n",
      "3018.75 14207\n",
      "4025 14207\n",
      "5031.25 14207\n",
      "6037.5 14207\n",
      "7043.75 14207\n",
      "8050 14207\n",
      "9056.25 14207\n",
      "10062.5 14207\n",
      "11068.75 14207\n",
      "12075 14207\n",
      "13081.25 14207\n",
      "13385 14207\n"
     ]
    }
   ],
   "source": [
    "import time\n",
    "\n",
    "while True:\n",
    "    current_position = browser.execute_script('return window.pageYOffset')\n",
    "    print(current_position, document_height)\n",
    "    if current_position+scroll_height >= document_height :\n",
    "        break\n",
    "    browser.find_element_by_css_selector('body').send_keys(Keys.PAGE_DOWN)\n",
    "    time.sleep(1)\n"
   ]
  },
  {
   "cell_type": "code",
   "execution_count": 64,
   "id": "9cada7e0-27ed-486b-9a57-5128fb1455d8",
   "metadata": {
    "tags": []
   },
   "outputs": [],
   "source": [
    "# browser.quit()"
   ]
  },
  {
   "cell_type": "code",
   "execution_count": null,
   "id": "5dfe1f9b-eb69-4c71-841f-b0eb42bee1c2",
   "metadata": {},
   "outputs": [],
   "source": []
  }
 ],
 "metadata": {
  "kernelspec": {
   "display_name": "Python 3 (ipykernel)",
   "language": "python",
   "name": "python3"
  },
  "language_info": {
   "codemirror_mode": {
    "name": "ipython",
    "version": 3
   },
   "file_extension": ".py",
   "mimetype": "text/x-python",
   "name": "python",
   "nbconvert_exporter": "python",
   "pygments_lexer": "ipython3",
   "version": "3.11.3"
  }
 },
 "nbformat": 4,
 "nbformat_minor": 5
}
