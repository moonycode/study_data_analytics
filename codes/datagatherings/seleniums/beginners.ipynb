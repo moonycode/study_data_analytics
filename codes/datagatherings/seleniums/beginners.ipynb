{
 "cells": [
  {
   "cell_type": "code",
   "execution_count": 1,
   "id": "b7f07007-db15-490b-b9bd-44b19d20263a",
   "metadata": {
    "tags": []
   },
   "outputs": [],
   "source": [
    "from selenium import webdriver"
   ]
  },
  {
   "cell_type": "code",
   "execution_count": 2,
   "id": "1df2e3bf-d642-411c-ac8f-f1ab426ebc3b",
   "metadata": {
    "tags": []
   },
   "outputs": [],
   "source": [
    "# open chrome browser\n",
    "browser = webdriver.Chrome(executable_path='../../../../chromedriver.exe')"
   ]
  },
  {
   "cell_type": "code",
   "execution_count": 3,
   "id": "e9b0b9e4-b796-4d54-9690-52a0f1ecdaf1",
   "metadata": {
    "tags": []
   },
   "outputs": [],
   "source": [
    "# url 입력\n",
    "browser.get('https://emart.ssg.com/disp/category.ssg?dispCtgId=6000214033')"
   ]
  },
  {
   "cell_type": "markdown",
   "id": "40eb03f4-b9ca-4bda-94b1-394d6c515e40",
   "metadata": {},
   "source": [
    "### 하나의 element 가져오기"
   ]
  },
  {
   "cell_type": "code",
   "execution_count": 8,
   "id": "bcdcf4d6-e875-422b-8a8b-798dbaf7bb64",
   "metadata": {
    "tags": []
   },
   "outputs": [
    {
     "data": {
      "text/plain": [
       "selenium.webdriver.remote.webelement.WebElement"
      ]
     },
     "execution_count": 8,
     "metadata": {},
     "output_type": "execute_result"
    }
   ],
   "source": [
    "element_path='#swiper-wrapper-981cae5f7e24abe2 > li.mnemitem_grid_item.swiper-slide.swiper-slide-active > div > div > div.mnemitem_detailbx > div.mnemitem_tx_thmb > a > div.mnemitem_tit > span.mnemitem_goods_tit'\n",
    "element = browser.find_element_by_css_selector(element_path)\n",
    "type(element)"
   ]
  },
  {
   "cell_type": "code",
   "execution_count": 9,
   "id": "0b642f79-7446-41b3-b0a1-5f6f892556c6",
   "metadata": {
    "tags": []
   },
   "outputs": [
    {
     "data": {
      "text/plain": [
       "'몰리스 쉬야응가 1회용 패드 L 50매'"
      ]
     },
     "execution_count": 9,
     "metadata": {},
     "output_type": "execute_result"
    }
   ],
   "source": [
    "element.text"
   ]
  },
  {
   "cell_type": "code",
   "execution_count": 10,
   "id": "6efef000-26ba-47f6-859f-7d19f276d11e",
   "metadata": {
    "tags": []
   },
   "outputs": [
    {
     "data": {
      "text/plain": [
       "'mnemitem_goods_tit'"
      ]
     },
     "execution_count": 10,
     "metadata": {},
     "output_type": "execute_result"
    }
   ],
   "source": [
    "element.get_attribute('class')"
   ]
  },
  {
   "cell_type": "markdown",
   "id": "941ec736-b44b-444f-9451-ede647dbc8e4",
   "metadata": {},
   "source": [
    "### 여러개 elements 가져오기"
   ]
  },
  {
   "cell_type": "code",
   "execution_count": 11,
   "id": "4d24ec58-7347-449e-b006-42a265576690",
   "metadata": {
    "tags": []
   },
   "outputs": [
    {
     "data": {
      "text/plain": [
       "(list, selenium.webdriver.remote.webelement.WebElement)"
      ]
     },
     "execution_count": 11,
     "metadata": {},
     "output_type": "execute_result"
    }
   ],
   "source": [
    "elements_path = '.mnemitem_goods_tit'\n",
    "elements = browser.find_elements_by_css_selector(elements_path)\n",
    "type(elements), type(elements[0])"
   ]
  },
  {
   "cell_type": "code",
   "execution_count": 14,
   "id": "51d9e3a2-1256-4ba0-9b59-561bfdba18fb",
   "metadata": {
    "tags": []
   },
   "outputs": [
    {
     "name": "stdout",
     "output_type": "stream",
     "text": [
      "몰리스 쉬야응가 1회용 패드 L 50매\n",
      "몰리스 쉬야응가 1회용 패드 L 50매\n",
      "몰리스 쉬야응가 1회용 패드 M 100매\n",
      "몰리스 쉬야응가 1회용 패드 M 100매\n",
      "\n",
      "\n",
      "\n",
      "\n",
      "\n",
      "\n",
      "\n",
      "\n",
      "\n",
      "\n",
      "\n",
      "\n",
      "\n",
      "\n",
      "\n",
      "\n",
      "반려견패드(중)40*50cm*100매\n",
      "반려견패드(대)60*70cm*45매\n",
      "순살듬뿍 오리말이스틱 30P (300g)\n",
      "순살듬뿍 치킨말이스틱 30P (300g)\n",
      "건강한간식 순살듬뿍 고구마 오리말이 300g\n",
      "건강한간식 순살듬뿍 고구마 치킨말이 300g\n",
      "몰리스픽 반려견 패드 L 45매\n",
      "몰리스픽 반려견 패드 M 100매\n",
      "건강한간식 순살듬뿍 안심오리 300g\n",
      "반려견 사료 10kg\n",
      "몰리스 화이트 스틱껌 소프트치킨 400g\n",
      "몰리스 미끄러지지 않는 패드 M 80매\n",
      "몰리스 쉬야응가 1회용 패드 M 100매\n",
      "템테이션 맛있는 닭고기맛 75g\n",
      "템테이션 고소한 참치맛 75g\n",
      "치킨 슬라이스 1kg\n",
      "몰리스 미니 닭가슴살과 연어\n",
      "포켄스 덴탈스틱 후레시 칼슘 S 작은별 220g\n",
      "몰리스 3~4회용 패드 L 35매\n",
      "자연소재 양고기육포&쌀 460g\n",
      "템테이션 풍부한 해산물 맛75g\n",
      "건강한간식 순살듬뿍 안심치킨 300g\n",
      "츄잉스틱 플레인요거트 250g\n",
      "템테이션 믹스업 참치 연어 새우맛 75g\n",
      "국민가격 DTC 치킨고구마 져키 1kg\n",
      "[몰리스]프로발란스 어덜트 8kg\n",
      "몰리스미니참치와도미\n",
      "[포켄스] 덴티 페어리(소)\n",
      "국민 두부 고양이 모래(오리지널)\n",
      "챠오 츄루 참치 4개입\n",
      "밥이보약 Dog 튼튼한 관절 8kg (네오2 유통기한 23.10.17)\n",
      "몰리스 닭가슴살과흰살생선\n",
      "포켄스 덴티페어리 M 75g\n",
      "포켄스 덴탈스틱 후레시 블루베리 S 작은별 220g\n",
      "몰리스픽 전연령 반려묘사료 15KG\n",
      "맥시 비프져키 800g\n",
      "슈퍼츄 터키츄 본S 10개입\n",
      "템테이션 연어맛 75g\n",
      "[시저] 연어와 감자 (100g*3개)\n",
      "Think your Dog Teeth 소고기우유껌 15P\n",
      "(이마트가 직접 수입한) 딱 한번 반려견 패드 M 200매\n",
      "순살간식 오리고기 순살 300g\n",
      "자연소재 소고기육포스틱 180g\n",
      "챠오 츄르 닭가슴살 4개입\n",
      "보양대첩 쿨링 30g캔 *8입\n",
      "몰리스 미끄러지지 않는 패드 L 35매\n",
      "몰리스 쉬야응가 1회용 패드 XL 40매\n",
      "몰리스미니참치와게맛살\n",
      "Natural 밀크스틱27P(80g)\n",
      "[시저 Cesar] 비프 사료 100g*3\n",
      "몰리스 치즈 화이트스틱껌 치킨 270g\n",
      "원더푸드 반려견 고구마말랭이 간식 1kg\n",
      "몰리스 크런치홀릭 연어 60g\n",
      "캣차우 컴플리트 전연령용 6kg\n",
      "챠오 츄르 가다랑어 4개입\n",
      "몰리스픽 전연령 반려묘사료 5KG\n",
      "몰리스 3~4회용 패드 M 80매\n",
      "칠면조힘줄 스트립 85g\n",
      "포켄스 덴탈스틱 후레시 오메가3 S 작은별 220g\n",
      "반려묘사료 10kg\n",
      "템테이션 부드러운 우유맛 75g\n",
      "몰리스 크런치홀릭 닭고기 60g\n",
      "[시저 Cesar] 쇠고기와 참치 사료 100g*3팩\n",
      "[몰리스]프로발란스 피부관리와 모질강화 전연령 6kg\n",
      "츄잉스틱 딸기요거트 250g\n",
      "몰리스 쉬야응가 1회용 패드 L 50매\n",
      "포켄스 덴티페어리 SS 150g\n",
      "츄르비 닭가슴살&구운가다랑어 4개입\n",
      "[시저 Cesar] 비프 앤 치즈 사료 (100g*3)\n",
      "뉴트리나 건강백서 건강한 관절 2kg\n",
      "[쉬바] 참치 흰 살과 도미와 그레이비 소스 85g\n",
      "국민 두부 고양이 모래(녹차)\n",
      "내츄럴랩 건강한치즈 애견간식 요거트 스틱 100g\n",
      "몰리스 냄새잡는 패드 L 35매\n",
      "쉬바 참치와 연어 70g\n",
      "가 직접 수입한 치킨 화이트본 S 13개입\n",
      "헌터본 연어 16P 240g\n",
      "슈퍼츄 터키츄 링S 1개입\n",
      "챠오 츄르 참치/해물믹스맛 20개입\n",
      "템테이션 헤어볼 컨트롤 60g\n"
     ]
    }
   ],
   "source": [
    "for webelement in elements:\n",
    "    print(webelement.text)"
   ]
  },
  {
   "cell_type": "code",
   "execution_count": null,
   "id": "b3e6d396-45b2-4580-9190-6ac2e6ed4a7b",
   "metadata": {},
   "outputs": [],
   "source": []
  },
  {
   "cell_type": "code",
   "execution_count": null,
   "id": "8fe17cf3-fd77-4ff9-9a43-34902823a255",
   "metadata": {},
   "outputs": [],
   "source": []
  },
  {
   "cell_type": "code",
   "execution_count": null,
   "id": "9cada7e0-27ed-486b-9a57-5128fb1455d8",
   "metadata": {
    "tags": []
   },
   "outputs": [],
   "source": [
    "browser.quit()"
   ]
  },
  {
   "cell_type": "code",
   "execution_count": null,
   "id": "66e7a47b-b37d-4dc3-82e5-ec440e557a7d",
   "metadata": {
    "tags": []
   },
   "outputs": [],
   "source": []
  },
  {
   "cell_type": "code",
   "execution_count": null,
   "id": "9ee65d00-2be1-44e1-9081-68d5fda47ed6",
   "metadata": {},
   "outputs": [],
   "source": []
  }
 ],
 "metadata": {
  "kernelspec": {
   "display_name": "Python 3 (ipykernel)",
   "language": "python",
   "name": "python3"
  },
  "language_info": {
   "codemirror_mode": {
    "name": "ipython",
    "version": 3
   },
   "file_extension": ".py",
   "mimetype": "text/x-python",
   "name": "python",
   "nbconvert_exporter": "python",
   "pygments_lexer": "ipython3",
   "version": "3.11.3"
  }
 },
 "nbformat": 4,
 "nbformat_minor": 5
}
