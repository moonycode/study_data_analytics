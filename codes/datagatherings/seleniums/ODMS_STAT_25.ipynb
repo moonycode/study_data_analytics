{
 "cells": [
  {
   "cell_type": "code",
   "execution_count": 5,
   "id": "a15aa210-adde-4c75-ae85-9a734a208629",
   "metadata": {
    "tags": []
   },
   "outputs": [],
   "source": [
    "# ! pip install xmltodict"
   ]
  },
  {
   "cell_type": "code",
   "execution_count": 23,
   "id": "7c2f5387-76e3-4667-9afa-bd3bc57c85bb",
   "metadata": {
    "tags": []
   },
   "outputs": [
    {
     "name": "stdout",
     "output_type": "stream",
     "text": [
      "year\n",
      "dvsd\n",
      "ttl\n",
      "male\n",
      "fml\n"
     ]
    }
   ],
   "source": [
    "import requests, xmltodict, json\n",
    "\n",
    "\n",
    "key = 'CXIkUl%2BDwPFfdvxcvLwCwDLnDj3UYyTDviNRIT3xeLfIq1yIpKXylNRQh3ZkjanAL7j6yJzGFfGyrJi2n8Y20w%3D%3D'\n",
    "url = 'http://apis.data.go.kr/1352000/ODMS_STAT_25/callStat25Api?serviceKey={}&numOfRows=10&pageNo=1&apiType=XML&year=2019&dvsd=서울'.format(key)\n",
    "\n",
    "content = requests.get(url).content\n",
    "dict = xmltodict.parse(content)\n",
    "jsonString = json.dumps(dict['response']['body'], ensure_ascii=False)\n",
    "jsonObj = json.loads(jsonString)\n",
    "\n",
    "for item in jsonObj['items']['item']:\n",
    "    print('iem)"
   ]
  },
  {
   "cell_type": "code",
   "execution_count": null,
   "id": "646732b1-d869-4aa4-8428-a67437aa66fc",
   "metadata": {},
   "outputs": [],
   "source": []
  }
 ],
 "metadata": {
  "kernelspec": {
   "display_name": "Python 3 (ipykernel)",
   "language": "python",
   "name": "python3"
  },
  "language_info": {
   "codemirror_mode": {
    "name": "ipython",
    "version": 3
   },
   "file_extension": ".py",
   "mimetype": "text/x-python",
   "name": "python",
   "nbconvert_exporter": "python",
   "pygments_lexer": "ipython3",
   "version": "3.11.3"
  }
 },
 "nbformat": 4,
 "nbformat_minor": 5
}
