{
 "cells": [
  {
   "cell_type": "markdown",
   "id": "7a15b932-cc76-4a21-9736-176db7bdeb2b",
   "metadata": {},
   "source": [
    "# Titanic - Machine Learning from Disaster\n",
    "Dataset from : https://www.kaggle.com/c/titanic"
   ]
  },
  {
   "cell_type": "code",
   "execution_count": 1,
   "id": "b63bc6b8-8d89-4200-9898-92b085c464b6",
   "metadata": {
    "tags": []
   },
   "outputs": [],
   "source": [
    "import matplotlib.pyplot as plt\n",
    "import matplotlib as mpl\n",
    "mpl.rc('font',family='Malgun Gothic')\n",
    "mpl.rcParams['axes.unicode_minus'] = False\n",
    "import seaborn as sns\n",
    "import pandas as pd\n",
    "import numpy as np"
   ]
  },
  {
   "cell_type": "code",
   "execution_count": 2,
   "id": "2ea08728-7e38-4452-bfed-a37e519f25dc",
   "metadata": {
    "tags": []
   },
   "outputs": [
    {
     "data": {
      "text/html": [
       "<div>\n",
       "<style scoped>\n",
       "    .dataframe tbody tr th:only-of-type {\n",
       "        vertical-align: middle;\n",
       "    }\n",
       "\n",
       "    .dataframe tbody tr th {\n",
       "        vertical-align: top;\n",
       "    }\n",
       "\n",
       "    .dataframe thead th {\n",
       "        text-align: right;\n",
       "    }\n",
       "</style>\n",
       "<table border=\"1\" class=\"dataframe\">\n",
       "  <thead>\n",
       "    <tr style=\"text-align: right;\">\n",
       "      <th></th>\n",
       "      <th>PassengerId</th>\n",
       "      <th>Survived</th>\n",
       "      <th>Pclass</th>\n",
       "      <th>Name</th>\n",
       "      <th>Sex</th>\n",
       "      <th>Age</th>\n",
       "      <th>SibSp</th>\n",
       "      <th>Parch</th>\n",
       "      <th>Ticket</th>\n",
       "      <th>Fare</th>\n",
       "      <th>Cabin</th>\n",
       "      <th>Embarked</th>\n",
       "    </tr>\n",
       "  </thead>\n",
       "  <tbody>\n",
       "    <tr>\n",
       "      <th>0</th>\n",
       "      <td>1</td>\n",
       "      <td>0</td>\n",
       "      <td>3</td>\n",
       "      <td>Braund, Mr. Owen Harris</td>\n",
       "      <td>male</td>\n",
       "      <td>22.0</td>\n",
       "      <td>1</td>\n",
       "      <td>0</td>\n",
       "      <td>A/5 21171</td>\n",
       "      <td>7.2500</td>\n",
       "      <td>NaN</td>\n",
       "      <td>S</td>\n",
       "    </tr>\n",
       "    <tr>\n",
       "      <th>1</th>\n",
       "      <td>2</td>\n",
       "      <td>1</td>\n",
       "      <td>1</td>\n",
       "      <td>Cumings, Mrs. John Bradley (Florence Briggs Th...</td>\n",
       "      <td>female</td>\n",
       "      <td>38.0</td>\n",
       "      <td>1</td>\n",
       "      <td>0</td>\n",
       "      <td>PC 17599</td>\n",
       "      <td>71.2833</td>\n",
       "      <td>C85</td>\n",
       "      <td>C</td>\n",
       "    </tr>\n",
       "    <tr>\n",
       "      <th>2</th>\n",
       "      <td>3</td>\n",
       "      <td>1</td>\n",
       "      <td>3</td>\n",
       "      <td>Heikkinen, Miss. Laina</td>\n",
       "      <td>female</td>\n",
       "      <td>26.0</td>\n",
       "      <td>0</td>\n",
       "      <td>0</td>\n",
       "      <td>STON/O2. 3101282</td>\n",
       "      <td>7.9250</td>\n",
       "      <td>NaN</td>\n",
       "      <td>S</td>\n",
       "    </tr>\n",
       "    <tr>\n",
       "      <th>3</th>\n",
       "      <td>4</td>\n",
       "      <td>1</td>\n",
       "      <td>1</td>\n",
       "      <td>Futrelle, Mrs. Jacques Heath (Lily May Peel)</td>\n",
       "      <td>female</td>\n",
       "      <td>35.0</td>\n",
       "      <td>1</td>\n",
       "      <td>0</td>\n",
       "      <td>113803</td>\n",
       "      <td>53.1000</td>\n",
       "      <td>C123</td>\n",
       "      <td>S</td>\n",
       "    </tr>\n",
       "    <tr>\n",
       "      <th>4</th>\n",
       "      <td>5</td>\n",
       "      <td>0</td>\n",
       "      <td>3</td>\n",
       "      <td>Allen, Mr. William Henry</td>\n",
       "      <td>male</td>\n",
       "      <td>35.0</td>\n",
       "      <td>0</td>\n",
       "      <td>0</td>\n",
       "      <td>373450</td>\n",
       "      <td>8.0500</td>\n",
       "      <td>NaN</td>\n",
       "      <td>S</td>\n",
       "    </tr>\n",
       "  </tbody>\n",
       "</table>\n",
       "</div>"
      ],
      "text/plain": [
       "   PassengerId  Survived  Pclass  \\\n",
       "0            1         0       3   \n",
       "1            2         1       1   \n",
       "2            3         1       3   \n",
       "3            4         1       1   \n",
       "4            5         0       3   \n",
       "\n",
       "                                                Name     Sex   Age  SibSp  \\\n",
       "0                            Braund, Mr. Owen Harris    male  22.0      1   \n",
       "1  Cumings, Mrs. John Bradley (Florence Briggs Th...  female  38.0      1   \n",
       "2                             Heikkinen, Miss. Laina  female  26.0      0   \n",
       "3       Futrelle, Mrs. Jacques Heath (Lily May Peel)  female  35.0      1   \n",
       "4                           Allen, Mr. William Henry    male  35.0      0   \n",
       "\n",
       "   Parch            Ticket     Fare Cabin Embarked  \n",
       "0      0         A/5 21171   7.2500   NaN        S  \n",
       "1      0          PC 17599  71.2833   C85        C  \n",
       "2      0  STON/O2. 3101282   7.9250   NaN        S  \n",
       "3      0            113803  53.1000  C123        S  \n",
       "4      0            373450   8.0500   NaN        S  "
      ]
     },
     "execution_count": 2,
     "metadata": {},
     "output_type": "execute_result"
    }
   ],
   "source": [
    "df_titanic_t=pd.read_csv(\"../../datasets/TitanicMachineLearningfromDisaster_train.csv\")\n",
    "df_titanic_t[:5]"
   ]
  },
  {
   "cell_type": "code",
   "execution_count": 3,
   "id": "78a9eaa0-9ae4-47e6-9e63-4ece047e4b38",
   "metadata": {
    "tags": []
   },
   "outputs": [
    {
     "name": "stdout",
     "output_type": "stream",
     "text": [
      "<class 'pandas.core.frame.DataFrame'>\n",
      "RangeIndex: 891 entries, 0 to 890\n",
      "Data columns (total 12 columns):\n",
      " #   Column       Non-Null Count  Dtype  \n",
      "---  ------       --------------  -----  \n",
      " 0   PassengerId  891 non-null    int64  \n",
      " 1   Survived     891 non-null    int64  \n",
      " 2   Pclass       891 non-null    int64  \n",
      " 3   Name         891 non-null    object \n",
      " 4   Sex          891 non-null    object \n",
      " 5   Age          714 non-null    float64\n",
      " 6   SibSp        891 non-null    int64  \n",
      " 7   Parch        891 non-null    int64  \n",
      " 8   Ticket       891 non-null    object \n",
      " 9   Fare         891 non-null    float64\n",
      " 10  Cabin        204 non-null    object \n",
      " 11  Embarked     889 non-null    object \n",
      "dtypes: float64(2), int64(5), object(5)\n",
      "memory usage: 83.7+ KB\n"
     ]
    }
   ],
   "source": [
    "df_titanic_t.info()"
   ]
  },
  {
   "cell_type": "code",
   "execution_count": 4,
   "id": "fce7ad27-d336-429e-8e99-4fde5ce31916",
   "metadata": {
    "tags": []
   },
   "outputs": [
    {
     "data": {
      "text/plain": [
       "0    608\n",
       "1    209\n",
       "2     28\n",
       "4     18\n",
       "3     16\n",
       "8      7\n",
       "5      5\n",
       "Name: SibSp, dtype: int64"
      ]
     },
     "execution_count": 4,
     "metadata": {},
     "output_type": "execute_result"
    }
   ],
   "source": [
    "df_titanic_t['SibSp'].value_counts()"
   ]
  },
  {
   "cell_type": "code",
   "execution_count": 5,
   "id": "b101b9cf-60ec-4069-83cc-681fcece14ee",
   "metadata": {},
   "outputs": [
    {
     "data": {
      "text/plain": [
       "0    678\n",
       "1    118\n",
       "2     80\n",
       "5      5\n",
       "3      5\n",
       "4      4\n",
       "6      1\n",
       "Name: Parch, dtype: int64"
      ]
     },
     "execution_count": 5,
     "metadata": {},
     "output_type": "execute_result"
    }
   ],
   "source": [
    "df_titanic_t['Parch'].value_counts()"
   ]
  },
  {
   "cell_type": "markdown",
   "id": "a74f4c48-1e08-4103-b7f5-a9fd97e95173",
   "metadata": {},
   "source": [
    "### 🔴 전처리"
   ]
  },
  {
   "cell_type": "markdown",
   "id": "a7191377-18a5-4cc5-8f30-8f295864be89",
   "metadata": {
    "tags": []
   },
   "source": [
    "#### Dtype 변환 "
   ]
  },
  {
   "cell_type": "code",
   "execution_count": 6,
   "id": "e4629392-9d10-4c70-886f-a514420ccf3e",
   "metadata": {
    "tags": []
   },
   "outputs": [
    {
     "data": {
      "text/plain": [
       "PassengerId      int64\n",
       "Survived        object\n",
       "Pclass          object\n",
       "Name            object\n",
       "Sex             object\n",
       "Age            float64\n",
       "SibSp            int64\n",
       "Parch            int64\n",
       "Ticket          object\n",
       "Fare           float64\n",
       "Cabin           object\n",
       "Embarked        object\n",
       "dtype: object"
      ]
     },
     "execution_count": 6,
     "metadata": {},
     "output_type": "execute_result"
    }
   ],
   "source": [
    "# 범주형 데이터 object로 변환(Survived, Pclass)\n",
    "\n",
    "df_titanic_t[['Survived', 'Pclass']]=df_titanic_t[['Survived', 'Pclass']].astype(object)\n",
    "df_titanic_t.dtypes"
   ]
  },
  {
   "cell_type": "markdown",
   "id": "5aa0f904-a401-4298-9014-af03d48ec0cf",
   "metadata": {},
   "source": [
    "#### 결측치 처리"
   ]
  },
  {
   "cell_type": "code",
   "execution_count": 7,
   "id": "d56e437a-4fac-4c64-b263-0f49e0d2bc22",
   "metadata": {
    "tags": []
   },
   "outputs": [
    {
     "data": {
      "text/plain": [
       "PassengerId      0\n",
       "Survived         0\n",
       "Pclass           0\n",
       "Name             0\n",
       "Sex              0\n",
       "Age            177\n",
       "SibSp            0\n",
       "Parch            0\n",
       "Ticket           0\n",
       "Fare             0\n",
       "Cabin          687\n",
       "Embarked         2\n",
       "dtype: int64"
      ]
     },
     "execution_count": 7,
     "metadata": {},
     "output_type": "execute_result"
    }
   ],
   "source": [
    "# 결측치 확인\n",
    "\n",
    "df_titanic_t.isnull().sum()"
   ]
  },
  {
   "cell_type": "code",
   "execution_count": 8,
   "id": "fd513e31-0736-4075-9ef1-57d23a01c600",
   "metadata": {
    "tags": []
   },
   "outputs": [
    {
     "data": {
      "text/html": [
       "<div>\n",
       "<style scoped>\n",
       "    .dataframe tbody tr th:only-of-type {\n",
       "        vertical-align: middle;\n",
       "    }\n",
       "\n",
       "    .dataframe tbody tr th {\n",
       "        vertical-align: top;\n",
       "    }\n",
       "\n",
       "    .dataframe thead th {\n",
       "        text-align: right;\n",
       "    }\n",
       "</style>\n",
       "<table border=\"1\" class=\"dataframe\">\n",
       "  <thead>\n",
       "    <tr style=\"text-align: right;\">\n",
       "      <th></th>\n",
       "      <th>Survived</th>\n",
       "      <th>Pclass</th>\n",
       "      <th>Sex</th>\n",
       "      <th>SibSp</th>\n",
       "      <th>Parch</th>\n",
       "      <th>Fare</th>\n",
       "      <th>Embarked</th>\n",
       "    </tr>\n",
       "  </thead>\n",
       "  <tbody>\n",
       "    <tr>\n",
       "      <th>0</th>\n",
       "      <td>0</td>\n",
       "      <td>3</td>\n",
       "      <td>male</td>\n",
       "      <td>1</td>\n",
       "      <td>0</td>\n",
       "      <td>7.2500</td>\n",
       "      <td>S</td>\n",
       "    </tr>\n",
       "    <tr>\n",
       "      <th>1</th>\n",
       "      <td>1</td>\n",
       "      <td>1</td>\n",
       "      <td>female</td>\n",
       "      <td>1</td>\n",
       "      <td>0</td>\n",
       "      <td>71.2833</td>\n",
       "      <td>C</td>\n",
       "    </tr>\n",
       "    <tr>\n",
       "      <th>2</th>\n",
       "      <td>1</td>\n",
       "      <td>3</td>\n",
       "      <td>female</td>\n",
       "      <td>0</td>\n",
       "      <td>0</td>\n",
       "      <td>7.9250</td>\n",
       "      <td>S</td>\n",
       "    </tr>\n",
       "    <tr>\n",
       "      <th>3</th>\n",
       "      <td>1</td>\n",
       "      <td>1</td>\n",
       "      <td>female</td>\n",
       "      <td>1</td>\n",
       "      <td>0</td>\n",
       "      <td>53.1000</td>\n",
       "      <td>S</td>\n",
       "    </tr>\n",
       "    <tr>\n",
       "      <th>4</th>\n",
       "      <td>0</td>\n",
       "      <td>3</td>\n",
       "      <td>male</td>\n",
       "      <td>0</td>\n",
       "      <td>0</td>\n",
       "      <td>8.0500</td>\n",
       "      <td>S</td>\n",
       "    </tr>\n",
       "    <tr>\n",
       "      <th>...</th>\n",
       "      <td>...</td>\n",
       "      <td>...</td>\n",
       "      <td>...</td>\n",
       "      <td>...</td>\n",
       "      <td>...</td>\n",
       "      <td>...</td>\n",
       "      <td>...</td>\n",
       "    </tr>\n",
       "    <tr>\n",
       "      <th>886</th>\n",
       "      <td>0</td>\n",
       "      <td>2</td>\n",
       "      <td>male</td>\n",
       "      <td>0</td>\n",
       "      <td>0</td>\n",
       "      <td>13.0000</td>\n",
       "      <td>S</td>\n",
       "    </tr>\n",
       "    <tr>\n",
       "      <th>887</th>\n",
       "      <td>1</td>\n",
       "      <td>1</td>\n",
       "      <td>female</td>\n",
       "      <td>0</td>\n",
       "      <td>0</td>\n",
       "      <td>30.0000</td>\n",
       "      <td>S</td>\n",
       "    </tr>\n",
       "    <tr>\n",
       "      <th>888</th>\n",
       "      <td>0</td>\n",
       "      <td>3</td>\n",
       "      <td>female</td>\n",
       "      <td>1</td>\n",
       "      <td>2</td>\n",
       "      <td>23.4500</td>\n",
       "      <td>S</td>\n",
       "    </tr>\n",
       "    <tr>\n",
       "      <th>889</th>\n",
       "      <td>1</td>\n",
       "      <td>1</td>\n",
       "      <td>male</td>\n",
       "      <td>0</td>\n",
       "      <td>0</td>\n",
       "      <td>30.0000</td>\n",
       "      <td>C</td>\n",
       "    </tr>\n",
       "    <tr>\n",
       "      <th>890</th>\n",
       "      <td>0</td>\n",
       "      <td>3</td>\n",
       "      <td>male</td>\n",
       "      <td>0</td>\n",
       "      <td>0</td>\n",
       "      <td>7.7500</td>\n",
       "      <td>Q</td>\n",
       "    </tr>\n",
       "  </tbody>\n",
       "</table>\n",
       "<p>889 rows × 7 columns</p>\n",
       "</div>"
      ],
      "text/plain": [
       "    Survived Pclass     Sex  SibSp  Parch     Fare Embarked\n",
       "0          0      3    male      1      0   7.2500        S\n",
       "1          1      1  female      1      0  71.2833        C\n",
       "2          1      3  female      0      0   7.9250        S\n",
       "3          1      1  female      1      0  53.1000        S\n",
       "4          0      3    male      0      0   8.0500        S\n",
       "..       ...    ...     ...    ...    ...      ...      ...\n",
       "886        0      2    male      0      0  13.0000        S\n",
       "887        1      1  female      0      0  30.0000        S\n",
       "888        0      3  female      1      2  23.4500        S\n",
       "889        1      1    male      0      0  30.0000        C\n",
       "890        0      3    male      0      0   7.7500        Q\n",
       "\n",
       "[889 rows x 7 columns]"
      ]
     },
     "execution_count": 8,
     "metadata": {},
     "output_type": "execute_result"
    }
   ],
   "source": [
    "# 결측치 제거 in 'Age', 'Cabin', 'Embarked' \n",
    "# Age, Cabin의 결측치 양이 너무 많기 때문에 열을 drop 해준다.\n",
    "# Name, PassengerId, Ticket은 통계량과 관계 없기 때문에 drop 해준다.\n",
    "\n",
    "nn_df_titanic_t=df_titanic_t.drop(columns=['PassengerId', 'Name', 'Ticket', 'Age', 'Cabin'])\n",
    "nn_df_titanic_t=nn_df_titanic_t.dropna()\n",
    "nn_df_titanic_t"
   ]
  },
  {
   "cell_type": "markdown",
   "id": "18eeff14-b17a-47bb-9008-03ef9b211e8c",
   "metadata": {},
   "source": [
    "#### 이상치 처리"
   ]
  },
  {
   "cell_type": "code",
   "execution_count": 9,
   "id": "0a3c5791-be6f-4430-bb85-861bb581222b",
   "metadata": {
    "tags": []
   },
   "outputs": [
    {
     "data": {
      "text/plain": [
       "['SibSp', 'Parch', 'Fare']"
      ]
     },
     "execution_count": 9,
     "metadata": {},
     "output_type": "execute_result"
    }
   ],
   "source": [
    "# 연속형 데이터 확인\n",
    "conlist_titanic=nn_df_titanic_t.describe().columns.to_list()\n",
    "conlist_titanic"
   ]
  },
  {
   "cell_type": "code",
   "execution_count": 10,
   "id": "2b51eac2-f840-4e09-9ea3-9614ea2a2a0a",
   "metadata": {},
   "outputs": [
    {
     "data": {
      "image/png": "[encoded data removed]",
      "text/plain": [
       "<Figure size 640x480 with 1 Axes>"
      ]
     },
     "metadata": {},
     "output_type": "display_data"
    },
    {
     "data": {
      "image/png": "[encoded data removed]",
      "text/plain": [
       "<Figure size 640x480 with 1 Axes>"
      ]
     },
     "metadata": {},
     "output_type": "display_data"
    },
    {
     "data": {
      "image/png": "[encoded data removed]",
      "text/plain": [
       "<Figure size 640x480 with 1 Axes>"
      ]
     },
     "metadata": {},
     "output_type": "display_data"
    }
   ],
   "source": [
    "# x: 연속형/ y: 범주형\n",
    "for item in conlist_titanic :\n",
    "    sns.boxplot(nn_df_titanic_t, x=item)\n",
    "    plt.title(item)\n",
    "    plt.show()"
   ]
  },
  {
   "cell_type": "code",
   "execution_count": 11,
   "id": "a9eeabb1-16ee-40d2-9ca0-56e8f088f124",
   "metadata": {
    "tags": []
   },
   "outputs": [
    {
     "name": "stdout",
     "output_type": "stream",
     "text": [
      "SibSp :: Q1: 0.0, Q3: 1.0, IQR: 1.0, min: -1.5, max: 2.5\n",
      "Parch :: Q1: 0.0, Q3: 0.0, IQR: 0.0, min: 0.0, max: 0.0\n",
      "Fare :: Q1: 7.8958, Q3: 31.0, IQR: 23.1042, min: -26.7605, max: 65.6563\n"
     ]
    }
   ],
   "source": [
    "# 'SibSp', 'Parch'의 이상치는 처리하지 않는다.\n",
    "# 'Fare'의 Q1, Q3, IQR, min, max 구하기\n",
    "\n",
    "def iqrs(df, col):\n",
    "    iqr_list=[]\n",
    "    Q1 = np.percentile(df[col],25)\n",
    "    Q3 = np.percentile(df[col],75)\n",
    "    IQR=Q3-Q1\n",
    "    minIQR=Q1-1.5*IQR\n",
    "    maxIQR=Q3+1.5*IQR\n",
    "    iqr_list = [Q1, Q3, IQR, minIQR, maxIQR]\n",
    "    return iqr_list\n",
    "\n",
    "\n",
    "for i in conlist_titanic:\n",
    "    list_iqrs=iqrs(nn_df_titanic_t, i)\n",
    "    globals()['iqrs_{}'.format(str(i))] = iqrs(nn_df_titanic_t, i)\n",
    "    print('{} :: Q1: {}, Q3: {}, IQR: {}, min: {}, max: {}'\\\n",
    "          .format(i, list_iqrs[0], list_iqrs[1], list_iqrs[2], list_iqrs[3], list_iqrs[4]))\n"
   ]
  },
  {
   "cell_type": "code",
   "execution_count": 12,
   "id": "dd484cb5-ff12-441e-8fb8-4139f7845b82",
   "metadata": {
    "tags": []
   },
   "outputs": [],
   "source": [
    "# filter\n",
    "condition = (nn_df_titanic_t['Fare'] >= iqrs_Fare[3]) & (nn_df_titanic_t['Fare'] <= iqrs_Fare[4])\n",
    "filt_df_titanic = nn_df_titanic_t[condition]"
   ]
  },
  {
   "cell_type": "markdown",
   "id": "45446962-ca8e-4af4-8fef-62572d8c2f23",
   "metadata": {
    "tags": []
   },
   "source": [
    "#### 이상치 제거 확인"
   ]
  },
  {
   "cell_type": "code",
   "execution_count": 13,
   "id": "4bf91b81-4de4-4692-b4c9-3c96f77f1f3c",
   "metadata": {},
   "outputs": [
    {
     "data": {
      "image/png": "[encoded data removed]",
      "text/plain": [
       "<Figure size 640x480 with 1 Axes>"
      ]
     },
     "metadata": {},
     "output_type": "display_data"
    }
   ],
   "source": [
    "sns.boxplot(filt_df_titanic, x='Fare')\n",
    "plt.title('Fare')\n",
    "plt.show()"
   ]
  },
  {
   "cell_type": "markdown",
   "id": "58eb5c4e-b123-416f-acd4-38956a81f7bb",
   "metadata": {
    "tags": []
   },
   "source": [
    "### 🔴 상관관계 확인\n",
    "- 목표변수 : 'Survived' - 분포 : unbalanced : 생존자보다 사망자가 더 많음.\n",
    "\n",
    "- 설명변수(연속형)\n",
    "'SibSp' : 거의 차이 없어보이나, 0~1명인 경우에 생존을 많이 한 것으로 보임. 확증 데이터 분석 필요.\n",
    "'Parch' : 거의 차이 없어보이나, 0~1명인 경우에 생존을 많이 한 것으로 보임. 확증 데이터 분석 필요.\n",
    "'Fare'  : Fare가 높을 수록 생존률 더 높은 것으로 보임.\n",
    "\n",
    "- 설명변수(범주형)\n",
    "'Pclass'  : 3->2->1 로 등급이 높아질수록 생존률이 더 높은 것으로 보임.\n",
    "'Sex'     : 여성의 생존률이 남성에 비해 월등히 높은 것으로 보임.\n",
    "'Embarked': S->Q->C 순서로 승선한 항구에 따라 생존률 분포에 영향이 있는 것으로 보임.\n",
    "\n",
    "- 분석 스토리 : 형제 또는 배우자, 부모 또는 자녀와 함께 탑승 했을 경우, 동승객과의 관계와 무관하게 0명 혹은 1명인 경우에 생존수가 높게 나타남을 볼 수 있습니다. 이는 탈출시 혼자 또는 적은 수의 가족을 챙길 수 있었던 경우에 생존할 가능성이 더 높았다는 것으로 유추해 볼 수 있습니다. 다만 탑승객 수 대비 생존자 수의 비율로 다시 확인할 필요가 있으며, 동승객이 2명 이상인 경우의 표본이 많지 않아서 유의미하다고 확증하기는 어려워 보입니다.<br><br>\n",
    "티켓의 가격, 티켓의 등급, 승선한 항구에 따라 생존률 분포가 확연하게 다름을 알 수 있습니다. 부유한 계층이 더 생존하기 유리했다는 것을 유추해 볼 수 있습니다. 또한 승선한 항구가 S->Q->C 순으로 점점 부유한 동네에 위치하지 않을까 하는 가설을 세워볼 수 있습니다.<br><br>\n",
    "성별에 따른 생존률을 확인했을 때 여성이 남성보다 훨씬 높은 비율로 생존했음을 확인할 수 있습니다. 이는 여성을 먼저 탈출시켰던 것이 원인이 되었을 것으로 유추할 수 있습니다.\n"
   ]
  },
  {
   "cell_type": "code",
   "execution_count": 14,
   "id": "964fc710-5bfc-493f-a5e9-708cb150f68e",
   "metadata": {
    "tags": []
   },
   "outputs": [
    {
     "data": {
      "text/plain": [
       "<Axes: xlabel='Survived', ylabel='count'>"
      ]
     },
     "execution_count": 14,
     "metadata": {},
     "output_type": "execute_result"
    },
    {
     "data": {
      "image/png": "[encoded data removed]",
      "text/plain": [
       "<Figure size 640x480 with 1 Axes>"
      ]
     },
     "metadata": {},
     "output_type": "display_data"
    }
   ],
   "source": [
    "# 목표변수 분포 Balance 확인\n",
    "\n",
    "sns.countplot(data=filt_df_titanic, x='Survived')"
   ]
  },
  {
   "cell_type": "code",
   "execution_count": 15,
   "id": "0588f308-8165-457f-b7a0-f6316640bd71",
   "metadata": {
    "tags": []
   },
   "outputs": [
    {
     "name": "stdout",
     "output_type": "stream",
     "text": [
      "<class 'pandas.core.frame.DataFrame'>\n",
      "Int64Index: 775 entries, 0 to 890\n",
      "Data columns (total 7 columns):\n",
      " #   Column    Non-Null Count  Dtype  \n",
      "---  ------    --------------  -----  \n",
      " 0   Survived  775 non-null    object \n",
      " 1   Pclass    775 non-null    object \n",
      " 2   Sex       775 non-null    object \n",
      " 3   SibSp     775 non-null    int64  \n",
      " 4   Parch     775 non-null    int64  \n",
      " 5   Fare      775 non-null    float64\n",
      " 6   Embarked  775 non-null    object \n",
      "dtypes: float64(1), int64(2), object(4)\n",
      "memory usage: 48.4+ KB\n"
     ]
    }
   ],
   "source": [
    "filt_df_titanic.info()"
   ]
  },
  {
   "cell_type": "code",
   "execution_count": 16,
   "id": "5a9ce14c-3bc5-4a6a-8805-c817622e2a84",
   "metadata": {
    "tags": []
   },
   "outputs": [
    {
     "data": {
      "image/png": "[encoded data removed]",
      "text/plain": [
       "<Figure size 640x480 with 1 Axes>"
      ]
     },
     "metadata": {},
     "output_type": "display_data"
    },
    {
     "data": {
      "image/png": "[encoded data removed]",
      "text/plain": [
       "<Figure size 640x480 with 1 Axes>"
      ]
     },
     "metadata": {},
     "output_type": "display_data"
    },
    {
     "data": {
      "image/png": "[encoded data removed]",
      "text/plain": [
       "<Figure size 640x480 with 1 Axes>"
      ]
     },
     "metadata": {},
     "output_type": "display_data"
    }
   ],
   "source": [
    "# x: 연속형/ y: 범주형\n",
    "\n",
    "for item in conlist_titanic :\n",
    "    sns.boxplot(filt_df_titanic, x=item, y='Survived', orient = 'h')\n",
    "    plt.title(item)\n",
    "    plt.show()"
   ]
  },
  {
   "cell_type": "code",
   "execution_count": 17,
   "id": "cbdec83f-8ae8-4ffa-9f13-6d573a333ec8",
   "metadata": {},
   "outputs": [
    {
     "data": {
      "image/png": "[encoded data removed]",
      "text/plain": [
       "<Figure size 640x480 with 1 Axes>"
      ]
     },
     "metadata": {},
     "output_type": "display_data"
    },
    {
     "data": {
      "image/png": "[encoded data removed]",
      "text/plain": [
       "<Figure size 640x480 with 1 Axes>"
      ]
     },
     "metadata": {},
     "output_type": "display_data"
    }
   ],
   "source": [
    "for item in conlist_titanic[:2] :\n",
    "    sns.countplot(filt_df_titanic, x=item, hue='Survived')\n",
    "    plt.title(item)\n",
    "    plt.show()"
   ]
  },
  {
   "cell_type": "code",
   "execution_count": 18,
   "id": "0e557e77-e0f3-4480-a197-b2047008b4f5",
   "metadata": {
    "tags": []
   },
   "outputs": [
    {
     "data": {
      "text/plain": [
       "['Pclass', 'Sex', 'Embarked']"
      ]
     },
     "execution_count": 18,
     "metadata": {},
     "output_type": "execute_result"
    }
   ],
   "source": [
    "# 범주 데이터 확인 (목표변수 제외)\n",
    "\n",
    "objlist_titanic=filt_df_titanic.describe(include=object).drop(columns=['Survived']).columns.to_list()\n",
    "objlist_titanic"
   ]
  },
  {
   "cell_type": "code",
   "execution_count": 19,
   "id": "a82d8f97-06b1-49ca-b5a3-156065e305df",
   "metadata": {
    "tags": []
   },
   "outputs": [
    {
     "data": {
      "image/png": "[encoded data removed]",
      "text/plain": [
       "<Figure size 640x480 with 1 Axes>"
      ]
     },
     "metadata": {},
     "output_type": "display_data"
    },
    {
     "data": {
      "image/png": "[encoded data removed]",
      "text/plain": [
       "<Figure size 640x480 with 1 Axes>"
      ]
     },
     "metadata": {},
     "output_type": "display_data"
    },
    {
     "data": {
      "image/png": "[encoded data removed]",
      "text/plain": [
       "<Figure size 640x480 with 1 Axes>"
      ]
     },
     "metadata": {},
     "output_type": "display_data"
    }
   ],
   "source": [
    "# x: 범주형/ y: 범주형\n",
    "\n",
    "for item in objlist_titanic :\n",
    "    sns.barplot(filt_df_titanic, x=item, y='Survived', errorbar=None)\n",
    "    plt.title(item)\n",
    "    plt.show()"
   ]
  },
  {
   "cell_type": "code",
   "execution_count": null,
   "id": "99a5edbb-e9b0-4235-97d1-0517d5001486",
   "metadata": {},
   "outputs": [],
   "source": []
  },
  {
   "cell_type": "code",
   "execution_count": null,
   "id": "b0085de8-ac3b-4745-8093-ad2ea2647ad0",
   "metadata": {},
   "outputs": [],
   "source": []
  },
  {
   "cell_type": "code",
   "execution_count": null,
   "id": "1bbc593f-d25d-4aa6-8d18-1705424ad79f",
   "metadata": {},
   "outputs": [],
   "source": []
  }
 ],
 "metadata": {
  "kernelspec": {
   "display_name": "Python 3 (ipykernel)",
   "language": "python",
   "name": "python3"
  },
  "language_info": {
   "codemirror_mode": {
    "name": "ipython",
    "version": 3
   },
   "file_extension": ".py",
   "mimetype": "text/x-python",
   "name": "python",
   "nbconvert_exporter": "python",
   "pygments_lexer": "ipython3",
   "version": "3.11.3"
  }
 },
 "nbformat": 4,
 "nbformat_minor": 5
}
