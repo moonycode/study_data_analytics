{
 "cells": [
  {
   "cell_type": "markdown",
   "id": "fdc57829-fa8a-4429-8401-8939027981f3",
   "metadata": {
    "tags": []
   },
   "source": [
    "## DataFrame 구조\n",
    "### - index(row), column(column), data"
   ]
  },
  {
   "cell_type": "code",
   "execution_count": 1,
   "id": "2da9f18a-1153-48d8-a2cf-b94d12cfbf85",
   "metadata": {
    "tags": []
   },
   "outputs": [],
   "source": [
    "import pandas as pd"
   ]
  },
  {
   "cell_type": "code",
   "execution_count": 2,
   "id": "2e586452-4125-43aa-98c1-ab526c23909b",
   "metadata": {
    "tags": []
   },
   "outputs": [],
   "source": [
    "num_list=range(0,51,10)"
   ]
  },
  {
   "cell_type": "code",
   "execution_count": 3,
   "id": "ee3aebae-ea22-42d7-b8e5-1ccb30330b17",
   "metadata": {
    "tags": []
   },
   "outputs": [],
   "source": [
    "df_numlist = pd.DataFrame(data=num_list)"
   ]
  },
  {
   "cell_type": "code",
   "execution_count": 4,
   "id": "ff9f1f27-0d87-4ca7-bddd-929437a667ed",
   "metadata": {
    "tags": []
   },
   "outputs": [
    {
     "data": {
      "text/html": [
       "<div>\n",
       "<style scoped>\n",
       "    .dataframe tbody tr th:only-of-type {\n",
       "        vertical-align: middle;\n",
       "    }\n",
       "\n",
       "    .dataframe tbody tr th {\n",
       "        vertical-align: top;\n",
       "    }\n",
       "\n",
       "    .dataframe thead th {\n",
       "        text-align: right;\n",
       "    }\n",
       "</style>\n",
       "<table border=\"1\" class=\"dataframe\">\n",
       "  <thead>\n",
       "    <tr style=\"text-align: right;\">\n",
       "      <th></th>\n",
       "      <th>0</th>\n",
       "    </tr>\n",
       "  </thead>\n",
       "  <tbody>\n",
       "    <tr>\n",
       "      <th>0</th>\n",
       "      <td>0</td>\n",
       "    </tr>\n",
       "    <tr>\n",
       "      <th>1</th>\n",
       "      <td>10</td>\n",
       "    </tr>\n",
       "    <tr>\n",
       "      <th>2</th>\n",
       "      <td>20</td>\n",
       "    </tr>\n",
       "    <tr>\n",
       "      <th>3</th>\n",
       "      <td>30</td>\n",
       "    </tr>\n",
       "    <tr>\n",
       "      <th>4</th>\n",
       "      <td>40</td>\n",
       "    </tr>\n",
       "    <tr>\n",
       "      <th>5</th>\n",
       "      <td>50</td>\n",
       "    </tr>\n",
       "  </tbody>\n",
       "</table>\n",
       "</div>"
      ],
      "text/plain": [
       "    0\n",
       "0   0\n",
       "1  10\n",
       "2  20\n",
       "3  30\n",
       "4  40\n",
       "5  50"
      ]
     },
     "execution_count": 4,
     "metadata": {},
     "output_type": "execute_result"
    }
   ],
   "source": [
    "df_numlist"
   ]
  },
  {
   "cell_type": "markdown",
   "id": "74fcb494-958d-4127-b14e-58be3ad34b0d",
   "metadata": {},
   "source": [
    "## Series 구조\n",
    "### - index(row), data"
   ]
  },
  {
   "cell_type": "code",
   "execution_count": 5,
   "id": "94129cfb-d9cb-498c-b50b-96e8a15634ba",
   "metadata": {},
   "outputs": [],
   "source": [
    "import pandas as pd\n",
    "import numpy as np"
   ]
  },
  {
   "cell_type": "code",
   "execution_count": 6,
   "id": "7033ca75-f4be-4c82-9da7-4183c8e927d9",
   "metadata": {
    "tags": []
   },
   "outputs": [
    {
     "data": {
      "text/plain": [
       "array([0.1, 0.2, 0.3, 0.4, 0.5])"
      ]
     },
     "execution_count": 6,
     "metadata": {},
     "output_type": "execute_result"
    }
   ],
   "source": [
    "single_data = np.arange(0.1, 0.6, 0.1)\n",
    "single_data"
   ]
  },
  {
   "cell_type": "code",
   "execution_count": 7,
   "id": "628eac29-befe-41eb-82e0-a75f6af8e3d8",
   "metadata": {
    "tags": []
   },
   "outputs": [],
   "source": [
    "series_floats = pd.Series(data=single_data)"
   ]
  },
  {
   "cell_type": "code",
   "execution_count": 8,
   "id": "e571c742-920c-43d4-8a5d-98df88969371",
   "metadata": {
    "tags": []
   },
   "outputs": [
    {
     "data": {
      "text/plain": [
       "0    0.1\n",
       "1    0.2\n",
       "2    0.3\n",
       "3    0.4\n",
       "4    0.5\n",
       "dtype: float64"
      ]
     },
     "execution_count": 8,
     "metadata": {},
     "output_type": "execute_result"
    }
   ],
   "source": [
    "series_floats"
   ]
  },
  {
   "cell_type": "code",
   "execution_count": 9,
   "id": "08df8363-b9ea-41f3-852d-67ffa28fccd8",
   "metadata": {
    "tags": []
   },
   "outputs": [
    {
     "data": {
      "text/plain": [
       "pandas.core.series.Series"
      ]
     },
     "execution_count": 9,
     "metadata": {},
     "output_type": "execute_result"
    }
   ],
   "source": [
    "type(series_floats)"
   ]
  },
  {
   "cell_type": "markdown",
   "id": "ac6bcac6-daff-4e12-b453-76910fadae0e",
   "metadata": {},
   "source": [
    "## numpy를 이용해 random한 Dataframe 데이터 생성"
   ]
  },
  {
   "cell_type": "code",
   "execution_count": 10,
   "id": "fc10f8d8-757a-4140-82b3-fcab994c3414",
   "metadata": {
    "tags": []
   },
   "outputs": [],
   "source": [
    "import pandas as pd\n",
    "import numpy as np"
   ]
  },
  {
   "cell_type": "code",
   "execution_count": 11,
   "id": "26f8abf2-1ca0-4bcd-9795-601be93d2e16",
   "metadata": {
    "tags": []
   },
   "outputs": [
    {
     "data": {
      "text/plain": [
       "'1.5.3'"
      ]
     },
     "execution_count": 11,
     "metadata": {},
     "output_type": "execute_result"
    }
   ],
   "source": [
    "pd.__version__"
   ]
  },
  {
   "cell_type": "code",
   "execution_count": 12,
   "id": "717e4b01-d595-4925-aa72-85b5743a19d1",
   "metadata": {
    "tags": []
   },
   "outputs": [
    {
     "data": {
      "text/plain": [
       "'1.24.3'"
      ]
     },
     "execution_count": 12,
     "metadata": {},
     "output_type": "execute_result"
    }
   ],
   "source": [
    "np.__version__"
   ]
  },
  {
   "cell_type": "code",
   "execution_count": 13,
   "id": "c2fde6e6-1707-4087-a618-aa14fb583297",
   "metadata": {
    "tags": []
   },
   "outputs": [
    {
     "data": {
      "text/plain": [
       "60"
      ]
     },
     "execution_count": 13,
     "metadata": {},
     "output_type": "execute_result"
    }
   ],
   "source": [
    "np.random.randint(0,100) # 0에서 99까지의 숫자 중 랜덤하게 하나의 정수 값을 출력"
   ]
  },
  {
   "cell_type": "code",
   "execution_count": 14,
   "id": "7bf6b04f-4c8e-4db1-9037-35ac458b5818",
   "metadata": {
    "tags": []
   },
   "outputs": [
    {
     "data": {
      "text/plain": [
       "array([[34, 28, 81, 44, 93],\n",
       "       [46, 87,  2, 97,  9],\n",
       "       [22, 80, 37, 28, 94],\n",
       "       [39, 80, 50,  1, 75],\n",
       "       [79, 69, 87, 93, 24],\n",
       "       [21, 37, 89, 68, 84],\n",
       "       [ 4, 98, 87, 48, 64],\n",
       "       [87, 43, 71, 38, 20],\n",
       "       [43, 41, 47, 65, 49],\n",
       "       [79, 99,  9, 28, 99]])"
      ]
     },
     "execution_count": 14,
     "metadata": {},
     "output_type": "execute_result"
    }
   ],
   "source": [
    "np.random.randint(0,100,size=(10, 5)) # size 옵션 : 10행 5열의 랜덤한 array 행렬"
   ]
  },
  {
   "cell_type": "code",
   "execution_count": 15,
   "id": "b9f600a1-756e-411c-beb9-7216c23ffa20",
   "metadata": {
    "tags": []
   },
   "outputs": [],
   "source": [
    "num_array = np.random.randint(0,100,size=(10, 5))"
   ]
  },
  {
   "cell_type": "code",
   "execution_count": 16,
   "id": "11f5b127-8979-4278-800f-0b9494c0d616",
   "metadata": {
    "tags": []
   },
   "outputs": [
    {
     "data": {
      "text/html": [
       "<div>\n",
       "<style scoped>\n",
       "    .dataframe tbody tr th:only-of-type {\n",
       "        vertical-align: middle;\n",
       "    }\n",
       "\n",
       "    .dataframe tbody tr th {\n",
       "        vertical-align: top;\n",
       "    }\n",
       "\n",
       "    .dataframe thead th {\n",
       "        text-align: right;\n",
       "    }\n",
       "</style>\n",
       "<table border=\"1\" class=\"dataframe\">\n",
       "  <thead>\n",
       "    <tr style=\"text-align: right;\">\n",
       "      <th></th>\n",
       "      <th>0</th>\n",
       "      <th>1</th>\n",
       "      <th>2</th>\n",
       "      <th>3</th>\n",
       "      <th>4</th>\n",
       "    </tr>\n",
       "  </thead>\n",
       "  <tbody>\n",
       "    <tr>\n",
       "      <th>0</th>\n",
       "      <td>69</td>\n",
       "      <td>25</td>\n",
       "      <td>81</td>\n",
       "      <td>10</td>\n",
       "      <td>54</td>\n",
       "    </tr>\n",
       "    <tr>\n",
       "      <th>1</th>\n",
       "      <td>19</td>\n",
       "      <td>90</td>\n",
       "      <td>0</td>\n",
       "      <td>39</td>\n",
       "      <td>64</td>\n",
       "    </tr>\n",
       "    <tr>\n",
       "      <th>2</th>\n",
       "      <td>23</td>\n",
       "      <td>18</td>\n",
       "      <td>75</td>\n",
       "      <td>91</td>\n",
       "      <td>19</td>\n",
       "    </tr>\n",
       "    <tr>\n",
       "      <th>3</th>\n",
       "      <td>69</td>\n",
       "      <td>4</td>\n",
       "      <td>66</td>\n",
       "      <td>68</td>\n",
       "      <td>2</td>\n",
       "    </tr>\n",
       "    <tr>\n",
       "      <th>4</th>\n",
       "      <td>71</td>\n",
       "      <td>33</td>\n",
       "      <td>21</td>\n",
       "      <td>78</td>\n",
       "      <td>62</td>\n",
       "    </tr>\n",
       "    <tr>\n",
       "      <th>5</th>\n",
       "      <td>43</td>\n",
       "      <td>87</td>\n",
       "      <td>95</td>\n",
       "      <td>83</td>\n",
       "      <td>89</td>\n",
       "    </tr>\n",
       "    <tr>\n",
       "      <th>6</th>\n",
       "      <td>50</td>\n",
       "      <td>7</td>\n",
       "      <td>73</td>\n",
       "      <td>16</td>\n",
       "      <td>39</td>\n",
       "    </tr>\n",
       "    <tr>\n",
       "      <th>7</th>\n",
       "      <td>53</td>\n",
       "      <td>3</td>\n",
       "      <td>20</td>\n",
       "      <td>31</td>\n",
       "      <td>33</td>\n",
       "    </tr>\n",
       "    <tr>\n",
       "      <th>8</th>\n",
       "      <td>25</td>\n",
       "      <td>43</td>\n",
       "      <td>25</td>\n",
       "      <td>42</td>\n",
       "      <td>26</td>\n",
       "    </tr>\n",
       "    <tr>\n",
       "      <th>9</th>\n",
       "      <td>91</td>\n",
       "      <td>44</td>\n",
       "      <td>8</td>\n",
       "      <td>58</td>\n",
       "      <td>16</td>\n",
       "    </tr>\n",
       "  </tbody>\n",
       "</table>\n",
       "</div>"
      ],
      "text/plain": [
       "    0   1   2   3   4\n",
       "0  69  25  81  10  54\n",
       "1  19  90   0  39  64\n",
       "2  23  18  75  91  19\n",
       "3  69   4  66  68   2\n",
       "4  71  33  21  78  62\n",
       "5  43  87  95  83  89\n",
       "6  50   7  73  16  39\n",
       "7  53   3  20  31  33\n",
       "8  25  43  25  42  26\n",
       "9  91  44   8  58  16"
      ]
     },
     "execution_count": 16,
     "metadata": {},
     "output_type": "execute_result"
    }
   ],
   "source": [
    "df_by_randint = pd.DataFrame(num_array)\n",
    "df_by_randint"
   ]
  },
  {
   "cell_type": "markdown",
   "id": "f73d02e1-be9f-48b1-956f-5d9237e0a781",
   "metadata": {},
   "source": [
    "## 파이썬 내장 random 모듈 이용해 random한 Dataframe 데이터 생성"
   ]
  },
  {
   "cell_type": "code",
   "execution_count": 17,
   "id": "8a6f3fbc-8a9c-434c-a6bf-f556b4a3affe",
   "metadata": {
    "tags": []
   },
   "outputs": [],
   "source": [
    "import random"
   ]
  },
  {
   "cell_type": "code",
   "execution_count": 18,
   "id": "8ef4b2bb-4096-408b-83d8-ca2ea6138afa",
   "metadata": {
    "tags": []
   },
   "outputs": [
    {
     "data": {
      "text/plain": [
       "83"
      ]
     },
     "execution_count": 18,
     "metadata": {},
     "output_type": "execute_result"
    }
   ],
   "source": [
    "random.randrange(0, 100)"
   ]
  },
  {
   "cell_type": "code",
   "execution_count": 19,
   "id": "6abd3f36-f1b0-4a0b-a0ee-e23fb457bf1e",
   "metadata": {
    "tags": []
   },
   "outputs": [],
   "source": [
    "random_double_list = [[random.randrange(0, 100) for _ in range(5)] for _ in range(5)] # 이중 for문 이용해 array 행렬 작성"
   ]
  },
  {
   "cell_type": "code",
   "execution_count": 20,
   "id": "cddeec0d-8838-42a4-a904-84b05560d509",
   "metadata": {
    "tags": []
   },
   "outputs": [
    {
     "data": {
      "text/plain": [
       "[[53, 64, 31, 71, 94],\n",
       " [4, 2, 69, 39, 60],\n",
       " [7, 26, 48, 71, 36],\n",
       " [18, 90, 44, 18, 4],\n",
       " [26, 3, 8, 77, 66]]"
      ]
     },
     "execution_count": 20,
     "metadata": {},
     "output_type": "execute_result"
    }
   ],
   "source": [
    "random_double_list"
   ]
  },
  {
   "cell_type": "code",
   "execution_count": 21,
   "id": "9f7cabe7-9baa-4a52-8b85-3fdc0bbf3e43",
   "metadata": {
    "tags": []
   },
   "outputs": [],
   "source": [
    "df_by_randrange = pd.DataFrame(random_double_list)"
   ]
  },
  {
   "cell_type": "code",
   "execution_count": 22,
   "id": "97a6b867-e885-4ff7-b9ee-37e3eac9503e",
   "metadata": {
    "tags": []
   },
   "outputs": [
    {
     "data": {
      "text/html": [
       "<div>\n",
       "<style scoped>\n",
       "    .dataframe tbody tr th:only-of-type {\n",
       "        vertical-align: middle;\n",
       "    }\n",
       "\n",
       "    .dataframe tbody tr th {\n",
       "        vertical-align: top;\n",
       "    }\n",
       "\n",
       "    .dataframe thead th {\n",
       "        text-align: right;\n",
       "    }\n",
       "</style>\n",
       "<table border=\"1\" class=\"dataframe\">\n",
       "  <thead>\n",
       "    <tr style=\"text-align: right;\">\n",
       "      <th></th>\n",
       "      <th>0</th>\n",
       "      <th>1</th>\n",
       "      <th>2</th>\n",
       "      <th>3</th>\n",
       "      <th>4</th>\n",
       "    </tr>\n",
       "  </thead>\n",
       "  <tbody>\n",
       "    <tr>\n",
       "      <th>0</th>\n",
       "      <td>53</td>\n",
       "      <td>64</td>\n",
       "      <td>31</td>\n",
       "      <td>71</td>\n",
       "      <td>94</td>\n",
       "    </tr>\n",
       "    <tr>\n",
       "      <th>1</th>\n",
       "      <td>4</td>\n",
       "      <td>2</td>\n",
       "      <td>69</td>\n",
       "      <td>39</td>\n",
       "      <td>60</td>\n",
       "    </tr>\n",
       "    <tr>\n",
       "      <th>2</th>\n",
       "      <td>7</td>\n",
       "      <td>26</td>\n",
       "      <td>48</td>\n",
       "      <td>71</td>\n",
       "      <td>36</td>\n",
       "    </tr>\n",
       "    <tr>\n",
       "      <th>3</th>\n",
       "      <td>18</td>\n",
       "      <td>90</td>\n",
       "      <td>44</td>\n",
       "      <td>18</td>\n",
       "      <td>4</td>\n",
       "    </tr>\n",
       "    <tr>\n",
       "      <th>4</th>\n",
       "      <td>26</td>\n",
       "      <td>3</td>\n",
       "      <td>8</td>\n",
       "      <td>77</td>\n",
       "      <td>66</td>\n",
       "    </tr>\n",
       "  </tbody>\n",
       "</table>\n",
       "</div>"
      ],
      "text/plain": [
       "    0   1   2   3   4\n",
       "0  53  64  31  71  94\n",
       "1   4   2  69  39  60\n",
       "2   7  26  48  71  36\n",
       "3  18  90  44  18   4\n",
       "4  26   3   8  77  66"
      ]
     },
     "execution_count": 22,
     "metadata": {},
     "output_type": "execute_result"
    }
   ],
   "source": [
    "df_by_randrange"
   ]
  },
  {
   "cell_type": "markdown",
   "id": "a59c89e8-35f2-4943-a535-64526b9af2ca",
   "metadata": {},
   "source": [
    "## 수업"
   ]
  },
  {
   "cell_type": "code",
   "execution_count": 23,
   "id": "efa7bff7-db03-4c33-b4ac-4e44a09bed6d",
   "metadata": {
    "tags": []
   },
   "outputs": [
    {
     "data": {
      "text/html": [
       "<div>\n",
       "<style scoped>\n",
       "    .dataframe tbody tr th:only-of-type {\n",
       "        vertical-align: middle;\n",
       "    }\n",
       "\n",
       "    .dataframe tbody tr th {\n",
       "        vertical-align: top;\n",
       "    }\n",
       "\n",
       "    .dataframe thead th {\n",
       "        text-align: right;\n",
       "    }\n",
       "</style>\n",
       "<table border=\"1\" class=\"dataframe\">\n",
       "  <thead>\n",
       "    <tr style=\"text-align: right;\">\n",
       "      <th></th>\n",
       "      <th>0</th>\n",
       "      <th>1</th>\n",
       "      <th>2</th>\n",
       "      <th>3</th>\n",
       "    </tr>\n",
       "  </thead>\n",
       "  <tbody>\n",
       "    <tr>\n",
       "      <th>0</th>\n",
       "      <td>1000</td>\n",
       "      <td>과자</td>\n",
       "      <td>2019-12-31</td>\n",
       "      <td>반품</td>\n",
       "    </tr>\n",
       "    <tr>\n",
       "      <th>1</th>\n",
       "      <td>2000</td>\n",
       "      <td>음료</td>\n",
       "      <td>2020-03-02</td>\n",
       "      <td>정상</td>\n",
       "    </tr>\n",
       "    <tr>\n",
       "      <th>2</th>\n",
       "      <td>3000</td>\n",
       "      <td>아이스크림</td>\n",
       "      <td>2020-02-03</td>\n",
       "      <td>정상</td>\n",
       "    </tr>\n",
       "    <tr>\n",
       "      <th>3</th>\n",
       "      <td>1000</td>\n",
       "      <td>과자</td>\n",
       "      <td>2019-12-31</td>\n",
       "      <td>반품</td>\n",
       "    </tr>\n",
       "  </tbody>\n",
       "</table>\n",
       "</div>"
      ],
      "text/plain": [
       "      0      1           2   3\n",
       "0  1000     과자  2019-12-31  반품\n",
       "1  2000     음료  2020-03-02  정상\n",
       "2  3000  아이스크림  2020-02-03  정상\n",
       "3  1000     과자  2019-12-31  반품"
      ]
     },
     "execution_count": 23,
     "metadata": {},
     "output_type": "execute_result"
    }
   ],
   "source": [
    "double_list = [\n",
    "    [1000, '과자','2019-12-31','반품'],\n",
    "    [2000, '음료', '2020-03-02', '정상'],\n",
    "    [3000, '아이스크림', '2020-02-03','정상'],\n",
    "    [1000,'과자','2019-12-31','반품']\n",
    "    ]\n",
    "df_double_list = pd.DataFrame(data=double_list)\n",
    "df_double_list"
   ]
  },
  {
   "cell_type": "code",
   "execution_count": 24,
   "id": "72356a6f-8d72-4e77-8570-085580e0b7af",
   "metadata": {
    "tags": []
   },
   "outputs": [
    {
     "data": {
      "text/html": [
       "<div>\n",
       "<style scoped>\n",
       "    .dataframe tbody tr th:only-of-type {\n",
       "        vertical-align: middle;\n",
       "    }\n",
       "\n",
       "    .dataframe tbody tr th {\n",
       "        vertical-align: top;\n",
       "    }\n",
       "\n",
       "    .dataframe thead th {\n",
       "        text-align: right;\n",
       "    }\n",
       "</style>\n",
       "<table border=\"1\" class=\"dataframe\">\n",
       "  <thead>\n",
       "    <tr style=\"text-align: right;\">\n",
       "      <th></th>\n",
       "      <th>가격</th>\n",
       "      <th>종류</th>\n",
       "      <th>판매일자</th>\n",
       "      <th>반품여부</th>\n",
       "    </tr>\n",
       "  </thead>\n",
       "  <tbody>\n",
       "    <tr>\n",
       "      <th>0</th>\n",
       "      <td>1000</td>\n",
       "      <td>과자</td>\n",
       "      <td>2019-12-31</td>\n",
       "      <td>반품</td>\n",
       "    </tr>\n",
       "    <tr>\n",
       "      <th>1</th>\n",
       "      <td>2000</td>\n",
       "      <td>음료</td>\n",
       "      <td>2020-03-02</td>\n",
       "      <td>정상</td>\n",
       "    </tr>\n",
       "    <tr>\n",
       "      <th>2</th>\n",
       "      <td>3000</td>\n",
       "      <td>아이스크림</td>\n",
       "      <td>2020-02-03</td>\n",
       "      <td>정상</td>\n",
       "    </tr>\n",
       "    <tr>\n",
       "      <th>3</th>\n",
       "      <td>1000</td>\n",
       "      <td>과자</td>\n",
       "      <td>2019-12-31</td>\n",
       "      <td>반품</td>\n",
       "    </tr>\n",
       "  </tbody>\n",
       "</table>\n",
       "</div>"
      ],
      "text/plain": [
       "     가격     종류        판매일자 반품여부\n",
       "0  1000     과자  2019-12-31   반품\n",
       "1  2000     음료  2020-03-02   정상\n",
       "2  3000  아이스크림  2020-02-03   정상\n",
       "3  1000     과자  2019-12-31   반품"
      ]
     },
     "execution_count": 24,
     "metadata": {},
     "output_type": "execute_result"
    }
   ],
   "source": [
    "df_double_list = pd.DataFrame(data=double_list, columns=['가격','종류','판매일자','반품여부'])\n",
    "df_double_list"
   ]
  },
  {
   "cell_type": "code",
   "execution_count": null,
   "id": "ddd8f6c1-3c43-4966-a61c-330157688cf1",
   "metadata": {},
   "outputs": [],
   "source": []
  }
 ],
 "metadata": {
  "kernelspec": {
   "display_name": "Python 3 (ipykernel)",
   "language": "python",
   "name": "python3"
  },
  "language_info": {
   "codemirror_mode": {
    "name": "ipython",
    "version": 3
   },
   "file_extension": ".py",
   "mimetype": "text/x-python",
   "name": "python",
   "nbconvert_exporter": "python",
   "pygments_lexer": "ipython3",
   "version": "3.11.3"
  }
 },
 "nbformat": 4,
 "nbformat_minor": 5
}
