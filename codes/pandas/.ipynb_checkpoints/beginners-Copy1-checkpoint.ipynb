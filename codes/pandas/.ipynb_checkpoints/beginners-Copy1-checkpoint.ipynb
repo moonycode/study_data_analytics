{
 "cells": [
  {
   "cell_type": "markdown",
   "id": "fdc57829-fa8a-4429-8401-8939027981f3",
   "metadata": {
    "tags": []
   },
   "source": [
    "## DataFrame 구조\n",
    "### - index(row), column(column), data"
   ]
  },
  {
   "cell_type": "code",
   "execution_count": 1,
   "id": "2da9f18a-1153-48d8-a2cf-b94d12cfbf85",
   "metadata": {
    "tags": []
   },
   "outputs": [],
   "source": [
    "import pandas as pd"
   ]
  },
  {
   "cell_type": "code",
   "execution_count": 2,
   "id": "2e586452-4125-43aa-98c1-ab526c23909b",
   "metadata": {
    "tags": []
   },
   "outputs": [],
   "source": [
    "num_list=range(0,51,10)"
   ]
  },
  {
   "cell_type": "code",
   "execution_count": 3,
   "id": "ee3aebae-ea22-42d7-b8e5-1ccb30330b17",
   "metadata": {
    "tags": []
   },
   "outputs": [],
   "source": [
    "df_numlist = pd.DataFrame(data=num_list)"
   ]
  },
  {
   "cell_type": "code",
   "execution_count": 4,
   "id": "ff9f1f27-0d87-4ca7-bddd-929437a667ed",
   "metadata": {
    "tags": []
   },
   "outputs": [
    {
     "data": {
      "text/html": [
       "<div>\n",
       "<style scoped>\n",
       "    .dataframe tbody tr th:only-of-type {\n",
       "        vertical-align: middle;\n",
       "    }\n",
       "\n",
       "    .dataframe tbody tr th {\n",
       "        vertical-align: top;\n",
       "    }\n",
       "\n",
       "    .dataframe thead th {\n",
       "        text-align: right;\n",
       "    }\n",
       "</style>\n",
       "<table border=\"1\" class=\"dataframe\">\n",
       "  <thead>\n",
       "    <tr style=\"text-align: right;\">\n",
       "      <th></th>\n",
       "      <th>0</th>\n",
       "    </tr>\n",
       "  </thead>\n",
       "  <tbody>\n",
       "    <tr>\n",
       "      <th>0</th>\n",
       "      <td>0</td>\n",
       "    </tr>\n",
       "    <tr>\n",
       "      <th>1</th>\n",
       "      <td>10</td>\n",
       "    </tr>\n",
       "    <tr>\n",
       "      <th>2</th>\n",
       "      <td>20</td>\n",
       "    </tr>\n",
       "    <tr>\n",
       "      <th>3</th>\n",
       "      <td>30</td>\n",
       "    </tr>\n",
       "    <tr>\n",
       "      <th>4</th>\n",
       "      <td>40</td>\n",
       "    </tr>\n",
       "    <tr>\n",
       "      <th>5</th>\n",
       "      <td>50</td>\n",
       "    </tr>\n",
       "  </tbody>\n",
       "</table>\n",
       "</div>"
      ],
      "text/plain": [
       "    0\n",
       "0   0\n",
       "1  10\n",
       "2  20\n",
       "3  30\n",
       "4  40\n",
       "5  50"
      ]
     },
     "execution_count": 4,
     "metadata": {},
     "output_type": "execute_result"
    }
   ],
   "source": [
    "df_numlist"
   ]
  },
  {
   "cell_type": "markdown",
   "id": "74fcb494-958d-4127-b14e-58be3ad34b0d",
   "metadata": {},
   "source": [
    "## Series 구조\n",
    "### - index(row), data"
   ]
  },
  {
   "cell_type": "code",
   "execution_count": 5,
   "id": "94129cfb-d9cb-498c-b50b-96e8a15634ba",
   "metadata": {},
   "outputs": [],
   "source": [
    "import pandas as pd\n",
    "import numpy as np"
   ]
  },
  {
   "cell_type": "code",
   "execution_count": 6,
   "id": "7033ca75-f4be-4c82-9da7-4183c8e927d9",
   "metadata": {
    "tags": []
   },
   "outputs": [
    {
     "data": {
      "text/plain": [
       "array([0.1, 0.2, 0.3, 0.4, 0.5])"
      ]
     },
     "execution_count": 6,
     "metadata": {},
     "output_type": "execute_result"
    }
   ],
   "source": [
    "single_data = np.arange(0.1, 0.6, 0.1)\n",
    "single_data"
   ]
  },
  {
   "cell_type": "code",
   "execution_count": 7,
   "id": "628eac29-befe-41eb-82e0-a75f6af8e3d8",
   "metadata": {
    "tags": []
   },
   "outputs": [],
   "source": [
    "series_floats = pd.Series(data=single_data)"
   ]
  },
  {
   "cell_type": "code",
   "execution_count": 8,
   "id": "e571c742-920c-43d4-8a5d-98df88969371",
   "metadata": {
    "tags": []
   },
   "outputs": [
    {
     "data": {
      "text/plain": [
       "0    0.1\n",
       "1    0.2\n",
       "2    0.3\n",
       "3    0.4\n",
       "4    0.5\n",
       "dtype: float64"
      ]
     },
     "execution_count": 8,
     "metadata": {},
     "output_type": "execute_result"
    }
   ],
   "source": [
    "series_floats"
   ]
  },
  {
   "cell_type": "code",
   "execution_count": 9,
   "id": "08df8363-b9ea-41f3-852d-67ffa28fccd8",
   "metadata": {
    "tags": []
   },
   "outputs": [
    {
     "data": {
      "text/plain": [
       "pandas.core.series.Series"
      ]
     },
     "execution_count": 9,
     "metadata": {},
     "output_type": "execute_result"
    }
   ],
   "source": [
    "type(series_floats)"
   ]
  },
  {
   "cell_type": "markdown",
   "id": "ac6bcac6-daff-4e12-b453-76910fadae0e",
   "metadata": {},
   "source": [
    "## numpy를 이용해 random한 Dataframe 데이터 생성"
   ]
  },
  {
   "cell_type": "code",
   "execution_count": 10,
   "id": "fc10f8d8-757a-4140-82b3-fcab994c3414",
   "metadata": {
    "tags": []
   },
   "outputs": [],
   "source": [
    "import pandas as pd\n",
    "import numpy as np"
   ]
  },
  {
   "cell_type": "code",
   "execution_count": 11,
   "id": "26f8abf2-1ca0-4bcd-9795-601be93d2e16",
   "metadata": {
    "tags": []
   },
   "outputs": [
    {
     "data": {
      "text/plain": [
       "'1.5.3'"
      ]
     },
     "execution_count": 11,
     "metadata": {},
     "output_type": "execute_result"
    }
   ],
   "source": [
    "pd.__version__"
   ]
  },
  {
   "cell_type": "code",
   "execution_count": 12,
   "id": "717e4b01-d595-4925-aa72-85b5743a19d1",
   "metadata": {
    "tags": []
   },
   "outputs": [
    {
     "data": {
      "text/plain": [
       "'1.24.3'"
      ]
     },
     "execution_count": 12,
     "metadata": {},
     "output_type": "execute_result"
    }
   ],
   "source": [
    "np.__version__"
   ]
  },
  {
   "cell_type": "code",
   "execution_count": 13,
   "id": "c2fde6e6-1707-4087-a618-aa14fb583297",
   "metadata": {
    "tags": []
   },
   "outputs": [
    {
     "data": {
      "text/plain": [
       "86"
      ]
     },
     "execution_count": 13,
     "metadata": {},
     "output_type": "execute_result"
    }
   ],
   "source": [
    "np.random.randint(0,100) # 0에서 99까지의 숫자 중 랜덤하게 하나의 정수 값을 출력"
   ]
  },
  {
   "cell_type": "code",
   "execution_count": 14,
   "id": "7bf6b04f-4c8e-4db1-9037-35ac458b5818",
   "metadata": {
    "tags": []
   },
   "outputs": [
    {
     "data": {
      "text/plain": [
       "array([[36, 72, 71, 29, 83],\n",
       "       [82, 53, 90, 58, 40],\n",
       "       [90,  5, 88, 21, 40],\n",
       "       [15, 33, 24, 24, 65],\n",
       "       [67, 96, 80, 69, 65],\n",
       "       [45, 15, 96, 65, 40],\n",
       "       [54,  8, 26, 22, 32],\n",
       "       [61,  0, 86, 65, 87],\n",
       "       [20, 57, 21, 91,  9],\n",
       "       [30, 10, 52, 95, 93]])"
      ]
     },
     "execution_count": 14,
     "metadata": {},
     "output_type": "execute_result"
    }
   ],
   "source": [
    "np.random.randint(0,100,size=(10, 5)) # size 옵션 : 10행 5열의 랜덤한 array 행렬"
   ]
  },
  {
   "cell_type": "code",
   "execution_count": 15,
   "id": "b9f600a1-756e-411c-beb9-7216c23ffa20",
   "metadata": {
    "tags": []
   },
   "outputs": [],
   "source": [
    "num_array = np.random.randint(0,100,size=(10, 5))"
   ]
  },
  {
   "cell_type": "code",
   "execution_count": 16,
   "id": "11f5b127-8979-4278-800f-0b9494c0d616",
   "metadata": {
    "tags": []
   },
   "outputs": [
    {
     "data": {
      "text/html": [
       "<div>\n",
       "<style scoped>\n",
       "    .dataframe tbody tr th:only-of-type {\n",
       "        vertical-align: middle;\n",
       "    }\n",
       "\n",
       "    .dataframe tbody tr th {\n",
       "        vertical-align: top;\n",
       "    }\n",
       "\n",
       "    .dataframe thead th {\n",
       "        text-align: right;\n",
       "    }\n",
       "</style>\n",
       "<table border=\"1\" class=\"dataframe\">\n",
       "  <thead>\n",
       "    <tr style=\"text-align: right;\">\n",
       "      <th></th>\n",
       "      <th>0</th>\n",
       "      <th>1</th>\n",
       "      <th>2</th>\n",
       "      <th>3</th>\n",
       "      <th>4</th>\n",
       "    </tr>\n",
       "  </thead>\n",
       "  <tbody>\n",
       "    <tr>\n",
       "      <th>0</th>\n",
       "      <td>93</td>\n",
       "      <td>65</td>\n",
       "      <td>8</td>\n",
       "      <td>68</td>\n",
       "      <td>52</td>\n",
       "    </tr>\n",
       "    <tr>\n",
       "      <th>1</th>\n",
       "      <td>65</td>\n",
       "      <td>6</td>\n",
       "      <td>72</td>\n",
       "      <td>2</td>\n",
       "      <td>60</td>\n",
       "    </tr>\n",
       "    <tr>\n",
       "      <th>2</th>\n",
       "      <td>31</td>\n",
       "      <td>22</td>\n",
       "      <td>28</td>\n",
       "      <td>90</td>\n",
       "      <td>51</td>\n",
       "    </tr>\n",
       "    <tr>\n",
       "      <th>3</th>\n",
       "      <td>6</td>\n",
       "      <td>47</td>\n",
       "      <td>89</td>\n",
       "      <td>44</td>\n",
       "      <td>91</td>\n",
       "    </tr>\n",
       "    <tr>\n",
       "      <th>4</th>\n",
       "      <td>66</td>\n",
       "      <td>73</td>\n",
       "      <td>51</td>\n",
       "      <td>20</td>\n",
       "      <td>37</td>\n",
       "    </tr>\n",
       "    <tr>\n",
       "      <th>5</th>\n",
       "      <td>72</td>\n",
       "      <td>50</td>\n",
       "      <td>78</td>\n",
       "      <td>57</td>\n",
       "      <td>75</td>\n",
       "    </tr>\n",
       "    <tr>\n",
       "      <th>6</th>\n",
       "      <td>38</td>\n",
       "      <td>78</td>\n",
       "      <td>12</td>\n",
       "      <td>4</td>\n",
       "      <td>1</td>\n",
       "    </tr>\n",
       "    <tr>\n",
       "      <th>7</th>\n",
       "      <td>95</td>\n",
       "      <td>37</td>\n",
       "      <td>25</td>\n",
       "      <td>45</td>\n",
       "      <td>61</td>\n",
       "    </tr>\n",
       "    <tr>\n",
       "      <th>8</th>\n",
       "      <td>99</td>\n",
       "      <td>54</td>\n",
       "      <td>20</td>\n",
       "      <td>37</td>\n",
       "      <td>47</td>\n",
       "    </tr>\n",
       "    <tr>\n",
       "      <th>9</th>\n",
       "      <td>71</td>\n",
       "      <td>38</td>\n",
       "      <td>56</td>\n",
       "      <td>39</td>\n",
       "      <td>0</td>\n",
       "    </tr>\n",
       "  </tbody>\n",
       "</table>\n",
       "</div>"
      ],
      "text/plain": [
       "    0   1   2   3   4\n",
       "0  93  65   8  68  52\n",
       "1  65   6  72   2  60\n",
       "2  31  22  28  90  51\n",
       "3   6  47  89  44  91\n",
       "4  66  73  51  20  37\n",
       "5  72  50  78  57  75\n",
       "6  38  78  12   4   1\n",
       "7  95  37  25  45  61\n",
       "8  99  54  20  37  47\n",
       "9  71  38  56  39   0"
      ]
     },
     "execution_count": 16,
     "metadata": {},
     "output_type": "execute_result"
    }
   ],
   "source": [
    "df_by_randint = pd.DataFrame(num_array)\n",
    "df_by_randint"
   ]
  },
  {
   "cell_type": "markdown",
   "id": "f73d02e1-be9f-48b1-956f-5d9237e0a781",
   "metadata": {},
   "source": [
    "## 파이썬 내장 random 모듈 이용해 random한 Dataframe 데이터 생성"
   ]
  },
  {
   "cell_type": "code",
   "execution_count": 17,
   "id": "8a6f3fbc-8a9c-434c-a6bf-f556b4a3affe",
   "metadata": {
    "tags": []
   },
   "outputs": [],
   "source": [
    "import random"
   ]
  },
  {
   "cell_type": "code",
   "execution_count": 18,
   "id": "8ef4b2bb-4096-408b-83d8-ca2ea6138afa",
   "metadata": {
    "tags": []
   },
   "outputs": [
    {
     "data": {
      "text/plain": [
       "93"
      ]
     },
     "execution_count": 18,
     "metadata": {},
     "output_type": "execute_result"
    }
   ],
   "source": [
    "random.randrange(0, 100)"
   ]
  },
  {
   "cell_type": "code",
   "execution_count": 19,
   "id": "6abd3f36-f1b0-4a0b-a0ee-e23fb457bf1e",
   "metadata": {
    "tags": []
   },
   "outputs": [],
   "source": [
    "random_double_list = [[random.randrange(0, 100) for _ in range(5)] for _ in range(5)] # 이중 for문 이용해 array 행렬 작성"
   ]
  },
  {
   "cell_type": "code",
   "execution_count": 20,
   "id": "cddeec0d-8838-42a4-a904-84b05560d509",
   "metadata": {
    "tags": []
   },
   "outputs": [
    {
     "data": {
      "text/plain": [
       "[[23, 54, 51, 41, 89],\n",
       " [66, 79, 82, 60, 90],\n",
       " [6, 56, 0, 84, 20],\n",
       " [35, 84, 64, 44, 88],\n",
       " [31, 51, 88, 64, 84]]"
      ]
     },
     "execution_count": 20,
     "metadata": {},
     "output_type": "execute_result"
    }
   ],
   "source": [
    "random_double_list"
   ]
  },
  {
   "cell_type": "code",
   "execution_count": 21,
   "id": "9f7cabe7-9baa-4a52-8b85-3fdc0bbf3e43",
   "metadata": {
    "tags": []
   },
   "outputs": [],
   "source": [
    "df_by_randrange = pd.DataFrame(random_double_list)"
   ]
  },
  {
   "cell_type": "code",
   "execution_count": 22,
   "id": "97a6b867-e885-4ff7-b9ee-37e3eac9503e",
   "metadata": {
    "tags": []
   },
   "outputs": [
    {
     "data": {
      "text/html": [
       "<div>\n",
       "<style scoped>\n",
       "    .dataframe tbody tr th:only-of-type {\n",
       "        vertical-align: middle;\n",
       "    }\n",
       "\n",
       "    .dataframe tbody tr th {\n",
       "        vertical-align: top;\n",
       "    }\n",
       "\n",
       "    .dataframe thead th {\n",
       "        text-align: right;\n",
       "    }\n",
       "</style>\n",
       "<table border=\"1\" class=\"dataframe\">\n",
       "  <thead>\n",
       "    <tr style=\"text-align: right;\">\n",
       "      <th></th>\n",
       "      <th>0</th>\n",
       "      <th>1</th>\n",
       "      <th>2</th>\n",
       "      <th>3</th>\n",
       "      <th>4</th>\n",
       "    </tr>\n",
       "  </thead>\n",
       "  <tbody>\n",
       "    <tr>\n",
       "      <th>0</th>\n",
       "      <td>23</td>\n",
       "      <td>54</td>\n",
       "      <td>51</td>\n",
       "      <td>41</td>\n",
       "      <td>89</td>\n",
       "    </tr>\n",
       "    <tr>\n",
       "      <th>1</th>\n",
       "      <td>66</td>\n",
       "      <td>79</td>\n",
       "      <td>82</td>\n",
       "      <td>60</td>\n",
       "      <td>90</td>\n",
       "    </tr>\n",
       "    <tr>\n",
       "      <th>2</th>\n",
       "      <td>6</td>\n",
       "      <td>56</td>\n",
       "      <td>0</td>\n",
       "      <td>84</td>\n",
       "      <td>20</td>\n",
       "    </tr>\n",
       "    <tr>\n",
       "      <th>3</th>\n",
       "      <td>35</td>\n",
       "      <td>84</td>\n",
       "      <td>64</td>\n",
       "      <td>44</td>\n",
       "      <td>88</td>\n",
       "    </tr>\n",
       "    <tr>\n",
       "      <th>4</th>\n",
       "      <td>31</td>\n",
       "      <td>51</td>\n",
       "      <td>88</td>\n",
       "      <td>64</td>\n",
       "      <td>84</td>\n",
       "    </tr>\n",
       "  </tbody>\n",
       "</table>\n",
       "</div>"
      ],
      "text/plain": [
       "    0   1   2   3   4\n",
       "0  23  54  51  41  89\n",
       "1  66  79  82  60  90\n",
       "2   6  56   0  84  20\n",
       "3  35  84  64  44  88\n",
       "4  31  51  88  64  84"
      ]
     },
     "execution_count": 22,
     "metadata": {},
     "output_type": "execute_result"
    }
   ],
   "source": [
    "df_by_randrange"
   ]
  },
  {
   "cell_type": "markdown",
   "id": "a59c89e8-35f2-4943-a535-64526b9af2ca",
   "metadata": {},
   "source": [
    "## 수업"
   ]
  },
  {
   "cell_type": "code",
   "execution_count": 23,
   "id": "efa7bff7-db03-4c33-b4ac-4e44a09bed6d",
   "metadata": {
    "tags": []
   },
   "outputs": [
    {
     "data": {
      "text/html": [
       "<div>\n",
       "<style scoped>\n",
       "    .dataframe tbody tr th:only-of-type {\n",
       "        vertical-align: middle;\n",
       "    }\n",
       "\n",
       "    .dataframe tbody tr th {\n",
       "        vertical-align: top;\n",
       "    }\n",
       "\n",
       "    .dataframe thead th {\n",
       "        text-align: right;\n",
       "    }\n",
       "</style>\n",
       "<table border=\"1\" class=\"dataframe\">\n",
       "  <thead>\n",
       "    <tr style=\"text-align: right;\">\n",
       "      <th></th>\n",
       "      <th>0</th>\n",
       "      <th>1</th>\n",
       "      <th>2</th>\n",
       "      <th>3</th>\n",
       "    </tr>\n",
       "  </thead>\n",
       "  <tbody>\n",
       "    <tr>\n",
       "      <th>0</th>\n",
       "      <td>1000</td>\n",
       "      <td>과자</td>\n",
       "      <td>2019-12-31</td>\n",
       "      <td>반품</td>\n",
       "    </tr>\n",
       "    <tr>\n",
       "      <th>1</th>\n",
       "      <td>2000</td>\n",
       "      <td>음료</td>\n",
       "      <td>2020-03-02</td>\n",
       "      <td>정상</td>\n",
       "    </tr>\n",
       "    <tr>\n",
       "      <th>2</th>\n",
       "      <td>3000</td>\n",
       "      <td>아이스크림</td>\n",
       "      <td>2020-02-03</td>\n",
       "      <td>정상</td>\n",
       "    </tr>\n",
       "    <tr>\n",
       "      <th>3</th>\n",
       "      <td>1000</td>\n",
       "      <td>과자</td>\n",
       "      <td>2019-12-31</td>\n",
       "      <td>반품</td>\n",
       "    </tr>\n",
       "  </tbody>\n",
       "</table>\n",
       "</div>"
      ],
      "text/plain": [
       "      0      1           2   3\n",
       "0  1000     과자  2019-12-31  반품\n",
       "1  2000     음료  2020-03-02  정상\n",
       "2  3000  아이스크림  2020-02-03  정상\n",
       "3  1000     과자  2019-12-31  반품"
      ]
     },
     "execution_count": 23,
     "metadata": {},
     "output_type": "execute_result"
    }
   ],
   "source": [
    "double_list = [\n",
    "    [1000, '과자','2019-12-31','반품'],\n",
    "    [2000, '음료', '2020-03-02', '정상'],\n",
    "    [3000, '아이스크림', '2020-02-03','정상'],\n",
    "    [1000,'과자','2019-12-31','반품']\n",
    "    ]\n",
    "df_double_list = pd.DataFrame(data=double_list)\n",
    "df_double_list"
   ]
  },
  {
   "cell_type": "code",
   "execution_count": 24,
   "id": "72356a6f-8d72-4e77-8570-085580e0b7af",
   "metadata": {
    "tags": []
   },
   "outputs": [
    {
     "data": {
      "text/html": [
       "<div>\n",
       "<style scoped>\n",
       "    .dataframe tbody tr th:only-of-type {\n",
       "        vertical-align: middle;\n",
       "    }\n",
       "\n",
       "    .dataframe tbody tr th {\n",
       "        vertical-align: top;\n",
       "    }\n",
       "\n",
       "    .dataframe thead th {\n",
       "        text-align: right;\n",
       "    }\n",
       "</style>\n",
       "<table border=\"1\" class=\"dataframe\">\n",
       "  <thead>\n",
       "    <tr style=\"text-align: right;\">\n",
       "      <th></th>\n",
       "      <th>가격</th>\n",
       "      <th>종류</th>\n",
       "      <th>판매일자</th>\n",
       "      <th>반품여부</th>\n",
       "    </tr>\n",
       "  </thead>\n",
       "  <tbody>\n",
       "    <tr>\n",
       "      <th>0</th>\n",
       "      <td>1000</td>\n",
       "      <td>과자</td>\n",
       "      <td>2019-12-31</td>\n",
       "      <td>반품</td>\n",
       "    </tr>\n",
       "    <tr>\n",
       "      <th>1</th>\n",
       "      <td>2000</td>\n",
       "      <td>음료</td>\n",
       "      <td>2020-03-02</td>\n",
       "      <td>정상</td>\n",
       "    </tr>\n",
       "    <tr>\n",
       "      <th>2</th>\n",
       "      <td>3000</td>\n",
       "      <td>아이스크림</td>\n",
       "      <td>2020-02-03</td>\n",
       "      <td>정상</td>\n",
       "    </tr>\n",
       "    <tr>\n",
       "      <th>3</th>\n",
       "      <td>1000</td>\n",
       "      <td>과자</td>\n",
       "      <td>2019-12-31</td>\n",
       "      <td>반품</td>\n",
       "    </tr>\n",
       "  </tbody>\n",
       "</table>\n",
       "</div>"
      ],
      "text/plain": [
       "     가격     종류        판매일자 반품여부\n",
       "0  1000     과자  2019-12-31   반품\n",
       "1  2000     음료  2020-03-02   정상\n",
       "2  3000  아이스크림  2020-02-03   정상\n",
       "3  1000     과자  2019-12-31   반품"
      ]
     },
     "execution_count": 24,
     "metadata": {},
     "output_type": "execute_result"
    }
   ],
   "source": [
    "df_sales = pd.DataFrame(data=double_list, columns=['가격','종류','판매일자','반품여부'])\n",
    "df_sales"
   ]
  },
  {
   "cell_type": "markdown",
   "id": "66900de0-b15c-4e3e-acef-830fda2798c2",
   "metadata": {},
   "source": [
    "### Drop\n"
   ]
  },
  {
   "cell_type": "code",
   "execution_count": 25,
   "id": "ddd8f6c1-3c43-4966-a61c-330157688cf1",
   "metadata": {},
   "outputs": [
    {
     "data": {
      "text/plain": [
       "pandas.core.frame.DataFrame"
      ]
     },
     "execution_count": 25,
     "metadata": {},
     "output_type": "execute_result"
    }
   ],
   "source": [
    "type(df_sales)"
   ]
  },
  {
   "cell_type": "code",
   "execution_count": 26,
   "id": "e807a52b-0434-45a2-b2d4-d79e63c3da00",
   "metadata": {
    "tags": []
   },
   "outputs": [
    {
     "data": {
      "text/plain": [
       "Index(['가격', '종류', '판매일자', '반품여부'], dtype='object')"
      ]
     },
     "execution_count": 26,
     "metadata": {},
     "output_type": "execute_result"
    }
   ],
   "source": [
    "col_sales=df_sales.columns\n",
    "col_sales"
   ]
  },
  {
   "cell_type": "code",
   "execution_count": 27,
   "id": "019bc6ee-707a-48f4-b49b-37741c79fc20",
   "metadata": {
    "tags": []
   },
   "outputs": [],
   "source": [
    "col_sales=col_sales.to_list()"
   ]
  },
  {
   "cell_type": "code",
   "execution_count": 28,
   "id": "c81363c6-633e-4ae7-a34c-8d1ee1007f4a",
   "metadata": {
    "tags": []
   },
   "outputs": [
    {
     "data": {
      "text/plain": [
       "RangeIndex(start=0, stop=4, step=1)"
      ]
     },
     "execution_count": 28,
     "metadata": {},
     "output_type": "execute_result"
    }
   ],
   "source": [
    "idx_sales=df_sales.index\n",
    "idx_sales"
   ]
  },
  {
   "cell_type": "code",
   "execution_count": 29,
   "id": "6b3c03d3-125b-4960-894f-aeb67138076d",
   "metadata": {
    "tags": []
   },
   "outputs": [
    {
     "data": {
      "text/plain": [
       "array([[1000, '과자', '2019-12-31', '반품'],\n",
       "       [2000, '음료', '2020-03-02', '정상'],\n",
       "       [3000, '아이스크림', '2020-02-03', '정상'],\n",
       "       [1000, '과자', '2019-12-31', '반품']], dtype=object)"
      ]
     },
     "execution_count": 29,
     "metadata": {},
     "output_type": "execute_result"
    }
   ],
   "source": [
    "df_sales.values"
   ]
  },
  {
   "cell_type": "code",
   "execution_count": 30,
   "id": "149a8060-ac10-433f-b2d7-e2cc4225143a",
   "metadata": {
    "tags": []
   },
   "outputs": [
    {
     "data": {
      "text/html": [
       "<div>\n",
       "<style scoped>\n",
       "    .dataframe tbody tr th:only-of-type {\n",
       "        vertical-align: middle;\n",
       "    }\n",
       "\n",
       "    .dataframe tbody tr th {\n",
       "        vertical-align: top;\n",
       "    }\n",
       "\n",
       "    .dataframe thead th {\n",
       "        text-align: right;\n",
       "    }\n",
       "</style>\n",
       "<table border=\"1\" class=\"dataframe\">\n",
       "  <thead>\n",
       "    <tr style=\"text-align: right;\">\n",
       "      <th></th>\n",
       "      <th>종류</th>\n",
       "      <th>판매일자</th>\n",
       "    </tr>\n",
       "  </thead>\n",
       "  <tbody>\n",
       "    <tr>\n",
       "      <th>0</th>\n",
       "      <td>과자</td>\n",
       "      <td>2019-12-31</td>\n",
       "    </tr>\n",
       "    <tr>\n",
       "      <th>1</th>\n",
       "      <td>음료</td>\n",
       "      <td>2020-03-02</td>\n",
       "    </tr>\n",
       "    <tr>\n",
       "      <th>2</th>\n",
       "      <td>아이스크림</td>\n",
       "      <td>2020-02-03</td>\n",
       "    </tr>\n",
       "    <tr>\n",
       "      <th>3</th>\n",
       "      <td>과자</td>\n",
       "      <td>2019-12-31</td>\n",
       "    </tr>\n",
       "  </tbody>\n",
       "</table>\n",
       "</div>"
      ],
      "text/plain": [
       "      종류        판매일자\n",
       "0     과자  2019-12-31\n",
       "1     음료  2020-03-02\n",
       "2  아이스크림  2020-02-03\n",
       "3     과자  2019-12-31"
      ]
     },
     "execution_count": 30,
     "metadata": {},
     "output_type": "execute_result"
    }
   ],
   "source": [
    "df_sales.drop(columns=[col_sales[0],col_sales[3]])"
   ]
  },
  {
   "cell_type": "code",
   "execution_count": 31,
   "id": "699b88a6-1175-4e99-94e6-7d7b95119e67",
   "metadata": {
    "tags": []
   },
   "outputs": [
    {
     "data": {
      "text/html": [
       "<div>\n",
       "<style scoped>\n",
       "    .dataframe tbody tr th:only-of-type {\n",
       "        vertical-align: middle;\n",
       "    }\n",
       "\n",
       "    .dataframe tbody tr th {\n",
       "        vertical-align: top;\n",
       "    }\n",
       "\n",
       "    .dataframe thead th {\n",
       "        text-align: right;\n",
       "    }\n",
       "</style>\n",
       "<table border=\"1\" class=\"dataframe\">\n",
       "  <thead>\n",
       "    <tr style=\"text-align: right;\">\n",
       "      <th></th>\n",
       "      <th>가격</th>\n",
       "      <th>종류</th>\n",
       "      <th>판매일자</th>\n",
       "      <th>반품여부</th>\n",
       "    </tr>\n",
       "  </thead>\n",
       "  <tbody>\n",
       "    <tr>\n",
       "      <th>0</th>\n",
       "      <td>1000</td>\n",
       "      <td>과자</td>\n",
       "      <td>2019-12-31</td>\n",
       "      <td>반품</td>\n",
       "    </tr>\n",
       "    <tr>\n",
       "      <th>1</th>\n",
       "      <td>2000</td>\n",
       "      <td>음료</td>\n",
       "      <td>2020-03-02</td>\n",
       "      <td>정상</td>\n",
       "    </tr>\n",
       "    <tr>\n",
       "      <th>2</th>\n",
       "      <td>3000</td>\n",
       "      <td>아이스크림</td>\n",
       "      <td>2020-02-03</td>\n",
       "      <td>정상</td>\n",
       "    </tr>\n",
       "    <tr>\n",
       "      <th>3</th>\n",
       "      <td>1000</td>\n",
       "      <td>과자</td>\n",
       "      <td>2019-12-31</td>\n",
       "      <td>반품</td>\n",
       "    </tr>\n",
       "  </tbody>\n",
       "</table>\n",
       "</div>"
      ],
      "text/plain": [
       "     가격     종류        판매일자 반품여부\n",
       "0  1000     과자  2019-12-31   반품\n",
       "1  2000     음료  2020-03-02   정상\n",
       "2  3000  아이스크림  2020-02-03   정상\n",
       "3  1000     과자  2019-12-31   반품"
      ]
     },
     "execution_count": 31,
     "metadata": {},
     "output_type": "execute_result"
    }
   ],
   "source": [
    "df_sales"
   ]
  },
  {
   "cell_type": "markdown",
   "id": "35f2faa7-89c4-4d9a-81b0-40b9073180d7",
   "metadata": {},
   "source": [
    "### inplace=True"
   ]
  },
  {
   "cell_type": "code",
   "execution_count": 32,
   "id": "1e1aa4b9-77fe-49a6-a688-19954b9bc652",
   "metadata": {
    "tags": []
   },
   "outputs": [],
   "source": [
    "# df_sales.drop(columns=['종류', '판매일자', ], inplace=True) \n",
    "# inplace는 왠만해서는 사용하지 않기"
   ]
  },
  {
   "cell_type": "code",
   "execution_count": 34,
   "id": "17a13951-db1e-4fe2-a2c6-8aa7700d133c",
   "metadata": {
    "tags": []
   },
   "outputs": [
    {
     "data": {
      "text/html": [
       "<div>\n",
       "<style scoped>\n",
       "    .dataframe tbody tr th:only-of-type {\n",
       "        vertical-align: middle;\n",
       "    }\n",
       "\n",
       "    .dataframe tbody tr th {\n",
       "        vertical-align: top;\n",
       "    }\n",
       "\n",
       "    .dataframe thead th {\n",
       "        text-align: right;\n",
       "    }\n",
       "</style>\n",
       "<table border=\"1\" class=\"dataframe\">\n",
       "  <thead>\n",
       "    <tr style=\"text-align: right;\">\n",
       "      <th></th>\n",
       "      <th>가격</th>\n",
       "      <th>반품여부</th>\n",
       "    </tr>\n",
       "  </thead>\n",
       "  <tbody>\n",
       "    <tr>\n",
       "      <th>0</th>\n",
       "      <td>1000</td>\n",
       "      <td>반품</td>\n",
       "    </tr>\n",
       "    <tr>\n",
       "      <th>1</th>\n",
       "      <td>2000</td>\n",
       "      <td>정상</td>\n",
       "    </tr>\n",
       "    <tr>\n",
       "      <th>2</th>\n",
       "      <td>3000</td>\n",
       "      <td>정상</td>\n",
       "    </tr>\n",
       "    <tr>\n",
       "      <th>3</th>\n",
       "      <td>1000</td>\n",
       "      <td>반품</td>\n",
       "    </tr>\n",
       "  </tbody>\n",
       "</table>\n",
       "</div>"
      ],
      "text/plain": [
       "     가격 반품여부\n",
       "0  1000   반품\n",
       "1  2000   정상\n",
       "2  3000   정상\n",
       "3  1000   반품"
      ]
     },
     "execution_count": 34,
     "metadata": {},
     "output_type": "execute_result"
    }
   ],
   "source": [
    "df_sales_dropped = df_sales.drop(columns=['종류', '판매일자', ])\n",
    "df_sales_dropped"
   ]
  },
  {
   "cell_type": "code",
   "execution_count": null,
   "id": "70e3242f-1e80-4b6a-8106-95eae4455217",
   "metadata": {},
   "outputs": [],
   "source": []
  }
 ],
 "metadata": {
  "kernelspec": {
   "display_name": "Python 3 (ipykernel)",
   "language": "python",
   "name": "python3"
  },
  "language_info": {
   "codemirror_mode": {
    "name": "ipython",
    "version": 3
   },
   "file_extension": ".py",
   "mimetype": "text/x-python",
   "name": "python",
   "nbconvert_exporter": "python",
   "pygments_lexer": "ipython3",
   "version": "3.11.3"
  }
 },
 "nbformat": 4,
 "nbformat_minor": 5
}
