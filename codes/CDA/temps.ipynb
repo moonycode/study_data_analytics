{
 "cells": [
  {
   "cell_type": "code",
   "execution_count": 2,
   "id": "83598980-c4c1-45a8-9df0-ef48501cca1e",
   "metadata": {},
   "outputs": [
    {
     "name": "stdout",
     "output_type": "stream",
     "text": [
      "Chi-squared test with Yates' correction\n",
      "chi2-value: nan\n",
      "P-value: nan\n",
      "Degrees of freedom: 25\n"
     ]
    }
   ],
   "source": [
    "import pandas as pd\n",
    "import scipy.stats as stats\n",
    "\n",
    "# 데이터 생성\n",
    "data = {'gender': ['M', 'F', 'M', 'F', 'M', 'F', 'M', 'F', 'M', 'F', 'M', 'F', 'F', 'F', 'M', 'M'],\n",
    "        'age_group': ['20대', '20대', '30대', '30대', '40대', '40대', '50대', '50대', '60대 이상', '60대 이상', '20대', '20대', '30대', '30대', '40대', '50대']}\n",
    "\n",
    "df = pd.DataFrame(data)\n",
    "\n",
    "# 교차표 생성\n",
    "pivot_table = pd.pivot_table(data=df, index='age_group', columns='gender', aggfunc=len, margins=True, margins_name='Total')\n",
    "\n",
    "# 검정 수행\n",
    "chi2, p, dof, expected = stats.chi2_contingency(pivot_table, correction=True)\n",
    "\n",
    "# 결과 출력\n",
    "print('Chi-squared test with Yates\\' correction')\n",
    "print('chi2-value: {}'.format(chi2))\n",
    "print('P-value: {}'.format(p))\n",
    "print('Degrees of freedom: {}'.format(dof))\n"
   ]
  },
  {
   "cell_type": "code",
   "execution_count": null,
   "id": "c24390ed-123e-441c-8fa7-817e1f850e09",
   "metadata": {},
   "outputs": [],
   "source": []
  }
 ],
 "metadata": {
  "kernelspec": {
   "display_name": "Python 3 (ipykernel)",
   "language": "python",
   "name": "python3"
  },
  "language_info": {
   "codemirror_mode": {
    "name": "ipython",
    "version": 3
   },
   "file_extension": ".py",
   "mimetype": "text/x-python",
   "name": "python",
   "nbconvert_exporter": "python",
   "pygments_lexer": "ipython3",
   "version": "3.9.13"
  }
 },
 "nbformat": 4,
 "nbformat_minor": 5
}
