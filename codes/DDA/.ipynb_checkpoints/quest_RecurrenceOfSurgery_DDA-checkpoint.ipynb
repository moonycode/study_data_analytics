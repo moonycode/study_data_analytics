{
 "cells": [
  {
   "cell_type": "markdown",
   "id": "fe37ad6f-6658-4a60-83c0-2ef599946b84",
   "metadata": {},
   "source": [
    "## Quest\n",
    "- 분석 대상 : \n",
    "성별,신장,심혈관질환,체중,흡연여부,연령,직업,혈액형,재발여부\n",
    "- 단일 변수 chart 각각 작성\n",
    "- 이상치와 결측치가 없는 데이터셋 만들기\n",
    "- option : 연령이 중앙값~Q3 범위 속한 인원 수 찾기"
   ]
  },
  {
   "cell_type": "code",
   "execution_count": 1,
   "id": "39dcaf04-1b8b-40a4-ad7f-1f6e2dac30ca",
   "metadata": {
    "tags": []
   },
   "outputs": [],
   "source": [
    "import matplotlib.pyplot as plt\n",
    "import matplotlib as mpl\n",
    "mpl.rc('font',family='Malgun Gothic')\n",
    "mpl.rcParams['axes.unicode_minus'] = False\n",
    "import seaborn as sns\n",
    "import pandas as pd\n",
    "import numpy as np"
   ]
  },
  {
   "cell_type": "code",
   "execution_count": 2,
   "id": "2f63e152-3e2f-4343-8bf7-933f5b1214bb",
   "metadata": {
    "tags": []
   },
   "outputs": [
    {
     "data": {
      "text/html": [
       "<div>\n",
       "<style scoped>\n",
       "    .dataframe tbody tr th:only-of-type {\n",
       "        vertical-align: middle;\n",
       "    }\n",
       "\n",
       "    .dataframe tbody tr th {\n",
       "        vertical-align: top;\n",
       "    }\n",
       "\n",
       "    .dataframe thead th {\n",
       "        text-align: right;\n",
       "    }\n",
       "</style>\n",
       "<table border=\"1\" class=\"dataframe\">\n",
       "  <thead>\n",
       "    <tr style=\"text-align: right;\">\n",
       "      <th></th>\n",
       "      <th>Unnamed: 0</th>\n",
       "      <th>환자ID</th>\n",
       "      <th>Large Lymphocyte</th>\n",
       "      <th>Location of herniation</th>\n",
       "      <th>ODI</th>\n",
       "      <th>가족력</th>\n",
       "      <th>간질성폐질환</th>\n",
       "      <th>고혈압여부</th>\n",
       "      <th>과거수술횟수</th>\n",
       "      <th>당뇨여부</th>\n",
       "      <th>...</th>\n",
       "      <th>Modic change</th>\n",
       "      <th>PI</th>\n",
       "      <th>PT</th>\n",
       "      <th>Seg Angle(raw)</th>\n",
       "      <th>Vaccum disc</th>\n",
       "      <th>골밀도</th>\n",
       "      <th>디스크단면적</th>\n",
       "      <th>디스크위치</th>\n",
       "      <th>척추이동척도</th>\n",
       "      <th>척추전방위증</th>\n",
       "    </tr>\n",
       "  </thead>\n",
       "  <tbody>\n",
       "    <tr>\n",
       "      <th>0</th>\n",
       "      <td>0</td>\n",
       "      <td>1PT</td>\n",
       "      <td>22.8</td>\n",
       "      <td>3</td>\n",
       "      <td>51.0</td>\n",
       "      <td>0.0</td>\n",
       "      <td>0</td>\n",
       "      <td>0</td>\n",
       "      <td>0</td>\n",
       "      <td>0</td>\n",
       "      <td>...</td>\n",
       "      <td>3</td>\n",
       "      <td>51.6</td>\n",
       "      <td>36.6</td>\n",
       "      <td>14.4</td>\n",
       "      <td>0</td>\n",
       "      <td>-1.01</td>\n",
       "      <td>2048.5</td>\n",
       "      <td>4</td>\n",
       "      <td>Down</td>\n",
       "      <td>0</td>\n",
       "    </tr>\n",
       "    <tr>\n",
       "      <th>1</th>\n",
       "      <td>1</td>\n",
       "      <td>2PT</td>\n",
       "      <td>44.9</td>\n",
       "      <td>4</td>\n",
       "      <td>26.0</td>\n",
       "      <td>0.0</td>\n",
       "      <td>0</td>\n",
       "      <td>0</td>\n",
       "      <td>0</td>\n",
       "      <td>0</td>\n",
       "      <td>...</td>\n",
       "      <td>0</td>\n",
       "      <td>40.8</td>\n",
       "      <td>7.2</td>\n",
       "      <td>17.8</td>\n",
       "      <td>0</td>\n",
       "      <td>-1.14</td>\n",
       "      <td>1753.1</td>\n",
       "      <td>4</td>\n",
       "      <td>Up</td>\n",
       "      <td>0</td>\n",
       "    </tr>\n",
       "  </tbody>\n",
       "</table>\n",
       "<p>2 rows × 52 columns</p>\n",
       "</div>"
      ],
      "text/plain": [
       "   Unnamed: 0 환자ID  Large Lymphocyte  Location of herniation   ODI  가족력  \\\n",
       "0           0  1PT              22.8                       3  51.0  0.0   \n",
       "1           1  2PT              44.9                       4  26.0  0.0   \n",
       "\n",
       "   간질성폐질환  고혈압여부  과거수술횟수  당뇨여부  ...  Modic change    PI    PT  Seg Angle(raw)  \\\n",
       "0       0      0       0     0  ...             3  51.6  36.6            14.4   \n",
       "1       0      0       0     0  ...             0  40.8   7.2            17.8   \n",
       "\n",
       "   Vaccum disc   골밀도  디스크단면적  디스크위치  척추이동척도  척추전방위증  \n",
       "0            0 -1.01  2048.5      4    Down       0  \n",
       "1            0 -1.14  1753.1      4      Up       0  \n",
       "\n",
       "[2 rows x 52 columns]"
      ]
     },
     "execution_count": 2,
     "metadata": {},
     "output_type": "execute_result"
    }
   ],
   "source": [
    "df_ROS=pd.read_csv('../../datasets/RecurrenceOfSurgery.csv')\n",
    "df_ROS[:2]"
   ]
  },
  {
   "cell_type": "code",
   "execution_count": 3,
   "id": "2dc4df07-18e1-4bfc-9921-3aef07bef8d2",
   "metadata": {
    "tags": []
   },
   "outputs": [
    {
     "data": {
      "text/plain": [
       "Index(['Unnamed: 0', '환자ID', 'Large Lymphocyte', 'Location of herniation',\n",
       "       'ODI', '가족력', '간질성폐질환', '고혈압여부', '과거수술횟수', '당뇨여부', '말초동맥질환여부', '빈혈여부',\n",
       "       '성별', '스테로이드치료', '신부전여부', '신장', '심혈관질환', '암발병여부', '연령', '우울증여부', '입원기간',\n",
       "       '입원일자', '종양진행여부', '직업', '체중', '퇴원일자', '헤모글로빈수치', '혈전합병증여부', '환자통증정도',\n",
       "       '흡연여부', '통증기간(월)', '수술기법', '수술시간', '수술실패여부', '수술일자', '재발여부', '혈액형',\n",
       "       '전방디스크높이(mm)', '후방디스크높이(mm)', '지방축적도', 'Instability', 'MF + ES',\n",
       "       'Modic change', 'PI', 'PT', 'Seg Angle(raw)', 'Vaccum disc', '골밀도',\n",
       "       '디스크단면적', '디스크위치', '척추이동척도', '척추전방위증'],\n",
       "      dtype='object')"
      ]
     },
     "execution_count": 3,
     "metadata": {},
     "output_type": "execute_result"
    }
   ],
   "source": [
    "df_ROS.columns "
   ]
  },
  {
   "cell_type": "code",
   "execution_count": 4,
   "id": "e5906c31-b58a-431d-b0b2-29175a5da68f",
   "metadata": {
    "tags": []
   },
   "outputs": [
    {
     "data": {
      "text/html": [
       "<div>\n",
       "<style scoped>\n",
       "    .dataframe tbody tr th:only-of-type {\n",
       "        vertical-align: middle;\n",
       "    }\n",
       "\n",
       "    .dataframe tbody tr th {\n",
       "        vertical-align: top;\n",
       "    }\n",
       "\n",
       "    .dataframe thead th {\n",
       "        text-align: right;\n",
       "    }\n",
       "</style>\n",
       "<table border=\"1\" class=\"dataframe\">\n",
       "  <thead>\n",
       "    <tr style=\"text-align: right;\">\n",
       "      <th></th>\n",
       "      <th>성별</th>\n",
       "      <th>신장</th>\n",
       "      <th>심혈관질환</th>\n",
       "      <th>체중</th>\n",
       "      <th>흡연여부</th>\n",
       "      <th>연령</th>\n",
       "      <th>직업</th>\n",
       "      <th>혈액형</th>\n",
       "      <th>재발여부</th>\n",
       "    </tr>\n",
       "  </thead>\n",
       "  <tbody>\n",
       "    <tr>\n",
       "      <th>0</th>\n",
       "      <td>2</td>\n",
       "      <td>163</td>\n",
       "      <td>0</td>\n",
       "      <td>60.3</td>\n",
       "      <td>0</td>\n",
       "      <td>66</td>\n",
       "      <td>자영업</td>\n",
       "      <td>RH+A</td>\n",
       "      <td>0</td>\n",
       "    </tr>\n",
       "    <tr>\n",
       "      <th>1</th>\n",
       "      <td>1</td>\n",
       "      <td>171</td>\n",
       "      <td>0</td>\n",
       "      <td>71.7</td>\n",
       "      <td>0</td>\n",
       "      <td>47</td>\n",
       "      <td>운동선수</td>\n",
       "      <td>RH+A</td>\n",
       "      <td>0</td>\n",
       "    </tr>\n",
       "  </tbody>\n",
       "</table>\n",
       "</div>"
      ],
      "text/plain": [
       "   성별   신장  심혈관질환    체중  흡연여부  연령    직업   혈액형  재발여부\n",
       "0   2  163      0  60.3     0  66   자영업  RH+A     0\n",
       "1   1  171      0  71.7     0  47  운동선수  RH+A     0"
      ]
     },
     "execution_count": 4,
     "metadata": {},
     "output_type": "execute_result"
    }
   ],
   "source": [
    "target_df_ROS=df_ROS[['성별', '신장', '심혈관질환', '체중', '흡연여부', '연령', '직업', '혈액형','재발여부']]\n",
    "target_df_ROS[:2]"
   ]
  },
  {
   "cell_type": "code",
   "execution_count": 5,
   "id": "e5b9df51-ebe7-4073-aae7-d562b3d7a102",
   "metadata": {
    "tags": []
   },
   "outputs": [
    {
     "name": "stdout",
     "output_type": "stream",
     "text": [
      "<class 'pandas.core.frame.DataFrame'>\n",
      "RangeIndex: 1894 entries, 0 to 1893\n",
      "Data columns (total 9 columns):\n",
      " #   Column  Non-Null Count  Dtype  \n",
      "---  ------  --------------  -----  \n",
      " 0   성별      1894 non-null   int64  \n",
      " 1   신장      1894 non-null   int64  \n",
      " 2   심혈관질환   1894 non-null   int64  \n",
      " 3   체중      1894 non-null   float64\n",
      " 4   흡연여부    1894 non-null   int64  \n",
      " 5   연령      1894 non-null   int64  \n",
      " 6   직업      1479 non-null   object \n",
      " 7   혈액형     1894 non-null   object \n",
      " 8   재발여부    1894 non-null   int64  \n",
      "dtypes: float64(1), int64(6), object(2)\n",
      "memory usage: 133.3+ KB\n"
     ]
    }
   ],
   "source": [
    "target_df_ROS.info()"
   ]
  },
  {
   "cell_type": "markdown",
   "id": "b3c6d37e-b015-414a-b4b0-3476eb22b133",
   "metadata": {},
   "source": [
    "전체 레코드 : 1894 개 "
   ]
  },
  {
   "cell_type": "code",
   "execution_count": 6,
   "id": "9460c8f0-69a7-400d-b63f-caf1ea8d5096",
   "metadata": {
    "tags": []
   },
   "outputs": [
    {
     "data": {
      "text/html": [
       "<div>\n",
       "<style scoped>\n",
       "    .dataframe tbody tr th:only-of-type {\n",
       "        vertical-align: middle;\n",
       "    }\n",
       "\n",
       "    .dataframe tbody tr th {\n",
       "        vertical-align: top;\n",
       "    }\n",
       "\n",
       "    .dataframe thead th {\n",
       "        text-align: right;\n",
       "    }\n",
       "</style>\n",
       "<table border=\"1\" class=\"dataframe\">\n",
       "  <thead>\n",
       "    <tr style=\"text-align: right;\">\n",
       "      <th></th>\n",
       "      <th>성별</th>\n",
       "      <th>신장</th>\n",
       "      <th>심혈관질환</th>\n",
       "      <th>체중</th>\n",
       "      <th>흡연여부</th>\n",
       "      <th>연령</th>\n",
       "      <th>재발여부</th>\n",
       "    </tr>\n",
       "  </thead>\n",
       "  <tbody>\n",
       "    <tr>\n",
       "      <th>count</th>\n",
       "      <td>1894.000000</td>\n",
       "      <td>1894.000000</td>\n",
       "      <td>1894.000000</td>\n",
       "      <td>1894.000000</td>\n",
       "      <td>1894.000000</td>\n",
       "      <td>1894.000000</td>\n",
       "      <td>1894.000000</td>\n",
       "    </tr>\n",
       "    <tr>\n",
       "      <th>mean</th>\n",
       "      <td>1.383316</td>\n",
       "      <td>168.027983</td>\n",
       "      <td>0.035903</td>\n",
       "      <td>68.111140</td>\n",
       "      <td>0.217001</td>\n",
       "      <td>41.463569</td>\n",
       "      <td>0.119852</td>\n",
       "    </tr>\n",
       "    <tr>\n",
       "      <th>std</th>\n",
       "      <td>0.486323</td>\n",
       "      <td>9.211419</td>\n",
       "      <td>0.186097</td>\n",
       "      <td>11.234318</td>\n",
       "      <td>0.412312</td>\n",
       "      <td>13.444629</td>\n",
       "      <td>0.324874</td>\n",
       "    </tr>\n",
       "    <tr>\n",
       "      <th>min</th>\n",
       "      <td>1.000000</td>\n",
       "      <td>140.000000</td>\n",
       "      <td>0.000000</td>\n",
       "      <td>35.000000</td>\n",
       "      <td>0.000000</td>\n",
       "      <td>15.000000</td>\n",
       "      <td>0.000000</td>\n",
       "    </tr>\n",
       "    <tr>\n",
       "      <th>25%</th>\n",
       "      <td>1.000000</td>\n",
       "      <td>161.000000</td>\n",
       "      <td>0.000000</td>\n",
       "      <td>59.700000</td>\n",
       "      <td>0.000000</td>\n",
       "      <td>32.000000</td>\n",
       "      <td>0.000000</td>\n",
       "    </tr>\n",
       "    <tr>\n",
       "      <th>50%</th>\n",
       "      <td>1.000000</td>\n",
       "      <td>169.000000</td>\n",
       "      <td>0.000000</td>\n",
       "      <td>68.000000</td>\n",
       "      <td>0.000000</td>\n",
       "      <td>41.000000</td>\n",
       "      <td>0.000000</td>\n",
       "    </tr>\n",
       "    <tr>\n",
       "      <th>75%</th>\n",
       "      <td>2.000000</td>\n",
       "      <td>175.000000</td>\n",
       "      <td>0.000000</td>\n",
       "      <td>75.000000</td>\n",
       "      <td>0.000000</td>\n",
       "      <td>49.000000</td>\n",
       "      <td>0.000000</td>\n",
       "    </tr>\n",
       "    <tr>\n",
       "      <th>max</th>\n",
       "      <td>2.000000</td>\n",
       "      <td>204.000000</td>\n",
       "      <td>1.000000</td>\n",
       "      <td>136.100000</td>\n",
       "      <td>1.000000</td>\n",
       "      <td>86.000000</td>\n",
       "      <td>1.000000</td>\n",
       "    </tr>\n",
       "  </tbody>\n",
       "</table>\n",
       "</div>"
      ],
      "text/plain": [
       "                성별           신장        심혈관질환           체중         흡연여부  \\\n",
       "count  1894.000000  1894.000000  1894.000000  1894.000000  1894.000000   \n",
       "mean      1.383316   168.027983     0.035903    68.111140     0.217001   \n",
       "std       0.486323     9.211419     0.186097    11.234318     0.412312   \n",
       "min       1.000000   140.000000     0.000000    35.000000     0.000000   \n",
       "25%       1.000000   161.000000     0.000000    59.700000     0.000000   \n",
       "50%       1.000000   169.000000     0.000000    68.000000     0.000000   \n",
       "75%       2.000000   175.000000     0.000000    75.000000     0.000000   \n",
       "max       2.000000   204.000000     1.000000   136.100000     1.000000   \n",
       "\n",
       "                연령         재발여부  \n",
       "count  1894.000000  1894.000000  \n",
       "mean     41.463569     0.119852  \n",
       "std      13.444629     0.324874  \n",
       "min      15.000000     0.000000  \n",
       "25%      32.000000     0.000000  \n",
       "50%      41.000000     0.000000  \n",
       "75%      49.000000     0.000000  \n",
       "max      86.000000     1.000000  "
      ]
     },
     "execution_count": 6,
     "metadata": {},
     "output_type": "execute_result"
    }
   ],
   "source": [
    "target_df_ROS.describe()"
   ]
  },
  {
   "cell_type": "code",
   "execution_count": 7,
   "id": "412ecac5-bfb4-47e6-bcbc-25c992685f02",
   "metadata": {
    "tags": []
   },
   "outputs": [
    {
     "data": {
      "text/plain": [
       "1    1168\n",
       "2     726\n",
       "Name: 성별, dtype: int64"
      ]
     },
     "execution_count": 7,
     "metadata": {},
     "output_type": "execute_result"
    }
   ],
   "source": [
    "target_df_ROS['성별'].value_counts()"
   ]
  },
  {
   "cell_type": "code",
   "execution_count": 8,
   "id": "4aecc6fa-735e-4792-a28c-a2b7203c4d80",
   "metadata": {
    "tags": []
   },
   "outputs": [
    {
     "data": {
      "text/plain": [
       "0    1826\n",
       "1      68\n",
       "Name: 심혈관질환, dtype: int64"
      ]
     },
     "execution_count": 8,
     "metadata": {},
     "output_type": "execute_result"
    }
   ],
   "source": [
    "target_df_ROS['심혈관질환'].value_counts()"
   ]
  },
  {
   "cell_type": "code",
   "execution_count": 9,
   "id": "d75d06b5-263d-4e54-b1f8-2b0c8c9e3498",
   "metadata": {
    "tags": []
   },
   "outputs": [
    {
     "data": {
      "text/plain": [
       "0    1483\n",
       "1     411\n",
       "Name: 흡연여부, dtype: int64"
      ]
     },
     "execution_count": 9,
     "metadata": {},
     "output_type": "execute_result"
    }
   ],
   "source": [
    "target_df_ROS['흡연여부'].value_counts()"
   ]
  },
  {
   "cell_type": "code",
   "execution_count": 10,
   "id": "adfd5bd8-83f7-47eb-8012-5c607f03b0e3",
   "metadata": {
    "tags": []
   },
   "outputs": [
    {
     "data": {
      "text/plain": [
       "0    1667\n",
       "1     227\n",
       "Name: 재발여부, dtype: int64"
      ]
     },
     "execution_count": 10,
     "metadata": {},
     "output_type": "execute_result"
    }
   ],
   "source": [
    "target_df_ROS['재발여부'].value_counts()"
   ]
  },
  {
   "cell_type": "code",
   "execution_count": 11,
   "id": "0d8c1718-b7d6-45fe-8088-82a99bdfd966",
   "metadata": {
    "tags": []
   },
   "outputs": [
    {
     "data": {
      "text/html": [
       "<div>\n",
       "<style scoped>\n",
       "    .dataframe tbody tr th:only-of-type {\n",
       "        vertical-align: middle;\n",
       "    }\n",
       "\n",
       "    .dataframe tbody tr th {\n",
       "        vertical-align: top;\n",
       "    }\n",
       "\n",
       "    .dataframe thead th {\n",
       "        text-align: right;\n",
       "    }\n",
       "</style>\n",
       "<table border=\"1\" class=\"dataframe\">\n",
       "  <thead>\n",
       "    <tr style=\"text-align: right;\">\n",
       "      <th></th>\n",
       "      <th>직업</th>\n",
       "      <th>혈액형</th>\n",
       "    </tr>\n",
       "  </thead>\n",
       "  <tbody>\n",
       "    <tr>\n",
       "      <th>count</th>\n",
       "      <td>1479</td>\n",
       "      <td>1894</td>\n",
       "    </tr>\n",
       "    <tr>\n",
       "      <th>unique</th>\n",
       "      <td>17</td>\n",
       "      <td>4</td>\n",
       "    </tr>\n",
       "    <tr>\n",
       "      <th>top</th>\n",
       "      <td>사무직</td>\n",
       "      <td>RH+A</td>\n",
       "    </tr>\n",
       "    <tr>\n",
       "      <th>freq</th>\n",
       "      <td>449</td>\n",
       "      <td>688</td>\n",
       "    </tr>\n",
       "  </tbody>\n",
       "</table>\n",
       "</div>"
      ],
      "text/plain": [
       "          직업   혈액형\n",
       "count   1479  1894\n",
       "unique    17     4\n",
       "top      사무직  RH+A\n",
       "freq     449   688"
      ]
     },
     "execution_count": 11,
     "metadata": {},
     "output_type": "execute_result"
    }
   ],
   "source": [
    "target_df_ROS.describe(include=object)"
   ]
  },
  {
   "cell_type": "markdown",
   "id": "657000fe-9e22-44fc-9dbb-bcafe1cb45c3",
   "metadata": {},
   "source": [
    "Data Type\n",
    "- 범주형 변수: 성별, 심혈관질환, 흡연여부, 재발여부, 직업, 혈액형\n",
    "- 연속형 변수: 신장, 체중, 연령 "
   ]
  },
  {
   "cell_type": "markdown",
   "id": "8fb8ee73-9ec7-463b-a2e5-38f3744bde01",
   "metadata": {},
   "source": [
    "### 결측치 처리"
   ]
  },
  {
   "cell_type": "code",
   "execution_count": 12,
   "id": "916b71cc-24ff-4db1-a697-ca4c6dafca3f",
   "metadata": {
    "tags": []
   },
   "outputs": [
    {
     "data": {
      "text/plain": [
       "성별         0\n",
       "신장         0\n",
       "심혈관질환      0\n",
       "체중         0\n",
       "흡연여부       0\n",
       "연령         0\n",
       "직업       415\n",
       "혈액형        0\n",
       "재발여부       0\n",
       "dtype: int64"
      ]
     },
     "execution_count": 12,
     "metadata": {},
     "output_type": "execute_result"
    }
   ],
   "source": [
    "# 결측치 확인\n",
    "target_df_ROS.isnull().sum()"
   ]
  },
  {
   "cell_type": "markdown",
   "id": "63efb27a-a484-417d-bcf7-c28bedd1e33e",
   "metadata": {},
   "source": [
    "=> 결측치가 발견되는 column : '직업'"
   ]
  },
  {
   "cell_type": "code",
   "execution_count": 13,
   "id": "75bcfbe7-34ca-49e5-8701-b26676cba9d2",
   "metadata": {
    "tags": []
   },
   "outputs": [
    {
     "name": "stdout",
     "output_type": "stream",
     "text": [
      "<class 'pandas.core.frame.DataFrame'>\n",
      "Int64Index: 1479 entries, 0 to 1893\n",
      "Data columns (total 9 columns):\n",
      " #   Column  Non-Null Count  Dtype  \n",
      "---  ------  --------------  -----  \n",
      " 0   성별      1479 non-null   int64  \n",
      " 1   신장      1479 non-null   int64  \n",
      " 2   심혈관질환   1479 non-null   int64  \n",
      " 3   체중      1479 non-null   float64\n",
      " 4   흡연여부    1479 non-null   int64  \n",
      " 5   연령      1479 non-null   int64  \n",
      " 6   직업      1479 non-null   object \n",
      " 7   혈액형     1479 non-null   object \n",
      " 8   재발여부    1479 non-null   int64  \n",
      "dtypes: float64(1), int64(6), object(2)\n",
      "memory usage: 115.5+ KB\n"
     ]
    }
   ],
   "source": [
    "# 결측치 삭제\n",
    "drp_df_ROS=target_df_ROS.dropna()\n",
    "drp_df_ROS.info()"
   ]
  },
  {
   "cell_type": "markdown",
   "id": "c6bd45a5-7fb2-4a4b-bab9-0d4027194a85",
   "metadata": {},
   "source": [
    "전체 레코드 : 1894 -> 1479개 "
   ]
  },
  {
   "cell_type": "markdown",
   "id": "52d3ff44-adaf-46f9-a170-353b344ec964",
   "metadata": {},
   "source": [
    "### 단일변수 범주형 chart"
   ]
  },
  {
   "cell_type": "code",
   "execution_count": 14,
   "id": "0e54ed8e-c0a3-426d-b977-10d469d1cc27",
   "metadata": {
    "tags": []
   },
   "outputs": [
    {
     "data": {
      "text/plain": [
       "['성별', '심혈관질환', '흡연여부', '재발여부', '직업', '혈액형']"
      ]
     },
     "execution_count": 14,
     "metadata": {},
     "output_type": "execute_result"
    }
   ],
   "source": [
    "['성별', '심혈관질환', '흡연여부', '재발여부', '직업', '혈액형']"
   ]
  },
  {
   "cell_type": "code",
   "execution_count": 15,
   "id": "da86faac-6602-4e5e-8e17-82b8d9c7df72",
   "metadata": {
    "tags": []
   },
   "outputs": [
    {
     "data": {
      "image/png": "[encoded data removed]",
      "text/plain": [
       "<Figure size 640x480 with 1 Axes>"
      ]
     },
     "metadata": {},
     "output_type": "display_data"
    }
   ],
   "source": [
    "# 성별 Count\n",
    "sns.countplot(data=drp_df_ROS, x='성별') \n",
    "plt.title(\"성별\")\n",
    "plt.show()"
   ]
  },
  {
   "cell_type": "code",
   "execution_count": 16,
   "id": "b2ad08bb-70c1-41eb-8919-69855b39cd99",
   "metadata": {
    "tags": []
   },
   "outputs": [
    {
     "data": {
      "image/png": "[encoded data removed]",
      "text/plain": [
       "<Figure size 640x480 with 1 Axes>"
      ]
     },
     "metadata": {},
     "output_type": "display_data"
    }
   ],
   "source": [
    "# 심혈관질환 Count\n",
    "sns.countplot(data=drp_df_ROS, x='심혈관질환') \n",
    "plt.title(\"심혈관질환\")\n",
    "plt.show()"
   ]
  },
  {
   "cell_type": "code",
   "execution_count": 17,
   "id": "3ffbedd4-9dc4-4198-8c49-9e47e7fb4fa0",
   "metadata": {
    "tags": []
   },
   "outputs": [
    {
     "data": {
      "image/png": "[encoded data removed]",
      "text/plain": [
       "<Figure size 640x480 with 1 Axes>"
      ]
     },
     "metadata": {},
     "output_type": "display_data"
    }
   ],
   "source": [
    "# 흡연여부 Count\n",
    "sns.countplot(data=drp_df_ROS, x='흡연여부') \n",
    "plt.title(\"흡연여부\")\n",
    "plt.show()"
   ]
  },
  {
   "cell_type": "code",
   "execution_count": 18,
   "id": "a3d5e708-45c5-4225-bbcb-78b6cd2138c7",
   "metadata": {
    "tags": []
   },
   "outputs": [
    {
     "data": {
      "image/png": "[encoded data removed]",
      "text/plain": [
       "<Figure size 640x480 with 1 Axes>"
      ]
     },
     "metadata": {},
     "output_type": "display_data"
    }
   ],
   "source": [
    "# 재발여부 Count\n",
    "sns.countplot(data=drp_df_ROS, x='재발여부') \n",
    "plt.title(\"재발여부\")\n",
    "plt.show()"
   ]
  },
  {
   "cell_type": "code",
   "execution_count": 19,
   "id": "c67187d3-ccf7-403f-867a-6a6d902c3c09",
   "metadata": {
    "tags": []
   },
   "outputs": [
    {
     "data": {
      "image/png": "[encoded data removed]",
      "text/plain": [
       "<Figure size 640x480 with 1 Axes>"
      ]
     },
     "metadata": {},
     "output_type": "display_data"
    }
   ],
   "source": [
    "# 직업 Count\n",
    "sns.countplot(data=drp_df_ROS, x='직업') \n",
    "plt.title(\"직업\")\n",
    "plt.show()"
   ]
  },
  {
   "cell_type": "code",
   "execution_count": 20,
   "id": "3d850804-e226-4c6a-b4e4-5e19d704dfc2",
   "metadata": {
    "tags": []
   },
   "outputs": [
    {
     "data": {
      "image/png": "[encoded data removed]",
      "text/plain": [
       "<Figure size 640x480 with 1 Axes>"
      ]
     },
     "metadata": {},
     "output_type": "display_data"
    }
   ],
   "source": [
    "# 혈액형 Count\n",
    "sns.countplot(data=drp_df_ROS, x='혈액형') \n",
    "plt.title(\"혈액형\")\n",
    "plt.show()"
   ]
  },
  {
   "cell_type": "markdown",
   "id": "c5ad83ac-dfd4-4d46-adb7-d9799ec17593",
   "metadata": {},
   "source": [
    "### 단일변수 연속형 chart"
   ]
  },
  {
   "cell_type": "code",
   "execution_count": 21,
   "id": "3d6fa700-b0d4-48d3-8441-5d5f78526ae4",
   "metadata": {
    "tags": []
   },
   "outputs": [
    {
     "data": {
      "text/plain": [
       "['신장', '체중', '연령']"
      ]
     },
     "execution_count": 21,
     "metadata": {},
     "output_type": "execute_result"
    }
   ],
   "source": [
    "['신장', '체중', '연령'] "
   ]
  },
  {
   "cell_type": "markdown",
   "id": "3e358c4c-ea74-4b91-be69-f8a36998f9d8",
   "metadata": {},
   "source": [
    "### 이상치 확인"
   ]
  },
  {
   "cell_type": "code",
   "execution_count": 22,
   "id": "984a1011-5870-4e90-bffb-0b29e42977fe",
   "metadata": {
    "tags": []
   },
   "outputs": [
    {
     "data": {
      "text/plain": [
       "<Axes: xlabel='신장'>"
      ]
     },
     "execution_count": 22,
     "metadata": {},
     "output_type": "execute_result"
    },
    {
     "data": {
      "image/png": "[encoded data removed]",
      "text/plain": [
       "<Figure size 640x480 with 1 Axes>"
      ]
     },
     "metadata": {},
     "output_type": "display_data"
    }
   ],
   "source": [
    "sns.boxplot(drp_df_ROS, x='신장')"
   ]
  },
  {
   "cell_type": "code",
   "execution_count": 23,
   "id": "cdbb3f4f-3fac-4a39-a6e6-d1ea22fc6de1",
   "metadata": {
    "tags": []
   },
   "outputs": [
    {
     "data": {
      "text/plain": [
       "<Axes: xlabel='체중'>"
      ]
     },
     "execution_count": 23,
     "metadata": {},
     "output_type": "execute_result"
    },
    {
     "data": {
      "image/png": "[encoded data removed]",
      "text/plain": [
       "<Figure size 640x480 with 1 Axes>"
      ]
     },
     "metadata": {},
     "output_type": "display_data"
    }
   ],
   "source": [
    "sns.boxplot(drp_df_ROS, x='체중')"
   ]
  },
  {
   "cell_type": "code",
   "execution_count": 24,
   "id": "18711050-1386-47e6-844b-07cbc1bc114d",
   "metadata": {
    "tags": []
   },
   "outputs": [
    {
     "data": {
      "text/plain": [
       "<Axes: xlabel='연령'>"
      ]
     },
     "execution_count": 24,
     "metadata": {},
     "output_type": "execute_result"
    },
    {
     "data": {
      "image/png": "[encoded data removed]",
      "text/plain": [
       "<Figure size 640x480 with 1 Axes>"
      ]
     },
     "metadata": {},
     "output_type": "display_data"
    }
   ],
   "source": [
    "sns.boxplot(drp_df_ROS, x='연령')"
   ]
  },
  {
   "cell_type": "markdown",
   "id": "fb97e57d-0cb7-477f-8030-da2d7898b85c",
   "metadata": {},
   "source": [
    "### 이상치 제거"
   ]
  },
  {
   "cell_type": "code",
   "execution_count": 25,
   "id": "ef32a284-aa4e-44a5-b61b-a007883a6361",
   "metadata": {
    "tags": []
   },
   "outputs": [],
   "source": [
    "# Q1, Q3, IQR, min, max 구하기\n",
    "# Q1_=np.percentile(drp_df_ROS[''],25)\n",
    "# Q3_=np.percentile(drp_df_ROS[''],75)\n",
    "# IQR_=Q3_-Q1_\n",
    "# min_=Q1_-1.5*IQR_\n",
    "# max_=Q3_+1.5*IQR_\n",
    "#'신장'\n",
    "Q1_height=np.percentile(drp_df_ROS['신장'],25)\n",
    "Q3_height=np.percentile(drp_df_ROS['신장'],75)\n",
    "IQR_height=Q3_height-Q1_height\n",
    "min_height=Q1_height-1.5*IQR_height\n",
    "max_height=Q3_height+1.5*IQR_height\n",
    "#'체중'\n",
    "Q1_weight=np.percentile(drp_df_ROS['체중'],25)\n",
    "Q3_weight=np.percentile(drp_df_ROS['체중'],75)\n",
    "IQR_weight=Q3_weight-Q1_weight\n",
    "min_weight=Q1_weight-1.5*IQR_weight\n",
    "max_weight=Q3_weight+1.5*IQR_weight\n",
    "#'연령'\n",
    "Q1_age=np.percentile(drp_df_ROS['연령'],25)\n",
    "Q3_age=np.percentile(drp_df_ROS['연령'],75)\n",
    "IQR_age=Q3_age-Q1_age\n",
    "min_age=Q1_age-1.5*IQR_age\n",
    "max_age=Q3_age+1.5*IQR_age"
   ]
  },
  {
   "cell_type": "code",
   "execution_count": 26,
   "id": "b11ca178-638c-4483-9f08-4f2950a9bcbe",
   "metadata": {
    "tags": []
   },
   "outputs": [
    {
     "name": "stdout",
     "output_type": "stream",
     "text": [
      "신장 :: Q1: 161.0, Q3: 175.0, IQR: 14.0, min: 140.0, max: 196.0\n",
      "체중 :: Q1: 60.0, Q3: 75.15, IQR: 15.150000000000006, min: 37.27499999999999, max: 97.87500000000001\n",
      "연령 :: Q1: 30.0, Q3: 47.0, IQR: 17.0, min: 4.5, max: 72.5\n"
     ]
    }
   ],
   "source": [
    "print('신장 :: Q1: {}, Q3: {}, IQR: {}, min: {}, max: {}'.format(Q1_height,Q3_height,IQR_height,min_height,max_height))\n",
    "print('체중 :: Q1: {}, Q3: {}, IQR: {}, min: {}, max: {}'.format(Q1_weight,Q3_weight,IQR_weight,min_weight,max_weight))\n",
    "print('연령 :: Q1: {}, Q3: {}, IQR: {}, min: {}, max: {}'.format(Q1_age,Q3_age,IQR_age,min_age,max_age))"
   ]
  },
  {
   "cell_type": "code",
   "execution_count": 27,
   "id": "4c5ccac4-abb4-40ec-9b84-d68f45187086",
   "metadata": {
    "tags": []
   },
   "outputs": [],
   "source": [
    "# filter\n",
    "condition = (drp_df_ROS['신장'] >= min_height) & (drp_df_ROS['신장'] <= max_height)\\\n",
    "            &(drp_df_ROS['체중'] >= min_weight) & (drp_df_ROS['체중'] <= max_weight)\\\n",
    "            &(drp_df_ROS['연령'] >= min_age) & (drp_df_ROS['연령'] <= max_age)"
   ]
  },
  {
   "cell_type": "code",
   "execution_count": 28,
   "id": "a482fa36-c3a0-4fb2-925b-8ffff36f4b44",
   "metadata": {
    "tags": []
   },
   "outputs": [],
   "source": [
    "filt_df_ROS = drp_df_ROS[condition]"
   ]
  },
  {
   "cell_type": "markdown",
   "id": "c919f18b-fa89-481e-abac-17bb342d69ae",
   "metadata": {},
   "source": [
    "### 이상치 제거 확인"
   ]
  },
  {
   "cell_type": "code",
   "execution_count": 29,
   "id": "4f883475-8eab-4bd9-8bd2-42b29e016d90",
   "metadata": {
    "tags": []
   },
   "outputs": [
    {
     "data": {
      "text/plain": [
       "<Axes: xlabel='신장'>"
      ]
     },
     "execution_count": 29,
     "metadata": {},
     "output_type": "execute_result"
    },
    {
     "data": {
      "image/png": "[encoded data removed]",
      "text/plain": [
       "<Figure size 640x480 with 1 Axes>"
      ]
     },
     "metadata": {},
     "output_type": "display_data"
    }
   ],
   "source": [
    "sns.boxplot(filt_df_ROS, x='신장')"
   ]
  },
  {
   "cell_type": "code",
   "execution_count": 30,
   "id": "9829e669-6d86-4b46-8e47-a72255cbb48b",
   "metadata": {
    "tags": []
   },
   "outputs": [
    {
     "data": {
      "text/plain": [
       "<Axes: xlabel='체중'>"
      ]
     },
     "execution_count": 30,
     "metadata": {},
     "output_type": "execute_result"
    },
    {
     "data": {
      "image/png": "[encoded data removed]",
      "text/plain": [
       "<Figure size 640x480 with 1 Axes>"
      ]
     },
     "metadata": {},
     "output_type": "display_data"
    }
   ],
   "source": [
    "sns.boxplot(filt_df_ROS, x='체중')"
   ]
  },
  {
   "cell_type": "code",
   "execution_count": 31,
   "id": "095dc032-10d9-4d54-aa12-5d02d83b531c",
   "metadata": {
    "tags": []
   },
   "outputs": [
    {
     "data": {
      "text/plain": [
       "<Axes: xlabel='연령'>"
      ]
     },
     "execution_count": 31,
     "metadata": {},
     "output_type": "execute_result"
    },
    {
     "data": {
      "image/png": "[encoded data removed]",
      "text/plain": [
       "<Figure size 640x480 with 1 Axes>"
      ]
     },
     "metadata": {},
     "output_type": "display_data"
    }
   ],
   "source": [
    "sns.boxplot(filt_df_ROS, x='연령')"
   ]
  },
  {
   "cell_type": "markdown",
   "id": "81fa5a9b-9f12-4144-b1fa-cb67ca9e023e",
   "metadata": {},
   "source": [
    "### 단일변수 연속형 chart"
   ]
  },
  {
   "cell_type": "code",
   "execution_count": 32,
   "id": "1511d1e4-1f54-435f-88c1-6f1dfdd46a13",
   "metadata": {
    "tags": []
   },
   "outputs": [
    {
     "data": {
      "image/png": "[encoded data removed]",
      "text/plain": [
       "<Figure size 640x480 with 1 Axes>"
      ]
     },
     "metadata": {},
     "output_type": "display_data"
    }
   ],
   "source": [
    "sns.histplot(data=filt_df_ROS, x='신장', kde=True)\n",
    "plt.title(\"신장\")\n",
    "plt.show()"
   ]
  },
  {
   "cell_type": "code",
   "execution_count": 33,
   "id": "b440a16f-4346-4b6a-8dbe-f39b6a0d6214",
   "metadata": {
    "tags": []
   },
   "outputs": [
    {
     "data": {
      "image/png": "[encoded data removed]",
      "text/plain": [
       "<Figure size 640x480 with 1 Axes>"
      ]
     },
     "metadata": {},
     "output_type": "display_data"
    }
   ],
   "source": [
    "sns.histplot(data=filt_df_ROS, x='체중', kde=True)\n",
    "plt.title(\"체중\")\n",
    "plt.show()"
   ]
  },
  {
   "cell_type": "code",
   "execution_count": 34,
   "id": "93245fcf-6a8d-4830-9273-66bc6f48e673",
   "metadata": {
    "tags": []
   },
   "outputs": [
    {
     "data": {
      "image/png": "[encoded data removed]",
      "text/plain": [
       "<Figure size 640x480 with 1 Axes>"
      ]
     },
     "metadata": {},
     "output_type": "display_data"
    }
   ],
   "source": [
    "sns.histplot(data=filt_df_ROS, x='연령', kde=True)\n",
    "plt.title(\"연령\")\n",
    "plt.show()"
   ]
  },
  {
   "cell_type": "markdown",
   "id": "ab7539f4-6815-4e66-b68f-3c340a9c017f",
   "metadata": {},
   "source": [
    "###  option \n",
    "#### 연령이 중앙값~Q3 범위 속한 인원 수 찾기"
   ]
  },
  {
   "cell_type": "code",
   "execution_count": 35,
   "id": "b600fbdc-3e14-4137-bc92-1719c64c004f",
   "metadata": {
    "tags": []
   },
   "outputs": [
    {
     "name": "stdout",
     "output_type": "stream",
     "text": [
      "연령 :: median: 39.0, Q3: 47.0\n"
     ]
    }
   ],
   "source": [
    "# 중앙값, Q3\n",
    "\n",
    "#'연령'\n",
    "med_age=np.percentile(drp_df_ROS['연령'],50)\n",
    "Q3_age=np.percentile(drp_df_ROS['연령'],75)\n",
    "\n",
    "print('연령 :: median: {}, Q3: {}'.format(med_age,Q3_age))"
   ]
  },
  {
   "cell_type": "code",
   "execution_count": 36,
   "id": "00496f1a-5b12-4afc-bd26-6f3770014053",
   "metadata": {
    "tags": []
   },
   "outputs": [],
   "source": [
    "opt_condition = (drp_df_ROS['연령'] >= med_age) & (drp_df_ROS['연령'] <= Q3_age)"
   ]
  },
  {
   "cell_type": "code",
   "execution_count": 41,
   "id": "b2659416-d891-4357-a8e0-0ecfed51b70f",
   "metadata": {
    "tags": []
   },
   "outputs": [],
   "source": [
    "opt_df_ROS=drp_df_ROS.loc[opt_condition]"
   ]
  },
  {
   "cell_type": "code",
   "execution_count": 46,
   "id": "e22e674c-02e8-431d-b6a7-4ae8d7c9f57b",
   "metadata": {
    "tags": []
   },
   "outputs": [
    {
     "data": {
      "text/plain": [
       "421"
      ]
     },
     "execution_count": 46,
     "metadata": {},
     "output_type": "execute_result"
    }
   ],
   "source": [
    "len(opt_df_ROS)"
   ]
  },
  {
   "cell_type": "markdown",
   "id": "402f639c-a204-4968-a8be-40f7288b6fa6",
   "metadata": {},
   "source": [
    "연령이 중앙값~Q3 범위에 속한 인원수 : 421 명 "
   ]
  },
  {
   "cell_type": "code",
   "execution_count": null,
   "id": "feb7a314-e338-4a32-b66a-26ed2fc019f4",
   "metadata": {},
   "outputs": [],
   "source": []
  }
 ],
 "metadata": {
  "kernelspec": {
   "display_name": "Python 3 (ipykernel)",
   "language": "python",
   "name": "python3"
  },
  "language_info": {
   "codemirror_mode": {
    "name": "ipython",
    "version": 3
   },
   "file_extension": ".py",
   "mimetype": "text/x-python",
   "name": "python",
   "nbconvert_exporter": "python",
   "pygments_lexer": "ipython3",
   "version": "3.11.3"
  }
 },
 "nbformat": 4,
 "nbformat_minor": 5
}
