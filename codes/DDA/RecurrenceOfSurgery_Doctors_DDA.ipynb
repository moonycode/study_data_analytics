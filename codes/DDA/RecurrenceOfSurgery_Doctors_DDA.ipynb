{
 "cells": [
  {
   "cell_type": "markdown",
   "id": "4bbab788-f85c-44b2-a8b7-073609c58118",
   "metadata": {},
   "source": [
    "- 분석 제공 대상이 의사\n",
    "- 목표 변수 : '수술시간'\n",
    "- 설명 변수 지정 최소 5개 이상(범주형과 연속형 섞여 있음)\n",
    "- DDA/README.md : 변수 설명/데이터 type/이유\n",
    "- 추출, 수술시간이 중앙값 이상인 것.\n",
    "- 요약 : 수술시간에 가장 영향을 주는 항목 3가지 확인"
   ]
  },
  {
   "cell_type": "markdown",
   "id": "97941f8c-da45-44c5-96dd-3964d2da11cc",
   "metadata": {
    "tags": []
   },
   "source": [
    "### 의사 대상 분석\n",
    "0. 변수 구조 확인\n",
    "1. 목표변수 설정 : '수술시간'\n",
    "2. 설명변수 설정 : '','','','',''"
   ]
  },
  {
   "cell_type": "code",
   "execution_count": 2,
   "id": "637d996e-0a62-42fc-b5be-b8419bad1902",
   "metadata": {
    "tags": []
   },
   "outputs": [],
   "source": [
    "# 결측치, 이상치 확인 및 전처리"
   ]
  },
  {
   "cell_type": "code",
   "execution_count": null,
   "id": "6645f1aa-74d0-482d-a127-e8253346a252",
   "metadata": {},
   "outputs": [],
   "source": []
  }
 ],
 "metadata": {
  "kernelspec": {
   "display_name": "Python 3 (ipykernel)",
   "language": "python",
   "name": "python3"
  },
  "language_info": {
   "codemirror_mode": {
    "name": "ipython",
    "version": 3
   },
   "file_extension": ".py",
   "mimetype": "text/x-python",
   "name": "python",
   "nbconvert_exporter": "python",
   "pygments_lexer": "ipython3",
   "version": "3.11.3"
  }
 },
 "nbformat": 4,
 "nbformat_minor": 5
}
