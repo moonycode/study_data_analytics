{
 "cells": [
  {
   "cell_type": "markdown",
   "id": "4bbab788-f85c-44b2-a8b7-073609c58118",
   "metadata": {},
   "source": [
    "- 분석 제공 대상이 의사\n",
    "- 목표 변수 : '수술시간'\n",
    "- 설명 변수 지정 최소 5개 이상(범주형과 연속형 섞여 있음)\n",
    "- DDA/README.md : 변수 설명/데이터 type/이유\n",
    "- 추출, 수술시간이 중앙값 이상인 것.\n",
    "- 요약 : 수술시간에 가장 영향을 주는 항목 3가지 확인"
   ]
  }
 ],
 "metadata": {
  "kernelspec": {
   "display_name": "Python 3 (ipykernel)",
   "language": "python",
   "name": "python3"
  },
  "language_info": {
   "codemirror_mode": {
    "name": "ipython",
    "version": 3
   },
   "file_extension": ".py",
   "mimetype": "text/x-python",
   "name": "python",
   "nbconvert_exporter": "python",
   "pygments_lexer": "ipython3",
   "version": "3.11.4"
  }
 },
 "nbformat": 4,
 "nbformat_minor": 5
}
